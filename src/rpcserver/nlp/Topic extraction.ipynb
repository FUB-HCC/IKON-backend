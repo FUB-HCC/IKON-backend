{
 "cells": [
  {
   "cell_type": "markdown",
   "metadata": {},
   "source": [
    "# Topic extraction from the GEPRiS dataset and creation of an user-centric visualisation\n",
    "Author: Tim Korjakow        \n",
    "Summer term 2018      \n",
    "Freie Universität Berlin     \n",
    "Fachgebiet Human-Centered Computing"
   ]
  },
  {
   "cell_type": "markdown",
   "metadata": {},
   "source": [
    "![Process graph](nlpflowchart.svg)"
   ]
  },
  {
   "cell_type": "code",
   "execution_count": 1,
   "metadata": {},
   "outputs": [
    {
     "data": {
      "text/html": [
       "\n",
       "    <div class=\"bk-root\">\n",
       "        <a href=\"https://bokeh.pydata.org\" target=\"_blank\" class=\"bk-logo bk-logo-small bk-logo-notebook\"></a>\n",
       "        <span id=\"3ac550c0-c708-41bc-9f85-aa01d0276af5\">Loading BokehJS ...</span>\n",
       "    </div>"
      ]
     },
     "metadata": {},
     "output_type": "display_data"
    },
    {
     "data": {
      "application/javascript": [
       "\n",
       "(function(root) {\n",
       "  function now() {\n",
       "    return new Date();\n",
       "  }\n",
       "\n",
       "  var force = true;\n",
       "\n",
       "  if (typeof (root._bokeh_onload_callbacks) === \"undefined\" || force === true) {\n",
       "    root._bokeh_onload_callbacks = [];\n",
       "    root._bokeh_is_loading = undefined;\n",
       "  }\n",
       "\n",
       "  var JS_MIME_TYPE = 'application/javascript';\n",
       "  var HTML_MIME_TYPE = 'text/html';\n",
       "  var EXEC_MIME_TYPE = 'application/vnd.bokehjs_exec.v0+json';\n",
       "  var CLASS_NAME = 'output_bokeh rendered_html';\n",
       "\n",
       "  /**\n",
       "   * Render data to the DOM node\n",
       "   */\n",
       "  function render(props, node) {\n",
       "    var script = document.createElement(\"script\");\n",
       "    node.appendChild(script);\n",
       "  }\n",
       "\n",
       "  /**\n",
       "   * Handle when an output is cleared or removed\n",
       "   */\n",
       "  function handleClearOutput(event, handle) {\n",
       "    var cell = handle.cell;\n",
       "\n",
       "    var id = cell.output_area._bokeh_element_id;\n",
       "    var server_id = cell.output_area._bokeh_server_id;\n",
       "    // Clean up Bokeh references\n",
       "    if (id != null && id in Bokeh.index) {\n",
       "      Bokeh.index[id].model.document.clear();\n",
       "      delete Bokeh.index[id];\n",
       "    }\n",
       "\n",
       "    if (server_id !== undefined) {\n",
       "      // Clean up Bokeh references\n",
       "      var cmd = \"from bokeh.io.state import curstate; print(curstate().uuid_to_server['\" + server_id + \"'].get_sessions()[0].document.roots[0]._id)\";\n",
       "      cell.notebook.kernel.execute(cmd, {\n",
       "        iopub: {\n",
       "          output: function(msg) {\n",
       "            var id = msg.content.text.trim();\n",
       "            if (id in Bokeh.index) {\n",
       "              Bokeh.index[id].model.document.clear();\n",
       "              delete Bokeh.index[id];\n",
       "            }\n",
       "          }\n",
       "        }\n",
       "      });\n",
       "      // Destroy server and session\n",
       "      var cmd = \"import bokeh.io.notebook as ion; ion.destroy_server('\" + server_id + \"')\";\n",
       "      cell.notebook.kernel.execute(cmd);\n",
       "    }\n",
       "  }\n",
       "\n",
       "  /**\n",
       "   * Handle when a new output is added\n",
       "   */\n",
       "  function handleAddOutput(event, handle) {\n",
       "    var output_area = handle.output_area;\n",
       "    var output = handle.output;\n",
       "\n",
       "    // limit handleAddOutput to display_data with EXEC_MIME_TYPE content only\n",
       "    if ((output.output_type != \"display_data\") || (!output.data.hasOwnProperty(EXEC_MIME_TYPE))) {\n",
       "      return\n",
       "    }\n",
       "\n",
       "    var toinsert = output_area.element.find(\".\" + CLASS_NAME.split(' ')[0]);\n",
       "\n",
       "    if (output.metadata[EXEC_MIME_TYPE][\"id\"] !== undefined) {\n",
       "      toinsert[toinsert.length - 1].firstChild.textContent = output.data[JS_MIME_TYPE];\n",
       "      // store reference to embed id on output_area\n",
       "      output_area._bokeh_element_id = output.metadata[EXEC_MIME_TYPE][\"id\"];\n",
       "    }\n",
       "    if (output.metadata[EXEC_MIME_TYPE][\"server_id\"] !== undefined) {\n",
       "      var bk_div = document.createElement(\"div\");\n",
       "      bk_div.innerHTML = output.data[HTML_MIME_TYPE];\n",
       "      var script_attrs = bk_div.children[0].attributes;\n",
       "      for (var i = 0; i < script_attrs.length; i++) {\n",
       "        toinsert[toinsert.length - 1].firstChild.setAttribute(script_attrs[i].name, script_attrs[i].value);\n",
       "      }\n",
       "      // store reference to server id on output_area\n",
       "      output_area._bokeh_server_id = output.metadata[EXEC_MIME_TYPE][\"server_id\"];\n",
       "    }\n",
       "  }\n",
       "\n",
       "  function register_renderer(events, OutputArea) {\n",
       "\n",
       "    function append_mime(data, metadata, element) {\n",
       "      // create a DOM node to render to\n",
       "      var toinsert = this.create_output_subarea(\n",
       "        metadata,\n",
       "        CLASS_NAME,\n",
       "        EXEC_MIME_TYPE\n",
       "      );\n",
       "      this.keyboard_manager.register_events(toinsert);\n",
       "      // Render to node\n",
       "      var props = {data: data, metadata: metadata[EXEC_MIME_TYPE]};\n",
       "      render(props, toinsert[toinsert.length - 1]);\n",
       "      element.append(toinsert);\n",
       "      return toinsert\n",
       "    }\n",
       "\n",
       "    /* Handle when an output is cleared or removed */\n",
       "    events.on('clear_output.CodeCell', handleClearOutput);\n",
       "    events.on('delete.Cell', handleClearOutput);\n",
       "\n",
       "    /* Handle when a new output is added */\n",
       "    events.on('output_added.OutputArea', handleAddOutput);\n",
       "\n",
       "    /**\n",
       "     * Register the mime type and append_mime function with output_area\n",
       "     */\n",
       "    OutputArea.prototype.register_mime_type(EXEC_MIME_TYPE, append_mime, {\n",
       "      /* Is output safe? */\n",
       "      safe: true,\n",
       "      /* Index of renderer in `output_area.display_order` */\n",
       "      index: 0\n",
       "    });\n",
       "  }\n",
       "\n",
       "  // register the mime type if in Jupyter Notebook environment and previously unregistered\n",
       "  if (root.Jupyter !== undefined) {\n",
       "    var events = require('base/js/events');\n",
       "    var OutputArea = require('notebook/js/outputarea').OutputArea;\n",
       "\n",
       "    if (OutputArea.prototype.mime_types().indexOf(EXEC_MIME_TYPE) == -1) {\n",
       "      register_renderer(events, OutputArea);\n",
       "    }\n",
       "  }\n",
       "\n",
       "  \n",
       "  if (typeof (root._bokeh_timeout) === \"undefined\" || force === true) {\n",
       "    root._bokeh_timeout = Date.now() + 5000;\n",
       "    root._bokeh_failed_load = false;\n",
       "  }\n",
       "\n",
       "  var NB_LOAD_WARNING = {'data': {'text/html':\n",
       "     \"<div style='background-color: #fdd'>\\n\"+\n",
       "     \"<p>\\n\"+\n",
       "     \"BokehJS does not appear to have successfully loaded. If loading BokehJS from CDN, this \\n\"+\n",
       "     \"may be due to a slow or bad network connection. Possible fixes:\\n\"+\n",
       "     \"</p>\\n\"+\n",
       "     \"<ul>\\n\"+\n",
       "     \"<li>re-rerun `output_notebook()` to attempt to load from CDN again, or</li>\\n\"+\n",
       "     \"<li>use INLINE resources instead, as so:</li>\\n\"+\n",
       "     \"</ul>\\n\"+\n",
       "     \"<code>\\n\"+\n",
       "     \"from bokeh.resources import INLINE\\n\"+\n",
       "     \"output_notebook(resources=INLINE)\\n\"+\n",
       "     \"</code>\\n\"+\n",
       "     \"</div>\"}};\n",
       "\n",
       "  function display_loaded() {\n",
       "    var el = document.getElementById(\"3ac550c0-c708-41bc-9f85-aa01d0276af5\");\n",
       "    if (el != null) {\n",
       "      el.textContent = \"BokehJS is loading...\";\n",
       "    }\n",
       "    if (root.Bokeh !== undefined) {\n",
       "      if (el != null) {\n",
       "        el.textContent = \"BokehJS \" + root.Bokeh.version + \" successfully loaded.\";\n",
       "      }\n",
       "    } else if (Date.now() < root._bokeh_timeout) {\n",
       "      setTimeout(display_loaded, 100)\n",
       "    }\n",
       "  }\n",
       "\n",
       "\n",
       "  function run_callbacks() {\n",
       "    try {\n",
       "      root._bokeh_onload_callbacks.forEach(function(callback) { callback() });\n",
       "    }\n",
       "    finally {\n",
       "      delete root._bokeh_onload_callbacks\n",
       "    }\n",
       "    console.info(\"Bokeh: all callbacks have finished\");\n",
       "  }\n",
       "\n",
       "  function load_libs(js_urls, callback) {\n",
       "    root._bokeh_onload_callbacks.push(callback);\n",
       "    if (root._bokeh_is_loading > 0) {\n",
       "      console.log(\"Bokeh: BokehJS is being loaded, scheduling callback at\", now());\n",
       "      return null;\n",
       "    }\n",
       "    if (js_urls == null || js_urls.length === 0) {\n",
       "      run_callbacks();\n",
       "      return null;\n",
       "    }\n",
       "    console.log(\"Bokeh: BokehJS not loaded, scheduling load and callback at\", now());\n",
       "    root._bokeh_is_loading = js_urls.length;\n",
       "    for (var i = 0; i < js_urls.length; i++) {\n",
       "      var url = js_urls[i];\n",
       "      var s = document.createElement('script');\n",
       "      s.src = url;\n",
       "      s.async = false;\n",
       "      s.onreadystatechange = s.onload = function() {\n",
       "        root._bokeh_is_loading--;\n",
       "        if (root._bokeh_is_loading === 0) {\n",
       "          console.log(\"Bokeh: all BokehJS libraries loaded\");\n",
       "          run_callbacks()\n",
       "        }\n",
       "      };\n",
       "      s.onerror = function() {\n",
       "        console.warn(\"failed to load library \" + url);\n",
       "      };\n",
       "      console.log(\"Bokeh: injecting script tag for BokehJS library: \", url);\n",
       "      document.getElementsByTagName(\"head\")[0].appendChild(s);\n",
       "    }\n",
       "  };var element = document.getElementById(\"3ac550c0-c708-41bc-9f85-aa01d0276af5\");\n",
       "  if (element == null) {\n",
       "    console.log(\"Bokeh: ERROR: autoload.js configured with elementid '3ac550c0-c708-41bc-9f85-aa01d0276af5' but no matching script tag was found. \")\n",
       "    return false;\n",
       "  }\n",
       "\n",
       "  var js_urls = [\"https://cdn.pydata.org/bokeh/release/bokeh-0.13.0.min.js\", \"https://cdn.pydata.org/bokeh/release/bokeh-widgets-0.13.0.min.js\", \"https://cdn.pydata.org/bokeh/release/bokeh-tables-0.13.0.min.js\", \"https://cdn.pydata.org/bokeh/release/bokeh-gl-0.13.0.min.js\"];\n",
       "\n",
       "  var inline_js = [\n",
       "    function(Bokeh) {\n",
       "      Bokeh.set_log_level(\"info\");\n",
       "    },\n",
       "    \n",
       "    function(Bokeh) {\n",
       "      \n",
       "    },\n",
       "    function(Bokeh) {\n",
       "      console.log(\"Bokeh: injecting CSS: https://cdn.pydata.org/bokeh/release/bokeh-0.13.0.min.css\");\n",
       "      Bokeh.embed.inject_css(\"https://cdn.pydata.org/bokeh/release/bokeh-0.13.0.min.css\");\n",
       "      console.log(\"Bokeh: injecting CSS: https://cdn.pydata.org/bokeh/release/bokeh-widgets-0.13.0.min.css\");\n",
       "      Bokeh.embed.inject_css(\"https://cdn.pydata.org/bokeh/release/bokeh-widgets-0.13.0.min.css\");\n",
       "      console.log(\"Bokeh: injecting CSS: https://cdn.pydata.org/bokeh/release/bokeh-tables-0.13.0.min.css\");\n",
       "      Bokeh.embed.inject_css(\"https://cdn.pydata.org/bokeh/release/bokeh-tables-0.13.0.min.css\");\n",
       "    }\n",
       "  ];\n",
       "\n",
       "  function run_inline_js() {\n",
       "    \n",
       "    if ((root.Bokeh !== undefined) || (force === true)) {\n",
       "      for (var i = 0; i < inline_js.length; i++) {\n",
       "        inline_js[i].call(root, root.Bokeh);\n",
       "      }if (force === true) {\n",
       "        display_loaded();\n",
       "      }} else if (Date.now() < root._bokeh_timeout) {\n",
       "      setTimeout(run_inline_js, 100);\n",
       "    } else if (!root._bokeh_failed_load) {\n",
       "      console.log(\"Bokeh: BokehJS failed to load within specified timeout.\");\n",
       "      root._bokeh_failed_load = true;\n",
       "    } else if (force !== true) {\n",
       "      var cell = $(document.getElementById(\"3ac550c0-c708-41bc-9f85-aa01d0276af5\")).parents('.cell').data().cell;\n",
       "      cell.output_area.append_execute_result(NB_LOAD_WARNING)\n",
       "    }\n",
       "\n",
       "  }\n",
       "\n",
       "  if (root._bokeh_is_loading === 0) {\n",
       "    console.log(\"Bokeh: BokehJS loaded, going straight to plotting\");\n",
       "    run_inline_js();\n",
       "  } else {\n",
       "    load_libs(js_urls, function() {\n",
       "      console.log(\"Bokeh: BokehJS plotting callback run at\", now());\n",
       "      run_inline_js();\n",
       "    });\n",
       "  }\n",
       "}(window));"
      ],
      "application/vnd.bokehjs_load.v0+json": "\n(function(root) {\n  function now() {\n    return new Date();\n  }\n\n  var force = true;\n\n  if (typeof (root._bokeh_onload_callbacks) === \"undefined\" || force === true) {\n    root._bokeh_onload_callbacks = [];\n    root._bokeh_is_loading = undefined;\n  }\n\n  \n\n  \n  if (typeof (root._bokeh_timeout) === \"undefined\" || force === true) {\n    root._bokeh_timeout = Date.now() + 5000;\n    root._bokeh_failed_load = false;\n  }\n\n  var NB_LOAD_WARNING = {'data': {'text/html':\n     \"<div style='background-color: #fdd'>\\n\"+\n     \"<p>\\n\"+\n     \"BokehJS does not appear to have successfully loaded. If loading BokehJS from CDN, this \\n\"+\n     \"may be due to a slow or bad network connection. Possible fixes:\\n\"+\n     \"</p>\\n\"+\n     \"<ul>\\n\"+\n     \"<li>re-rerun `output_notebook()` to attempt to load from CDN again, or</li>\\n\"+\n     \"<li>use INLINE resources instead, as so:</li>\\n\"+\n     \"</ul>\\n\"+\n     \"<code>\\n\"+\n     \"from bokeh.resources import INLINE\\n\"+\n     \"output_notebook(resources=INLINE)\\n\"+\n     \"</code>\\n\"+\n     \"</div>\"}};\n\n  function display_loaded() {\n    var el = document.getElementById(\"3ac550c0-c708-41bc-9f85-aa01d0276af5\");\n    if (el != null) {\n      el.textContent = \"BokehJS is loading...\";\n    }\n    if (root.Bokeh !== undefined) {\n      if (el != null) {\n        el.textContent = \"BokehJS \" + root.Bokeh.version + \" successfully loaded.\";\n      }\n    } else if (Date.now() < root._bokeh_timeout) {\n      setTimeout(display_loaded, 100)\n    }\n  }\n\n\n  function run_callbacks() {\n    try {\n      root._bokeh_onload_callbacks.forEach(function(callback) { callback() });\n    }\n    finally {\n      delete root._bokeh_onload_callbacks\n    }\n    console.info(\"Bokeh: all callbacks have finished\");\n  }\n\n  function load_libs(js_urls, callback) {\n    root._bokeh_onload_callbacks.push(callback);\n    if (root._bokeh_is_loading > 0) {\n      console.log(\"Bokeh: BokehJS is being loaded, scheduling callback at\", now());\n      return null;\n    }\n    if (js_urls == null || js_urls.length === 0) {\n      run_callbacks();\n      return null;\n    }\n    console.log(\"Bokeh: BokehJS not loaded, scheduling load and callback at\", now());\n    root._bokeh_is_loading = js_urls.length;\n    for (var i = 0; i < js_urls.length; i++) {\n      var url = js_urls[i];\n      var s = document.createElement('script');\n      s.src = url;\n      s.async = false;\n      s.onreadystatechange = s.onload = function() {\n        root._bokeh_is_loading--;\n        if (root._bokeh_is_loading === 0) {\n          console.log(\"Bokeh: all BokehJS libraries loaded\");\n          run_callbacks()\n        }\n      };\n      s.onerror = function() {\n        console.warn(\"failed to load library \" + url);\n      };\n      console.log(\"Bokeh: injecting script tag for BokehJS library: \", url);\n      document.getElementsByTagName(\"head\")[0].appendChild(s);\n    }\n  };var element = document.getElementById(\"3ac550c0-c708-41bc-9f85-aa01d0276af5\");\n  if (element == null) {\n    console.log(\"Bokeh: ERROR: autoload.js configured with elementid '3ac550c0-c708-41bc-9f85-aa01d0276af5' but no matching script tag was found. \")\n    return false;\n  }\n\n  var js_urls = [\"https://cdn.pydata.org/bokeh/release/bokeh-0.13.0.min.js\", \"https://cdn.pydata.org/bokeh/release/bokeh-widgets-0.13.0.min.js\", \"https://cdn.pydata.org/bokeh/release/bokeh-tables-0.13.0.min.js\", \"https://cdn.pydata.org/bokeh/release/bokeh-gl-0.13.0.min.js\"];\n\n  var inline_js = [\n    function(Bokeh) {\n      Bokeh.set_log_level(\"info\");\n    },\n    \n    function(Bokeh) {\n      \n    },\n    function(Bokeh) {\n      console.log(\"Bokeh: injecting CSS: https://cdn.pydata.org/bokeh/release/bokeh-0.13.0.min.css\");\n      Bokeh.embed.inject_css(\"https://cdn.pydata.org/bokeh/release/bokeh-0.13.0.min.css\");\n      console.log(\"Bokeh: injecting CSS: https://cdn.pydata.org/bokeh/release/bokeh-widgets-0.13.0.min.css\");\n      Bokeh.embed.inject_css(\"https://cdn.pydata.org/bokeh/release/bokeh-widgets-0.13.0.min.css\");\n      console.log(\"Bokeh: injecting CSS: https://cdn.pydata.org/bokeh/release/bokeh-tables-0.13.0.min.css\");\n      Bokeh.embed.inject_css(\"https://cdn.pydata.org/bokeh/release/bokeh-tables-0.13.0.min.css\");\n    }\n  ];\n\n  function run_inline_js() {\n    \n    if ((root.Bokeh !== undefined) || (force === true)) {\n      for (var i = 0; i < inline_js.length; i++) {\n        inline_js[i].call(root, root.Bokeh);\n      }if (force === true) {\n        display_loaded();\n      }} else if (Date.now() < root._bokeh_timeout) {\n      setTimeout(run_inline_js, 100);\n    } else if (!root._bokeh_failed_load) {\n      console.log(\"Bokeh: BokehJS failed to load within specified timeout.\");\n      root._bokeh_failed_load = true;\n    } else if (force !== true) {\n      var cell = $(document.getElementById(\"3ac550c0-c708-41bc-9f85-aa01d0276af5\")).parents('.cell').data().cell;\n      cell.output_area.append_execute_result(NB_LOAD_WARNING)\n    }\n\n  }\n\n  if (root._bokeh_is_loading === 0) {\n    console.log(\"Bokeh: BokehJS loaded, going straight to plotting\");\n    run_inline_js();\n  } else {\n    load_libs(js_urls, function() {\n      console.log(\"Bokeh: BokehJS plotting callback run at\", now());\n      run_inline_js();\n    });\n  }\n}(window));"
     },
     "metadata": {},
     "output_type": "display_data"
    },
    {
     "data": {
      "text/html": [
       "<script>requirejs.config({paths: { 'plotly': ['https://cdn.plot.ly/plotly-latest.min']},});if(!window.Plotly) {{require(['plotly'],function(plotly) {window.Plotly=plotly;});}}</script>"
      ],
      "text/vnd.plotly.v1+html": [
       "<script>requirejs.config({paths: { 'plotly': ['https://cdn.plot.ly/plotly-latest.min']},});if(!window.Plotly) {{require(['plotly'],function(plotly) {window.Plotly=plotly;});}}</script>"
      ]
     },
     "metadata": {},
     "output_type": "display_data"
    }
   ],
   "source": [
    "import time\n",
    "import json\n",
    "import spacy\n",
    "import regex as re\n",
    "from langdetect import detect\n",
    "from sklearn.feature_extraction.text import TfidfVectorizer\n",
    "from sklearn.decomposition import TruncatedSVD\n",
    "from sklearn.decomposition import NMF as NonnegativeMatrixFactorization\n",
    "from sklearn.cluster import KMeans\n",
    "from sklearn.discriminant_analysis import LinearDiscriminantAnalysis\n",
    "from sklearn.manifold import TSNE\n",
    "import numpy as np\n",
    "\n",
    "from ipywidgets import interact, interactive, fixed, interact_manual, IntSlider\n",
    "import ipywidgets as widgets\n",
    "from IPython.display import display\n",
    "\n",
    "from bokeh.io import output_notebook, show\n",
    "from bokeh.models import ColumnDataSource, OpenURL, TapTool\n",
    "from bokeh.plotting import figure, ColumnDataSource\n",
    "from bokeh.palettes import d3\n",
    "output_notebook()\n",
    "\n",
    "from plotly.offline import download_plotlyjs, init_notebook_mode, plot, iplot\n",
    "import plotly.graph_objs as go\n",
    "init_notebook_mode(connected=True) # for offline mode use"
   ]
  },
  {
   "cell_type": "markdown",
   "metadata": {},
   "source": [
    "## Loading and Cleaning\n",
    "The first step in every NLP project which works with texts is always the preparation of the input data. In this example the Project dump from GEPRIS is loaded and the project descriptions are extracted. After that the texts get cleaned by removing all non-alphabetic chars and all stopwords from the texts. English texts are getting filtered in oder to make the analysis simpler and more comparable."
   ]
  },
  {
   "cell_type": "code",
   "execution_count": 2,
   "metadata": {},
   "outputs": [],
   "source": [
    "def loadProjects():\n",
    "    with open('../../../assets/data/project_output/projects.json', 'r') as datafile:\n",
    "        return json.load(datafile)\n",
    "\n",
    "def loadGermanStopwords():\n",
    "    with open('../../../assets/data/nlp/stopwords_de.json', 'r') as datafile:\n",
    "        return json.load(datafile)\n",
    "\n",
    "def loadEnglishStopwords():\n",
    "    with open('../../../assets/data/nlp/stopwords_eng.json', 'r') as datafile:\n",
    "        return json.load(datafile)\n",
    "\n",
    "def cleanProjectTexts():\n",
    "    cleanedProjectTexts = {}\n",
    "    stopwordsDE = set(loadGermanStopwords())\n",
    "    for project in loadProjects():\n",
    "        if detect(project['abstract']) == 'de':\n",
    "            letters_only = re.sub('[^\\p{L} ]', ' ', project['abstract'])\n",
    "            words = letters_only.lower().split()\n",
    "            usefulWords = [x for x in words if not (x in stopwordsDE or len(x) <= 2 )]\n",
    "            cleanedProjectTexts[project['id']] = ' '.join(usefulWords)\n",
    "    return cleanedProjectTexts"
   ]
  },
  {
   "cell_type": "markdown",
   "metadata": {},
   "source": [
    "## TF-IDF computation\n",
    "*Summary*:\n",
    "This technique vectorizes a corpus, e.g. a collection of documents, by counting all appearences of words in the corpus and computing the tf-idf measure for each document, word pair.\n",
    "\n",
    "*In-depth explanation*:"
   ]
  },
  {
   "cell_type": "code",
   "execution_count": 3,
   "metadata": {},
   "outputs": [],
   "source": [
    "nlp = spacy.load('de')\n",
    "def lemmatize(text):\n",
    "    return [token.lemma_ for token in nlp(text)]\n",
    "\n",
    "def TfIdf(dict):\n",
    "    start = time.time()\n",
    "    tfidf_vectorizer = TfidfVectorizer(tokenizer=lemmatize)\n",
    "    tfs = tfidf_vectorizer.fit_transform(list(dict.values()))\n",
    "    print('TFIDF execution time: ', time.time() - start)\n",
    "    return (tfidf_vectorizer, tfs)"
   ]
  },
  {
   "cell_type": "code",
   "execution_count": 4,
   "metadata": {},
   "outputs": [
    {
     "name": "stdout",
     "output_type": "stream",
     "text": [
      "TFIDF execution time:  5.623469591140747\n"
     ]
    }
   ],
   "source": [
    "tfidf_vectorizer, tfs = TfIdf(cleanProjectTexts())"
   ]
  },
  {
   "cell_type": "markdown",
   "metadata": {},
   "source": [
    "# Topic extraction"
   ]
  },
  {
   "cell_type": "markdown",
   "metadata": {},
   "source": [
    "## Latent Semantic Analysis\n",
    "*Summary*:\n",
    "The LSA transforms an corpus from its word space given by the tf-idf matrice into its semantic space. In this semantic space the dimensions denote topics in the corpus and every document vector is a linear combination of all the implicitly extracted topics.\n",
    "\n",
    "*In-depth explanation*:"
   ]
  },
  {
   "cell_type": "code",
   "execution_count": 5,
   "metadata": {},
   "outputs": [],
   "source": [
    "def LSA(tfs,num_topics=40):\n",
    "    start = time.time()\n",
    "    lsa = TruncatedSVD(n_components=num_topics, random_state=0).fit(tfs)\n",
    "    print('LSA execution time: ', time.time() - start)\n",
    "    \n",
    "    #tfidf_feature_names = [str(token) for token in tfidf_vectorizer.get_feature_names()]\n",
    "    #print_top_words(lsa, tfidf_feature_names, 10)\n",
    "    return lsa.transform(tfs), lsa"
   ]
  },
  {
   "cell_type": "markdown",
   "metadata": {},
   "source": [
    "## Non-negative matrix factorisation\n",
    "Summary: **Coming soon**\n",
    "\n",
    "In-depth explanation:"
   ]
  },
  {
   "cell_type": "code",
   "execution_count": 6,
   "metadata": {},
   "outputs": [],
   "source": [
    "def NMF(tfs,num_topics=40):\n",
    "    start = time.time()\n",
    "    nmf = NonnegativeMatrixFactorization(n_components=num_topics, init='random', random_state=0)\n",
    "    nmf.fit(tfs)    \n",
    "    print('NMF execution time: ', time.time() - start)\n",
    "    \n",
    "    #\n",
    "    #print_top_words(nmf, tfidf_feature_names, 10)\n",
    "    return nmf.transform(tfs), nmf"
   ]
  },
  {
   "cell_type": "markdown",
   "metadata": {},
   "source": [
    "### Get top words for each dimension\n",
    "In order to get the words which are most important for each dimension (which correspond to topics), the standard basis in the topic space is converted back into the word space. These are exactly the eigenvectors of data. Now the top n biggest entries and their corresponding words form the top words."
   ]
  },
  {
   "cell_type": "code",
   "execution_count": 7,
   "metadata": {},
   "outputs": [],
   "source": [
    "def get_top_words_dim(model, feature_names, n_top_words):\n",
    "    dim_topics = {}\n",
    "    for topic_idx, topic in enumerate(model.components_):\n",
    "        dim_topics[topic_idx] = [feature_names[i]\n",
    "                        for i in topic.argsort()[:-n_top_words - 1:-1]]\n",
    "    return dim_topics"
   ]
  },
  {
   "cell_type": "markdown",
   "metadata": {},
   "source": [
    "# Clustering"
   ]
  },
  {
   "cell_type": "markdown",
   "metadata": {},
   "source": [
    "## K-Means\n",
    "Summary: Given a clustering the LDA can be used to find a projection into a lower dimensional space which maximizes inter-class variance and minimizes intra-class variance. This leads to neater cluster, but is grounded in the hypotheses that the clusters have some real semantic meaning. Otherwise it may enforce preexisting biases.\n",
    "\n",
    "In-depth explanation:"
   ]
  },
  {
   "cell_type": "code",
   "execution_count": 8,
   "metadata": {},
   "outputs": [],
   "source": [
    "def clusterNumberHeuristic(tfs):\n",
    "    return (tfs.shape[0]*tfs.shape[1])//tfs.count_nonzero()\n",
    "\n",
    "def cluster(tfs_reduced, num_topics=10):\n",
    "    start = time.time()\n",
    "    km = KMeans(n_clusters=num_topics).fit(tfs_reduced)\n",
    "    print('Clustering execution time: ', time.time() - start)\n",
    "    return km"
   ]
  },
  {
   "cell_type": "markdown",
   "metadata": {},
   "source": [
    "### Get top words for each cluster\n",
    "The process is similar to the one for getting the top words for each dimension. But in this case the cluster centers from the clustering step are transformed back into the word space and analysed. This is based on the assumption that the cluster center represents the set of all documents in the corrsponding cluster."
   ]
  },
  {
   "cell_type": "code",
   "execution_count": 9,
   "metadata": {},
   "outputs": [],
   "source": [
    "def get_top_words_cluster(model, clustering_centers, feature_names, n_top_words):\n",
    "    cluster_topics = {}\n",
    "    word_space_cluster_centers = model.inverse_transform(clustering_centers)\n",
    "    for i, word_space_cluster in enumerate(word_space_cluster_centers):\n",
    "        cluster_topics[i] = [feature_names[j]\n",
    "                        for j in word_space_cluster.argsort()[:-n_top_words - 1:-1]]\n",
    "    return cluster_topics"
   ]
  },
  {
   "cell_type": "markdown",
   "metadata": {},
   "source": [
    "# Embedding into 2D"
   ]
  },
  {
   "cell_type": "markdown",
   "metadata": {},
   "source": [
    "## Linear Discriminant Analysis\n",
    "*Summary*:\n",
    "Given a clustering the LDA can be used to find a projection into a lower dimensional space which maximizes inter-class variance and minimizes intra-class variance. This leads to neater cluster, but is grounded in the hypotheses that the clusters have some real semantic meaning. Otherwise it may enforce preexisting biases.\n",
    "\n",
    "*In-depth explanation*:"
   ]
  },
  {
   "cell_type": "code",
   "execution_count": 10,
   "metadata": {},
   "outputs": [],
   "source": [
    "def dimReductionLDA(tfs_reduced, clusters, targetDim=2):\n",
    "    start = time.time()\n",
    "    tfs_2d = LinearDiscriminantAnalysis(n_components=targetDim).fit(tfs_reduced, clusters.labels_).transform(tfs_reduced)\n",
    "    print('LDA execution time: ', time.time() - start)\n",
    "    return tfs_2d"
   ]
  },
  {
   "cell_type": "markdown",
   "metadata": {},
   "source": [
    "## tSNE\n",
    "*Summary*:\n",
    "\n",
    "\n",
    "*In-depth explanation*:"
   ]
  },
  {
   "cell_type": "code",
   "execution_count": 11,
   "metadata": {},
   "outputs": [],
   "source": [
    "def dimReductiontSNE(tfs_reduced, perplexity=30, learning_rate=100, targetDim=2):\n",
    "    start = time.time()\n",
    "    tfs_2d = TSNE(n_components=targetDim, perplexity=perplexity, learning_rate=learning_rate).fit_transform(tfs_reduced)\n",
    "    print('tSNE execution time: ', time.time() - start)\n",
    "    return tfs_2d"
   ]
  },
  {
   "cell_type": "markdown",
   "metadata": {},
   "source": [
    "# Analysis"
   ]
  },
  {
   "cell_type": "markdown",
   "metadata": {},
   "source": [
    "### Statistics on words in the corpus"
   ]
  },
  {
   "cell_type": "code",
   "execution_count": 12,
   "metadata": {
    "scrolled": false
   },
   "outputs": [
    {
     "name": "stdout",
     "output_type": "stream",
     "text": [
      "{'abadeh': matrix([[0.]]), 'abb': matrix([[11.21556154]]), 'abbilden': matrix([[12.24805183]]), 'abbilder': matrix([[9.31108753]]), 'abbildungen': matrix([[9.73346315]]), 'abcd': matrix([[9.52787782]]), 'abfolge': matrix([[10.43387917]]), 'abfolgen': matrix([[10.10363897]]), 'abgebildet': matrix([[9.76316081]]), 'abgeflacht': matrix([[11.00891387]]), 'abgelegen': matrix([[9.12422382]]), 'abgeleitet': matrix([[9.01005393]]), 'abgereicherten': matrix([[10.57031966]]), 'abgeschlossen': matrix([[7.59691096]]), 'abgewandelt': matrix([[0.]]), 'abgrenzen': matrix([[10.02135889]]), 'abholzungen': matrix([[8.08440327]]), 'abhängig': matrix([[8.25507453]]), 'abhängigkeit': matrix([[11.45048065]]), 'abhängigkeiten': matrix([[10.14710295]]), 'abiotischen': matrix([[10.0351963]]), 'abiotischer': matrix([[9.16887253]]), 'abkühlgeschichte': matrix([[9.5526169]]), 'ablagerung': matrix([[10.49094087]]), 'ablagerungen': matrix([[11.07357062]]), 'ablagerungsgeschichte': matrix([[7.91198143]]), 'ablauf': matrix([[6.58484566]]), 'ablaufen': matrix([[0.]]), 'ablaufend': matrix([[8.20390001]]), 'ableiten': matrix([[7.4145484]]), 'ableitung': matrix([[7.55600622]]), 'abmessungen': matrix([[6.47576094]]), 'abrufen': matrix([[7.53507536]]), 'abschirmen': matrix([[8.84463721]]), 'abschließen': matrix([[7.93944042]]), 'abschließend': matrix([[0.]]), 'abschluss': matrix([[7.45967946]]), 'abschmelzung': matrix([[7.5208978]]), 'abschnitte': matrix([[9.10504016]]), 'abschätzen': matrix([[8.90107009]]), 'abschätzung': matrix([[0.]]), 'abschätzungen': matrix([[10.5052747]]), 'absicherung': matrix([[6.83644123]]), 'absinken': matrix([[8.76042373]]), 'absolut': matrix([[6.4463625]]), 'abstammen': matrix([[7.81051181]]), 'abständen': matrix([[8.07764787]]), 'abtragen': matrix([[7.70202632]]), 'abundanz': matrix([[6.41566874]]), 'abwandern': matrix([[7.51838119]]), 'abwanderungsverhalten': matrix([[7.86505439]]), 'abwandlungen': matrix([[7.2924913]]), 'abwechslungsreich': matrix([[7.73221839]]), 'acanthochitona': matrix([[0.]]), 'acanthodier': matrix([[9.37636755]]), 'access': matrix([[7.46588249]]), 'acentropinae': matrix([[6.51997821]]), 'achondrite': matrix([[9.8084452]]), 'aculeata': matrix([[7.93172742]]), 'aculeate': matrix([[7.55337632]]), 'aculeaten': matrix([[6.7832253]]), 'aculeater': matrix([[10.37562337]]), 'aculifera': matrix([[8.35964458]]), 'adaptation': matrix([[0.]]), 'adaptive': matrix([[9.30007073]]), 'adaptiven': matrix([[6.2503251]]), 'addax': matrix([[8.67149862]]), 'adelphotaxon': matrix([[5.73233751]]), 'aderung': matrix([[0.]]), 'adressieren': matrix([[0.]]), 'adulten': matrix([[7.31510815]]), 'adäquat': matrix([[5.99479463]]), 'aerobe': matrix([[0.]]), 'aflp': matrix([[0.]]), 'afm': matrix([[0.]]), 'afrika': matrix([[8.66839844]]), 'afrikanisch': matrix([[10.20204399]]), 'afrikas': matrix([[6.43912736]]), 'afrotropis': matrix([[7.16463418]]), 'akkretion': matrix([[8.51277428]]), 'akkretioniert': matrix([[0.]]), 'akkretionierten': matrix([[11.59642862]]), 'akkretioniertes': matrix([[8.29080772]]), 'akkretionsgeschichte': matrix([[10.65015445]]), 'akkretionsphase': matrix([[0.]]), 'akkretionsrate': matrix([[8.70238392]]), 'akkumulationsquote': matrix([[9.1979591]]), 'akkumulationsrate': matrix([[0.]]), 'aktiv': matrix([[7.86202384]]), 'aktive': matrix([[7.97667496]]), 'aktivität': matrix([[11.12043584]]), 'aktualisieren': matrix([[7.58130302]]), 'aktualisierung': matrix([[8.66477577]]), 'aktuell': matrix([[8.44934724]]), 'akustisch': matrix([[7.98032577]]), 'akustische': matrix([[8.66285687]]), 'akzeptieren': matrix([[9.67159269]]), 'akzessorischer': matrix([[11.10751222]]), 'algorithmen': matrix([[7.84540406]]), 'alkenon': matrix([[7.20101465]]), 'alkenongehalte': matrix([[8.11639975]]), 'all': matrix([[11.58004942]]), 'allgemein': matrix([[11.38632299]]), 'allgemeingültig': matrix([[9.13482665]]), 'allopatrisch': matrix([[10.34718592]]), 'alpha': matrix([[7.07643305]]), 'alphadiversität': matrix([[7.65337105]]), 'alt': matrix([[7.94339917]]), 'altern': matrix([[8.48369375]]), 'alternativ': matrix([[9.38146958]]), 'alters': matrix([[6.43096824]]), 'altersbestimmung': matrix([[5.62930969]]), 'amblypygi': matrix([[10.1772695]]), 'ambystoma': matrix([[5.6235659]]), 'ambystomatiden': matrix([[0.]]), 'ameisen': matrix([[9.28694542]]), 'amerikanisch': matrix([[9.07298223]]), 'ammonoideen': matrix([[9.66677693]])}\n"
     ]
    },
    {
     "data": {
      "text/html": [
       "\n",
       "\n",
       "\n",
       "\n",
       "\n",
       "\n",
       "  <div class=\"bk-root\" id=\"8e48e315-f7a5-43bd-97ca-5e40893be068\"></div>\n"
      ]
     },
     "metadata": {},
     "output_type": "display_data"
    },
    {
     "data": {
      "application/javascript": [
       "(function(root) {\n",
       "  function embed_document(root) {\n",
       "    \n",
       "  var docs_json = {\"743cc99a-222b-448d-a6ce-ce65d3ad4134\":{\"roots\":{\"references\":[{\"attributes\":{},\"id\":\"e12d9f90-d6ab-4cc1-bade-4b01c9a2a312\",\"type\":\"CategoricalTicker\"},{\"attributes\":{},\"id\":\"d16573de-d56d-4808-990d-4517078604d8\",\"type\":\"LinearScale\"},{\"attributes\":{\"callback\":null},\"id\":\"0a3da261-8a63-4bec-8d60-eabf317e07bf\",\"type\":\"DataRange1d\"},{\"attributes\":{},\"id\":\"ef6a5628-4223-43ea-b0f8-9b62e8221ec1\",\"type\":\"HelpTool\"},{\"attributes\":{},\"id\":\"1cb415a5-b3b1-4019-9f2c-c9d2a574b4c3\",\"type\":\"ResetTool\"},{\"attributes\":{},\"id\":\"714580c2-73d8-45d6-a7e9-2ee2800a745b\",\"type\":\"SaveTool\"},{\"attributes\":{},\"id\":\"38f5290d-b6ee-4240-8d9c-00ff57eb9915\",\"type\":\"BasicTickFormatter\"},{\"attributes\":{\"formatter\":{\"id\":\"cd69ec6b-bffd-465d-9975-00164d5c62d5\",\"type\":\"CategoricalTickFormatter\"},\"plot\":{\"id\":\"e894426a-b6a1-4ef0-bc1a-9095239286d2\",\"subtype\":\"Figure\",\"type\":\"Plot\"},\"ticker\":{\"id\":\"e12d9f90-d6ab-4cc1-bade-4b01c9a2a312\",\"type\":\"CategoricalTicker\"}},\"id\":\"192c50ec-7975-447c-b12d-2d58efb5adba\",\"type\":\"CategoricalAxis\"},{\"attributes\":{\"dimension\":1,\"plot\":{\"id\":\"e894426a-b6a1-4ef0-bc1a-9095239286d2\",\"subtype\":\"Figure\",\"type\":\"Plot\"},\"ticker\":{\"id\":\"03de6661-e3b4-4e1e-bdab-b63a1337ad52\",\"type\":\"BasicTicker\"}},\"id\":\"c5b97802-e939-49a4-a276-627f85417501\",\"type\":\"Grid\"},{\"attributes\":{},\"id\":\"03de6661-e3b4-4e1e-bdab-b63a1337ad52\",\"type\":\"BasicTicker\"},{\"attributes\":{\"callback\":null,\"data\":{\"top\":[{\"__ndarray__\":\"AAAAAAAAAAA=\",\"dtype\":\"float64\",\"shape\":[1,1]},{\"__ndarray__\":\"qgUHFV5uJkA=\",\"dtype\":\"float64\",\"shape\":[1,1]},{\"__ndarray__\":\"8FlppgB/KEA=\",\"dtype\":\"float64\",\"shape\":[1,1]},{\"__ndarray__\":\"fSGD3UafIkA=\",\"dtype\":\"float64\",\"shape\":[1,1]},{\"__ndarray__\":\"irZUe4h3I0A=\",\"dtype\":\"float64\",\"shape\":[1,1]},{\"__ndarray__\":\"wBSEAEYOI0A=\",\"dtype\":\"float64\",\"shape\":[1,1]},{\"__ndarray__\":\"frIhaSXeJEA=\",\"dtype\":\"float64\",\"shape\":[1,1]},{\"__ndarray__\":\"SiDVKhA1JEA=\",\"dtype\":\"float64\",\"shape\":[1,1]},{\"__ndarray__\":\"63+UA72GI0A=\",\"dtype\":\"float64\",\"shape\":[1,1]},{\"__ndarray__\":\"OnHRW5AEJkA=\",\"dtype\":\"float64\",\"shape\":[1,1]},{\"__ndarray__\":\"KX+yQ5o/IkA=\",\"dtype\":\"float64\",\"shape\":[1,1]},{\"__ndarray__\":\"z03UySUFIkA=\",\"dtype\":\"float64\",\"shape\":[1,1]},{\"__ndarray__\":\"qz4V8AAkJUA=\",\"dtype\":\"float64\",\"shape\":[1,1]},{\"__ndarray__\":\"XJ83oDxjHkA=\",\"dtype\":\"float64\",\"shape\":[1,1]},{\"__ndarray__\":\"AAAAAAAAAAA=\",\"dtype\":\"float64\",\"shape\":[1,1]},{\"__ndarray__\":\"LtVRje8KJEA=\",\"dtype\":\"float64\",\"shape\":[1,1]},{\"__ndarray__\":\"Zcvb5zYrIEA=\",\"dtype\":\"float64\",\"shape\":[1,1]},{\"__ndarray__\":\"ibrYIJmCIEA=\",\"dtype\":\"float64\",\"shape\":[1,1]},{\"__ndarray__\":\"zxx7ZqXmJkA=\",\"dtype\":\"float64\",\"shape\":[1,1]},{\"__ndarray__\":\"RhHwE1FLJEA=\",\"dtype\":\"float64\",\"shape\":[1,1]},{\"__ndarray__\":\"WO34PwUSJEA=\",\"dtype\":\"float64\",\"shape\":[1,1]},{\"__ndarray__\":\"NZr0dXZWIkA=\",\"dtype\":\"float64\",\"shape\":[1,1]},{\"__ndarray__\":\"d7QTmvAaI0A=\",\"dtype\":\"float64\",\"shape\":[1,1]},{\"__ndarray__\":\"C3TumVz7JEA=\",\"dtype\":\"float64\",\"shape\":[1,1]},{\"__ndarray__\":\"KPp8DKslJkA=\",\"dtype\":\"float64\",\"shape\":[1,1]},{\"__ndarray__\":\"10PJdd6lH0A=\",\"dtype\":\"float64\",\"shape\":[1,1]},{\"__ndarray__\":\"0icDyOFWGkA=\",\"dtype\":\"float64\",\"shape\":[1,1]},{\"__ndarray__\":\"AAAAAAAAAAA=\",\"dtype\":\"float64\",\"shape\":[1,1]},{\"__ndarray__\":\"lHIAlWVoIEA=\",\"dtype\":\"float64\",\"shape\":[1,1]},{\"__ndarray__\":\"jkoWYH+oHUA=\",\"dtype\":\"float64\",\"shape\":[1,1]},{\"__ndarray__\":\"aVEhslk5HkA=\",\"dtype\":\"float64\",\"shape\":[1,1]},{\"__ndarray__\":\"T7kf4C3nGUA=\",\"dtype\":\"float64\",\"shape\":[1,1]},{\"__ndarray__\":\"STFfy+ojHkA=\",\"dtype\":\"float64\",\"shape\":[1,1]},{\"__ndarray__\":\"7nPYSXSwIUA=\",\"dtype\":\"float64\",\"shape\":[1,1]},{\"__ndarray__\":\"cRgqq/zBH0A=\",\"dtype\":\"float64\",\"shape\":[1,1]},{\"__ndarray__\":\"AAAAAAAAAAA=\",\"dtype\":\"float64\",\"shape\":[1,1]},{\"__ndarray__\":\"VH9XNrbWHUA=\",\"dtype\":\"float64\",\"shape\":[1,1]},{\"__ndarray__\":\"YbuEO2YVHkA=\",\"dtype\":\"float64\",\"shape\":[1,1]},{\"__ndarray__\":\"XRLv0sc1IkA=\",\"dtype\":\"float64\",\"shape\":[1,1]},{\"__ndarray__\":\"gfbtDlnNIUA=\",\"dtype\":\"float64\",\"shape\":[1,1]},{\"__ndarray__\":\"AAAAAAAAAAA=\",\"dtype\":\"float64\",\"shape\":[1,1]},{\"__ndarray__\":\"+ZutXbMCJUA=\",\"dtype\":\"float64\",\"shape\":[1,1]},{\"__ndarray__\":\"myPBDIRYG0A=\",\"dtype\":\"float64\",\"shape\":[1,1]},{\"__ndarray__\":\"ovYvQlaFIUA=\",\"dtype\":\"float64\",\"shape\":[1,1]},{\"__ndarray__\":\"pbYiQBPJGUA=\",\"dtype\":\"float64\",\"shape\":[1,1]},{\"__ndarray__\":\"d0qSzvY9H0A=\",\"dtype\":\"float64\",\"shape\":[1,1]},{\"__ndarray__\":\"B01TdsEnIEA=\",\"dtype\":\"float64\",\"shape\":[1,1]},{\"__ndarray__\":\"bZod/d/OHkA=\",\"dtype\":\"float64\",\"shape\":[1,1]},{\"__ndarray__\":\"wrQzEaWpGUA=\",\"dtype\":\"float64\",\"shape\":[1,1]},{\"__ndarray__\":\"yQR9hNISHkA=\",\"dtype\":\"float64\",\"shape\":[1,1]},{\"__ndarray__\":\"97ov0dB1H0A=\",\"dtype\":\"float64\",\"shape\":[1,1]},{\"__ndarray__\":\"Z2IJ14IrHUA=\",\"dtype\":\"float64\",\"shape\":[1,1]},{\"__ndarray__\":\"xkFmqMrtHkA=\",\"dtype\":\"float64\",\"shape\":[1,1]},{\"__ndarray__\":\"AAAAAAAAAAA=\",\"dtype\":\"float64\",\"shape\":[1,1]},{\"__ndarray__\":\"6fxHP7PAIkA=\",\"dtype\":\"float64\",\"shape\":[1,1]},{\"__ndarray__\":\"ZiSGTBDdHUA=\",\"dtype\":\"float64\",\"shape\":[1,1]},{\"__ndarray__\":\"J77nKnUUGkA=\",\"dtype\":\"float64\",\"shape\":[1,1]},{\"__ndarray__\":\"LsF3h+ydI0A=\",\"dtype\":\"float64\",\"shape\":[1,1]},{\"__ndarray__\":\"4QDwwBa6H0A=\",\"dtype\":\"float64\",\"shape\":[1,1]},{\"__ndarray__\":\"XnntR6g2HkA=\",\"dtype\":\"float64\",\"shape\":[1,1]},{\"__ndarray__\":\"Dtgv0AUiG0A=\",\"dtype\":\"float64\",\"shape\":[1,1]},{\"__ndarray__\":\"tBDgtFHAJEA=\",\"dtype\":\"float64\",\"shape\":[1,1]},{\"__ndarray__\":\"k1GKVSO4IEA=\",\"dtype\":\"float64\",\"shape\":[1,1]},{\"__ndarray__\":\"AAAAAAAAAAA=\",\"dtype\":\"float64\",\"shape\":[1,1]},{\"__ndarray__\":\"LgLU3qKZIkA=\",\"dtype\":\"float64\",\"shape\":[1,1]},{\"__ndarray__\":\"8e35OFUAGUA=\",\"dtype\":\"float64\",\"shape\":[1,1]},{\"__ndarray__\":\"OFahqs5XIUA=\",\"dtype\":\"float64\",\"shape\":[1,1]},{\"__ndarray__\":\"n5Zj4untFkA=\",\"dtype\":\"float64\",\"shape\":[1,1]},{\"__ndarray__\":\"AAAAAAAAAAA=\",\"dtype\":\"float64\",\"shape\":[1,1]},{\"__ndarray__\":\"AAAAAAAAAAA=\",\"dtype\":\"float64\",\"shape\":[1,1]},{\"__ndarray__\":\"PQcEtqtCHUA=\",\"dtype\":\"float64\",\"shape\":[1,1]},{\"__ndarray__\":\"C47Ycav6F0A=\",\"dtype\":\"float64\",\"shape\":[1,1]},{\"__ndarray__\":\"AAAAAAAAAAA=\",\"dtype\":\"float64\",\"shape\":[1,1]},{\"__ndarray__\":\"AAAAAAAAAAA=\",\"dtype\":\"float64\",\"shape\":[1,1]},{\"__ndarray__\":\"AAAAAAAAAAA=\",\"dtype\":\"float64\",\"shape\":[1,1]},{\"__ndarray__\":\"h0MgUjhWIUA=\",\"dtype\":\"float64\",\"shape\":[1,1]},{\"__ndarray__\":\"X2QvT3JnJEA=\",\"dtype\":\"float64\",\"shape\":[1,1]},{\"__ndarray__\":\"LxwymqrBGUA=\",\"dtype\":\"float64\",\"shape\":[1,1]},{\"__ndarray__\":\"+RrD3JWoHEA=\",\"dtype\":\"float64\",\"shape\":[1,1]},{\"__ndarray__\":\"VRK8WYoGIUA=\",\"dtype\":\"float64\",\"shape\":[1,1]},{\"__ndarray__\":\"AAAAAAAAAAA=\",\"dtype\":\"float64\",\"shape\":[1,1]},{\"__ndarray__\":\"Cl6VF18xJ0A=\",\"dtype\":\"float64\",\"shape\":[1,1]},{\"__ndarray__\":\"Dlz4v+SUIEA=\",\"dtype\":\"float64\",\"shape\":[1,1]},{\"__ndarray__\":\"Fs0oC+FMJUA=\",\"dtype\":\"float64\",\"shape\":[1,1]},{\"__ndarray__\":\"AAAAAAAAAAA=\",\"dtype\":\"float64\",\"shape\":[1,1]},{\"__ndarray__\":\"hCuC3Z5nIUA=\",\"dtype\":\"float64\",\"shape\":[1,1]},{\"__ndarray__\":\"xA425VplIkA=\",\"dtype\":\"float64\",\"shape\":[1,1]},{\"__ndarray__\":\"AAAAAAAAAAA=\",\"dtype\":\"float64\",\"shape\":[1,1]},{\"__ndarray__\":\"aViBYLZyH0A=\",\"dtype\":\"float64\",\"shape\":[1,1]},{\"__ndarray__\":\"xL8Gex3oH0A=\",\"dtype\":\"float64\",\"shape\":[1,1]},{\"__ndarray__\":\"6KMXxKk9JkA=\",\"dtype\":\"float64\",\"shape\":[1,1]},{\"__ndarray__\":\"nLt1GUFTHkA=\",\"dtype\":\"float64\",\"shape\":[1,1]},{\"__ndarray__\":\"nH46fV1UIUA=\",\"dtype\":\"float64\",\"shape\":[1,1]},{\"__ndarray__\":\"uSJT1xDmIEA=\",\"dtype\":\"float64\",\"shape\":[1,1]},{\"__ndarray__\":\"U3OvhNrrH0A=\",\"dtype\":\"float64\",\"shape\":[1,1]},{\"__ndarray__\":\"ebqh+WFTIUA=\",\"dtype\":\"float64\",\"shape\":[1,1]},{\"__ndarray__\":\"2bk0/9pXI0A=\",\"dtype\":\"float64\",\"shape\":[1,1]},{\"__ndarray__\":\"JRmh1ws3JkA=\",\"dtype\":\"float64\",\"shape\":[1,1]},{\"__ndarray__\":\"IFjkmbFhH0A=\",\"dtype\":\"float64\",\"shape\":[1,1]},{\"__ndarray__\":\"HAULydbNHEA=\",\"dtype\":\"float64\",\"shape\":[1,1]},{\"__ndarray__\":\"0k5bv5g7IEA=\",\"dtype\":\"float64\",\"shape\":[1,1]},{\"__ndarray__\":\"ABuwPPwoJ0A=\",\"dtype\":\"float64\",\"shape\":[1,1]},{\"__ndarray__\":\"uWhjIMzFJkA=\",\"dtype\":\"float64\",\"shape\":[1,1]},{\"__ndarray__\":\"tA+5/wdFIkA=\",\"dtype\":\"float64\",\"shape\":[1,1]},{\"__ndarray__\":\"EUwtWsKxJEA=\",\"dtype\":\"float64\",\"shape\":[1,1]},{\"__ndarray__\":\"fbvhdkROHEA=\",\"dtype\":\"float64\",\"shape\":[1,1]},{\"__ndarray__\":\"cVwHTQ2dHkA=\",\"dtype\":\"float64\",\"shape\":[1,1]},{\"__ndarray__\":\"ThFEbgrGH0A=\",\"dtype\":\"float64\",\"shape\":[1,1]},{\"__ndarray__\":\"9XYCtab3IEA=\",\"dtype\":\"float64\",\"shape\":[1,1]},{\"__ndarray__\":\"hrkm+0/DIkA=\",\"dtype\":\"float64\",\"shape\":[1,1]},{\"__ndarray__\":\"Sk6+vE+5GUA=\",\"dtype\":\"float64\",\"shape\":[1,1]},{\"__ndarray__\":\"JlJGwmmEFkA=\",\"dtype\":\"float64\",\"shape\":[1,1]},{\"__ndarray__\":\"0R1yEcNaJEA=\",\"dtype\":\"float64\",\"shape\":[1,1]},{\"__ndarray__\":\"4CARD4h+FkA=\",\"dtype\":\"float64\",\"shape\":[1,1]},{\"__ndarray__\":\"AAAAAAAAAAA=\",\"dtype\":\"float64\",\"shape\":[1,1]},{\"__ndarray__\":\"mzWiguqSIkA=\",\"dtype\":\"float64\",\"shape\":[1,1]},{\"__ndarray__\":\"gr4m7V0lIkA=\",\"dtype\":\"float64\",\"shape\":[1,1]},{\"__ndarray__\":\"WucNyWNVI0A=\",\"dtype\":\"float64\",\"shape\":[1,1]}],\"x\":[\"abadeh\",\"abb\",\"abbilden\",\"abbilder\",\"abbildungen\",\"abcd\",\"abfolge\",\"abfolgen\",\"abgebildet\",\"abgeflacht\",\"abgelegen\",\"abgeleitet\",\"abgereicherten\",\"abgeschlossen\",\"abgewandelt\",\"abgrenzen\",\"abholzungen\",\"abh\\u00e4ngig\",\"abh\\u00e4ngigkeit\",\"abh\\u00e4ngigkeiten\",\"abiotischen\",\"abiotischer\",\"abk\\u00fchlgeschichte\",\"ablagerung\",\"ablagerungen\",\"ablagerungsgeschichte\",\"ablauf\",\"ablaufen\",\"ablaufend\",\"ableiten\",\"ableitung\",\"abmessungen\",\"abrufen\",\"abschirmen\",\"abschlie\\u00dfen\",\"abschlie\\u00dfend\",\"abschluss\",\"abschmelzung\",\"abschnitte\",\"absch\\u00e4tzen\",\"absch\\u00e4tzung\",\"absch\\u00e4tzungen\",\"absicherung\",\"absinken\",\"absolut\",\"abstammen\",\"abst\\u00e4nden\",\"abtragen\",\"abundanz\",\"abwandern\",\"abwanderungsverhalten\",\"abwandlungen\",\"abwechslungsreich\",\"acanthochitona\",\"acanthodier\",\"access\",\"acentropinae\",\"achondrite\",\"aculeata\",\"aculeate\",\"aculeaten\",\"aculeater\",\"aculifera\",\"adaptation\",\"adaptive\",\"adaptiven\",\"addax\",\"adelphotaxon\",\"aderung\",\"adressieren\",\"adulten\",\"ad\\u00e4quat\",\"aerobe\",\"aflp\",\"afm\",\"afrika\",\"afrikanisch\",\"afrikas\",\"afrotropis\",\"akkretion\",\"akkretioniert\",\"akkretionierten\",\"akkretioniertes\",\"akkretionsgeschichte\",\"akkretionsphase\",\"akkretionsrate\",\"akkumulationsquote\",\"akkumulationsrate\",\"aktiv\",\"aktive\",\"aktivit\\u00e4t\",\"aktualisieren\",\"aktualisierung\",\"aktuell\",\"akustisch\",\"akustische\",\"akzeptieren\",\"akzessorischer\",\"algorithmen\",\"alkenon\",\"alkenongehalte\",\"all\",\"allgemein\",\"allgemeing\\u00fcltig\",\"allopatrisch\",\"alpha\",\"alphadiversit\\u00e4t\",\"alt\",\"altern\",\"alternativ\",\"alters\",\"altersbestimmung\",\"amblypygi\",\"ambystoma\",\"ambystomatiden\",\"ameisen\",\"amerikanisch\",\"ammonoideen\"]},\"selected\":{\"id\":\"f6f07042-40e7-4fbb-b520-46c5c5ffe467\",\"type\":\"Selection\"},\"selection_policy\":{\"id\":\"efa73cd3-e159-4c2a-ac40-8e66063dc49f\",\"type\":\"UnionRenderers\"}},\"id\":\"107225ca-b7c1-466a-afd5-53b6f0c23b31\",\"type\":\"ColumnDataSource\"},{\"attributes\":{\"active_drag\":\"auto\",\"active_inspect\":\"auto\",\"active_multi\":null,\"active_scroll\":\"auto\",\"active_tap\":\"auto\",\"tools\":[{\"id\":\"0e9f3c7e-aafa-4b83-83e6-48bc4655cbb9\",\"type\":\"PanTool\"},{\"id\":\"67069d92-d8b9-4d6e-bb5a-a9ab69cf42ee\",\"type\":\"WheelZoomTool\"},{\"id\":\"fbbce3ee-3b90-44d8-a98d-eb57936c9be2\",\"type\":\"BoxZoomTool\"},{\"id\":\"714580c2-73d8-45d6-a7e9-2ee2800a745b\",\"type\":\"SaveTool\"},{\"id\":\"1cb415a5-b3b1-4019-9f2c-c9d2a574b4c3\",\"type\":\"ResetTool\"},{\"id\":\"ef6a5628-4223-43ea-b0f8-9b62e8221ec1\",\"type\":\"HelpTool\"}]},\"id\":\"c6ef7371-bbd1-4616-be5d-65d8158cf2ef\",\"type\":\"Toolbar\"},{\"attributes\":{\"overlay\":{\"id\":\"1bbbfa65-1055-448d-88f1-b0634008b088\",\"type\":\"BoxAnnotation\"}},\"id\":\"fbbce3ee-3b90-44d8-a98d-eb57936c9be2\",\"type\":\"BoxZoomTool\"},{\"attributes\":{\"formatter\":{\"id\":\"38f5290d-b6ee-4240-8d9c-00ff57eb9915\",\"type\":\"BasicTickFormatter\"},\"plot\":{\"id\":\"e894426a-b6a1-4ef0-bc1a-9095239286d2\",\"subtype\":\"Figure\",\"type\":\"Plot\"},\"ticker\":{\"id\":\"03de6661-e3b4-4e1e-bdab-b63a1337ad52\",\"type\":\"BasicTicker\"}},\"id\":\"ed403eff-2052-455f-9547-6a7b6e2df847\",\"type\":\"LinearAxis\"},{\"attributes\":{\"fill_color\":{\"value\":\"#1f77b4\"},\"line_color\":{\"value\":\"#1f77b4\"},\"top\":{\"field\":\"top\"},\"width\":{\"value\":10},\"x\":{\"field\":\"x\"}},\"id\":\"b29ac9a5-267f-47ed-81db-b86b7787437c\",\"type\":\"VBar\"},{\"attributes\":{\"plot\":{\"id\":\"e894426a-b6a1-4ef0-bc1a-9095239286d2\",\"subtype\":\"Figure\",\"type\":\"Plot\"},\"ticker\":{\"id\":\"e12d9f90-d6ab-4cc1-bade-4b01c9a2a312\",\"type\":\"CategoricalTicker\"}},\"id\":\"71e76c4c-800b-4faf-b13d-baea9b4c7683\",\"type\":\"Grid\"},{\"attributes\":{\"callback\":null,\"factors\":[\"abadeh\",\"abb\",\"abbilden\",\"abbilder\",\"abbildungen\",\"abcd\",\"abfolge\",\"abfolgen\",\"abgebildet\",\"abgeflacht\",\"abgelegen\",\"abgeleitet\",\"abgereicherten\",\"abgeschlossen\",\"abgewandelt\",\"abgrenzen\",\"abholzungen\",\"abh\\u00e4ngig\",\"abh\\u00e4ngigkeit\",\"abh\\u00e4ngigkeiten\",\"abiotischen\",\"abiotischer\",\"abk\\u00fchlgeschichte\",\"ablagerung\",\"ablagerungen\",\"ablagerungsgeschichte\",\"ablauf\",\"ablaufen\",\"ablaufend\",\"ableiten\",\"ableitung\",\"abmessungen\",\"abrufen\",\"abschirmen\",\"abschlie\\u00dfen\",\"abschlie\\u00dfend\",\"abschluss\",\"abschmelzung\",\"abschnitte\",\"absch\\u00e4tzen\",\"absch\\u00e4tzung\",\"absch\\u00e4tzungen\",\"absicherung\",\"absinken\",\"absolut\",\"abstammen\",\"abst\\u00e4nden\",\"abtragen\",\"abundanz\",\"abwandern\",\"abwanderungsverhalten\",\"abwandlungen\",\"abwechslungsreich\",\"acanthochitona\",\"acanthodier\",\"access\",\"acentropinae\",\"achondrite\",\"aculeata\",\"aculeate\",\"aculeaten\",\"aculeater\",\"aculifera\",\"adaptation\",\"adaptive\",\"adaptiven\",\"addax\",\"adelphotaxon\",\"aderung\",\"adressieren\",\"adulten\",\"ad\\u00e4quat\",\"aerobe\",\"aflp\",\"afm\",\"afrika\",\"afrikanisch\",\"afrikas\",\"afrotropis\",\"akkretion\",\"akkretioniert\",\"akkretionierten\",\"akkretioniertes\",\"akkretionsgeschichte\",\"akkretionsphase\",\"akkretionsrate\",\"akkumulationsquote\",\"akkumulationsrate\",\"aktiv\",\"aktive\",\"aktivit\\u00e4t\",\"aktualisieren\",\"aktualisierung\",\"aktuell\",\"akustisch\",\"akustische\",\"akzeptieren\",\"akzessorischer\",\"algorithmen\",\"alkenon\",\"alkenongehalte\",\"all\",\"allgemein\",\"allgemeing\\u00fcltig\",\"allopatrisch\",\"alpha\",\"alphadiversit\\u00e4t\",\"alt\",\"altern\",\"alternativ\",\"alters\",\"altersbestimmung\",\"amblypygi\",\"ambystoma\",\"ambystomatiden\",\"ameisen\",\"amerikanisch\",\"ammonoideen\"]},\"id\":\"b836b067-a523-497a-9b40-605d141685c0\",\"type\":\"FactorRange\"},{\"attributes\":{},\"id\":\"f6f07042-40e7-4fbb-b520-46c5c5ffe467\",\"type\":\"Selection\"},{\"attributes\":{\"source\":{\"id\":\"107225ca-b7c1-466a-afd5-53b6f0c23b31\",\"type\":\"ColumnDataSource\"}},\"id\":\"15f208ab-79d4-4ca2-b19d-4429298f29bb\",\"type\":\"CDSView\"},{\"attributes\":{},\"id\":\"55b07f0a-631f-488f-966a-e6bf35133585\",\"type\":\"CategoricalScale\"},{\"attributes\":{},\"id\":\"cd69ec6b-bffd-465d-9975-00164d5c62d5\",\"type\":\"CategoricalTickFormatter\"},{\"attributes\":{},\"id\":\"efa73cd3-e159-4c2a-ac40-8e66063dc49f\",\"type\":\"UnionRenderers\"},{\"attributes\":{\"below\":[{\"id\":\"192c50ec-7975-447c-b12d-2d58efb5adba\",\"type\":\"CategoricalAxis\"}],\"left\":[{\"id\":\"ed403eff-2052-455f-9547-6a7b6e2df847\",\"type\":\"LinearAxis\"}],\"plot_height\":800,\"plot_width\":800,\"renderers\":[{\"id\":\"192c50ec-7975-447c-b12d-2d58efb5adba\",\"type\":\"CategoricalAxis\"},{\"id\":\"71e76c4c-800b-4faf-b13d-baea9b4c7683\",\"type\":\"Grid\"},{\"id\":\"ed403eff-2052-455f-9547-6a7b6e2df847\",\"type\":\"LinearAxis\"},{\"id\":\"c5b97802-e939-49a4-a276-627f85417501\",\"type\":\"Grid\"},{\"id\":\"1bbbfa65-1055-448d-88f1-b0634008b088\",\"type\":\"BoxAnnotation\"},{\"id\":\"a58cfa7a-a51e-473b-a005-8709e164fdf9\",\"type\":\"GlyphRenderer\"}],\"title\":null,\"toolbar\":{\"id\":\"c6ef7371-bbd1-4616-be5d-65d8158cf2ef\",\"type\":\"Toolbar\"},\"x_range\":{\"id\":\"b836b067-a523-497a-9b40-605d141685c0\",\"type\":\"FactorRange\"},\"x_scale\":{\"id\":\"55b07f0a-631f-488f-966a-e6bf35133585\",\"type\":\"CategoricalScale\"},\"y_range\":{\"id\":\"0a3da261-8a63-4bec-8d60-eabf317e07bf\",\"type\":\"DataRange1d\"},\"y_scale\":{\"id\":\"d16573de-d56d-4808-990d-4517078604d8\",\"type\":\"LinearScale\"}},\"id\":\"e894426a-b6a1-4ef0-bc1a-9095239286d2\",\"subtype\":\"Figure\",\"type\":\"Plot\"},{\"attributes\":{},\"id\":\"0e9f3c7e-aafa-4b83-83e6-48bc4655cbb9\",\"type\":\"PanTool\"},{\"attributes\":{\"data_source\":{\"id\":\"107225ca-b7c1-466a-afd5-53b6f0c23b31\",\"type\":\"ColumnDataSource\"},\"glyph\":{\"id\":\"b29ac9a5-267f-47ed-81db-b86b7787437c\",\"type\":\"VBar\"},\"hover_glyph\":null,\"muted_glyph\":null,\"nonselection_glyph\":{\"id\":\"cfc87d77-90da-4ef1-811a-2914c83778d4\",\"type\":\"VBar\"},\"selection_glyph\":null,\"view\":{\"id\":\"15f208ab-79d4-4ca2-b19d-4429298f29bb\",\"type\":\"CDSView\"}},\"id\":\"a58cfa7a-a51e-473b-a005-8709e164fdf9\",\"type\":\"GlyphRenderer\"},{\"attributes\":{},\"id\":\"67069d92-d8b9-4d6e-bb5a-a9ab69cf42ee\",\"type\":\"WheelZoomTool\"},{\"attributes\":{\"bottom_units\":\"screen\",\"fill_alpha\":{\"value\":0.5},\"fill_color\":{\"value\":\"lightgrey\"},\"left_units\":\"screen\",\"level\":\"overlay\",\"line_alpha\":{\"value\":1.0},\"line_color\":{\"value\":\"black\"},\"line_dash\":[4,4],\"line_width\":{\"value\":2},\"plot\":null,\"render_mode\":\"css\",\"right_units\":\"screen\",\"top_units\":\"screen\"},\"id\":\"1bbbfa65-1055-448d-88f1-b0634008b088\",\"type\":\"BoxAnnotation\"},{\"attributes\":{\"fill_alpha\":{\"value\":0.1},\"fill_color\":{\"value\":\"#1f77b4\"},\"line_alpha\":{\"value\":0.1},\"line_color\":{\"value\":\"#1f77b4\"},\"top\":{\"field\":\"top\"},\"width\":{\"value\":10},\"x\":{\"field\":\"x\"}},\"id\":\"cfc87d77-90da-4ef1-811a-2914c83778d4\",\"type\":\"VBar\"}],\"root_ids\":[\"e894426a-b6a1-4ef0-bc1a-9095239286d2\"]},\"title\":\"Bokeh Application\",\"version\":\"0.13.0\"}};\n",
       "  var render_items = [{\"docid\":\"743cc99a-222b-448d-a6ce-ce65d3ad4134\",\"roots\":{\"e894426a-b6a1-4ef0-bc1a-9095239286d2\":\"8e48e315-f7a5-43bd-97ca-5e40893be068\"}}];\n",
       "  root.Bokeh.embed.embed_items_notebook(docs_json, render_items);\n",
       "\n",
       "  }\n",
       "  if (root.Bokeh !== undefined) {\n",
       "    embed_document(root);\n",
       "  } else {\n",
       "    var attempts = 0;\n",
       "    var timer = setInterval(function(root) {\n",
       "      if (root.Bokeh !== undefined) {\n",
       "        embed_document(root);\n",
       "        clearInterval(timer);\n",
       "      }\n",
       "      attempts++;\n",
       "      if (attempts > 100) {\n",
       "        console.log(\"Bokeh: ERROR: Unable to run BokehJS code because BokehJS library is missing\")\n",
       "        clearInterval(timer);\n",
       "      }\n",
       "    }, 10, root)\n",
       "  }\n",
       "})(window);"
      ],
      "application/vnd.bokehjs_exec.v0+json": ""
     },
     "metadata": {
      "application/vnd.bokehjs_exec.v0+json": {
       "id": "e894426a-b6a1-4ef0-bc1a-9095239286d2"
      }
     },
     "output_type": "display_data"
    }
   ],
   "source": [
    "words = dict(zip(tfidf_vectorizer.get_feature_names(), np.sum(tfs, axis=1)))\n",
    "print(words)\n",
    "#print()\n",
    "p = figure(x_range=[k for k,v in words.items()], plot_width=800, plot_height=800, title=None)\n",
    "p.vbar(x=[k for k,v in words.items()], top=[v for k,v in words.items()], width=10)\n",
    "show(p)"
   ]
  },
  {
   "cell_type": "code",
   "execution_count": 13,
   "metadata": {},
   "outputs": [],
   "source": [
    "def save(payload):\n",
    "    with open('dump.json', 'w') as dumpfile:\n",
    "        json.dump(payload, dumpfile)"
   ]
  },
  {
   "cell_type": "code",
   "execution_count": 19,
   "metadata": {},
   "outputs": [],
   "source": [
    "def visualize(targetDim=2,tfs=None,dimreduction='LSA', clustering='KMEANS', embedding='LDA', num_topics=20, num_clusters=3, perplexity=5, learning_rate=200 ):\n",
    "    \n",
    "    if dimreduction == 'LSA':\n",
    "        tfs_reduced, model = LSA(tfs, num_topics=num_topics)\n",
    "    elif dimreduction == 'NMF':\n",
    "        tfs_reduced, model = NMF(tfs, num_topics=num_topics)\n",
    "    else:\n",
    "        return 'No dimensionality reduction technique was selected!'\n",
    "    \n",
    "    if clustering == 'KMEANS':\n",
    "        clusters = cluster(tfs_reduced, num_topics=num_clusters)\n",
    "    else:\n",
    "        return 'No clustering technique was selected!'\n",
    "    \n",
    "    if embedding == 'LDA':\n",
    "        tfs_embedded = dimReductionLDA(tfs_reduced, clusters=clusters, targetDim=targetDim)\n",
    "    elif embedding == 'tSNE':\n",
    "        tfs_embedded = dimReductiontSNE(tfs_reduced, perplexity=perplexity, learning_rate=learning_rate, targetDim=targetDim)\n",
    "    else:\n",
    "        return 'No dimensionality reduction technique was selected!'\n",
    "    \n",
    "    tfidf_feature_names = [str(token) for token in tfidf_vectorizer.get_feature_names()]\n",
    "    cluster_words = np.array([words for i, words in get_top_words_cluster(model, clusters.cluster_centers_, tfidf_feature_names, 5).items()])\n",
    "    [print(i, words) for i,words in enumerate(cluster_words)]\n",
    "    \n",
    "    if targetDim == 2:\n",
    "        # configure bokeh plot                   \n",
    "        source = ColumnDataSource(data=dict(\n",
    "            x=tfs_embedded[:, 0],\n",
    "            y=tfs_embedded[:, 1],\n",
    "            ids=list(cleanProjectTexts().keys()),\n",
    "            titles=[next((project['title'] for project in loadProjects() if project['id'] == key), ['None']) for key in cleanProjectTexts().keys()],\n",
    "            colours=np.array(d3['Category20'][num_clusters])[clusters.labels_],\n",
    "            labels=clusters.labels_\n",
    "        ))\n",
    "\n",
    "        TOOLTIPS = [\n",
    "            (\"index\", \"$index\"),\n",
    "            (\"id\", \"@ids\"),\n",
    "            (\"title\", \"@titles\"),\n",
    "        ]\n",
    "\n",
    "        p = figure(plot_width=800, plot_height=800, title=None, toolbar_location=\"below\", tooltips=TOOLTIPS, tools='tap,pan,wheel_zoom')\n",
    "        p.scatter('x', 'y', size=10,color='colours', legend='labels', source=source)\n",
    "        url = 'http://gepris.dfg.de/gepris/projekt/@ids'\n",
    "        taptool = p.select(type=TapTool)\n",
    "        taptool.callback = OpenURL(url=url)\n",
    "        show(p)\n",
    "    else:\n",
    "        source = go.Scatter3d(\n",
    "            x=tfs_embedded[:, 0],\n",
    "            y=tfs_embedded[:, 1],\n",
    "            z=tfs_embedded[:, 2],\n",
    "            mode='markers',\n",
    "            marker=dict(\n",
    "                size=12,\n",
    "                color=clusters.labels_,                # set color to an array/list of desired values\n",
    "                colorscale='Viridis',   # choose a colorscale\n",
    "                opacity=0.8\n",
    "            )\n",
    "        )\n",
    "\n",
    "        data = [source]\n",
    "        layout = go.Layout(\n",
    "            margin=dict(\n",
    "                l=0,\n",
    "                r=0,\n",
    "                b=0,\n",
    "                t=0\n",
    "            )\n",
    "        )\n",
    "        fig = go.Figure(data=data, layout=layout)\n",
    "        iplot(fig, filename='3d-scatter-colorscale')\n",
    "    \n",
    "    payload = {\n",
    "        'params': {\n",
    "            'targetDim': targetDim,\n",
    "            'dimreduction': dimreduction,\n",
    "            'clustering': clustering,\n",
    "            'embedding': embedding,\n",
    "            'num_topics': num_topics,\n",
    "            'num_clusters': num_clusters,\n",
    "            'perplexity': perplexity,\n",
    "            'learning_rate': learning_rate\n",
    "        },\n",
    "        'data': {\n",
    "            'points': tfs_embedded.tolist(),\n",
    "            'clusters': clusters.labels_.tolist(),\n",
    "            'cluster_words': [ words for i, words in get_top_words_cluster(model, clusters.cluster_centers_, tfidf_feature_names, 5).items()],\n",
    "            'cluster_colour': d3['Category20'][num_clusters]\n",
    "        }\n",
    "    }\n",
    "    save(payload)\n",
    "        \n"
   ]
  },
  {
   "cell_type": "code",
   "execution_count": 20,
   "metadata": {
    "scrolled": false
   },
   "outputs": [
    {
     "name": "stderr",
     "output_type": "stream",
     "text": [
      "/home/tim/.local/share/virtualenvs/rpcserver-R6dNBFY-/lib/python3.6/site-packages/scipy/sparse/compressed.py:226: SparseEfficiencyWarning:\n",
      "\n",
      "Comparing sparse matrices using == is inefficient, try using != instead.\n",
      "\n"
     ]
    },
    {
     "data": {
      "application/vnd.jupyter.widget-view+json": {
       "model_id": "e31f1337afac42f9bb570c7dd0b6a5ed",
       "version_major": 2,
       "version_minor": 0
      },
      "text/plain": [
       "interactive(children=(IntSlider(value=2, continuous_update=False, description='targetDim', max=3, min=2), Drop…"
      ]
     },
     "metadata": {},
     "output_type": "display_data"
    }
   ],
   "source": [
    "def s(x,y):\n",
    "    return IntSlider(min=x,max=y, value=(y-x)//2, continuous_update=False)\n",
    "\n",
    "w = interactive(visualize,targetDim=s(2,3),tfs=fixed(tfs), dimreduction=['LSA', 'NMF'], clustering=['KMEANS'], embedding=['LDA', 'tSNE'], num_topics=s(4,48), num_clusters=s(4,14), perplexity=s(5,50), learning_rate=s(2,20))\n",
    "output = w.children[-1]\n",
    "output.layout.height = '1500px'\n",
    "display(w)\n"
   ]
  },
  {
   "cell_type": "code",
   "execution_count": null,
   "metadata": {},
   "outputs": [],
   "source": []
  },
  {
   "cell_type": "code",
   "execution_count": null,
   "metadata": {},
   "outputs": [],
   "source": []
  }
 ],
 "metadata": {
  "kernelspec": {
   "display_name": "NLPenv",
   "language": "python",
   "name": "nlpenv"
  },
  "language_info": {
   "codemirror_mode": {
    "name": "ipython",
    "version": 3
   },
   "file_extension": ".py",
   "mimetype": "text/x-python",
   "name": "python",
   "nbconvert_exporter": "python",
   "pygments_lexer": "ipython3",
   "version": "3.6.5"
  }
 },
 "nbformat": 4,
 "nbformat_minor": 2
}
