{
 "cells": [
  {
   "cell_type": "markdown",
   "metadata": {
    "local_metadata": {},
    "remote_metadata": {
     "tags": [
      "remove_cell"
     ]
    }
   },
   "source": [
    "# Topic extraction from the GEPRiS dataset and creation of an user-centric visualisation\n",
    "Author: Tim Korjakow        \n",
    "Summer term 2018      \n",
    "Freie Universität Berlin     \n",
    "Fachgebiet Human-Centered Computing"
   ]
  },
  {
   "cell_type": "markdown",
   "metadata": {
    "local_metadata": {},
    "remote_metadata": {
     "tags": [
      "remove_cell"
     ]
    }
   },
   "source": [
    "![Process graph](nlpflowchart.svg)"
   ]
  },
  {
   "cell_type": "code",
   "execution_count": 1,
   "metadata": {
    "scrolled": true
   },
   "outputs": [
    {
     "name": "stderr",
     "output_type": "stream",
     "text": [
      "Using TensorFlow backend.\n"
     ]
    },
    {
     "data": {
      "text/html": [
       "\n",
       "    <div class=\"bk-root\">\n",
       "        <a href=\"https://bokeh.pydata.org\" target=\"_blank\" class=\"bk-logo bk-logo-small bk-logo-notebook\"></a>\n",
       "        <span id=\"1001\">Loading BokehJS ...</span>\n",
       "    </div>"
      ]
     },
     "metadata": {},
     "output_type": "display_data"
    },
    {
     "data": {
      "application/javascript": [
       "\n",
       "(function(root) {\n",
       "  function now() {\n",
       "    return new Date();\n",
       "  }\n",
       "\n",
       "  var force = true;\n",
       "\n",
       "  if (typeof root._bokeh_onload_callbacks === \"undefined\" || force === true) {\n",
       "    root._bokeh_onload_callbacks = [];\n",
       "    root._bokeh_is_loading = undefined;\n",
       "  }\n",
       "\n",
       "  var JS_MIME_TYPE = 'application/javascript';\n",
       "  var HTML_MIME_TYPE = 'text/html';\n",
       "  var EXEC_MIME_TYPE = 'application/vnd.bokehjs_exec.v0+json';\n",
       "  var CLASS_NAME = 'output_bokeh rendered_html';\n",
       "\n",
       "  /**\n",
       "   * Render data to the DOM node\n",
       "   */\n",
       "  function render(props, node) {\n",
       "    var script = document.createElement(\"script\");\n",
       "    node.appendChild(script);\n",
       "  }\n",
       "\n",
       "  /**\n",
       "   * Handle when an output is cleared or removed\n",
       "   */\n",
       "  function handleClearOutput(event, handle) {\n",
       "    var cell = handle.cell;\n",
       "\n",
       "    var id = cell.output_area._bokeh_element_id;\n",
       "    var server_id = cell.output_area._bokeh_server_id;\n",
       "    // Clean up Bokeh references\n",
       "    if (id != null && id in Bokeh.index) {\n",
       "      Bokeh.index[id].model.document.clear();\n",
       "      delete Bokeh.index[id];\n",
       "    }\n",
       "\n",
       "    if (server_id !== undefined) {\n",
       "      // Clean up Bokeh references\n",
       "      var cmd = \"from bokeh.io.state import curstate; print(curstate().uuid_to_server['\" + server_id + \"'].get_sessions()[0].document.roots[0]._id)\";\n",
       "      cell.notebook.kernel.execute(cmd, {\n",
       "        iopub: {\n",
       "          output: function(msg) {\n",
       "            var id = msg.content.text.trim();\n",
       "            if (id in Bokeh.index) {\n",
       "              Bokeh.index[id].model.document.clear();\n",
       "              delete Bokeh.index[id];\n",
       "            }\n",
       "          }\n",
       "        }\n",
       "      });\n",
       "      // Destroy server and session\n",
       "      var cmd = \"import bokeh.io.notebook as ion; ion.destroy_server('\" + server_id + \"')\";\n",
       "      cell.notebook.kernel.execute(cmd);\n",
       "    }\n",
       "  }\n",
       "\n",
       "  /**\n",
       "   * Handle when a new output is added\n",
       "   */\n",
       "  function handleAddOutput(event, handle) {\n",
       "    var output_area = handle.output_area;\n",
       "    var output = handle.output;\n",
       "\n",
       "    // limit handleAddOutput to display_data with EXEC_MIME_TYPE content only\n",
       "    if ((output.output_type != \"display_data\") || (!output.data.hasOwnProperty(EXEC_MIME_TYPE))) {\n",
       "      return\n",
       "    }\n",
       "\n",
       "    var toinsert = output_area.element.find(\".\" + CLASS_NAME.split(' ')[0]);\n",
       "\n",
       "    if (output.metadata[EXEC_MIME_TYPE][\"id\"] !== undefined) {\n",
       "      toinsert[toinsert.length - 1].firstChild.textContent = output.data[JS_MIME_TYPE];\n",
       "      // store reference to embed id on output_area\n",
       "      output_area._bokeh_element_id = output.metadata[EXEC_MIME_TYPE][\"id\"];\n",
       "    }\n",
       "    if (output.metadata[EXEC_MIME_TYPE][\"server_id\"] !== undefined) {\n",
       "      var bk_div = document.createElement(\"div\");\n",
       "      bk_div.innerHTML = output.data[HTML_MIME_TYPE];\n",
       "      var script_attrs = bk_div.children[0].attributes;\n",
       "      for (var i = 0; i < script_attrs.length; i++) {\n",
       "        toinsert[toinsert.length - 1].firstChild.setAttribute(script_attrs[i].name, script_attrs[i].value);\n",
       "      }\n",
       "      // store reference to server id on output_area\n",
       "      output_area._bokeh_server_id = output.metadata[EXEC_MIME_TYPE][\"server_id\"];\n",
       "    }\n",
       "  }\n",
       "\n",
       "  function register_renderer(events, OutputArea) {\n",
       "\n",
       "    function append_mime(data, metadata, element) {\n",
       "      // create a DOM node to render to\n",
       "      var toinsert = this.create_output_subarea(\n",
       "        metadata,\n",
       "        CLASS_NAME,\n",
       "        EXEC_MIME_TYPE\n",
       "      );\n",
       "      this.keyboard_manager.register_events(toinsert);\n",
       "      // Render to node\n",
       "      var props = {data: data, metadata: metadata[EXEC_MIME_TYPE]};\n",
       "      render(props, toinsert[toinsert.length - 1]);\n",
       "      element.append(toinsert);\n",
       "      return toinsert\n",
       "    }\n",
       "\n",
       "    /* Handle when an output is cleared or removed */\n",
       "    events.on('clear_output.CodeCell', handleClearOutput);\n",
       "    events.on('delete.Cell', handleClearOutput);\n",
       "\n",
       "    /* Handle when a new output is added */\n",
       "    events.on('output_added.OutputArea', handleAddOutput);\n",
       "\n",
       "    /**\n",
       "     * Register the mime type and append_mime function with output_area\n",
       "     */\n",
       "    OutputArea.prototype.register_mime_type(EXEC_MIME_TYPE, append_mime, {\n",
       "      /* Is output safe? */\n",
       "      safe: true,\n",
       "      /* Index of renderer in `output_area.display_order` */\n",
       "      index: 0\n",
       "    });\n",
       "  }\n",
       "\n",
       "  // register the mime type if in Jupyter Notebook environment and previously unregistered\n",
       "  if (root.Jupyter !== undefined) {\n",
       "    var events = require('base/js/events');\n",
       "    var OutputArea = require('notebook/js/outputarea').OutputArea;\n",
       "\n",
       "    if (OutputArea.prototype.mime_types().indexOf(EXEC_MIME_TYPE) == -1) {\n",
       "      register_renderer(events, OutputArea);\n",
       "    }\n",
       "  }\n",
       "\n",
       "  \n",
       "  if (typeof (root._bokeh_timeout) === \"undefined\" || force === true) {\n",
       "    root._bokeh_timeout = Date.now() + 5000;\n",
       "    root._bokeh_failed_load = false;\n",
       "  }\n",
       "\n",
       "  var NB_LOAD_WARNING = {'data': {'text/html':\n",
       "     \"<div style='background-color: #fdd'>\\n\"+\n",
       "     \"<p>\\n\"+\n",
       "     \"BokehJS does not appear to have successfully loaded. If loading BokehJS from CDN, this \\n\"+\n",
       "     \"may be due to a slow or bad network connection. Possible fixes:\\n\"+\n",
       "     \"</p>\\n\"+\n",
       "     \"<ul>\\n\"+\n",
       "     \"<li>re-rerun `output_notebook()` to attempt to load from CDN again, or</li>\\n\"+\n",
       "     \"<li>use INLINE resources instead, as so:</li>\\n\"+\n",
       "     \"</ul>\\n\"+\n",
       "     \"<code>\\n\"+\n",
       "     \"from bokeh.resources import INLINE\\n\"+\n",
       "     \"output_notebook(resources=INLINE)\\n\"+\n",
       "     \"</code>\\n\"+\n",
       "     \"</div>\"}};\n",
       "\n",
       "  function display_loaded() {\n",
       "    var el = document.getElementById(\"1001\");\n",
       "    if (el != null) {\n",
       "      el.textContent = \"BokehJS is loading...\";\n",
       "    }\n",
       "    if (root.Bokeh !== undefined) {\n",
       "      if (el != null) {\n",
       "        el.textContent = \"BokehJS \" + root.Bokeh.version + \" successfully loaded.\";\n",
       "      }\n",
       "    } else if (Date.now() < root._bokeh_timeout) {\n",
       "      setTimeout(display_loaded, 100)\n",
       "    }\n",
       "  }\n",
       "\n",
       "\n",
       "  function run_callbacks() {\n",
       "    try {\n",
       "      root._bokeh_onload_callbacks.forEach(function(callback) {\n",
       "        if (callback != null)\n",
       "          callback();\n",
       "      });\n",
       "    } finally {\n",
       "      delete root._bokeh_onload_callbacks\n",
       "    }\n",
       "    console.debug(\"Bokeh: all callbacks have finished\");\n",
       "  }\n",
       "\n",
       "  function load_libs(css_urls, js_urls, callback) {\n",
       "    if (css_urls == null) css_urls = [];\n",
       "    if (js_urls == null) js_urls = [];\n",
       "\n",
       "    root._bokeh_onload_callbacks.push(callback);\n",
       "    if (root._bokeh_is_loading > 0) {\n",
       "      console.debug(\"Bokeh: BokehJS is being loaded, scheduling callback at\", now());\n",
       "      return null;\n",
       "    }\n",
       "    if (js_urls == null || js_urls.length === 0) {\n",
       "      run_callbacks();\n",
       "      return null;\n",
       "    }\n",
       "    console.debug(\"Bokeh: BokehJS not loaded, scheduling load and callback at\", now());\n",
       "    root._bokeh_is_loading = css_urls.length + js_urls.length;\n",
       "\n",
       "    function on_load() {\n",
       "      root._bokeh_is_loading--;\n",
       "      if (root._bokeh_is_loading === 0) {\n",
       "        console.debug(\"Bokeh: all BokehJS libraries/stylesheets loaded\");\n",
       "        run_callbacks()\n",
       "      }\n",
       "    }\n",
       "\n",
       "    function on_error() {\n",
       "      console.error(\"failed to load \" + url);\n",
       "    }\n",
       "\n",
       "    for (var i = 0; i < css_urls.length; i++) {\n",
       "      var url = css_urls[i];\n",
       "      const element = document.createElement(\"link\");\n",
       "      element.onload = on_load;\n",
       "      element.onerror = on_error;\n",
       "      element.rel = \"stylesheet\";\n",
       "      element.type = \"text/css\";\n",
       "      element.href = url;\n",
       "      console.debug(\"Bokeh: injecting link tag for BokehJS stylesheet: \", url);\n",
       "      document.body.appendChild(element);\n",
       "    }\n",
       "\n",
       "    for (var i = 0; i < js_urls.length; i++) {\n",
       "      var url = js_urls[i];\n",
       "      var element = document.createElement('script');\n",
       "      element.onload = on_load;\n",
       "      element.onerror = on_error;\n",
       "      element.async = false;\n",
       "      element.src = url;\n",
       "      console.debug(\"Bokeh: injecting script tag for BokehJS library: \", url);\n",
       "      document.head.appendChild(element);\n",
       "    }\n",
       "  };var element = document.getElementById(\"1001\");\n",
       "  if (element == null) {\n",
       "    console.error(\"Bokeh: ERROR: autoload.js configured with elementid '1001' but no matching script tag was found. \")\n",
       "    return false;\n",
       "  }\n",
       "\n",
       "  function inject_raw_css(css) {\n",
       "    const element = document.createElement(\"style\");\n",
       "    element.appendChild(document.createTextNode(css));\n",
       "    document.body.appendChild(element);\n",
       "  }\n",
       "\n",
       "  var js_urls = [\"https://cdn.pydata.org/bokeh/release/bokeh-1.2.0.min.js\", \"https://cdn.pydata.org/bokeh/release/bokeh-widgets-1.2.0.min.js\", \"https://cdn.pydata.org/bokeh/release/bokeh-tables-1.2.0.min.js\", \"https://cdn.pydata.org/bokeh/release/bokeh-gl-1.2.0.min.js\"];\n",
       "  var css_urls = [\"https://cdn.pydata.org/bokeh/release/bokeh-1.2.0.min.css\", \"https://cdn.pydata.org/bokeh/release/bokeh-widgets-1.2.0.min.css\", \"https://cdn.pydata.org/bokeh/release/bokeh-tables-1.2.0.min.css\"];\n",
       "\n",
       "  var inline_js = [\n",
       "    function(Bokeh) {\n",
       "      Bokeh.set_log_level(\"info\");\n",
       "    },\n",
       "    \n",
       "    function(Bokeh) {\n",
       "      \n",
       "    },\n",
       "    function(Bokeh) {} // ensure no trailing comma for IE\n",
       "  ];\n",
       "\n",
       "  function run_inline_js() {\n",
       "    \n",
       "    if ((root.Bokeh !== undefined) || (force === true)) {\n",
       "      for (var i = 0; i < inline_js.length; i++) {\n",
       "        inline_js[i].call(root, root.Bokeh);\n",
       "      }if (force === true) {\n",
       "        display_loaded();\n",
       "      }} else if (Date.now() < root._bokeh_timeout) {\n",
       "      setTimeout(run_inline_js, 100);\n",
       "    } else if (!root._bokeh_failed_load) {\n",
       "      console.log(\"Bokeh: BokehJS failed to load within specified timeout.\");\n",
       "      root._bokeh_failed_load = true;\n",
       "    } else if (force !== true) {\n",
       "      var cell = $(document.getElementById(\"1001\")).parents('.cell').data().cell;\n",
       "      cell.output_area.append_execute_result(NB_LOAD_WARNING)\n",
       "    }\n",
       "\n",
       "  }\n",
       "\n",
       "  if (root._bokeh_is_loading === 0) {\n",
       "    console.debug(\"Bokeh: BokehJS loaded, going straight to plotting\");\n",
       "    run_inline_js();\n",
       "  } else {\n",
       "    load_libs(css_urls, js_urls, function() {\n",
       "      console.debug(\"Bokeh: BokehJS plotting callback run at\", now());\n",
       "      run_inline_js();\n",
       "    });\n",
       "  }\n",
       "}(window));"
      ],
      "application/vnd.bokehjs_load.v0+json": "\n(function(root) {\n  function now() {\n    return new Date();\n  }\n\n  var force = true;\n\n  if (typeof root._bokeh_onload_callbacks === \"undefined\" || force === true) {\n    root._bokeh_onload_callbacks = [];\n    root._bokeh_is_loading = undefined;\n  }\n\n  \n\n  \n  if (typeof (root._bokeh_timeout) === \"undefined\" || force === true) {\n    root._bokeh_timeout = Date.now() + 5000;\n    root._bokeh_failed_load = false;\n  }\n\n  var NB_LOAD_WARNING = {'data': {'text/html':\n     \"<div style='background-color: #fdd'>\\n\"+\n     \"<p>\\n\"+\n     \"BokehJS does not appear to have successfully loaded. If loading BokehJS from CDN, this \\n\"+\n     \"may be due to a slow or bad network connection. Possible fixes:\\n\"+\n     \"</p>\\n\"+\n     \"<ul>\\n\"+\n     \"<li>re-rerun `output_notebook()` to attempt to load from CDN again, or</li>\\n\"+\n     \"<li>use INLINE resources instead, as so:</li>\\n\"+\n     \"</ul>\\n\"+\n     \"<code>\\n\"+\n     \"from bokeh.resources import INLINE\\n\"+\n     \"output_notebook(resources=INLINE)\\n\"+\n     \"</code>\\n\"+\n     \"</div>\"}};\n\n  function display_loaded() {\n    var el = document.getElementById(\"1001\");\n    if (el != null) {\n      el.textContent = \"BokehJS is loading...\";\n    }\n    if (root.Bokeh !== undefined) {\n      if (el != null) {\n        el.textContent = \"BokehJS \" + root.Bokeh.version + \" successfully loaded.\";\n      }\n    } else if (Date.now() < root._bokeh_timeout) {\n      setTimeout(display_loaded, 100)\n    }\n  }\n\n\n  function run_callbacks() {\n    try {\n      root._bokeh_onload_callbacks.forEach(function(callback) {\n        if (callback != null)\n          callback();\n      });\n    } finally {\n      delete root._bokeh_onload_callbacks\n    }\n    console.debug(\"Bokeh: all callbacks have finished\");\n  }\n\n  function load_libs(css_urls, js_urls, callback) {\n    if (css_urls == null) css_urls = [];\n    if (js_urls == null) js_urls = [];\n\n    root._bokeh_onload_callbacks.push(callback);\n    if (root._bokeh_is_loading > 0) {\n      console.debug(\"Bokeh: BokehJS is being loaded, scheduling callback at\", now());\n      return null;\n    }\n    if (js_urls == null || js_urls.length === 0) {\n      run_callbacks();\n      return null;\n    }\n    console.debug(\"Bokeh: BokehJS not loaded, scheduling load and callback at\", now());\n    root._bokeh_is_loading = css_urls.length + js_urls.length;\n\n    function on_load() {\n      root._bokeh_is_loading--;\n      if (root._bokeh_is_loading === 0) {\n        console.debug(\"Bokeh: all BokehJS libraries/stylesheets loaded\");\n        run_callbacks()\n      }\n    }\n\n    function on_error() {\n      console.error(\"failed to load \" + url);\n    }\n\n    for (var i = 0; i < css_urls.length; i++) {\n      var url = css_urls[i];\n      const element = document.createElement(\"link\");\n      element.onload = on_load;\n      element.onerror = on_error;\n      element.rel = \"stylesheet\";\n      element.type = \"text/css\";\n      element.href = url;\n      console.debug(\"Bokeh: injecting link tag for BokehJS stylesheet: \", url);\n      document.body.appendChild(element);\n    }\n\n    for (var i = 0; i < js_urls.length; i++) {\n      var url = js_urls[i];\n      var element = document.createElement('script');\n      element.onload = on_load;\n      element.onerror = on_error;\n      element.async = false;\n      element.src = url;\n      console.debug(\"Bokeh: injecting script tag for BokehJS library: \", url);\n      document.head.appendChild(element);\n    }\n  };var element = document.getElementById(\"1001\");\n  if (element == null) {\n    console.error(\"Bokeh: ERROR: autoload.js configured with elementid '1001' but no matching script tag was found. \")\n    return false;\n  }\n\n  function inject_raw_css(css) {\n    const element = document.createElement(\"style\");\n    element.appendChild(document.createTextNode(css));\n    document.body.appendChild(element);\n  }\n\n  var js_urls = [\"https://cdn.pydata.org/bokeh/release/bokeh-1.2.0.min.js\", \"https://cdn.pydata.org/bokeh/release/bokeh-widgets-1.2.0.min.js\", \"https://cdn.pydata.org/bokeh/release/bokeh-tables-1.2.0.min.js\", \"https://cdn.pydata.org/bokeh/release/bokeh-gl-1.2.0.min.js\"];\n  var css_urls = [\"https://cdn.pydata.org/bokeh/release/bokeh-1.2.0.min.css\", \"https://cdn.pydata.org/bokeh/release/bokeh-widgets-1.2.0.min.css\", \"https://cdn.pydata.org/bokeh/release/bokeh-tables-1.2.0.min.css\"];\n\n  var inline_js = [\n    function(Bokeh) {\n      Bokeh.set_log_level(\"info\");\n    },\n    \n    function(Bokeh) {\n      \n    },\n    function(Bokeh) {} // ensure no trailing comma for IE\n  ];\n\n  function run_inline_js() {\n    \n    if ((root.Bokeh !== undefined) || (force === true)) {\n      for (var i = 0; i < inline_js.length; i++) {\n        inline_js[i].call(root, root.Bokeh);\n      }if (force === true) {\n        display_loaded();\n      }} else if (Date.now() < root._bokeh_timeout) {\n      setTimeout(run_inline_js, 100);\n    } else if (!root._bokeh_failed_load) {\n      console.log(\"Bokeh: BokehJS failed to load within specified timeout.\");\n      root._bokeh_failed_load = true;\n    } else if (force !== true) {\n      var cell = $(document.getElementById(\"1001\")).parents('.cell').data().cell;\n      cell.output_area.append_execute_result(NB_LOAD_WARNING)\n    }\n\n  }\n\n  if (root._bokeh_is_loading === 0) {\n    console.debug(\"Bokeh: BokehJS loaded, going straight to plotting\");\n    run_inline_js();\n  } else {\n    load_libs(css_urls, js_urls, function() {\n      console.debug(\"Bokeh: BokehJS plotting callback run at\", now());\n      run_inline_js();\n    });\n  }\n}(window));"
     },
     "metadata": {},
     "output_type": "display_data"
    },
    {
     "data": {
      "text/html": [
       "        <script type=\"text/javascript\">\n",
       "        window.PlotlyConfig = {MathJaxConfig: 'local'};\n",
       "        if (window.MathJax) {MathJax.Hub.Config({SVG: {font: \"STIX-Web\"}});}\n",
       "        if (typeof require !== 'undefined') {\n",
       "        require.undef(\"plotly\");\n",
       "        requirejs.config({\n",
       "            paths: {\n",
       "                'plotly': ['https://cdn.plot.ly/plotly-latest.min']\n",
       "            }\n",
       "        });\n",
       "        require(['plotly'], function(Plotly) {\n",
       "            window._Plotly = Plotly;\n",
       "        });\n",
       "        }\n",
       "        </script>\n",
       "        "
      ]
     },
     "metadata": {},
     "output_type": "display_data"
    }
   ],
   "source": [
    "# general imports\n",
    "import numpy as np\n",
    "#import sklearn\n",
    "import os\n",
    "\n",
    "# data wrangling\n",
    "import json\n",
    "import spacy\n",
    "spacy.prefer_gpu()\n",
    "from spacy_langdetect import LanguageDetector\n",
    "import psycopg2\n",
    "from multiprocessing import Pool, cpu_count\n",
    "\n",
    "# document embedding\n",
    "from gensim.models import TfidfModel\n",
    "from gensim.corpora import Dictionary\n",
    "from gensim.matutils import corpus2csc\n",
    "from gensim.models.doc2vec import Doc2Vec, TaggedDocument\n",
    "from gensim.test.utils import get_tmpfile\n",
    "from gensim.parsing.preprocessing import preprocess_string, STOPWORDS, strip_tags, strip_punctuation, strip_multiple_whitespaces, strip_numeric, strip_short\n",
    "\n",
    "# topic extraction\n",
    "from sklearn.decomposition import TruncatedSVD\n",
    "from sklearn.decomposition import NMF as NonnegativeMatrixFactorization\n",
    "from gensim.models.coherencemodel import CoherenceModel\n",
    "import keras\n",
    "from sklearn.preprocessing import normalize\n",
    "\n",
    "\n",
    "#clustering\n",
    "from sklearn.cluster import KMeans\n",
    "\n",
    "# projection into 2d\n",
    "from sklearn.discriminant_analysis import LinearDiscriminantAnalysis\n",
    "from sklearn.manifold import TSNE\n",
    "\n",
    "# linearization\n",
    "from lapjv import lapjv\n",
    "from scipy.spatial.distance import cdist\n",
    "from scipy.interpolate import griddata\n",
    "from numpy.linalg import norm\n",
    "from sklearn.preprocessing import normalize\n",
    "\n",
    "# quality metrics of the clustering\n",
    "from sklearn.metrics import silhouette_samples\n",
    "\n",
    "# interactivity\n",
    "from ipywidgets import interact, interactive, fixed, interact_manual, IntSlider\n",
    "import ipywidgets as widgets\n",
    "from IPython.display import display, Javascript, HTML\n",
    "\n",
    "#2d plot\n",
    "from bokeh.io import output_notebook, show\n",
    "from bokeh.models import ColumnDataSource, OpenURL, TapTool\n",
    "from bokeh.plotting import figure, ColumnDataSource\n",
    "from bokeh.palettes import d3, brewer\n",
    "from bokeh.layouts import row, column\n",
    "output_notebook()\n",
    "import matplotlib.pyplot as plt\n",
    "\n",
    "# 3d plot\n",
    "from plotly.offline import download_plotlyjs, init_notebook_mode, plot, iplot\n",
    "import plotly.graph_objs as go\n",
    "init_notebook_mode(connected=True) # for offline mode use"
   ]
  },
  {
   "cell_type": "markdown",
   "metadata": {
    "local_metadata": {},
    "remote_metadata": {
     "tags": [
      "remove_cell"
     ]
    }
   },
   "source": [
    "## Loading and Cleaning\n",
    "The first step in every NLP project which works with texts is always the preparation of the input data. In this example the Project dump from GEPRIS is loaded and the project descriptions are extracted. After that the texts get cleaned by removing all non-alphabetic chars and all stopwords from the texts. English texts are getting filtered in oder to make the analysis simpler and more comparable."
   ]
  },
  {
   "cell_type": "code",
   "execution_count": 2,
   "metadata": {
    "local_metadata": {},
    "remote_metadata": {
     "tags": [
      "remove_cell"
     ]
    }
   },
   "outputs": [],
   "source": [
    "with open(os.environ['PG_PASSWORD']) as password_file:\n",
    "    password = password_file.read().strip()\n",
    "    conn = psycopg2.connect(dbname=\"ikon\", user=\"ikonuser\", password=password, port=5432, host='Postgres')\n",
    "class DataLoader(object):\n",
    "    def __init__(self, query, clean=True, stream=False, workers=cpu_count()):\n",
    "        self.query = query\n",
    "        self.clean = clean\n",
    "        self.nlp = spacy.load('de', disable=[\"ner\", \"tagger\"])\n",
    "        #self.nlp.add_pipe(self.nlp.create_pipe('sentencizer'))\n",
    "        self.nlp.add_pipe(LanguageDetector(), name='language_detector', last=True)\n",
    "        self.nlp.Defaults.stop_words |= self.loadGermanStopwords()\n",
    "        self.nlp.Defaults.stop_words |= self.loadEnglishStopwords()\n",
    "        data = self.chunkify(self.loadFromDB(self.query).fetchall(), workers)\n",
    "        with Pool(workers) as pool:\n",
    "            self.data = [item for sublist in pool.map(self.preprocessText, data) for item in sublist]\n",
    "        \n",
    "        self.filepath = get_tmpfile(str(hash(tuple(self.data))))\n",
    "        with open(self.filepath, \"w\") as file:\n",
    "            for text, *args in self.data:\n",
    "                file.write(\"%s\\n\" % \" \".join(text))\n",
    "            \n",
    "    def __iter__(self):\n",
    "        self.pos = 0\n",
    "        return self\n",
    "    \n",
    "    def __next__(self):\n",
    "        if self.pos >= len(self.data)-1:\n",
    "            raise StopIteration\n",
    "        self.pos += 1\n",
    "        text, *args = self.data[self.pos]\n",
    "        return TaggedDocument(text, [self.pos])\n",
    "    \n",
    "    def  __getitem__(self, pos):\n",
    "        text, *args = self.data[pos]\n",
    "        return TaggedDocument(text, [pos])\n",
    "    \n",
    "    def __len__(self):\n",
    "        return len(self.data)\n",
    "    \n",
    "    def getIDs(self):\n",
    "        return [id for (text, id, title) in self.data]\n",
    "    \n",
    "    def getTitles(self):\n",
    "        return [title for (text, id, title) in self.data]\n",
    "        \n",
    "    def loadFromDB(self, query):\n",
    "        cursor = conn.cursor()\n",
    "        cursor.execute(query)\n",
    "        return cursor\n",
    "        \n",
    "    def loadGermanStopwords(self):\n",
    "        with open('../data/stopwords_de.json', 'r') as datafile:\n",
    "            return set(json.load(datafile))\n",
    "\n",
    "    def loadEnglishStopwords(self):\n",
    "        with open('../data/stopwords_eng.json', 'r') as datafile:\n",
    "            return set(json.load(datafile))\n",
    "        \n",
    "    def preprocessText(self, results):\n",
    "        texts, *args = zip(*results)\n",
    "        data = []\n",
    "        for doc, *args in zip(self.nlp.pipe(texts, batch_size=100, n_threads=-1), *args):\n",
    "            if(doc._.language['language'] == 'de'):\n",
    "                data.append((tuple([token.lemma_ for token in doc if self.filterType(token)]), *args))\n",
    "        return data\n",
    "    \n",
    "    def chunkify(self, lst, n):\n",
    "        return [lst[i::n] for i in range(n)]\n",
    "        \n",
    "    def filterType(self, token):\n",
    "        return token.is_alpha and not (token.is_stop or token.like_num or token.is_punct) and len(token.lemma_) > 3"
   ]
  },
  {
   "cell_type": "code",
   "execution_count": 3,
   "metadata": {},
   "outputs": [
    {
     "name": "stdout",
     "output_type": "stream",
     "text": [
      "CPU times: user 2.26 s, sys: 791 ms, total: 3.05 s\n",
      "Wall time: 2min 2s\n"
     ]
    }
   ],
   "source": [
    "traindata = %time DataLoader('''SELECT FIRST(project_abstract), FIRST(id), FIRST(title) \\\n",
    "                                FROM projects WHERE project_abstract NOT LIKE '%Keine Zusammenfassung%' \\\n",
    "                                GROUP BY project_abstract \\\n",
    "                                LIMIT 10000;''')\n",
    "mfndata = DataLoader('''SELECT abstract, id, title \\\n",
    "                        FROM project_view \\\n",
    "                        WHERE institution_id = 13232 AND abstract NOT LIKE '%Zusammenfassung%';''')"
   ]
  },
  {
   "cell_type": "code",
   "execution_count": 4,
   "metadata": {},
   "outputs": [
    {
     "data": {
      "text/plain": [
       "82"
      ]
     },
     "execution_count": 4,
     "metadata": {},
     "output_type": "execute_result"
    }
   ],
   "source": [
    "len(mfndata)"
   ]
  },
  {
   "cell_type": "markdown",
   "metadata": {
    "toc-hr-collapsed": true
   },
   "source": [
    "## Document Embedding"
   ]
  },
  {
   "cell_type": "markdown",
   "metadata": {
    "local_metadata": {},
    "remote_metadata": {
     "tags": [
      "remove_cell"
     ]
    }
   },
   "source": [
    "### TF-IDF\n",
    "*Summary*:\n",
    "This technique vectorizes a corpus, e.g. a collection of documents, by counting all appearences of words in the corpus and computing the tf-idf measure for each document, word pair."
   ]
  },
  {
   "cell_type": "code",
   "execution_count": 5,
   "metadata": {},
   "outputs": [
    {
     "name": "stdout",
     "output_type": "stream",
     "text": [
      "CPU times: user 1.47 s, sys: 18.7 ms, total: 1.49 s\n",
      "Wall time: 1.49 s\n",
      "CPU times: user 788 ms, sys: 3.5 ms, total: 792 ms\n",
      "Wall time: 792 ms\n"
     ]
    }
   ],
   "source": [
    "dct = %time Dictionary(doc.words for doc in traindata)  # fit dictionary\n",
    "traincorpus = [dct.doc2bow(doc.words) for doc in traindata]  # convert corpus to BoW format\n",
    "model_tfidf = %time TfidfModel(traincorpus)  # fit model"
   ]
  },
  {
   "cell_type": "code",
   "execution_count": 6,
   "metadata": {},
   "outputs": [],
   "source": [
    "mfncorpus = [dct.doc2bow(doc.words) for doc in mfndata]  # convert corpus to BoW format\n",
    "docs_vectorized_tfidf = corpus2csc(model_tfidf[mfncorpus]).T"
   ]
  },
  {
   "cell_type": "markdown",
   "metadata": {},
   "source": [
    "### Doc2Vec\n",
    "*Summary*:\n",
    "This technique vectorizes a corpus, e.g. a collection of documents, by counting all appearences of words in the corpus and computing the tf-idf measure for each document, word pair."
   ]
  },
  {
   "cell_type": "code",
   "execution_count": 7,
   "metadata": {},
   "outputs": [],
   "source": [
    "class Doc2VecExtended(Doc2Vec):\n",
    "    def top_words(self, vector, topn=5):\n",
    "        return self.wv.similar_by_vector(vector, topn=topn)"
   ]
  },
  {
   "cell_type": "code",
   "execution_count": 8,
   "metadata": {},
   "outputs": [
    {
     "name": "stdout",
     "output_type": "stream",
     "text": [
      "Doc2Vec setup and vocabulary building:\n"
     ]
    },
    {
     "name": "stderr",
     "output_type": "stream",
     "text": [
      "/tf/.venv/lib/python3.6/site-packages/smart_open/smart_open_lib.py:398: UserWarning:\n",
      "\n",
      "This function is deprecated, use smart_open.open instead. See the migration notes for details: https://github.com/RaRe-Technologies/smart_open/blob/master/README.rst#migrating-to-the-new-open-function\n",
      "\n"
     ]
    },
    {
     "name": "stdout",
     "output_type": "stream",
     "text": [
      "CPU times: user 1min 3s, sys: 262 ms, total: 1min 3s\n",
      "Wall time: 18.8 s\n",
      "Doc2Vec training:\n",
      "CPU times: user 1min 1s, sys: 212 ms, total: 1min 1s\n",
      "Wall time: 16.6 s\n"
     ]
    }
   ],
   "source": [
    "print('Doc2Vec setup and vocabulary building:')\n",
    "doc2vec_model = %time Doc2VecExtended(corpus_file=traindata.filepath, total_words=dct.num_pos, vector_size=100, window=20, min_count=10, workers=4, epochs=20)\n",
    "print('Doc2Vec training:')\n",
    "%time doc2vec_model.train(corpus_file=traindata.filepath, total_words=dct.num_pos, total_examples=doc2vec_model.corpus_count, epochs=doc2vec_model.epochs)"
   ]
  },
  {
   "cell_type": "code",
   "execution_count": 9,
   "metadata": {},
   "outputs": [],
   "source": [
    "docs_vectorized_doc2vec = np.array([doc2vec_model.infer_vector(doc.words) for doc in mfndata])"
   ]
  },
  {
   "cell_type": "code",
   "execution_count": 10,
   "metadata": {},
   "outputs": [
    {
     "name": "stdout",
     "output_type": "stream",
     "text": [
      "(81, 100)\n"
     ]
    }
   ],
   "source": [
    "print(docs_vectorized_doc2vec.shape)"
   ]
  },
  {
   "cell_type": "code",
   "execution_count": 11,
   "metadata": {},
   "outputs": [
    {
     "data": {
      "text/plain": [
       "array([[ 0.8161292 ,  0.24157694,  0.19633049, ...,  0.35541514,\n",
       "         0.06018448,  0.62558347],\n",
       "       [ 0.16719797, -0.22215994,  0.11227214, ..., -0.3518167 ,\n",
       "        -0.11763593,  0.10171075],\n",
       "       [-0.03474774, -0.69129735,  0.60297954, ...,  0.25344178,\n",
       "        -0.45275545,  0.23147959],\n",
       "       ...,\n",
       "       [-0.81781995,  0.21789153,  0.05941902, ...,  0.16297975,\n",
       "         0.0221776 , -0.11048553],\n",
       "       [-1.0227844 , -0.32791013,  0.34866646, ..., -0.04018618,\n",
       "         0.5769084 , -0.74571157],\n",
       "       [-0.08664034,  0.12774284,  0.5223396 , ..., -0.02317363,\n",
       "        -1.0144856 , -0.20491797]], dtype=float32)"
      ]
     },
     "execution_count": 11,
     "metadata": {},
     "output_type": "execute_result"
    }
   ],
   "source": [
    "doc2vec_model.docvecs.vectors_docs"
   ]
  },
  {
   "cell_type": "code",
   "execution_count": null,
   "metadata": {},
   "outputs": [],
   "source": []
  },
  {
   "cell_type": "code",
   "execution_count": null,
   "metadata": {},
   "outputs": [],
   "source": []
  },
  {
   "cell_type": "markdown",
   "metadata": {
    "local_metadata": {},
    "remote_metadata": {
     "tags": [
      "remove_cell"
     ]
    },
    "toc-hr-collapsed": false
   },
   "source": [
    "# Topic extraction"
   ]
  },
  {
   "cell_type": "markdown",
   "metadata": {
    "local_metadata": {},
    "remote_metadata": {
     "tags": [
      "remove_cell"
     ]
    }
   },
   "source": [
    "## Latent Semantic Analysis\n",
    "*Summary*:\n",
    "The LSA transforms an corpus from its word space given by the tf-idf matrice into its semantic space. In this semantic space the dimensions denote topics in the corpus and every document vector is a linear combination of all the implicitly extracted topics."
   ]
  },
  {
   "cell_type": "code",
   "execution_count": 12,
   "metadata": {},
   "outputs": [],
   "source": [
    "def LSA(tfs,num_topics=40):\n",
    "    print('LSA:')\n",
    "    lsa = %time TruncatedSVD(n_components=num_topics, random_state=0).fit(tfs)\n",
    "    return lsa.transform(tfs), lsa"
   ]
  },
  {
   "cell_type": "markdown",
   "metadata": {
    "local_metadata": {},
    "remote_metadata": {
     "tags": [
      "remove_cell"
     ]
    },
    "toc-hr-collapsed": false
   },
   "source": [
    "## Autoencoder\n",
    "Summary: **Coming soon**"
   ]
  },
  {
   "cell_type": "code",
   "execution_count": 13,
   "metadata": {
    "scrolled": false
   },
   "outputs": [
    {
     "name": "stderr",
     "output_type": "stream",
     "text": [
      "WARNING: Logging before flag parsing goes to stderr.\n",
      "W0625 14:26:37.131090 139872138377024 deprecation_wrapper.py:119] From /tf/.venv/lib/python3.6/site-packages/keras/backend/tensorflow_backend.py:74: The name tf.get_default_graph is deprecated. Please use tf.compat.v1.get_default_graph instead.\n",
      "\n",
      "W0625 14:26:37.174215 139872138377024 deprecation_wrapper.py:119] From /tf/.venv/lib/python3.6/site-packages/keras/backend/tensorflow_backend.py:517: The name tf.placeholder is deprecated. Please use tf.compat.v1.placeholder instead.\n",
      "\n",
      "W0625 14:26:37.180584 139872138377024 deprecation_wrapper.py:119] From /tf/.venv/lib/python3.6/site-packages/keras/backend/tensorflow_backend.py:4138: The name tf.random_uniform is deprecated. Please use tf.random.uniform instead.\n",
      "\n",
      "W0625 14:26:37.223825 139872138377024 deprecation_wrapper.py:119] From /tf/.venv/lib/python3.6/site-packages/keras/optimizers.py:790: The name tf.train.Optimizer is deprecated. Please use tf.compat.v1.train.Optimizer instead.\n",
      "\n"
     ]
    },
    {
     "name": "stdout",
     "output_type": "stream",
     "text": [
      "100\n"
     ]
    }
   ],
   "source": [
    "from keras.layers import Input, Dense\n",
    "from keras.models import Model\n",
    "\n",
    "# this is the size of our encoded representations\n",
    "encoding_dim = 2  # 32 floats -> compression of factor 24.5, assuming the input is 784 floats\n",
    "input_dim = doc2vec_model.docvecs.vectors_docs.shape[1]\n",
    "print(input_dim)\n",
    "# this is our input placeholder\n",
    "input_img = Input(shape=(input_dim,))\n",
    "# \"encoded\" is the encoded representation of the input\n",
    "encoded = Dense(encoding_dim, activation='relu')(input_img)\n",
    "# \"decoded\" is the lossy reconstruction of the input\n",
    "decoded = Dense(input_dim, activation='sigmoid')(encoded)\n",
    "\n",
    "# this model maps an input to its reconstruction\n",
    "autoencoder = Model(input_img, decoded)\n",
    "\n",
    "# this model maps an input to its encoded representation\n",
    "encoder = Model(input_img, encoded)\n",
    "\n",
    "# create a placeholder for an encoded (32-dimensional) input\n",
    "encoded_input = Input(shape=(encoding_dim,))\n",
    "# retrieve the last layer of the autoencoder model\n",
    "decoder_layer = autoencoder.layers[-1]\n",
    "# create the decoder model\n",
    "decoder = Model(encoded_input, decoder_layer(encoded_input))\n",
    "\n",
    "autoencoder.compile(optimizer='adadelta', loss='mean_squared_error')"
   ]
  },
  {
   "cell_type": "code",
   "execution_count": 14,
   "metadata": {},
   "outputs": [
    {
     "name": "stderr",
     "output_type": "stream",
     "text": [
      "W0625 14:26:37.433272 139872138377024 deprecation_wrapper.py:119] From /tf/.venv/lib/python3.6/site-packages/keras/backend/tensorflow_backend.py:986: The name tf.assign_add is deprecated. Please use tf.compat.v1.assign_add instead.\n",
      "\n",
      "W0625 14:26:37.442225 139872138377024 deprecation_wrapper.py:119] From /tf/.venv/lib/python3.6/site-packages/keras/backend/tensorflow_backend.py:973: The name tf.assign is deprecated. Please use tf.compat.v1.assign instead.\n",
      "\n"
     ]
    },
    {
     "name": "stdout",
     "output_type": "stream",
     "text": [
      "Train on 8239 samples, validate on 81 samples\n",
      "Epoch 1/75\n",
      "8239/8239 [==============================] - 0s 46us/step - loss: 0.2449 - val_loss: 0.2393\n",
      "Epoch 2/75\n",
      "8239/8239 [==============================] - 0s 6us/step - loss: 0.2338 - val_loss: 0.2280\n",
      "Epoch 3/75\n",
      "8239/8239 [==============================] - 0s 7us/step - loss: 0.2221 - val_loss: 0.2158\n",
      "Epoch 4/75\n",
      "8239/8239 [==============================] - 0s 6us/step - loss: 0.2089 - val_loss: 0.2012\n",
      "Epoch 5/75\n",
      "8239/8239 [==============================] - 0s 6us/step - loss: 0.1921 - val_loss: 0.1814\n",
      "Epoch 6/75\n",
      "8239/8239 [==============================] - 0s 7us/step - loss: 0.1684 - val_loss: 0.1527\n",
      "Epoch 7/75\n",
      "8239/8239 [==============================] - 0s 6us/step - loss: 0.1349 - val_loss: 0.1145\n",
      "Epoch 8/75\n",
      "8239/8239 [==============================] - 0s 6us/step - loss: 0.0951 - val_loss: 0.0752\n",
      "Epoch 9/75\n",
      "8239/8239 [==============================] - 0s 6us/step - loss: 0.0598 - val_loss: 0.0457\n",
      "Epoch 10/75\n",
      "8239/8239 [==============================] - 0s 8us/step - loss: 0.0362 - val_loss: 0.0282\n",
      "Epoch 11/75\n",
      "8239/8239 [==============================] - 0s 6us/step - loss: 0.0228 - val_loss: 0.0184\n",
      "Epoch 12/75\n",
      "8239/8239 [==============================] - 0s 7us/step - loss: 0.0153 - val_loss: 0.0129\n",
      "Epoch 13/75\n",
      "8239/8239 [==============================] - 0s 6us/step - loss: 0.0109 - val_loss: 0.0096\n",
      "Epoch 14/75\n",
      "8239/8239 [==============================] - 0s 6us/step - loss: 0.0082 - val_loss: 0.0075\n",
      "Epoch 15/75\n",
      "8239/8239 [==============================] - 0s 6us/step - loss: 0.0064 - val_loss: 0.0060\n",
      "Epoch 16/75\n",
      "8239/8239 [==============================] - 0s 6us/step - loss: 0.0052 - val_loss: 0.0050\n",
      "Epoch 17/75\n",
      "8239/8239 [==============================] - 0s 6us/step - loss: 0.0043 - val_loss: 0.0042\n",
      "Epoch 18/75\n",
      "8239/8239 [==============================] - 0s 8us/step - loss: 0.0037 - val_loss: 0.0036\n",
      "Epoch 19/75\n",
      "8239/8239 [==============================] - 0s 7us/step - loss: 0.0032 - val_loss: 0.0032\n",
      "Epoch 20/75\n",
      "8239/8239 [==============================] - 0s 8us/step - loss: 0.0028 - val_loss: 0.0028\n",
      "Epoch 21/75\n",
      "8239/8239 [==============================] - 0s 6us/step - loss: 0.0024 - val_loss: 0.0025\n",
      "Epoch 22/75\n",
      "8239/8239 [==============================] - 0s 7us/step - loss: 0.0022 - val_loss: 0.0023\n",
      "Epoch 23/75\n",
      "8239/8239 [==============================] - 0s 6us/step - loss: 0.0019 - val_loss: 0.0021\n",
      "Epoch 24/75\n",
      "8239/8239 [==============================] - 0s 6us/step - loss: 0.0017 - val_loss: 0.0019\n",
      "Epoch 25/75\n",
      "8239/8239 [==============================] - 0s 6us/step - loss: 0.0016 - val_loss: 0.0018\n",
      "Epoch 26/75\n",
      "8239/8239 [==============================] - 0s 7us/step - loss: 0.0014 - val_loss: 0.0016\n",
      "Epoch 27/75\n",
      "8239/8239 [==============================] - 0s 7us/step - loss: 0.0013 - val_loss: 0.0015\n",
      "Epoch 28/75\n",
      "8239/8239 [==============================] - 0s 7us/step - loss: 0.0012 - val_loss: 0.0014\n",
      "Epoch 29/75\n",
      "8239/8239 [==============================] - 0s 6us/step - loss: 0.0011 - val_loss: 0.0013\n",
      "Epoch 30/75\n",
      "8239/8239 [==============================] - 0s 6us/step - loss: 0.0010 - val_loss: 0.0013\n",
      "Epoch 31/75\n",
      "8239/8239 [==============================] - 0s 7us/step - loss: 9.5772e-04 - val_loss: 0.0012\n",
      "Epoch 32/75\n",
      "8239/8239 [==============================] - 0s 7us/step - loss: 8.9223e-04 - val_loss: 0.0011\n",
      "Epoch 33/75\n",
      "8239/8239 [==============================] - 0s 6us/step - loss: 8.3371e-04 - val_loss: 0.0011\n",
      "Epoch 34/75\n",
      "8239/8239 [==============================] - 0s 6us/step - loss: 7.8126e-04 - val_loss: 0.0010\n",
      "Epoch 35/75\n",
      "8239/8239 [==============================] - 0s 6us/step - loss: 7.3411e-04 - val_loss: 9.6993e-04\n",
      "Epoch 36/75\n",
      "8239/8239 [==============================] - 0s 6us/step - loss: 6.9161e-04 - val_loss: 9.2954e-04\n",
      "Epoch 37/75\n",
      "8239/8239 [==============================] - 0s 6us/step - loss: 6.5319e-04 - val_loss: 8.9297e-04\n",
      "Epoch 38/75\n",
      "8239/8239 [==============================] - 0s 6us/step - loss: 6.1836e-04 - val_loss: 8.5978e-04\n",
      "Epoch 39/75\n",
      "8239/8239 [==============================] - 0s 6us/step - loss: 5.8669e-04 - val_loss: 8.2956e-04\n",
      "Epoch 40/75\n",
      "8239/8239 [==============================] - 0s 6us/step - loss: 5.5782e-04 - val_loss: 8.0196e-04\n",
      "Epoch 41/75\n",
      "8239/8239 [==============================] - 0s 6us/step - loss: 5.3142e-04 - val_loss: 7.7668e-04\n",
      "Epoch 42/75\n",
      "8239/8239 [==============================] - 0s 6us/step - loss: 5.0720e-04 - val_loss: 7.5347e-04\n",
      "Epoch 43/75\n",
      "8239/8239 [==============================] - 0s 6us/step - loss: 4.8493e-04 - val_loss: 7.3209e-04\n",
      "Epoch 44/75\n",
      "8239/8239 [==============================] - 0s 6us/step - loss: 4.6440e-04 - val_loss: 7.1235e-04\n",
      "Epoch 45/75\n",
      "8239/8239 [==============================] - 0s 6us/step - loss: 4.4540e-04 - val_loss: 6.9407e-04\n",
      "Epoch 46/75\n",
      "8239/8239 [==============================] - 0s 6us/step - loss: 4.2780e-04 - val_loss: 6.7710e-04\n",
      "Epoch 47/75\n",
      "8239/8239 [==============================] - 0s 6us/step - loss: 4.1144e-04 - val_loss: 6.6131e-04\n",
      "Epoch 48/75\n",
      "8239/8239 [==============================] - 0s 6us/step - loss: 3.9620e-04 - val_loss: 6.4659e-04\n",
      "Epoch 49/75\n",
      "8239/8239 [==============================] - 0s 6us/step - loss: 3.8198e-04 - val_loss: 6.3284e-04\n",
      "Epoch 50/75\n",
      "8239/8239 [==============================] - 0s 6us/step - loss: 3.6867e-04 - val_loss: 6.1996e-04\n",
      "Epoch 51/75\n",
      "8239/8239 [==============================] - 0s 6us/step - loss: 3.5620e-04 - val_loss: 6.0787e-04\n",
      "Epoch 52/75\n",
      "8239/8239 [==============================] - 0s 7us/step - loss: 3.4449e-04 - val_loss: 5.9652e-04\n",
      "Epoch 53/75\n",
      "8239/8239 [==============================] - 0s 6us/step - loss: 3.3347e-04 - val_loss: 5.8582e-04\n",
      "Epoch 54/75\n",
      "8239/8239 [==============================] - 0s 6us/step - loss: 3.2309e-04 - val_loss: 5.7574e-04\n",
      "Epoch 55/75\n",
      "8239/8239 [==============================] - 0s 6us/step - loss: 3.1329e-04 - val_loss: 5.6622e-04\n",
      "Epoch 56/75\n",
      "8239/8239 [==============================] - 0s 7us/step - loss: 3.0404e-04 - val_loss: 5.5722e-04\n",
      "Epoch 57/75\n",
      "8239/8239 [==============================] - 0s 6us/step - loss: 2.9527e-04 - val_loss: 5.4869e-04\n",
      "Epoch 58/75\n",
      "8239/8239 [==============================] - 0s 6us/step - loss: 2.8697e-04 - val_loss: 5.4060e-04\n",
      "Epoch 59/75\n",
      "8239/8239 [==============================] - 0s 6us/step - loss: 2.7909e-04 - val_loss: 5.3292e-04\n",
      "Epoch 60/75\n",
      "8239/8239 [==============================] - 0s 6us/step - loss: 2.7160e-04 - val_loss: 5.2562e-04\n",
      "Epoch 61/75\n",
      "8239/8239 [==============================] - 0s 6us/step - loss: 2.6448e-04 - val_loss: 5.1867e-04\n",
      "Epoch 62/75\n",
      "8239/8239 [==============================] - 0s 6us/step - loss: 2.5770e-04 - val_loss: 5.1205e-04\n",
      "Epoch 63/75\n",
      "8239/8239 [==============================] - 0s 6us/step - loss: 2.5124e-04 - val_loss: 5.0574e-04\n",
      "Epoch 64/75\n",
      "8239/8239 [==============================] - 0s 6us/step - loss: 2.4507e-04 - val_loss: 4.9971e-04\n",
      "Epoch 65/75\n",
      "8239/8239 [==============================] - 0s 6us/step - loss: 2.3917e-04 - val_loss: 4.9395e-04\n",
      "Epoch 66/75\n",
      "8239/8239 [==============================] - 0s 6us/step - loss: 2.3354e-04 - val_loss: 4.8844e-04\n",
      "Epoch 67/75\n",
      "8239/8239 [==============================] - 0s 6us/step - loss: 2.2815e-04 - val_loss: 4.8317e-04\n",
      "Epoch 68/75\n",
      "8239/8239 [==============================] - 0s 6us/step - loss: 2.2298e-04 - val_loss: 4.7811e-04\n",
      "Epoch 69/75\n",
      "8239/8239 [==============================] - 0s 6us/step - loss: 2.1803e-04 - val_loss: 4.7327e-04\n",
      "Epoch 70/75\n",
      "8239/8239 [==============================] - 0s 6us/step - loss: 2.1328e-04 - val_loss: 4.6862e-04\n",
      "Epoch 71/75\n",
      "8239/8239 [==============================] - 0s 7us/step - loss: 2.0872e-04 - val_loss: 4.6415e-04\n",
      "Epoch 72/75\n",
      "8239/8239 [==============================] - 0s 6us/step - loss: 2.0434e-04 - val_loss: 4.5986e-04\n",
      "Epoch 73/75\n",
      "8239/8239 [==============================] - 0s 6us/step - loss: 2.0013e-04 - val_loss: 4.5573e-04\n",
      "Epoch 74/75\n",
      "8239/8239 [==============================] - 0s 7us/step - loss: 1.9607e-04 - val_loss: 4.5175e-04\n",
      "Epoch 75/75\n",
      "8239/8239 [==============================] - 0s 6us/step - loss: 1.9217e-04 - val_loss: 4.4792e-04\n"
     ]
    }
   ],
   "source": [
    "input_train = normalize(doc2vec_model.docvecs.vectors_docs, axis=0, norm='l1')\n",
    "input_test = normalize(docs_vectorized_doc2vec, axis=0, norm='l1')\n",
    "history = autoencoder.fit(input_train, input_train,\n",
    "                epochs=75,\n",
    "                batch_size=256,\n",
    "                shuffle=True,\n",
    "                validation_data=(input_test, input_test),\n",
    "                verbose=1)"
   ]
  },
  {
   "cell_type": "code",
   "execution_count": 16,
   "metadata": {},
   "outputs": [
    {
     "data": {
      "image/png": "[encoded data removed]",
      "text/plain": [
       "<Figure size 432x288 with 1 Axes>"
      ]
     },
     "metadata": {
      "needs_background": "light"
     },
     "output_type": "display_data"
    }
   ],
   "source": [
    "# Plot training & validation loss values\n",
    "plt.plot(history.history['loss'])\n",
    "plt.plot(history.history['val_loss'])\n",
    "plt.title('Model loss')\n",
    "plt.ylabel('Loss')\n",
    "plt.xlabel('Epoch')\n",
    "plt.legend(['Train', 'Test'], loc='upper left')\n",
    "plt.show()"
   ]
  },
  {
   "cell_type": "code",
   "execution_count": null,
   "metadata": {},
   "outputs": [],
   "source": []
  },
  {
   "cell_type": "markdown",
   "metadata": {},
   "source": [
    "### Evaluate topic extraction"
   ]
  },
  {
   "cell_type": "markdown",
   "metadata": {
    "local_metadata": {},
    "remote_metadata": {
     "tags": [
      "remove_cell"
     ]
    }
   },
   "source": [
    "## Get top words for each dimension\n",
    "In order to get the words which are most important for each dimension (which correspond to topics), the standard basis in the topic space is converted back into the word space. These are exactly the eigenvectors of data. Now the top n biggest entries and their corresponding words form the top words."
   ]
  },
  {
   "cell_type": "code",
   "execution_count": null,
   "metadata": {},
   "outputs": [],
   "source": []
  },
  {
   "cell_type": "code",
   "execution_count": null,
   "metadata": {},
   "outputs": [],
   "source": [
    "def get_top_words_dim(model, feature_names, n_top_words):\n",
    "    dim_topics = {}\n",
    "    for topic_idx, topic in enumerate(model.components_):\n",
    "        dim_topics[topic_idx] = [feature_names[i]\n",
    "                        for i in topic.argsort()[:-n_top_words - 1:-1]]\n",
    "    return dim_topics"
   ]
  },
  {
   "cell_type": "markdown",
   "metadata": {
    "local_metadata": {},
    "remote_metadata": {
     "tags": [
      "remove_cell"
     ]
    }
   },
   "source": [
    "## Clustering"
   ]
  },
  {
   "cell_type": "markdown",
   "metadata": {
    "local_metadata": {},
    "remote_metadata": {
     "tags": [
      "remove_cell"
     ]
    }
   },
   "source": [
    "### K-Means\n",
    "Summary: Given a clustering the LDA can be used to find a projection into a lower dimensional space which maximizes inter-class variance and minimizes intra-class variance. This leads to neater cluster, but is grounded in the hypotheses that the clusters have some real semantic meaning. Otherwise it may enforce preexisting biases."
   ]
  },
  {
   "cell_type": "code",
   "execution_count": null,
   "metadata": {},
   "outputs": [],
   "source": [
    "def clusterNumberHeuristic(tfs):\n",
    "    return (tfs.shape[0]*tfs.shape[1])//tfs.count_nonzero()\n",
    "\n",
    "def cluster(tfs_reduced, num_topics=10):\n",
    "    print('K-Means:')\n",
    "    km = %time KMeans(n_clusters=num_topics).fit(tfs_reduced)\n",
    "    return km"
   ]
  },
  {
   "cell_type": "markdown",
   "metadata": {
    "local_metadata": {},
    "remote_metadata": {
     "tags": [
      "remove_cell"
     ]
    }
   },
   "source": [
    "### Get top words for each cluster\n",
    "The process is similar to the one for getting the top words for each dimension. But in this case the cluster centers from the clustering step are transformed back into the word space and analysed. This is based on the assumption that the cluster center represents the set of all documents in the corrsponding cluster."
   ]
  },
  {
   "cell_type": "code",
   "execution_count": null,
   "metadata": {},
   "outputs": [],
   "source": [
    "def get_top_words_point(model, point, feature_names, n_top_words):\n",
    "    point = np.array(point).reshape(1,-1)\n",
    "    point.reshape(1, -1)\n",
    "    word_space_point = model.inverse_transform(point)\n",
    "    return [feature_names[j] for j in word_space_point.argsort()[0][:-n_top_words - 1:-1]]"
   ]
  },
  {
   "cell_type": "markdown",
   "metadata": {
    "local_metadata": {},
    "remote_metadata": {
     "tags": [
      "remove_cell"
     ]
    }
   },
   "source": [
    "# Embedding into 2D"
   ]
  },
  {
   "cell_type": "markdown",
   "metadata": {
    "local_metadata": {},
    "remote_metadata": {
     "tags": [
      "remove_cell"
     ]
    }
   },
   "source": [
    "## Linear Discriminant Analysis\n",
    "*Summary*:\n",
    "Given a clustering the LDA can be used to find a projection into a lower dimensional space which maximizes inter-class variance and minimizes intra-class variance. This leads to neater cluster, but is grounded in the hypotheses that the clusters have some real semantic meaning. Otherwise it may enforce preexisting biases."
   ]
  },
  {
   "cell_type": "code",
   "execution_count": null,
   "metadata": {},
   "outputs": [],
   "source": [
    "def dimReductionLDA(tfs_reduced, clusters, targetDim=2):\n",
    "    lda = LinearDiscriminantAnalysis(n_components=targetDim)\n",
    "    print('LDA:')\n",
    "    tfs_2d = %time lda.fit(tfs_reduced, clusters.labels_).transform(tfs_reduced)\n",
    "    return tfs_2d, lda"
   ]
  },
  {
   "cell_type": "markdown",
   "metadata": {
    "local_metadata": {},
    "remote_metadata": {
     "tags": [
      "remove_cell"
     ]
    }
   },
   "source": [
    "## tSNE\n",
    "*Summary*:\n",
    "\n",
    "\n",
    "*In-depth explanation*:"
   ]
  },
  {
   "cell_type": "code",
   "execution_count": null,
   "metadata": {},
   "outputs": [],
   "source": [
    "def dimReductiontSNE(tfs_reduced, perplexity=30, learning_rate=100, targetDim=2):\n",
    "    print('t-SNE:')\n",
    "    tfs_2d = %time TSNE(n_components=targetDim, perplexity=perplexity, learning_rate=learning_rate).fit_transform(tfs_reduced)\n",
    "    return tfs_2d"
   ]
  },
  {
   "cell_type": "markdown",
   "metadata": {},
   "source": [
    "# Linearize results into a grid"
   ]
  },
  {
   "cell_type": "code",
   "execution_count": null,
   "metadata": {},
   "outputs": [],
   "source": [
    "def mapToSpaceSampling(points):\n",
    "    # just take the first n² < #points Points\n",
    "    points = points[: int(np.sqrt(len(points)))**2]\n",
    "    grid = np.dstack(np.meshgrid(np.linspace(np.min(points[:, 0]), np.max(points[:, 0]), int(np.sqrt(len(points)))),\n",
    "                       np.linspace(np.min(points[:, 1]), np.max(points[:, 1]), int(np.sqrt(len(points)))))).reshape(-1, 2)\n",
    "    cost = cdist(points, grid, \"sqeuclidean\").astype(np.float64)\n",
    "    print(cost.shape)\n",
    "    cost *= 100000 / cost.max()\n",
    "    row_ind_lapjv, col_ind_lapjv, _ = lapjv(cost, verbose=True, force_doubles=True)\n",
    "    return grid[row_ind_lapjv]"
   ]
  },
  {
   "cell_type": "code",
   "execution_count": null,
   "metadata": {},
   "outputs": [],
   "source": [
    "def computeClusterTopography(points, values, width, height, interpolation='linear'):\n",
    "    # lay grid over the points so that all points are covered\n",
    "    grid_x, grid_y = np.mgrid[np.min(points[:,0]):np.max(points[:,0]):width*1j, np.min(points[:,1]):np.max(points[:,1]):height*1j]\n",
    "    return griddata(np.array(points), np.array(values[:len(points)]), (grid_x, grid_y), method=interpolation, fill_value=np.min(values[:len(points)]))"
   ]
  },
  {
   "cell_type": "code",
   "execution_count": null,
   "metadata": {},
   "outputs": [],
   "source": []
  },
  {
   "cell_type": "code",
   "execution_count": null,
   "metadata": {},
   "outputs": [],
   "source": [
    "def compute(tfs, targetDim, dimreduction, clustering, embedding, num_topics, num_clusters, perplexity, learning_rate, error, interpolation, viz, width, height):\n",
    "    \n",
    "    if dimreduction == 'LSA':\n",
    "        tfs_reduced, model = LSA(tfs, num_topics=num_topics)\n",
    "    elif dimreduction == 'NMF':\n",
    "        tfs_reduced, model = NMF(tfs, num_topics=num_topics)\n",
    "    elif dimreduction == 'Autoencoder':\n",
    "        tfs_reduced, model = encoder.predict(tfs), None\n",
    "    else:\n",
    "        return 'No dimensionality reduction technique was selected!'\n",
    "    \n",
    "    if clustering == 'KMEANS':\n",
    "        clusters = cluster(tfs_reduced, num_topics=num_clusters)\n",
    "    else:\n",
    "        return 'No clustering technique was selected!'\n",
    "    \n",
    "    if embedding == 'LDA':\n",
    "        tfs_embedded, lda = dimReductionLDA(tfs_reduced, clusters=clusters, targetDim=targetDim)\n",
    "    elif embedding == 'tSNE':\n",
    "        tfs_embedded = dimReductiontSNE(tfs_reduced, perplexity=perplexity, learning_rate=learning_rate, targetDim=targetDim)\n",
    "    else:\n",
    "        return 'No dimensionality reduction technique was selected!'\n",
    "    \n",
    "    # compute linearization\n",
    "    tfs_mapped = mapToSpaceSampling(tfs_embedded) if targetDim == 2 else np.array([[0,0]]*len(tfs_embedded)) \n",
    "    \n",
    "    # compute top words (TODO: could be flawed)\n",
    "    tfidf_feature_names = [[]] # [str(token) for token in tfidf_vectorizer.get_feature_names()]\n",
    "    cluster_words = [[word for word, score in doc2vec_model.wv.similar_by_vector(np.mean(tfs[clusters.labels_==cluster], axis=0), topn=5)] for cluster in range(num_clusters)]\n",
    "    top_words = [[word for word, score in doc2vec_model.top_words(project, topn=5)] for project in docs_vectorized_doc2vec]\n",
    "    \n",
    "    # compute coherence score\n",
    "    cm = CoherenceModel(topics=cluster_words, corpus=mfncorpus, dictionary=dct, coherence='u_mass')\n",
    "    print(\"Coherence score: \", cm.get_coherence())\n",
    "    \n",
    "    #compute cluster topography\n",
    "    similarity_to_cluster_centers = [norm(x-clusters.cluster_centers_[clusters.labels_[i]]) for i,x in enumerate(tfs_reduced)]\n",
    "    similarity_to_cluster_centers = similarity_to_cluster_centers / -norm(similarity_to_cluster_centers)\n",
    "    reduction_error = np.max(lda.decision_function(tfs_reduced), axis=1) if (embedding == 'LDA') else [0]* len(tfs_embedded)\n",
    "    reduction_error = reduction_error / norm(reduction_error)\n",
    "    interpolated_topography = computeClusterTopography(tfs_embedded if viz == 'scatter' else tfs_mapped, similarity_to_cluster_centers if error=='cluster_error' else silhouette_samples(tfs_reduced, clusters.labels_), width, height, interpolation)\n",
    "    return model, tfs_reduced, clusters, tfs_embedded, tfs_mapped, tfidf_feature_names, cluster_words, top_words, similarity_to_cluster_centers, reduction_error, interpolated_topography"
   ]
  },
  {
   "cell_type": "markdown",
   "metadata": {},
   "source": [
    "# Visualization"
   ]
  },
  {
   "cell_type": "code",
   "execution_count": null,
   "metadata": {},
   "outputs": [],
   "source": [
    "def draw_scatter(data, width=600, height=600, viz='scatter'):\n",
    "    display(Javascript(\"\"\"\n",
    "        (function(element){\n",
    "            require(['scatter'], function(scatter) {\n",
    "                scatter(element.get(0), %s, %d, %d, %s);\n",
    "            });\n",
    "        })(element);\n",
    "    \"\"\" % (json.dumps(data), width, height, json.dumps(viz))))"
   ]
  },
  {
   "cell_type": "code",
   "execution_count": null,
   "metadata": {
    "local_metadata": {},
    "remote_metadata": {
     "tags": [
      "remove_cell"
     ]
    }
   },
   "outputs": [],
   "source": [
    "def save(payload):\n",
    "    name = \"c\" + str(payload['params']['num_clusters']) +\"-t\" + str(payload['params']['num_topics']) + \"_\" + str(payload['params']['embedding'])\n",
    "    if payload['params']['embedding'] == 'tSNE':\n",
    "        name += \"_p\" + str(payload['params']['perplexity']) + \"-lr\" + str(payload['params']['learning_rate'])\n",
    "    with open('./dumps/' + name + '.json', 'w') as dumpfile:\n",
    "        json.dump(payload, dumpfile, sort_keys=True, indent=4, ensure_ascii=False)"
   ]
  },
  {
   "cell_type": "code",
   "execution_count": null,
   "metadata": {
    "local_metadata": {},
    "remote_metadata": {
     "tags": [
      "remove_cell"
     ]
    }
   },
   "outputs": [],
   "source": [
    "def visualize(targetDim=2,tfs=None,dimreduction='LSA', clustering='KMEANS', embedding='LDA', num_topics=20, num_clusters=3, perplexity=5, learning_rate=200, error='cluster_error', interpolation='linear', viz='scatter', fake=''):\n",
    "    # viz dimensions\n",
    "    width = 600\n",
    "    height = 600\n",
    "    payload = {}\n",
    "    \n",
    "    if not fake:\n",
    "        # compute all necessary stuff\n",
    "        model, tfs_reduced, clusters, tfs_embedded, tfs_mapped, tfidf_feature_names, cluster_words, top_words, similarity_to_cluster_centers, reduction_error, interpolated_topography = compute(tfs, targetDim, dimreduction, clustering, embedding, num_topics, num_clusters, perplexity, learning_rate, error, interpolation, viz, width, height)\n",
    "\n",
    "        [print(i, words) for i,words in enumerate(cluster_words)]\n",
    "        colours = d3['Category10'][num_clusters]\n",
    "        #ids, titles, texts = [list(elem) for elem in zip(*loadProjects())]\n",
    "        if targetDim == 2:\n",
    "            # configure bokeh plot                   \n",
    "            source = ColumnDataSource(data=dict(\n",
    "                x=tfs_embedded[:, 0],\n",
    "                y=tfs_embedded[:, 1],\n",
    "                x_mapped=tfs_mapped[:, 0],\n",
    "                y_mapped=tfs_mapped[:, 1],\n",
    "                ids=mfndata.getIDs(),\n",
    "                titles=mfndata.getTitles(),\n",
    "                colours=np.array(colours)[clusters.labels_],\n",
    "                labels=clusters.labels_\n",
    "            ))\n",
    "\n",
    "            TOOLTIPS = [\n",
    "                (\"index\", \"$index\"),\n",
    "                (\"id\", \"@ids\"),\n",
    "                (\"title\", \"@titles\"),\n",
    "            ]\n",
    "            # scatterplot\n",
    "            scatter = figure(plot_width=800, plot_height=800, title=None, toolbar_location=\"below\", tooltips=TOOLTIPS, tools='tap,pan,wheel_zoom,save')\n",
    "            scatter.scatter('x', 'y', size=10,color='colours', legend='labels', source=source)\n",
    "            url = 'http://gepris.dfg.de/gepris/projekt/@ids'\n",
    "            taptool = scatter.select(type=TapTool)\n",
    "            taptool.callback = OpenURL(url=url)\n",
    "\n",
    "            # mapped scatterplot\n",
    "            mapped_scatter = figure(plot_width=800, plot_height=800, title=None, toolbar_location=\"below\", tooltips=TOOLTIPS, tools='tap,pan,wheel_zoom')\n",
    "            mapped_scatter.scatter('x_mapped', 'y_mapped', size=50,color='colours', legend='labels', source=source)\n",
    "            url = 'http://gepris.dfg.de/gepris/projekt/@ids'\n",
    "            taptool = mapped_scatter.select(type=TapTool)\n",
    "            taptool.callback = OpenURL(url=url)\n",
    "            #show(row(scatter, mapped_scatter))\n",
    "        else:\n",
    "\n",
    "            source = go.Scatter3d(\n",
    "                x=tfs_embedded[:, 0],\n",
    "                y=tfs_embedded[:, 1],\n",
    "                z=tfs_embedded[:, 2],\n",
    "                mode='markers',\n",
    "                marker=dict(\n",
    "                    size=2,\n",
    "                    color=clusters.labels_,                # set color to an array/list of desired values\n",
    "                    colorscale='Viridis',   # choose a colorscale\n",
    "                    opacity=0.8\n",
    "                )\n",
    "            )\n",
    "\n",
    "            data = [source]\n",
    "            layout = go.Layout(\n",
    "                margin=dict(\n",
    "                    l=0,\n",
    "                    r=0,\n",
    "                    b=0,\n",
    "                    t=0\n",
    "                )\n",
    "            )\n",
    "            fig = go.Figure(data=data, layout=layout)\n",
    "            iplot(fig, filename='3d-scatter-colorscale')\n",
    "\n",
    "        payload = {\n",
    "            'params': {\n",
    "                'targetDim': targetDim,\n",
    "                'dimreduction': dimreduction,\n",
    "                'clustering': clustering,\n",
    "                'embedding': embedding,\n",
    "                'num_topics': num_topics,\n",
    "                'num_clusters': num_clusters,\n",
    "                'perplexity': perplexity,\n",
    "                'learning_rate': learning_rate\n",
    "            },\n",
    "            'project_data': [{'id':pid,'reducedpoint': reducedpoint, 'embpoint':embpoint, 'mappoint':mappoint, 'cluster':cluster, 'error':error, 'title': title, 'words': words} for pid, reducedpoint, embpoint, mappoint, cluster, error, title, words in zip(\n",
    "                mfndata.getIDs(),\n",
    "                tfs_reduced.tolist(),\n",
    "                tfs_embedded.tolist(),\n",
    "                tfs_mapped.tolist(),\n",
    "                clusters.labels_.tolist(),\n",
    "                similarity_to_cluster_centers.tolist(),\n",
    "                mfndata.getTitles(),\n",
    "                top_words\n",
    "\n",
    "            )],\n",
    "            'cluster_data': {\n",
    "                'cluster_words': cluster_words,\n",
    "                'cluster_colour': colours\n",
    "            },\n",
    "            'cluster_topography': np.flip(interpolated_topography.T, axis=0).flatten().tolist()\n",
    "        }\n",
    "        save(payload)\n",
    "    else:\n",
    "        with open(fake, 'r') as input_data:\n",
    "            payload = payload=json.load(input_data)\n",
    "    display(HTML(filename=\"scatter.css.html\"))\n",
    "    display(Javascript(\"require.config({paths: {d3: 'https://d3js.org/d3.v5.min'}});\"))\n",
    "    display(Javascript(filename=\"scatter.js\"))\n",
    "    draw_scatter(payload, width, height, viz)\n",
    "        \n"
   ]
  },
  {
   "cell_type": "code",
   "execution_count": null,
   "metadata": {
    "local_metadata": {
     "scrolled": false
    },
    "remote_metadata": {
     "scrolled": false,
     "tags": [
      "remove_cell"
     ]
    },
    "scrolled": false
   },
   "outputs": [],
   "source": [
    "def s(x,y):\n",
    "    return IntSlider(min=x,max=y, value=(y-x)//2, continuous_update=False)\n",
    "\n",
    "w = interactive(visualize,targetDim=s(2,3),tfs=fixed(docs_vectorized_doc2vec), dimreduction=['LSA', 'NMF', 'Autoencoder'], clustering=['KMEANS'], embedding=['LDA', 'tSNE'], num_topics=s(4,48), num_clusters=s(4,10), perplexity=s(5,50), learning_rate=s(100,1000),error=['silhouette', 'cluster_error'], interpolation=['linear', 'cubic', 'nearest'], viz=['scatter', 'linearized'], fake='')\n",
    "output = w.children[-1]\n",
    "#output.layout.height = '2000px'\n",
    "display(w)\n"
   ]
  },
  {
   "cell_type": "code",
   "execution_count": null,
   "metadata": {},
   "outputs": [],
   "source": []
  },
  {
   "cell_type": "code",
   "execution_count": null,
   "metadata": {},
   "outputs": [],
   "source": []
  },
  {
   "cell_type": "code",
   "execution_count": null,
   "metadata": {},
   "outputs": [],
   "source": []
  }
 ],
 "metadata": {
  "celltoolbar": "Tags",
  "kernelspec": {
   "display_name": "ikon",
   "language": "python",
   "name": "ikon"
  },
  "language_info": {
   "codemirror_mode": {
    "name": "ipython",
    "version": 3
   },
   "file_extension": ".py",
   "mimetype": "text/x-python",
   "name": "python",
   "nbconvert_exporter": "python",
   "pygments_lexer": "ipython3",
   "version": "3.6.8"
  }
 },
 "nbformat": 4,
 "nbformat_minor": 2
}
