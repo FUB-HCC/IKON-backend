{
 "cells": [
  {
   "cell_type": "markdown",
   "metadata": {},
   "source": [
    "# Topic extraction from the GEPRiS dataset and creation of an user-centric visualisation\n",
    "Author: Tim Korjakow        \n",
    "Summer term 2018      \n",
    "Freie Universität Berlin     \n",
    "Fachgebiet Human-Centered Computing"
   ]
  },
  {
   "cell_type": "markdown",
   "metadata": {},
   "source": [
    "![Process graph](nlpflowchart.svg)"
   ]
  },
  {
   "cell_type": "code",
   "execution_count": 1,
   "metadata": {},
   "outputs": [
    {
     "data": {
      "text/html": [
       "\n",
       "    <div class=\"bk-root\">\n",
       "        <a href=\"https://bokeh.pydata.org\" target=\"_blank\" class=\"bk-logo bk-logo-small bk-logo-notebook\"></a>\n",
       "        <span id=\"1001\">Loading BokehJS ...</span>\n",
       "    </div>"
      ]
     },
     "metadata": {},
     "output_type": "display_data"
    },
    {
     "data": {
      "application/javascript": [
       "\n",
       "(function(root) {\n",
       "  function now() {\n",
       "    return new Date();\n",
       "  }\n",
       "\n",
       "  var force = true;\n",
       "\n",
       "  if (typeof (root._bokeh_onload_callbacks) === \"undefined\" || force === true) {\n",
       "    root._bokeh_onload_callbacks = [];\n",
       "    root._bokeh_is_loading = undefined;\n",
       "  }\n",
       "\n",
       "  var JS_MIME_TYPE = 'application/javascript';\n",
       "  var HTML_MIME_TYPE = 'text/html';\n",
       "  var EXEC_MIME_TYPE = 'application/vnd.bokehjs_exec.v0+json';\n",
       "  var CLASS_NAME = 'output_bokeh rendered_html';\n",
       "\n",
       "  /**\n",
       "   * Render data to the DOM node\n",
       "   */\n",
       "  function render(props, node) {\n",
       "    var script = document.createElement(\"script\");\n",
       "    node.appendChild(script);\n",
       "  }\n",
       "\n",
       "  /**\n",
       "   * Handle when an output is cleared or removed\n",
       "   */\n",
       "  function handleClearOutput(event, handle) {\n",
       "    var cell = handle.cell;\n",
       "\n",
       "    var id = cell.output_area._bokeh_element_id;\n",
       "    var server_id = cell.output_area._bokeh_server_id;\n",
       "    // Clean up Bokeh references\n",
       "    if (id != null && id in Bokeh.index) {\n",
       "      Bokeh.index[id].model.document.clear();\n",
       "      delete Bokeh.index[id];\n",
       "    }\n",
       "\n",
       "    if (server_id !== undefined) {\n",
       "      // Clean up Bokeh references\n",
       "      var cmd = \"from bokeh.io.state import curstate; print(curstate().uuid_to_server['\" + server_id + \"'].get_sessions()[0].document.roots[0]._id)\";\n",
       "      cell.notebook.kernel.execute(cmd, {\n",
       "        iopub: {\n",
       "          output: function(msg) {\n",
       "            var id = msg.content.text.trim();\n",
       "            if (id in Bokeh.index) {\n",
       "              Bokeh.index[id].model.document.clear();\n",
       "              delete Bokeh.index[id];\n",
       "            }\n",
       "          }\n",
       "        }\n",
       "      });\n",
       "      // Destroy server and session\n",
       "      var cmd = \"import bokeh.io.notebook as ion; ion.destroy_server('\" + server_id + \"')\";\n",
       "      cell.notebook.kernel.execute(cmd);\n",
       "    }\n",
       "  }\n",
       "\n",
       "  /**\n",
       "   * Handle when a new output is added\n",
       "   */\n",
       "  function handleAddOutput(event, handle) {\n",
       "    var output_area = handle.output_area;\n",
       "    var output = handle.output;\n",
       "\n",
       "    // limit handleAddOutput to display_data with EXEC_MIME_TYPE content only\n",
       "    if ((output.output_type != \"display_data\") || (!output.data.hasOwnProperty(EXEC_MIME_TYPE))) {\n",
       "      return\n",
       "    }\n",
       "\n",
       "    var toinsert = output_area.element.find(\".\" + CLASS_NAME.split(' ')[0]);\n",
       "\n",
       "    if (output.metadata[EXEC_MIME_TYPE][\"id\"] !== undefined) {\n",
       "      toinsert[toinsert.length - 1].firstChild.textContent = output.data[JS_MIME_TYPE];\n",
       "      // store reference to embed id on output_area\n",
       "      output_area._bokeh_element_id = output.metadata[EXEC_MIME_TYPE][\"id\"];\n",
       "    }\n",
       "    if (output.metadata[EXEC_MIME_TYPE][\"server_id\"] !== undefined) {\n",
       "      var bk_div = document.createElement(\"div\");\n",
       "      bk_div.innerHTML = output.data[HTML_MIME_TYPE];\n",
       "      var script_attrs = bk_div.children[0].attributes;\n",
       "      for (var i = 0; i < script_attrs.length; i++) {\n",
       "        toinsert[toinsert.length - 1].firstChild.setAttribute(script_attrs[i].name, script_attrs[i].value);\n",
       "      }\n",
       "      // store reference to server id on output_area\n",
       "      output_area._bokeh_server_id = output.metadata[EXEC_MIME_TYPE][\"server_id\"];\n",
       "    }\n",
       "  }\n",
       "\n",
       "  function register_renderer(events, OutputArea) {\n",
       "\n",
       "    function append_mime(data, metadata, element) {\n",
       "      // create a DOM node to render to\n",
       "      var toinsert = this.create_output_subarea(\n",
       "        metadata,\n",
       "        CLASS_NAME,\n",
       "        EXEC_MIME_TYPE\n",
       "      );\n",
       "      this.keyboard_manager.register_events(toinsert);\n",
       "      // Render to node\n",
       "      var props = {data: data, metadata: metadata[EXEC_MIME_TYPE]};\n",
       "      render(props, toinsert[toinsert.length - 1]);\n",
       "      element.append(toinsert);\n",
       "      return toinsert\n",
       "    }\n",
       "\n",
       "    /* Handle when an output is cleared or removed */\n",
       "    events.on('clear_output.CodeCell', handleClearOutput);\n",
       "    events.on('delete.Cell', handleClearOutput);\n",
       "\n",
       "    /* Handle when a new output is added */\n",
       "    events.on('output_added.OutputArea', handleAddOutput);\n",
       "\n",
       "    /**\n",
       "     * Register the mime type and append_mime function with output_area\n",
       "     */\n",
       "    OutputArea.prototype.register_mime_type(EXEC_MIME_TYPE, append_mime, {\n",
       "      /* Is output safe? */\n",
       "      safe: true,\n",
       "      /* Index of renderer in `output_area.display_order` */\n",
       "      index: 0\n",
       "    });\n",
       "  }\n",
       "\n",
       "  // register the mime type if in Jupyter Notebook environment and previously unregistered\n",
       "  if (root.Jupyter !== undefined) {\n",
       "    var events = require('base/js/events');\n",
       "    var OutputArea = require('notebook/js/outputarea').OutputArea;\n",
       "\n",
       "    if (OutputArea.prototype.mime_types().indexOf(EXEC_MIME_TYPE) == -1) {\n",
       "      register_renderer(events, OutputArea);\n",
       "    }\n",
       "  }\n",
       "\n",
       "  \n",
       "  if (typeof (root._bokeh_timeout) === \"undefined\" || force === true) {\n",
       "    root._bokeh_timeout = Date.now() + 5000;\n",
       "    root._bokeh_failed_load = false;\n",
       "  }\n",
       "\n",
       "  var NB_LOAD_WARNING = {'data': {'text/html':\n",
       "     \"<div style='background-color: #fdd'>\\n\"+\n",
       "     \"<p>\\n\"+\n",
       "     \"BokehJS does not appear to have successfully loaded. If loading BokehJS from CDN, this \\n\"+\n",
       "     \"may be due to a slow or bad network connection. Possible fixes:\\n\"+\n",
       "     \"</p>\\n\"+\n",
       "     \"<ul>\\n\"+\n",
       "     \"<li>re-rerun `output_notebook()` to attempt to load from CDN again, or</li>\\n\"+\n",
       "     \"<li>use INLINE resources instead, as so:</li>\\n\"+\n",
       "     \"</ul>\\n\"+\n",
       "     \"<code>\\n\"+\n",
       "     \"from bokeh.resources import INLINE\\n\"+\n",
       "     \"output_notebook(resources=INLINE)\\n\"+\n",
       "     \"</code>\\n\"+\n",
       "     \"</div>\"}};\n",
       "\n",
       "  function display_loaded() {\n",
       "    var el = document.getElementById(\"1001\");\n",
       "    if (el != null) {\n",
       "      el.textContent = \"BokehJS is loading...\";\n",
       "    }\n",
       "    if (root.Bokeh !== undefined) {\n",
       "      if (el != null) {\n",
       "        el.textContent = \"BokehJS \" + root.Bokeh.version + \" successfully loaded.\";\n",
       "      }\n",
       "    } else if (Date.now() < root._bokeh_timeout) {\n",
       "      setTimeout(display_loaded, 100)\n",
       "    }\n",
       "  }\n",
       "\n",
       "\n",
       "  function run_callbacks() {\n",
       "    try {\n",
       "      root._bokeh_onload_callbacks.forEach(function(callback) { callback() });\n",
       "    }\n",
       "    finally {\n",
       "      delete root._bokeh_onload_callbacks\n",
       "    }\n",
       "    console.info(\"Bokeh: all callbacks have finished\");\n",
       "  }\n",
       "\n",
       "  function load_libs(js_urls, callback) {\n",
       "    root._bokeh_onload_callbacks.push(callback);\n",
       "    if (root._bokeh_is_loading > 0) {\n",
       "      console.log(\"Bokeh: BokehJS is being loaded, scheduling callback at\", now());\n",
       "      return null;\n",
       "    }\n",
       "    if (js_urls == null || js_urls.length === 0) {\n",
       "      run_callbacks();\n",
       "      return null;\n",
       "    }\n",
       "    console.log(\"Bokeh: BokehJS not loaded, scheduling load and callback at\", now());\n",
       "    root._bokeh_is_loading = js_urls.length;\n",
       "    for (var i = 0; i < js_urls.length; i++) {\n",
       "      var url = js_urls[i];\n",
       "      var s = document.createElement('script');\n",
       "      s.src = url;\n",
       "      s.async = false;\n",
       "      s.onreadystatechange = s.onload = function() {\n",
       "        root._bokeh_is_loading--;\n",
       "        if (root._bokeh_is_loading === 0) {\n",
       "          console.log(\"Bokeh: all BokehJS libraries loaded\");\n",
       "          run_callbacks()\n",
       "        }\n",
       "      };\n",
       "      s.onerror = function() {\n",
       "        console.warn(\"failed to load library \" + url);\n",
       "      };\n",
       "      console.log(\"Bokeh: injecting script tag for BokehJS library: \", url);\n",
       "      document.getElementsByTagName(\"head\")[0].appendChild(s);\n",
       "    }\n",
       "  };var element = document.getElementById(\"1001\");\n",
       "  if (element == null) {\n",
       "    console.log(\"Bokeh: ERROR: autoload.js configured with elementid '1001' but no matching script tag was found. \")\n",
       "    return false;\n",
       "  }\n",
       "\n",
       "  var js_urls = [\"https://cdn.pydata.org/bokeh/release/bokeh-1.0.1.min.js\", \"https://cdn.pydata.org/bokeh/release/bokeh-widgets-1.0.1.min.js\", \"https://cdn.pydata.org/bokeh/release/bokeh-tables-1.0.1.min.js\", \"https://cdn.pydata.org/bokeh/release/bokeh-gl-1.0.1.min.js\"];\n",
       "\n",
       "  var inline_js = [\n",
       "    function(Bokeh) {\n",
       "      Bokeh.set_log_level(\"info\");\n",
       "    },\n",
       "    \n",
       "    function(Bokeh) {\n",
       "      \n",
       "    },\n",
       "    function(Bokeh) {\n",
       "      console.log(\"Bokeh: injecting CSS: https://cdn.pydata.org/bokeh/release/bokeh-1.0.1.min.css\");\n",
       "      Bokeh.embed.inject_css(\"https://cdn.pydata.org/bokeh/release/bokeh-1.0.1.min.css\");\n",
       "      console.log(\"Bokeh: injecting CSS: https://cdn.pydata.org/bokeh/release/bokeh-widgets-1.0.1.min.css\");\n",
       "      Bokeh.embed.inject_css(\"https://cdn.pydata.org/bokeh/release/bokeh-widgets-1.0.1.min.css\");\n",
       "      console.log(\"Bokeh: injecting CSS: https://cdn.pydata.org/bokeh/release/bokeh-tables-1.0.1.min.css\");\n",
       "      Bokeh.embed.inject_css(\"https://cdn.pydata.org/bokeh/release/bokeh-tables-1.0.1.min.css\");\n",
       "    }\n",
       "  ];\n",
       "\n",
       "  function run_inline_js() {\n",
       "    \n",
       "    if ((root.Bokeh !== undefined) || (force === true)) {\n",
       "      for (var i = 0; i < inline_js.length; i++) {\n",
       "        inline_js[i].call(root, root.Bokeh);\n",
       "      }if (force === true) {\n",
       "        display_loaded();\n",
       "      }} else if (Date.now() < root._bokeh_timeout) {\n",
       "      setTimeout(run_inline_js, 100);\n",
       "    } else if (!root._bokeh_failed_load) {\n",
       "      console.log(\"Bokeh: BokehJS failed to load within specified timeout.\");\n",
       "      root._bokeh_failed_load = true;\n",
       "    } else if (force !== true) {\n",
       "      var cell = $(document.getElementById(\"1001\")).parents('.cell').data().cell;\n",
       "      cell.output_area.append_execute_result(NB_LOAD_WARNING)\n",
       "    }\n",
       "\n",
       "  }\n",
       "\n",
       "  if (root._bokeh_is_loading === 0) {\n",
       "    console.log(\"Bokeh: BokehJS loaded, going straight to plotting\");\n",
       "    run_inline_js();\n",
       "  } else {\n",
       "    load_libs(js_urls, function() {\n",
       "      console.log(\"Bokeh: BokehJS plotting callback run at\", now());\n",
       "      run_inline_js();\n",
       "    });\n",
       "  }\n",
       "}(window));"
      ],
      "application/vnd.bokehjs_load.v0+json": "\n(function(root) {\n  function now() {\n    return new Date();\n  }\n\n  var force = true;\n\n  if (typeof (root._bokeh_onload_callbacks) === \"undefined\" || force === true) {\n    root._bokeh_onload_callbacks = [];\n    root._bokeh_is_loading = undefined;\n  }\n\n  \n\n  \n  if (typeof (root._bokeh_timeout) === \"undefined\" || force === true) {\n    root._bokeh_timeout = Date.now() + 5000;\n    root._bokeh_failed_load = false;\n  }\n\n  var NB_LOAD_WARNING = {'data': {'text/html':\n     \"<div style='background-color: #fdd'>\\n\"+\n     \"<p>\\n\"+\n     \"BokehJS does not appear to have successfully loaded. If loading BokehJS from CDN, this \\n\"+\n     \"may be due to a slow or bad network connection. Possible fixes:\\n\"+\n     \"</p>\\n\"+\n     \"<ul>\\n\"+\n     \"<li>re-rerun `output_notebook()` to attempt to load from CDN again, or</li>\\n\"+\n     \"<li>use INLINE resources instead, as so:</li>\\n\"+\n     \"</ul>\\n\"+\n     \"<code>\\n\"+\n     \"from bokeh.resources import INLINE\\n\"+\n     \"output_notebook(resources=INLINE)\\n\"+\n     \"</code>\\n\"+\n     \"</div>\"}};\n\n  function display_loaded() {\n    var el = document.getElementById(\"1001\");\n    if (el != null) {\n      el.textContent = \"BokehJS is loading...\";\n    }\n    if (root.Bokeh !== undefined) {\n      if (el != null) {\n        el.textContent = \"BokehJS \" + root.Bokeh.version + \" successfully loaded.\";\n      }\n    } else if (Date.now() < root._bokeh_timeout) {\n      setTimeout(display_loaded, 100)\n    }\n  }\n\n\n  function run_callbacks() {\n    try {\n      root._bokeh_onload_callbacks.forEach(function(callback) { callback() });\n    }\n    finally {\n      delete root._bokeh_onload_callbacks\n    }\n    console.info(\"Bokeh: all callbacks have finished\");\n  }\n\n  function load_libs(js_urls, callback) {\n    root._bokeh_onload_callbacks.push(callback);\n    if (root._bokeh_is_loading > 0) {\n      console.log(\"Bokeh: BokehJS is being loaded, scheduling callback at\", now());\n      return null;\n    }\n    if (js_urls == null || js_urls.length === 0) {\n      run_callbacks();\n      return null;\n    }\n    console.log(\"Bokeh: BokehJS not loaded, scheduling load and callback at\", now());\n    root._bokeh_is_loading = js_urls.length;\n    for (var i = 0; i < js_urls.length; i++) {\n      var url = js_urls[i];\n      var s = document.createElement('script');\n      s.src = url;\n      s.async = false;\n      s.onreadystatechange = s.onload = function() {\n        root._bokeh_is_loading--;\n        if (root._bokeh_is_loading === 0) {\n          console.log(\"Bokeh: all BokehJS libraries loaded\");\n          run_callbacks()\n        }\n      };\n      s.onerror = function() {\n        console.warn(\"failed to load library \" + url);\n      };\n      console.log(\"Bokeh: injecting script tag for BokehJS library: \", url);\n      document.getElementsByTagName(\"head\")[0].appendChild(s);\n    }\n  };var element = document.getElementById(\"1001\");\n  if (element == null) {\n    console.log(\"Bokeh: ERROR: autoload.js configured with elementid '1001' but no matching script tag was found. \")\n    return false;\n  }\n\n  var js_urls = [\"https://cdn.pydata.org/bokeh/release/bokeh-1.0.1.min.js\", \"https://cdn.pydata.org/bokeh/release/bokeh-widgets-1.0.1.min.js\", \"https://cdn.pydata.org/bokeh/release/bokeh-tables-1.0.1.min.js\", \"https://cdn.pydata.org/bokeh/release/bokeh-gl-1.0.1.min.js\"];\n\n  var inline_js = [\n    function(Bokeh) {\n      Bokeh.set_log_level(\"info\");\n    },\n    \n    function(Bokeh) {\n      \n    },\n    function(Bokeh) {\n      console.log(\"Bokeh: injecting CSS: https://cdn.pydata.org/bokeh/release/bokeh-1.0.1.min.css\");\n      Bokeh.embed.inject_css(\"https://cdn.pydata.org/bokeh/release/bokeh-1.0.1.min.css\");\n      console.log(\"Bokeh: injecting CSS: https://cdn.pydata.org/bokeh/release/bokeh-widgets-1.0.1.min.css\");\n      Bokeh.embed.inject_css(\"https://cdn.pydata.org/bokeh/release/bokeh-widgets-1.0.1.min.css\");\n      console.log(\"Bokeh: injecting CSS: https://cdn.pydata.org/bokeh/release/bokeh-tables-1.0.1.min.css\");\n      Bokeh.embed.inject_css(\"https://cdn.pydata.org/bokeh/release/bokeh-tables-1.0.1.min.css\");\n    }\n  ];\n\n  function run_inline_js() {\n    \n    if ((root.Bokeh !== undefined) || (force === true)) {\n      for (var i = 0; i < inline_js.length; i++) {\n        inline_js[i].call(root, root.Bokeh);\n      }if (force === true) {\n        display_loaded();\n      }} else if (Date.now() < root._bokeh_timeout) {\n      setTimeout(run_inline_js, 100);\n    } else if (!root._bokeh_failed_load) {\n      console.log(\"Bokeh: BokehJS failed to load within specified timeout.\");\n      root._bokeh_failed_load = true;\n    } else if (force !== true) {\n      var cell = $(document.getElementById(\"1001\")).parents('.cell').data().cell;\n      cell.output_area.append_execute_result(NB_LOAD_WARNING)\n    }\n\n  }\n\n  if (root._bokeh_is_loading === 0) {\n    console.log(\"Bokeh: BokehJS loaded, going straight to plotting\");\n    run_inline_js();\n  } else {\n    load_libs(js_urls, function() {\n      console.log(\"Bokeh: BokehJS plotting callback run at\", now());\n      run_inline_js();\n    });\n  }\n}(window));"
     },
     "metadata": {},
     "output_type": "display_data"
    },
    {
     "data": {
      "text/html": [
       "<script type=\"text/javascript\">window.PlotlyConfig = {MathJaxConfig: 'local'};</script><script type=\"text/javascript\">if (window.MathJax) {MathJax.Hub.Config({SVG: {font: \"STIX-Web\"}});}</script><script>requirejs.config({paths: { 'plotly': ['https://cdn.plot.ly/plotly-latest.min']},});if(!window._Plotly) {require(['plotly'],function(plotly) {window._Plotly=plotly;});}</script>"
      ],
      "text/vnd.plotly.v1+html": [
       "<script type=\"text/javascript\">window.PlotlyConfig = {MathJaxConfig: 'local'};</script><script type=\"text/javascript\">if (window.MathJax) {MathJax.Hub.Config({SVG: {font: \"STIX-Web\"}});}</script><script>requirejs.config({paths: { 'plotly': ['https://cdn.plot.ly/plotly-latest.min']},});if(!window._Plotly) {require(['plotly'],function(plotly) {window._Plotly=plotly;});}</script>"
      ]
     },
     "metadata": {},
     "output_type": "display_data"
    }
   ],
   "source": [
    "import time\n",
    "import json\n",
    "import spacy\n",
    "import regex as re\n",
    "from langdetect import detect\n",
    "from sklearn.feature_extraction.text import TfidfVectorizer\n",
    "from sklearn.decomposition import TruncatedSVD\n",
    "from sklearn.decomposition import NMF as NonnegativeMatrixFactorization\n",
    "from sklearn.cluster import KMeans\n",
    "from sklearn.discriminant_analysis import LinearDiscriminantAnalysis\n",
    "from sklearn.manifold import TSNE\n",
    "from MulticoreTSNE import MulticoreTSNE\n",
    "import numpy as np\n",
    "\n",
    "from ipywidgets import interact, interactive, fixed, interact_manual, IntSlider\n",
    "import ipywidgets as widgets\n",
    "from IPython.display import display\n",
    "\n",
    "from bokeh.io import output_notebook, show\n",
    "from bokeh.plotting import figure, ColumnDataSource\n",
    "from bokeh.palettes import d3\n",
    "output_notebook()\n",
    "\n",
    "from plotly.offline import download_plotlyjs, init_notebook_mode, plot, iplot\n",
    "import plotly.graph_objs as go\n",
    "init_notebook_mode(connected=True) # for offline mode use\n",
    "\n",
    "#initialize profiler\n",
    "%load_ext line_profiler"
   ]
  },
  {
   "cell_type": "markdown",
   "metadata": {},
   "source": [
    "## Loading and Cleaning\n",
    "The first step in every NLP project which works with texts is always the preparation of the input data. In this example the Project dump from GEPRIS is loaded and the project descriptions are extracted. After that the texts get cleaned by removing all non-alphabetic chars and all stopwords from the texts. English texts are getting filtered in oder to make the analysis simpler and more comparable."
   ]
  },
  {
   "cell_type": "code",
   "execution_count": 2,
   "metadata": {},
   "outputs": [],
   "source": [
    "def loadProjects():\n",
    "    with open('../../../assets/data/project_output/projects.json', 'r') as datafile:\n",
    "        return json.load(datafile)\n",
    "\n",
    "def loadGermanStopwords():\n",
    "    with open('../../../assets/data/nlp/stopwords_de.json', 'r') as datafile:\n",
    "        return json.load(datafile)\n",
    "\n",
    "def loadEnglishStopwords():\n",
    "    with open('../../../assets/data/nlp/stopwords_eng.json', 'r') as datafile:\n",
    "        return json.load(datafile)\n",
    "\n",
    "def cleanProjectTexts():\n",
    "    cleanedProjectTexts = {}\n",
    "    stopwordsDE = set(loadGermanStopwords())\n",
    "    for project in loadProjects():\n",
    "        if detect(project['abstract']) == 'de':\n",
    "            letters_only = re.sub('[^\\w]', ' ', project['abstract'])\n",
    "            words = letters_only.lower().split()\n",
    "            usefulWords = [x for x in words if not (x in stopwordsDE)]\n",
    "            cleanedProjectTexts[project['id']] = ' '.join(usefulWords)\n",
    "    return cleanedProjectTexts"
   ]
  },
  {
   "cell_type": "markdown",
   "metadata": {},
   "source": [
    "## TF-IDF computation\n",
    "*Summary*:\n",
    "This technique vectorizes a corpus, e.g. a collection of documents, by counting all appearences of words in the corpus and computing the tf-idf measure for each document, word pair.\n",
    "\n",
    "*In-depth explanation*:"
   ]
  },
  {
   "cell_type": "code",
   "execution_count": 3,
   "metadata": {},
   "outputs": [],
   "source": [
    "nlp = spacy.load('de')\n",
    "def lemmatize(text):\n",
    "    return nlp(text)\n",
    "\n",
    "def TfIdf(dict):\n",
    "    start = time.time()\n",
    "    tfidf_vectorizer = TfidfVectorizer(tokenizer=lemmatize)\n",
    "    tfs = tfidf_vectorizer.fit_transform(list(dict.values()))\n",
    "    print('TFIDF execution time: ', time.time() - start)\n",
    "    return (tfidf_vectorizer, tfs)"
   ]
  },
  {
   "cell_type": "code",
   "execution_count": 4,
   "metadata": {},
   "outputs": [
    {
     "name": "stdout",
     "output_type": "stream",
     "text": [
      "TFIDF execution time:  4.929312467575073\n"
     ]
    }
   ],
   "source": [
    "tfidf_vectorizer, tfs = TfIdf(cleanProjectTexts())"
   ]
  },
  {
   "cell_type": "markdown",
   "metadata": {},
   "source": [
    "# Topic extraction"
   ]
  },
  {
   "cell_type": "markdown",
   "metadata": {},
   "source": [
    "## Latent Semantic Analysis\n",
    "*Summary*:\n",
    "The LSA transforms an corpus from its word space given by the tf-idf matrice into its semantic space. In this semantic space the dimensions denote topics in the corpus and every document vector is a linear combination of all the implicitly extracted topics.\n",
    "\n",
    "*In-depth explanation*:"
   ]
  },
  {
   "cell_type": "code",
   "execution_count": 5,
   "metadata": {},
   "outputs": [],
   "source": [
    "def LSA(tfs,num_topics=40):\n",
    "    start = time.time()\n",
    "    lsa = TruncatedSVD(n_components=num_topics, random_state=0).fit(tfs)\n",
    "    print('LSA execution time: ', time.time() - start)\n",
    "    \n",
    "    #tfidf_feature_names = [str(token) for token in tfidf_vectorizer.get_feature_names()]\n",
    "    #print_top_words(lsa, tfidf_feature_names, 10)\n",
    "    return lsa.transform(tfs), lsa"
   ]
  },
  {
   "cell_type": "markdown",
   "metadata": {},
   "source": [
    "## Non-negative matrix factorisation\n",
    "Summary: **Coming soon**\n",
    "\n",
    "In-depth explanation:"
   ]
  },
  {
   "cell_type": "code",
   "execution_count": 6,
   "metadata": {},
   "outputs": [],
   "source": [
    "def NMF(tfs,num_topics=40):\n",
    "    start = time.time()\n",
    "    nmf = NonnegativeMatrixFactorization(n_components=num_topics, init='random', random_state=0)\n",
    "    nmf.fit(tfs)    \n",
    "    print('NMF execution time: ', time.time() - start)\n",
    "    \n",
    "    #\n",
    "    #print_top_words(nmf, tfidf_feature_names, 10)\n",
    "    return nmf.transform(tfs), nmf"
   ]
  },
  {
   "cell_type": "markdown",
   "metadata": {},
   "source": [
    "### Get top words for each dimension\n",
    "In order to get the words which are most important for each dimension (which correspond to topics), the standard basis in the topic space is converted back into the word space. These are exactly the eigenvectors of data. Now the top n biggest entries and their corresponding words form the top words."
   ]
  },
  {
   "cell_type": "code",
   "execution_count": 7,
   "metadata": {},
   "outputs": [],
   "source": [
    "def get_top_words_dim(model, feature_names, n_top_words):\n",
    "    dim_topics = {}\n",
    "    for topic_idx, topic in enumerate(model.components_):\n",
    "        dim_topics[topic_idx] = [feature_names[i]\n",
    "                        for i in topic.argsort()[:-n_top_words - 1:-1]]\n",
    "    return dim_topics"
   ]
  },
  {
   "cell_type": "markdown",
   "metadata": {},
   "source": [
    "# Clustering"
   ]
  },
  {
   "cell_type": "markdown",
   "metadata": {},
   "source": [
    "## K-Means\n",
    "Summary: Given a clustering the LDA can be used to find a projection into a lower dimensional space which maximizes inter-class variance and minimizes intra-class variance. This leads to neater cluster, but is grounded in the hypotheses that the clusters have some real semantic meaning. Otherwise it may enforce preexisting biases.\n",
    "\n",
    "In-depth explanation:"
   ]
  },
  {
   "cell_type": "code",
   "execution_count": 8,
   "metadata": {},
   "outputs": [],
   "source": [
    "def clusterNumberHeuristic(tfs):\n",
    "    return (tfs.shape[0]*tfs.shape[1])//tfs.count_nonzero()\n",
    "\n",
    "def cluster(tfs_reduced, num_topics=10):\n",
    "    start = time.time()\n",
    "    km = KMeans(n_clusters=num_topics).fit(tfs_reduced)\n",
    "    print('Clustering execution time: ', time.time() - start)\n",
    "    return km"
   ]
  },
  {
   "cell_type": "markdown",
   "metadata": {},
   "source": [
    "### Get top words for each cluster\n",
    "The process is similar to the one for getting the top words for each dimension. But in this case the cluster centers from the clustering step are transformed back into the word space and analysed. This is based on the assumption that the cluster center represents the set of all documents in the corrsponding cluster."
   ]
  },
  {
   "cell_type": "code",
   "execution_count": 9,
   "metadata": {},
   "outputs": [],
   "source": [
    "def get_top_words_cluster(model, clustering_centers, feature_names, n_top_words):\n",
    "    cluster_topics = {}\n",
    "    word_space_cluster_centers = model.inverse_transform(clustering_centers)\n",
    "    for i, word_space_cluster in enumerate(word_space_cluster_centers):\n",
    "        cluster_topics[i] = [feature_names[j]\n",
    "                        for j in word_space_cluster.argsort()[:-n_top_words - 1:-1]]\n",
    "    return cluster_topics"
   ]
  },
  {
   "cell_type": "markdown",
   "metadata": {},
   "source": [
    "# Embedding into 2D"
   ]
  },
  {
   "cell_type": "markdown",
   "metadata": {},
   "source": [
    "## Linear Discriminant Analysis\n",
    "*Summary*:\n",
    "Given a clustering the LDA can be used to find a projection into a lower dimensional space which maximizes inter-class variance and minimizes intra-class variance. This leads to neater cluster, but is grounded in the hypotheses that the clusters have some real semantic meaning. Otherwise it may enforce preexisting biases.\n",
    "\n",
    "*In-depth explanation*:"
   ]
  },
  {
   "cell_type": "code",
   "execution_count": 10,
   "metadata": {},
   "outputs": [],
   "source": [
    "def dimReductionLDA(tfs_reduced, clusters, targetDim=2):\n",
    "    start = time.time()\n",
    "    tfs_2d = LinearDiscriminantAnalysis(n_components=targetDim).fit(tfs_reduced, clusters.labels_).transform(tfs_reduced)\n",
    "    print('LDA execution time: ', time.time() - start)\n",
    "    return tfs_2d"
   ]
  },
  {
   "cell_type": "markdown",
   "metadata": {},
   "source": [
    "## tSNE\n",
    "*Summary*:\n",
    "\n",
    "\n",
    "*In-depth explanation*:"
   ]
  },
  {
   "cell_type": "code",
   "execution_count": 11,
   "metadata": {},
   "outputs": [],
   "source": [
    "def dimReductiontSNE(tfs_reduced, perplexity=30, learning_rate=100, targetDim=2):\n",
    "    start = time.time()\n",
    "    tfs_2d = (MulticoreTSNE(n_jobs=8, n_components=targetDim, perplexity=perplexity, learning_rate=learning_rate) if targetDim ==2 else TSNE(n_components=targetDim, perplexity=perplexity, learning_rate=learning_rate)).fit_transform(tfs_reduced)\n",
    "    print('tSNE execution time: ', time.time() - start)\n",
    "    return tfs_2d"
   ]
  },
  {
   "cell_type": "markdown",
   "metadata": {},
   "source": [
    "# Analysis"
   ]
  },
  {
   "cell_type": "code",
   "execution_count": 12,
   "metadata": {},
   "outputs": [],
   "source": [
    "def save(payload):\n",
    "    with open('dump.json', 'w') as dumpfile:\n",
    "        json.dump(payload, dumpfile)"
   ]
  },
  {
   "cell_type": "code",
   "execution_count": 13,
   "metadata": {},
   "outputs": [],
   "source": [
    "def visualize(targetDim=2,tfs=None,dimreduction='LSA', clustering='KMEANS', embedding='LDA', num_topics=20, num_clusters=3, perplexity=5, learning_rate=200 ):\n",
    "    \n",
    "    if dimreduction == 'LSA':\n",
    "        tfs_reduced, model = LSA(tfs, num_topics=num_topics)\n",
    "    elif dimreduction == 'NMF':\n",
    "        tfs_reduced, model = NMF(tfs, num_topics=num_topics)\n",
    "    else:\n",
    "        return 'No dimensionality reduction technique was selected!'\n",
    "    \n",
    "    if clustering == 'KMEANS':\n",
    "        clusters = cluster(tfs_reduced, num_topics=num_clusters)\n",
    "    else:\n",
    "        return 'No clustering technique was selected!'\n",
    "    \n",
    "    if embedding == 'LDA':\n",
    "        tfs_embedded = dimReductionLDA(tfs_reduced, clusters=clusters, targetDim=targetDim)\n",
    "    elif embedding == 'tSNE':\n",
    "        tfs_embedded = dimReductiontSNE(tfs_reduced, perplexity=perplexity, learning_rate=learning_rate, targetDim=targetDim)\n",
    "    else:\n",
    "        return 'No dimensionality reduction technique was selected!'\n",
    "    \n",
    "    tfidf_feature_names = [str(token) for token in tfidf_vectorizer.get_feature_names()]\n",
    "    [print(i, words) for i, words in get_top_words_cluster(model, clusters.cluster_centers_, tfidf_feature_names, 5).items()]\n",
    "    \n",
    "    if targetDim == 2:\n",
    "        # configure bokeh plot                   \n",
    "        source = ColumnDataSource(data=dict(\n",
    "            x=tfs_embedded[:, 0],\n",
    "            y=tfs_embedded[:, 1],\n",
    "            ids=list(cleanProjectTexts().keys()),\n",
    "            titles= [next((project['title'] for project in loadProjects() if project['id'] == key), ['None']) for key in cleanProjectTexts().keys()],\n",
    "            colours=np.array(d3['Category20'][num_clusters])[clusters.labels_]\n",
    "        ))\n",
    "\n",
    "        TOOLTIPS = [\n",
    "            (\"index\", \"$index\"),\n",
    "            (\"id\", \"@ids\"),\n",
    "            (\"title\", \"@titles\"),\n",
    "        ]\n",
    "\n",
    "        p = figure(plot_width=800, plot_height=800, title=None, toolbar_location=\"below\", tooltips=TOOLTIPS)\n",
    "        p.scatter('x', 'y', size=10,color='colours', source=source)\n",
    "        show(p)\n",
    "    else:\n",
    "        trace1 = go.Scatter3d(\n",
    "            x=tfs_embedded[:, 0],\n",
    "            y=tfs_embedded[:, 1],\n",
    "            z=tfs_embedded[:, 2],\n",
    "            mode='markers',\n",
    "            marker=dict(\n",
    "                size=12,\n",
    "                color=clusters.labels_,                # set color to an array/list of desired values\n",
    "                colorscale='Viridis',   # choose a colorscale\n",
    "                opacity=0.8\n",
    "            )\n",
    "        )\n",
    "\n",
    "        data = [trace1]\n",
    "        layout = go.Layout(\n",
    "            margin=dict(\n",
    "                l=0,\n",
    "                r=0,\n",
    "                b=0,\n",
    "                t=0\n",
    "            )\n",
    "        )\n",
    "        fig = go.Figure(data=data, layout=layout)\n",
    "        iplot(fig, filename='3d-scatter-colorscale')\n",
    "    \n",
    "    payload = {\n",
    "        'params': {\n",
    "            'targetDim': targetDim,\n",
    "            'dimreduction': dimreduction,\n",
    "            'clustering': clustering,\n",
    "            'embedding': embedding,\n",
    "            'num_topics': num_topics,\n",
    "            'num_clusters': num_clusters,\n",
    "            'perplexity': perplexity,\n",
    "            'learning_rate': learning_rate\n",
    "        },\n",
    "        'data': {\n",
    "            'points': tfs_embedded.tolist(),\n",
    "            'clusters': clusters.labels_.tolist()\n",
    "        }\n",
    "    }\n",
    "    save(payload)\n",
    "        \n"
   ]
  },
  {
   "cell_type": "code",
   "execution_count": 14,
   "metadata": {
    "scrolled": false
   },
   "outputs": [
    {
     "name": "stderr",
     "output_type": "stream",
     "text": [
      "/home/tim/.local/share/virtualenvs/rpcserver-R6dNBFY-/lib/python3.6/site-packages/scipy/sparse/compressed.py:226: SparseEfficiencyWarning:\n",
      "\n",
      "Comparing sparse matrices using == is inefficient, try using != instead.\n",
      "\n"
     ]
    },
    {
     "data": {
      "application/vnd.jupyter.widget-view+json": {
       "model_id": "90e29e0b33e3456a9126abaa92bfb7cc",
       "version_major": 2,
       "version_minor": 0
      },
      "text/plain": [
       "interactive(children=(IntSlider(value=2, continuous_update=False, description='targetDim', max=3, min=2), Drop…"
      ]
     },
     "metadata": {},
     "output_type": "display_data"
    }
   ],
   "source": [
    "def s(x,y):\n",
    "    return IntSlider(min=x,max=y, value=(y-x)//2, continuous_update=False)\n",
    "\n",
    "w = interactive(visualize,targetDim=s(2,3),tfs=fixed(tfs), dimreduction=['LSA', 'NMF'], clustering=['KMEANS'], embedding=['LDA', 'tSNE'], num_topics=s(4,48), num_clusters=s(4,14), perplexity=s(5,50), learning_rate=s(2,20))\n",
    "output = w.children[-1]\n",
    "output.layout.height = '1500px'\n",
    "display(w)\n"
   ]
  },
  {
   "cell_type": "code",
   "execution_count": 15,
   "metadata": {
    "scrolled": false
   },
   "outputs": [
    {
     "name": "stdout",
     "output_type": "stream",
     "text": [
      "LSA execution time:  0.1391761302947998\n",
      "Clustering execution time:  0.10280966758728027\n",
      "LDA execution time:  0.004911899566650391\n",
      "0 ['klima', 'herbivorengemeinschaften', 'schmetterlings', 'terrestrischer', 'trophie']\n",
      "1 ['inselbergfauna', 'internationalen', 'antwort', 'inselberge', 'dienen']\n",
      "2 ['korrelation', 'fossilinhaltes', 'erdgeschichte', 'profilen', 'zentraliran']\n",
      "3 ['dienen', 'klimabestimmenden', 'zeitliche', 'bdp', 'abgebildeten']\n",
      "4 ['stufe', '1', 'beispielsweise', 'sedimentgesteine', 'unterkarbon']\n"
     ]
    },
    {
     "data": {
      "text/html": [
       "\n",
       "\n",
       "\n",
       "\n",
       "\n",
       "\n",
       "  <div class=\"bk-root\" id=\"69cdb1a0-431b-494c-b300-c44f52abd979\"></div>\n"
      ]
     },
     "metadata": {},
     "output_type": "display_data"
    },
    {
     "data": {
      "application/javascript": [
       "(function(root) {\n",
       "  function embed_document(root) {\n",
       "    \n",
       "  var docs_json = {\"d5ebbf86-1b98-43bb-9973-c1b45cea0b92\":{\"roots\":{\"references\":[{\"attributes\":{\"below\":[{\"id\":\"1112\",\"type\":\"LinearAxis\"}],\"left\":[{\"id\":\"1117\",\"type\":\"LinearAxis\"}],\"plot_height\":800,\"plot_width\":800,\"renderers\":[{\"id\":\"1112\",\"type\":\"LinearAxis\"},{\"id\":\"1116\",\"type\":\"Grid\"},{\"id\":\"1117\",\"type\":\"LinearAxis\"},{\"id\":\"1121\",\"type\":\"Grid\"},{\"id\":\"1131\",\"type\":\"BoxAnnotation\"},{\"id\":\"1142\",\"type\":\"GlyphRenderer\"}],\"title\":null,\"toolbar\":{\"id\":\"1129\",\"type\":\"Toolbar\"},\"toolbar_location\":\"below\",\"x_range\":{\"id\":\"1104\",\"type\":\"DataRange1d\"},\"x_scale\":{\"id\":\"1108\",\"type\":\"LinearScale\"},\"y_range\":{\"id\":\"1106\",\"type\":\"DataRange1d\"},\"y_scale\":{\"id\":\"1110\",\"type\":\"LinearScale\"}},\"id\":\"1102\",\"subtype\":\"Figure\",\"type\":\"Plot\"},{\"attributes\":{},\"id\":\"1113\",\"type\":\"BasicTicker\"},{\"attributes\":{\"formatter\":{\"id\":\"1156\",\"type\":\"BasicTickFormatter\"},\"plot\":{\"id\":\"1102\",\"subtype\":\"Figure\",\"type\":\"Plot\"},\"ticker\":{\"id\":\"1118\",\"type\":\"BasicTicker\"}},\"id\":\"1117\",\"type\":\"LinearAxis\"},{\"attributes\":{\"callback\":null,\"data\":{\"colours\":[\"#1f77b4\",\"#1f77b4\",\"#ff7f0e\",\"#2ca02c\",\"#ffbb78\",\"#1f77b4\",\"#ff7f0e\",\"#1f77b4\",\"#2ca02c\",\"#ffbb78\",\"#ff7f0e\",\"#1f77b4\",\"#1f77b4\",\"#ffbb78\",\"#1f77b4\",\"#1f77b4\",\"#1f77b4\",\"#ffbb78\",\"#2ca02c\",\"#1f77b4\",\"#1f77b4\",\"#2ca02c\",\"#2ca02c\",\"#ff7f0e\",\"#2ca02c\",\"#2ca02c\",\"#ff7f0e\",\"#1f77b4\",\"#ffbb78\",\"#1f77b4\",\"#1f77b4\",\"#aec7e8\",\"#ffbb78\",\"#1f77b4\",\"#ff7f0e\",\"#1f77b4\",\"#ff7f0e\",\"#1f77b4\",\"#ff7f0e\",\"#2ca02c\",\"#1f77b4\",\"#2ca02c\",\"#2ca02c\",\"#1f77b4\",\"#2ca02c\",\"#aec7e8\",\"#1f77b4\",\"#aec7e8\",\"#1f77b4\",\"#1f77b4\",\"#2ca02c\",\"#aec7e8\",\"#ff7f0e\",\"#1f77b4\",\"#1f77b4\",\"#2ca02c\",\"#1f77b4\",\"#1f77b4\",\"#1f77b4\",\"#ff7f0e\",\"#1f77b4\",\"#aec7e8\",\"#1f77b4\",\"#1f77b4\",\"#aec7e8\",\"#1f77b4\",\"#ffbb78\",\"#2ca02c\",\"#1f77b4\",\"#1f77b4\",\"#ffbb78\",\"#1f77b4\",\"#1f77b4\",\"#1f77b4\",\"#1f77b4\",\"#1f77b4\",\"#1f77b4\",\"#2ca02c\",\"#1f77b4\",\"#2ca02c\",\"#1f77b4\",\"#aec7e8\",\"#ff7f0e\",\"#1f77b4\",\"#1f77b4\",\"#2ca02c\",\"#2ca02c\",\"#1f77b4\",\"#1f77b4\",\"#ffbb78\",\"#ffbb78\",\"#1f77b4\",\"#ffbb78\",\"#2ca02c\",\"#ffbb78\",\"#2ca02c\",\"#ff7f0e\",\"#1f77b4\",\"#1f77b4\",\"#aec7e8\",\"#1f77b4\",\"#aec7e8\",\"#aec7e8\",\"#1f77b4\",\"#ff7f0e\",\"#aec7e8\",\"#1f77b4\",\"#2ca02c\",\"#2ca02c\",\"#aec7e8\",\"#ff7f0e\",\"#aec7e8\",\"#ff7f0e\",\"#2ca02c\",\"#1f77b4\",\"#aec7e8\",\"#1f77b4\",\"#2ca02c\"],\"ids\":[5378371,372767665,324399721,407924429,384478093,315696891,264294766,388827550,386259701,388659338,351155510,277243906,251841938,387794796,399895065,274695956,282995372,273857639,269736211,262540208,265560107,388111938,310335869,398660091,283080919,261812059,5289356,5380004,89105893,68974316,5440608,5235865,5189044,13491656,5395896,5368630,161034056,5353411,56501341,226518046,5203452,248485444,207222371,60495363,5338421,5235806,19144889,5292734,167839750,5256280,5248386,62112988,16033745,5359996,5441261,248404768,27070626,162429229,23220846,48616101,5153814,269215105,5452621,5182418,5398514,29077824,5235712,5377477,5408394,5203422,5210250,5375305,5203522,5203534,5203516,5285778,258188145,213563103,5429589,352447832,5418166,13593946,5203510,252622269,5108476,5375617,279867559,5411035,5134278,5368872,288773903,5391598,5402631,243252611,12468982,290190574,290189833,167288317,290428482,215906548,5301106,111512977,111514507,111513384,239673756,248067007,248394582,203198267,203172118,349093483,290759897,290760073,263649064,290760112,271867,272675,188358653,194453117],\"titles\":[\"Rekonstruktion von Dastilbe: Anatomische und konstruktionsmorphologische Untersuchungen als Grundlage zur Interpretation der Fortbewegungs- und Ern\\u00e4hrungsweise eines wenig abgeleiteten Knochenfisches im Hinblick auf pal\\u00e4o\\u00f6kologische Fragestellungen\",\"Anatomie, \\u00d6kologie und Ontogenie von Mesosauriern unter Anwendung von 3D-Bildtechnologien\",\"Biodiversit\\u00e4tsmuster, Pal\\u00e4o\\u00f6kologie und funktionelle Diversit\\u00e4t des \\\"Great Ordovician Biodiversification Event\\\" in der Basin and Range Provinz, USA.\",\"Closing the corridor \\u2013Suche nach archaeoceten \\u00dcberresten (Mammalia: Cetartiodactyla) in den eoz\\u00e4nen Ablagerungen bei Kangan (Golfregion, Iran)\",\"Das Fenster zur Natur und Kunst: Eine historisch-kritische Aufarbeitung der Brandenburgisch-Preu\\u00dfischen Kunstkammer als Observatorium, Laboratorium, Kommunikationsfl\\u00e4che und Schauraum des Wissens\",\"Die Auswirkungen eiszeitlicher Klimaschwankungen auf die Evolution afrikanischer S\\u00e4ugetiere am Beispiel der Pferdeb\\u00f6cke\",\"Die Biogeographie Sp\\u00e4tpal\\u00e4ozoischer Tetrapoden\",\"Die Evolution von Knochenzellen in der Tiefenzeit und die Implikationen f\\u00fcr den Knochenstoffwechsel in der Geschichte der Wirbeltiere\",\"Die Evolution von Regenerationsverm\\u00f6gen in Tetrapodenextremit\\u00e4ten unter Einbeziehung rezenter und fossiler Daten\",\"Die Perspektive vom anderen Ende der Welt: Mitteltriassische Ichthyosaurier aus Nevada und ihre Bedeutung f\\u00fcr die initiale Phase der Mesozoic Marine Revolution im Bereich des Ostpazifik\",\"Diversit\\u00e4ts-kontrollierende Faktoren bei terrestrischen herbivoren S\\u00e4ugetieren des K\\u00e4nozoikums\",\"Evolution der tropischen marinen Biodiversit\\u00e4t: vergleichende Analyse der triassischen Fauna der Cassian Formation mit modernen Faunen\",\"Evolution von Photorezeptoren bei Deuterostomia - neue Erkenntnisse durch Untersuchungen an Echinodermen und Enteropneusten\",\"K\\u00e4nozoische Fossil-Lagerst\\u00e4tten im Atbara Valley, Sudan\",\"Kreide Ursprung von tropische Reggenw\\u00e4lder in Africa and Levant und Konsequenz f\\u00fcr moderne Klima Prognose\",\"Molekulare Extremit\\u00e4tenentwicklung in dem basalen Squamaten Hemidactylus\",\"Nischendifferenzierung bei Herbivoren und die Intensivierung der Konkurrenz in afrikanischen Savannen\",\"Phonologische Syntax in den Laut\\u00e4u\\u00dferungen von Flederm\\u00e4usen - ein biolinguistischer Forschungsansatz\",\"Phylogenetische Rekonstruktion der thermalen Nischen von Palaearktischen Eidechsen der Familie Lacertidae\",\"Phylogenie und Evolution der aculeaten Hymenopteren\",\"Planetare Entwicklung - Eine Studie zur thermischen Entwicklung des Mond.\",\"Rekonstruktion der Evolutionsgeschichte \\u00f6kologischer Anpassungen bei S\\u00e4ugetieren anhand mikroanatomischer Studien\",\"Rekonstruktion der Zusammensetzung von Inselbioz\\u00f6nosen auf evolution\\u00e4ren Zeitskalen: Ein phylogenetischer Modellierungsansatz\",\"Schmelzen, Impakte und der Volatilgehalt des Inneren und der Atmosph\\u00e4ren von Mars und Venus\",\"Seeberge als potentielle Trittsteine f\\u00fcr die Verbreitung des Meiobenthos. Vergleichende taxonomische, faunistische und biogeographische Untersuchungen der Kinorhyncha von verschiedenen Seebergen und Inseln des Nordost-Atlantiks und des Mittelmeeres\",\"Trias-\\u00dcbergang: Analyse des Nischen-Austausches zwischen Gro\\u00dfgruppen fossiler Wirbeltiere\",\"Altersstellung und Pal\\u00e4o\\u00f6kologie der Dinosaurier-Lagerst\\u00e4tte Tendaguru in Tansania, Ostafrika\",\"Artabgrenzung und Phylogenie der Kalkdinoflagellaten (Peridiniales (Calciodinellacea) und Thoracosphaerales)\",\"Chytridiomykose - Untersuchungen zur Gef\\u00e4hrdung einheimischer Amphibien durch Batrachochytrium dendrobatids\",\"Das Kaokoveld in Namibia - eine eigenst\\u00e4ndige Region oder Teil der Western Escapment Mountains (WEM) ?\",\"Der Stachelapparat aculeater Hymenopteren: Morphologie, Evolution und die Bedeutung f\\u00fcr Reproduktionsstrategien bei solit\\u00e4ren Wespen\",\"Die Bedeutung des Brandberg-Massivs in Namibia f\\u00fcr die Entstehung und Erhaltung von Biodiversit\\u00e4t am Beispiel der Lepidoptera- und Trichoptera-Fauna\",\"Die Bildungsbedingungen von Diamant in den Impaktformationen des N\\u00f6rdlinger Ries\",\"Die Biodiversit\\u00e4t endemitenreicher Gebiete des Iran und Untersuchungen zu ihrer historischen Biogeographie anhand ausgew\\u00e4hlter Insekten-Taxa\",\"Die Heterogynaidae - Schwestergruppe von Grabwespen und Bienen?\",\"Die Kreide-Terti\\u00e4r-Grenze in Patagonien - Pal\\u00e4ontologische und sedimentologische Muster im globalen Vergleich\",\"Die Perm-Trias Grenze und die Untertrias transkaukasischer und zentraliranischer pelagischer Profile\",\"Die Walfauna (Cetacea: Odontoceti, Mysticeti) aus dem untersten Obermioz\\u00e4n von Gro\\u00df Pampau (Schleswig-Holstein), ihr phylogenetischer Status und ihre Entwicklung im atlantischen Raum\",\"Diversifikationsmuster durch die Zeit: Geht die rezente Vielfalt der limnischen Schneckengruppe Viviparidae auf eine \\\"alte\\\" Radidation zur\\u00fcck?\",\"Dynamische und chemische Entwicklung Mars- und Venus-\\u00e4hnlicher Planeten\",\"Edelgase und Stickstoff in Mars-Meteoriten als Hinweise zur Entwicklung der Mars-Atmosph\\u00e4re\",\"Entstehung und Evolution der nicht-hadrosauriden ornithopoden Dinosaurier\",\"Evolutionary rates and evolutionary trends in Carboniferous and Permian ammonoids\",\"Evolution benthischer Kalkdinoflagellaten-Zysten\",\"Evolution und Biogeographie der benthischen Tiefseefauna des Ostpazifiks (Expedition SO 158)\",\"Flora und Pal\\u00e4o\\u00f6kologie der Jura-Kreide-Grenzschichten im Gebiet des Tendaguru (Tansania, Ost-Afrika)\",\"Fortpflanzungsbiologie und endokrinologische Grundlagen der Reproduktion von spermienspeichernden Flederm\\u00e4usen\",\"Fortpflanzungsstrategien und Populationsstruktur der Sackfl\\u00fcgelfledermaus Saccopteryx bilineata\",\"Geburtsortstreue oder Abwanderung? Geschlechtsspezifische Abwanderungsstrategien bei neotropischen Flederm\\u00e4usen\",\"Herkunft und Verbreitungsgeschichte der Trichoptera und aquatischen Lepidoptera (Insecta) der Philippinen\",\"Integrative Stratigraphie des Kulm-Sedimentationsbeckens\",\"Morphologie und phylogenetische Signifikanz der Antennen und der antennalen Sensillen aculeater Hymenopteren\",\"Morphologisch-phylogenetische Analyse der Buchlungen rezenter und fossiler Arachnida\",\"Nachweis und Charakterisierung der Metamorphose bei Pal\\u00e4ozoischen temnospondylen Amphibien\",\"Pal\\u00e4o\\u00f6kologie und Taphonomie der Unionoida (Mollusca: Bivalvia) unter Ber\\u00fccksichtigung der Ziele moderner Artenschutzprogramme von S\\u00fc\\u00dfwassermuscheln\",\"Phylogenetische und Pal\\u00e4o\\u00f6kologische Untersuchungen von Einkeimbl\\u00e4ttrigen Bl\\u00fctenpflanzen ausder Kreide von Nord Gondwana (Brasilien und \\u00c4gypten)\",\"Phylogenie und historische Biogeographie der Gattung Hydropsyche Pictet, 1834 (Insecta, Trichoptera: Hydropschidae)\",\"Phylogenie und Phylogeographie von Brutbeutel tragenden S\\u00fc\\u00dfwasser-Gastropoden (Thiaridae in Australien: Implikationen f\\u00fcr die Biogeographie und die evolution\\u00e4re Rolle viviparer Reproduktionsstrategien\",\"Phylogeographie der Thecideoidea (Brachiopoda)\",\"Prim\\u00e4r-Kondensate und moderat volatile Elemente in Chondriten: Implikationen f\\u00fcr Fraktionierungsprozesse im Sonnennebel\",\"Rekonstruktion der Phylogenese der Amphipoda (Crustacea) auf der Grundlage molekularer Merkmale und Vergleich mit bekannten Daten \\u00fcber Morphologie und Lebensweise\",\"Bewegung in neue Nischen: Beine, \\u00d6kologie und Evolution mustellider S\\u00e4uger\",\"Rekonstruktion westafrikanischer Regenwaldrefugien mit Hilfe Laubstreu bewohnender Anuren - ein phylogeographischer Ansatz\",\"Revision der kretazischen Fische von Sendenhorst (Senon, Westfalen), Vergleich mit Material des Libanon und Herstellen des Verwandtschaftsbezuges zu rezenten Gruppen\",\"Rezente Pilzm\\u00fccken Neuseelands: Schl\\u00fcsselfauna f\\u00fcr das Verst\\u00e4ndnis der Phylogenese der Mycetophilidae s. str.\",\"Schneller Zugang zum Softwarepaket Delta, der Merkmalsdatenbank f\\u00fcr die biologische Systematik\",\"Stratigraphie, Faziesentwicklung sowie Invertebraten- und Mikropal\\u00e4ontologie der Tendaguru-Formation (Oberjura und Unterkreide von Tansania, Ostafrika)\",\"Stratigraphische und pal\\u00e4obiogeographische Position von unterkarbonischen Sedimenten in der algerischen Zentral-Sahara\",\"Structural geology, Petrology, and Geochronology of metamorphic rocks of the La Sepultura unit as part of the Chiapas Massif/Southeast Mexico\",\"Systematic and comprehensive interdisciplinary analysis of all Martian meteorites - TOF-SIMS investigation\",\"Systematik, Evolution und Biogeographie der Amphibienfauna von Irian Jaya\",\"Systematik und Biogeographie australischer Iphimediidae (Crustacea, Amphipoda) aus den Sammlungen des Australian Museum Sydney\",\"Systematische und umfassende interdisziplin\\u00e4re Analyse aller Marsmeteorite\",\"Systematische und umfassende interdisziplin\\u00e4re Analyse aller Marsmeteorite\",\"Systematische Untersuchungen der Sto\\u00dfwellenmetamorphose aller Marsmeteorite (Systematic investigation of shock metamorphism of all Martian meteorites)\",\"Taxonomie jurassischer Bivalven aus Chile und Mexiko\",\"Untersuchung eines vulkanisch in situ erhaltenen Wald-\\u00d6kosystems des unteren Perms\",\"Untersuchungen zur Biodiversit\\u00e4t und biogeographischen Bedeutung des Sneeubergs in S\\u00fcdafrika am Beispiel der Lepidoptera- und Trichoptera Fauna (Insecta)\",\"Variabilit\\u00e4t von MHC-Genen bei der Sackfl\\u00fcgelfledermaus Saccopteryx bilineata\",\"Pollen metabarcoding an naturkundlichen Hummelsammlungen, um Pflanzen-Best\\u00e4uberinteraktionen in Deutschland retrospektive zu analysieren\",\"Experimental study of the survival of endolithic microorganisms during impact and ejection of Martian meteorites: First phase of the transfer of life between Mars and Earth\",\"Rekonstruktion von Fischbest\\u00e4nden im Bereich des K\\u00fcstenauftriebs vor Namibia aus Sedimentkernen (M57, M48)\",\"Systematische Untersuchungen der Sto\\u00dfwellenmetamorphose aller Marsmeteorite (Systematic investigation of shock metamorphism of all Martian meteorites)\",\"Die lakustrinen Artenschw\\u00e4rme in den alten Seen Sulawesis - der Einflu\\u00df von Umweltver\\u00e4nderungen auf organismische Diversifikation\",\"Geochemische und mineralogisch-petrographische Untersuchung der Kreide-Terti\\u00e4r-Grenzschicht und der Impaktlithologien des Chicxulub-Kraters, Mexiko\",\"Geochemische und mineralogisch-petrographische Untersuchung der Kreide-Terti\\u00e4r-Grenzschicht und der Impaktlithologien des Chicxulub-Kraters, Mexiko\",\"Kieselalgen, Radiolarien und die k\\u00e4nozoischen Silizium- und Kohlenstoffzyklen\",\"Radiolarian and sedimentological studies on Neogene sediments of the Benguela Upwelling System\",\"Radiolarien- und palynologische Untersuchungen an Neogen- und Kreidesedimenten des s\\u00fcdlichen Ozeans, unter besonderer Ber\\u00fccksichtigung einer verbesserten Taxonomie und Biostratigraphie als Basis f\\u00fcr weitere Studien zur Evolution und Pal\\u00e4oozeanographie\",\"Rekonstruktion der klimatischen Ver\\u00e4nderungen in Zentralasien w\\u00e4hrend der letzten 2,5 bis 3 Millionen Jahre am Beispiel des Baikalsees\",\"Eine Phasen-spezifische geochemische Studie von mariner Produktivit\\u00e4t und N\\u00e4hrstoffzyklen w\\u00e4hrend des Perm/Trias-Massenaussterbens (PHoSPhoR)\",\"Die Herkunft des Urans in pr\\u00e4kambrischen, Diskordanz-gebundenen Lagerst\\u00e4tten des Athabasca Beckens (Saskatchewan, Kanada) - Mikroanalytische Untersuchungen an potentiellen Uran-Liefergesteinen\",\"Die Untersuchung terrestrischer Einschlagstrukturen mit Hilfe numerischer Modellrechnungen und geophysikalischer Erkundung\",\"Hox- und Parahox-Gen Expressionsmuster bei Polyplacophora (Mollusca)\",\"Phylogenie, Funktionsweise der Mundwerkzeuge, Embryonalentwicklung und \\u00f6kologische Beziehung der Histiostomatidae (Milben, Astigmata) zu ihren Transportinsekten\",\"Die Rolle von Hyperthermie im Massenaussterben an der Perm/Trias-Grenze\",\"Entwicklung benthischer, mariner Faunen SW-Europas unter klimatischem Stress w\\u00e4hrend des Unteren Jura (Pliensbach-Toarc) (EvoBiv)\",\"FOR 1508: Dynamisch adaptierbare Anwendungen zur Fledermausortung mittels eingebetteter kommunizierender Sensorsysteme\",\"Gr\\u00f6\\u00dfenver\\u00e4nderungen von Cephalopoden w\\u00e4hrend der Pliensbachium-Toarcium Krise\",\"Untersuchung des Jagd- und Sozialverhaltens von Flederm\\u00e4usen mit Hilfe von Sensorsystemen\",\"B\\u00e4renspinner-Gemeinschaften (Lepidoptera: Arctiidae) im Bergregenwald S\\u00fcdecuadors - Diversit\\u00e4t, Life-history-Elemente, Ressourcenanspr\\u00fcche und Thermophysiologie\",\"Numerische Modellierung der Prozesse bei der Entstehung von Impakt-Kratern\",\"Projektil-Target-Interaktion, Schmelz- und Verdampfungsprozesse in Hochgeschwindigkeitsexperimenten und nat\\u00fcrlichen Impaktiten\",\"Sto\\u00dfwellenprozesse im Mikroma\\u00dfstab in Sandstein\",\"Struktur und Bildung von Strahlenkegeln in experimentellen und nat\\u00fcrlichen Impaktkratern\",\"Digitalisierung / Erschlie\\u00dfung von Objekten: Eine Community-Plattform f\\u00fcr die Entwicklung und Dokumentation des ABCD-Standards f\\u00fcr naturkundliche Sammlungsdaten\",\"Digitalisierung / Erschlie\\u00dfung von Objekten: eScience-konforme Standards f\\u00fcr die Morphologie\",\"Digitalisierung / Erschlie\\u00dfung von Objekten: Erschlie\\u00dfung digitaler Sammlungsdaten am Museum f\\u00fcr Naturkunde Berlin\",\"Digitalisierung / Erschlie\\u00dfung von Objekten: Referenzsystem f\\u00fcr bioakustische Daten\",\"Medizin und Herrschaft. Malariabek\\u00e4mpfung in Kamerun, Ostafrika und Ostfriesland, 1890-1919\",\"Entstehung und Entwicklung von gro\\u00dfen Einschlagsbecken auf dem Mond (A04)\",\"Modellierung von planetaren Kollisionen und der thermochemischen Entwicklung von fl\\u00fcssigem Metall in konvektierenden Magmaozeanen (C02)\",\"TRR 170: Sp\\u00e4te Akkretion auf terrestrischen Planeten\",\"Von der Bildung des Mondes zur \\\"sp\\u00e4ten Bombardierung\\\": thermochemische Entwicklung des fr\\u00fchen Erde-Mond-Systems (C04)\",\"GRK 331: Temperaturabh\\u00e4ngige Effekte f\\u00fcr Therapie und Diagnostik\",\"GRK 503: Evolutive Transformationen und Faunenschnitte\",\"Extension and modification of Morph D Base producing a system for permanent storage and documentation of volume data of biological objects in high resolution\",\"EXC 1027: Bild Wissen Gestaltung. Ein interdisziplin\\u00e4res Labor\"],\"x\":{\"__ndarray__\":\"3ci9tr5GuD+iHSWXcuzov7l2gvK7ZgNApL0cfJkDAcDXXKWd7ecIQM/laITpqe6/3HpEExLg77+1bPrgxqHJv32xYzRU3QjAjPLBxyHw9D8VxZ0HqroFQGV/ktzl1vc/wmFfNgWQtz/t4YQCwC0EQN3Ivba+Rrg/jCdy9nr4+T8Gs8hB8vC+v1xUqAaF+/w/Ld1tSupRBcAShdiz6lv6v/ah/WFC8cU/ItWqVB7XAcDQDZgk13gMwNwRIg+wRgRAdaS66zZTDcDAHEnklhYJwMwzPz7JjAFA3ci9tr5GuD+oup0nJ7kAQEB7mz3ilve/6h0vrUKq5D+NB6bWlToEQMi4ZxTNn+w/eaZD44+A6z9TwVe+PLYEQN3Ivba+Rrg/aJ6oj23XEEBH24SahUnQv1zEazGJ//E/lA/4jIsHEMDdyL22vka4P6BUGD06WQXAs3jCX67V579NE0xs3gjov2IFqoGQ/QXAKPF2hgwHyT/kqrZUwtTyvxqOv3cfbN4/iPQ+y8uQwj/76WJKKd3hvxw68SE4vfq/h+US3yp5s7+H3bAWkIj7P93Ivba+Rrg/d4EpyZZ+AECfhS58cR7wv2wFcw0e5fI/ihZjZVuK678QGqcwyyvzv6Atd/ExiARAR3PRxg3EzT9LOVyYJU3SP5NjbIRpRfU/3ci9tr5GuD/GKzaiJB30P9xigYNdHvC/8DpcBG9P/D/68pWigRcGwN3Ivba+Rrg/3ci9tr5GuD/yE0Zp5hvLP6TS5cuEoOY/3ci9tr5GuD/dyL22vka4P93Ivba+Rrg/qxqLa09r/b9w0YjVeLviP53Mme6mEwbAivLq0btpq79of+tUDsoGwN3Ivba+Rrg/dfY/+npoA0CWRbUt4oMAQMZb5hj13OC/3ci9tr5GuD939n8Jdpvrv+8dLty4/P6/3ci9tr5GuD+o+j9ZKyHzv2kuYZd8oRFA4kIw5cmXB0AjHl4YxQfjvwC049LQjqs/KYK+tDt0FMDSOtUScvHpP0V6fRkr1/m/Wl5QMk88EECfgNWBMxf2v9d6euIfZt6/ALhrT1K42D8KOt47ObrnP4YBR76L2tM/UlKNXf8V+T9vmZhyfRjWvzPaYmRmJQlAWsbnwF5F+r9Jlnn+btvsv0EuCqcbzwbApdDEkiUg9b86tWVdHlLIPwszRC+jQQFAz3au32w5xz9rrTnOOb8AQMQlv+FXMgbA3ci9tr5GuD9sQlljkQHzPwfC4SxbQ9K/IFMTGSd7A8A=\",\"dtype\":\"float64\",\"shape\":[118]},\"y\":{\"__ndarray__\":\"aB5dg74ayD8Unyo+m3X6P3J8TafbH/a/E6DTPA6H8j9UanU712HwP2li9R7SX+8/w4g1X59VDMAVpR+ovozVP/1EeB91VdK/5ZCwijULAEAMkmIkUUb8v5UIO56xRtG/KLyLkJvQ9T9Hl/bPKlXwP2geXYO+Gsg/I9OPmlzK/z/+XUfbeN7Xv1UZ92bhIApAPMIwlrSt4L+sxpCrJLLWP1hMZDEXBPg/RE/MvlVaCcAKRUXjrh7HP1kIwS9QqQzAaRCx1mUZ4T+qv+VcDr4QwDPIXaOKKgLAaB5dg74ayD/ovsj1DgUNQBK3MiGIAeo/UHEdgTXH7D9wAIdRHiPMPzAVP9gEZ8k/z29k4qTk7T9hg245pHkMwGgeXYO+Gsg/pcWQg+ODCcCgQYiKKhKzP4eyR9lzDwnAtHS7PQwz179oHl2DvhrIPzZRmRCmfMm/X+ajfAH54T8LzUDwjOH3P+IGYmwFUPW/GdOH73j9A0DWYE5p1N37P+EnKtNyxABAQiI+ry4vAEDkih2FUGTwv9KUjdL6MPm/5Ebv3KOv4z8kugAs7TwBwGgeXYO+Gsg/ZH8PYhoa7L9cw3WbrguuPwadDIDXH1i/kSoPLtBz5T/TlRbfqurwv5ES2Iak2QvAeTzPpi+kwT+V7hEzPM3HvwiseX8/fNO/aB5dg74ayD+Fcd4pKrjnv3WwEgjh49S/ZosyCi0g/j+iJ4XYCNDTv2geXYO+Gsg/aB5dg74ayD/iWDWN5S4AQGvto5ZT8Oo/aB5dg74ayD9oHl2DvhrIP2geXYO+Gsg/BOlNVOBk5D+YEBYD7x/xvzMYnBIXf/m/wgZGe+ar9b+Cw0EDgZ7Nv2geXYO+Gsg/Sz4PmG+48j/4TaDw3AH5v2kayR2k3/Q/aB5dg74ayD8lI9udGhzOvxwFmpBJH/K/aB5dg74ayD+2AikRekX4P6f0DY0/WAtAjZJkOnH1A0COUrdV7FT6v2PWu9VLmQJA2dWxWN3v4L9GAaMKL2r/P8BzYWbLwOC/qDTUCdhDEcCEbK7Qa8zLP5sLmFjvF9g/QMKVIycaDUCMNfmebnXNv9DyyKZuLPc/Jtten6ZmAkB2AQf8ny7kP9Hoh45/Bv+/9BPuR+nv9T+FUrNvq03vP1oZMrAT8vO/98xv5YqV5T/ob4Zz8rfUvwTIueiUHQLAoHj44SGu6r8s4bMZnZkKwEPl3w2rmuu/aB5dg74ayD/Zap5CUlzmPyrZepIoI+8/e2HHmgah+L8=\",\"dtype\":\"float64\",\"shape\":[118]}},\"selected\":{\"id\":\"1158\",\"type\":\"Selection\"},\"selection_policy\":{\"id\":\"1157\",\"type\":\"UnionRenderers\"}},\"id\":\"1101\",\"type\":\"ColumnDataSource\"},{\"attributes\":{\"source\":{\"id\":\"1101\",\"type\":\"ColumnDataSource\"}},\"id\":\"1143\",\"type\":\"CDSView\"},{\"attributes\":{},\"id\":\"1158\",\"type\":\"Selection\"},{\"attributes\":{\"callback\":null},\"id\":\"1106\",\"type\":\"DataRange1d\"},{\"attributes\":{},\"id\":\"1123\",\"type\":\"WheelZoomTool\"},{\"attributes\":{\"plot\":{\"id\":\"1102\",\"subtype\":\"Figure\",\"type\":\"Plot\"},\"ticker\":{\"id\":\"1113\",\"type\":\"BasicTicker\"}},\"id\":\"1116\",\"type\":\"Grid\"},{\"attributes\":{},\"id\":\"1126\",\"type\":\"ResetTool\"},{\"attributes\":{},\"id\":\"1156\",\"type\":\"BasicTickFormatter\"},{\"attributes\":{\"dimension\":1,\"plot\":{\"id\":\"1102\",\"subtype\":\"Figure\",\"type\":\"Plot\"},\"ticker\":{\"id\":\"1118\",\"type\":\"BasicTicker\"}},\"id\":\"1121\",\"type\":\"Grid\"},{\"attributes\":{\"fill_color\":{\"field\":\"colours\"},\"line_color\":{\"field\":\"colours\"},\"size\":{\"units\":\"screen\",\"value\":10},\"x\":{\"field\":\"x\"},\"y\":{\"field\":\"y\"}},\"id\":\"1140\",\"type\":\"Scatter\"},{\"attributes\":{},\"id\":\"1125\",\"type\":\"SaveTool\"},{\"attributes\":{},\"id\":\"1118\",\"type\":\"BasicTicker\"},{\"attributes\":{},\"id\":\"1110\",\"type\":\"LinearScale\"},{\"attributes\":{\"fill_alpha\":{\"value\":0.1},\"fill_color\":{\"value\":\"#1f77b4\"},\"line_alpha\":{\"value\":0.1},\"line_color\":{\"value\":\"#1f77b4\"},\"size\":{\"units\":\"screen\",\"value\":10},\"x\":{\"field\":\"x\"},\"y\":{\"field\":\"y\"}},\"id\":\"1141\",\"type\":\"Scatter\"},{\"attributes\":{\"active_drag\":\"auto\",\"active_inspect\":\"auto\",\"active_multi\":null,\"active_scroll\":\"auto\",\"active_tap\":\"auto\",\"tools\":[{\"id\":\"1122\",\"type\":\"PanTool\"},{\"id\":\"1123\",\"type\":\"WheelZoomTool\"},{\"id\":\"1124\",\"type\":\"BoxZoomTool\"},{\"id\":\"1125\",\"type\":\"SaveTool\"},{\"id\":\"1126\",\"type\":\"ResetTool\"},{\"id\":\"1127\",\"type\":\"HelpTool\"},{\"id\":\"1128\",\"type\":\"HoverTool\"}]},\"id\":\"1129\",\"type\":\"Toolbar\"},{\"attributes\":{\"formatter\":{\"id\":\"1154\",\"type\":\"BasicTickFormatter\"},\"plot\":{\"id\":\"1102\",\"subtype\":\"Figure\",\"type\":\"Plot\"},\"ticker\":{\"id\":\"1113\",\"type\":\"BasicTicker\"}},\"id\":\"1112\",\"type\":\"LinearAxis\"},{\"attributes\":{},\"id\":\"1108\",\"type\":\"LinearScale\"},{\"attributes\":{\"overlay\":{\"id\":\"1131\",\"type\":\"BoxAnnotation\"}},\"id\":\"1124\",\"type\":\"BoxZoomTool\"},{\"attributes\":{},\"id\":\"1154\",\"type\":\"BasicTickFormatter\"},{\"attributes\":{\"callback\":null},\"id\":\"1104\",\"type\":\"DataRange1d\"},{\"attributes\":{\"data_source\":{\"id\":\"1101\",\"type\":\"ColumnDataSource\"},\"glyph\":{\"id\":\"1140\",\"type\":\"Scatter\"},\"hover_glyph\":null,\"muted_glyph\":null,\"nonselection_glyph\":{\"id\":\"1141\",\"type\":\"Scatter\"},\"selection_glyph\":null,\"view\":{\"id\":\"1143\",\"type\":\"CDSView\"}},\"id\":\"1142\",\"type\":\"GlyphRenderer\"},{\"attributes\":{\"bottom_units\":\"screen\",\"fill_alpha\":{\"value\":0.5},\"fill_color\":{\"value\":\"lightgrey\"},\"left_units\":\"screen\",\"level\":\"overlay\",\"line_alpha\":{\"value\":1.0},\"line_color\":{\"value\":\"black\"},\"line_dash\":[4,4],\"line_width\":{\"value\":2},\"plot\":null,\"render_mode\":\"css\",\"right_units\":\"screen\",\"top_units\":\"screen\"},\"id\":\"1131\",\"type\":\"BoxAnnotation\"},{\"attributes\":{},\"id\":\"1157\",\"type\":\"UnionRenderers\"},{\"attributes\":{\"callback\":null,\"renderers\":\"auto\",\"tooltips\":[[\"index\",\"$index\"],[\"id\",\"@ids\"],[\"title\",\"@titles\"]]},\"id\":\"1128\",\"type\":\"HoverTool\"},{\"attributes\":{},\"id\":\"1122\",\"type\":\"PanTool\"},{\"attributes\":{},\"id\":\"1127\",\"type\":\"HelpTool\"}],\"root_ids\":[\"1102\"]},\"title\":\"Bokeh Application\",\"version\":\"1.0.1\"}};\n",
       "  var render_items = [{\"docid\":\"d5ebbf86-1b98-43bb-9973-c1b45cea0b92\",\"roots\":{\"1102\":\"69cdb1a0-431b-494c-b300-c44f52abd979\"}}];\n",
       "  root.Bokeh.embed.embed_items_notebook(docs_json, render_items);\n",
       "\n",
       "  }\n",
       "  if (root.Bokeh !== undefined) {\n",
       "    embed_document(root);\n",
       "  } else {\n",
       "    var attempts = 0;\n",
       "    var timer = setInterval(function(root) {\n",
       "      if (root.Bokeh !== undefined) {\n",
       "        embed_document(root);\n",
       "        clearInterval(timer);\n",
       "      }\n",
       "      attempts++;\n",
       "      if (attempts > 100) {\n",
       "        console.log(\"Bokeh: ERROR: Unable to run BokehJS code because BokehJS library is missing\");\n",
       "        clearInterval(timer);\n",
       "      }\n",
       "    }, 10, root)\n",
       "  }\n",
       "})(window);"
      ],
      "application/vnd.bokehjs_exec.v0+json": ""
     },
     "metadata": {
      "application/vnd.bokehjs_exec.v0+json": {
       "id": "1102"
      }
     },
     "output_type": "display_data"
    }
   ],
   "source": [
    "%lprun -f visualize visualize(**w.kwargs)"
   ]
  },
  {
   "cell_type": "code",
   "execution_count": null,
   "metadata": {},
   "outputs": [],
   "source": []
  }
 ],
 "metadata": {
  "kernelspec": {
   "display_name": "NLPenv",
   "language": "python",
   "name": "nlpenv"
  },
  "language_info": {
   "codemirror_mode": {
    "name": "ipython",
    "version": 3
   },
   "file_extension": ".py",
   "mimetype": "text/x-python",
   "name": "python",
   "nbconvert_exporter": "python",
   "pygments_lexer": "ipython3",
   "version": "3.6.5"
  }
 },
 "nbformat": 4,
 "nbformat_minor": 2
}
