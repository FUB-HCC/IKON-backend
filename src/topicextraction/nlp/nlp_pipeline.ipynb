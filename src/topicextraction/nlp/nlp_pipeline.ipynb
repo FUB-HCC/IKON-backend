{
 "cells": [
  {
   "cell_type": "markdown",
   "metadata": {
    "local_metadata": {},
    "remote_metadata": {
     "tags": [
      "remove_cell"
     ]
    }
   },
   "source": [
    "# Topic extraction from the GEPRiS dataset and creation of an user-centric visualisation\n",
    "Author: Tim Korjakow        \n",
    "Summer term 2018      \n",
    "Freie Universität Berlin     \n",
    "Fachgebiet Human-Centered Computing"
   ]
  },
  {
   "cell_type": "markdown",
   "metadata": {
    "local_metadata": {},
    "remote_metadata": {
     "tags": [
      "remove_cell"
     ]
    }
   },
   "source": [
    "![Process graph](nlpflowchart.svg)"
   ]
  },
  {
   "cell_type": "code",
   "execution_count": 1,
   "metadata": {},
   "outputs": [
    {
     "name": "stderr",
     "output_type": "stream",
     "text": [
      "/Library/Frameworks/Python.framework/Versions/3.7/lib/python3.7/importlib/_bootstrap.py:219: RuntimeWarning: numpy.dtype size changed, may indicate binary incompatibility. Expected 96, got 88\n",
      "  return f(*args, **kwds)\n",
      "/Library/Frameworks/Python.framework/Versions/3.7/lib/python3.7/importlib/_bootstrap.py:219: RuntimeWarning: numpy.ufunc size changed, may indicate binary incompatibility. Expected 192, got 176\n",
      "  return f(*args, **kwds)\n",
      "/Library/Frameworks/Python.framework/Versions/3.7/lib/python3.7/importlib/_bootstrap.py:219: RuntimeWarning: numpy.dtype size changed, may indicate binary incompatibility. Expected 96, got 88\n",
      "  return f(*args, **kwds)\n",
      "/Library/Frameworks/Python.framework/Versions/3.7/lib/python3.7/importlib/_bootstrap.py:219: RuntimeWarning: numpy.ufunc size changed, may indicate binary incompatibility. Expected 192, got 176\n",
      "  return f(*args, **kwds)\n"
     ]
    },
    {
     "data": {
      "text/html": [
       "\n",
       "    <div class=\"bk-root\">\n",
       "        <a href=\"https://bokeh.pydata.org\" target=\"_blank\" class=\"bk-logo bk-logo-small bk-logo-notebook\"></a>\n",
       "        <span id=\"7fb0f2aa-1217-4916-83d2-671d0ac0a7b0\">Loading BokehJS ...</span>\n",
       "    </div>"
      ]
     },
     "metadata": {},
     "output_type": "display_data"
    },
    {
     "data": {
      "application/javascript": [
       "\n",
       "(function(root) {\n",
       "  function now() {\n",
       "    return new Date();\n",
       "  }\n",
       "\n",
       "  var force = true;\n",
       "\n",
       "  if (typeof (root._bokeh_onload_callbacks) === \"undefined\" || force === true) {\n",
       "    root._bokeh_onload_callbacks = [];\n",
       "    root._bokeh_is_loading = undefined;\n",
       "  }\n",
       "\n",
       "  var JS_MIME_TYPE = 'application/javascript';\n",
       "  var HTML_MIME_TYPE = 'text/html';\n",
       "  var EXEC_MIME_TYPE = 'application/vnd.bokehjs_exec.v0+json';\n",
       "  var CLASS_NAME = 'output_bokeh rendered_html';\n",
       "\n",
       "  /**\n",
       "   * Render data to the DOM node\n",
       "   */\n",
       "  function render(props, node) {\n",
       "    var script = document.createElement(\"script\");\n",
       "    node.appendChild(script);\n",
       "  }\n",
       "\n",
       "  /**\n",
       "   * Handle when an output is cleared or removed\n",
       "   */\n",
       "  function handleClearOutput(event, handle) {\n",
       "    var cell = handle.cell;\n",
       "\n",
       "    var id = cell.output_area._bokeh_element_id;\n",
       "    var server_id = cell.output_area._bokeh_server_id;\n",
       "    // Clean up Bokeh references\n",
       "    if (id != null && id in Bokeh.index) {\n",
       "      Bokeh.index[id].model.document.clear();\n",
       "      delete Bokeh.index[id];\n",
       "    }\n",
       "\n",
       "    if (server_id !== undefined) {\n",
       "      // Clean up Bokeh references\n",
       "      var cmd = \"from bokeh.io.state import curstate; print(curstate().uuid_to_server['\" + server_id + \"'].get_sessions()[0].document.roots[0]._id)\";\n",
       "      cell.notebook.kernel.execute(cmd, {\n",
       "        iopub: {\n",
       "          output: function(msg) {\n",
       "            var id = msg.content.text.trim();\n",
       "            if (id in Bokeh.index) {\n",
       "              Bokeh.index[id].model.document.clear();\n",
       "              delete Bokeh.index[id];\n",
       "            }\n",
       "          }\n",
       "        }\n",
       "      });\n",
       "      // Destroy server and session\n",
       "      var cmd = \"import bokeh.io.notebook as ion; ion.destroy_server('\" + server_id + \"')\";\n",
       "      cell.notebook.kernel.execute(cmd);\n",
       "    }\n",
       "  }\n",
       "\n",
       "  /**\n",
       "   * Handle when a new output is added\n",
       "   */\n",
       "  function handleAddOutput(event, handle) {\n",
       "    var output_area = handle.output_area;\n",
       "    var output = handle.output;\n",
       "\n",
       "    // limit handleAddOutput to display_data with EXEC_MIME_TYPE content only\n",
       "    if ((output.output_type != \"display_data\") || (!output.data.hasOwnProperty(EXEC_MIME_TYPE))) {\n",
       "      return\n",
       "    }\n",
       "\n",
       "    var toinsert = output_area.element.find(\".\" + CLASS_NAME.split(' ')[0]);\n",
       "\n",
       "    if (output.metadata[EXEC_MIME_TYPE][\"id\"] !== undefined) {\n",
       "      toinsert[toinsert.length - 1].firstChild.textContent = output.data[JS_MIME_TYPE];\n",
       "      // store reference to embed id on output_area\n",
       "      output_area._bokeh_element_id = output.metadata[EXEC_MIME_TYPE][\"id\"];\n",
       "    }\n",
       "    if (output.metadata[EXEC_MIME_TYPE][\"server_id\"] !== undefined) {\n",
       "      var bk_div = document.createElement(\"div\");\n",
       "      bk_div.innerHTML = output.data[HTML_MIME_TYPE];\n",
       "      var script_attrs = bk_div.children[0].attributes;\n",
       "      for (var i = 0; i < script_attrs.length; i++) {\n",
       "        toinsert[toinsert.length - 1].firstChild.setAttribute(script_attrs[i].name, script_attrs[i].value);\n",
       "      }\n",
       "      // store reference to server id on output_area\n",
       "      output_area._bokeh_server_id = output.metadata[EXEC_MIME_TYPE][\"server_id\"];\n",
       "    }\n",
       "  }\n",
       "\n",
       "  function register_renderer(events, OutputArea) {\n",
       "\n",
       "    function append_mime(data, metadata, element) {\n",
       "      // create a DOM node to render to\n",
       "      var toinsert = this.create_output_subarea(\n",
       "        metadata,\n",
       "        CLASS_NAME,\n",
       "        EXEC_MIME_TYPE\n",
       "      );\n",
       "      this.keyboard_manager.register_events(toinsert);\n",
       "      // Render to node\n",
       "      var props = {data: data, metadata: metadata[EXEC_MIME_TYPE]};\n",
       "      render(props, toinsert[toinsert.length - 1]);\n",
       "      element.append(toinsert);\n",
       "      return toinsert\n",
       "    }\n",
       "\n",
       "    /* Handle when an output is cleared or removed */\n",
       "    events.on('clear_output.CodeCell', handleClearOutput);\n",
       "    events.on('delete.Cell', handleClearOutput);\n",
       "\n",
       "    /* Handle when a new output is added */\n",
       "    events.on('output_added.OutputArea', handleAddOutput);\n",
       "\n",
       "    /**\n",
       "     * Register the mime type and append_mime function with output_area\n",
       "     */\n",
       "    OutputArea.prototype.register_mime_type(EXEC_MIME_TYPE, append_mime, {\n",
       "      /* Is output safe? */\n",
       "      safe: true,\n",
       "      /* Index of renderer in `output_area.display_order` */\n",
       "      index: 0\n",
       "    });\n",
       "  }\n",
       "\n",
       "  // register the mime type if in Jupyter Notebook environment and previously unregistered\n",
       "  if (root.Jupyter !== undefined) {\n",
       "    var events = require('base/js/events');\n",
       "    var OutputArea = require('notebook/js/outputarea').OutputArea;\n",
       "\n",
       "    if (OutputArea.prototype.mime_types().indexOf(EXEC_MIME_TYPE) == -1) {\n",
       "      register_renderer(events, OutputArea);\n",
       "    }\n",
       "  }\n",
       "\n",
       "  \n",
       "  if (typeof (root._bokeh_timeout) === \"undefined\" || force === true) {\n",
       "    root._bokeh_timeout = Date.now() + 5000;\n",
       "    root._bokeh_failed_load = false;\n",
       "  }\n",
       "\n",
       "  var NB_LOAD_WARNING = {'data': {'text/html':\n",
       "     \"<div style='background-color: #fdd'>\\n\"+\n",
       "     \"<p>\\n\"+\n",
       "     \"BokehJS does not appear to have successfully loaded. If loading BokehJS from CDN, this \\n\"+\n",
       "     \"may be due to a slow or bad network connection. Possible fixes:\\n\"+\n",
       "     \"</p>\\n\"+\n",
       "     \"<ul>\\n\"+\n",
       "     \"<li>re-rerun `output_notebook()` to attempt to load from CDN again, or</li>\\n\"+\n",
       "     \"<li>use INLINE resources instead, as so:</li>\\n\"+\n",
       "     \"</ul>\\n\"+\n",
       "     \"<code>\\n\"+\n",
       "     \"from bokeh.resources import INLINE\\n\"+\n",
       "     \"output_notebook(resources=INLINE)\\n\"+\n",
       "     \"</code>\\n\"+\n",
       "     \"</div>\"}};\n",
       "\n",
       "  function display_loaded() {\n",
       "    var el = document.getElementById(\"7fb0f2aa-1217-4916-83d2-671d0ac0a7b0\");\n",
       "    if (el != null) {\n",
       "      el.textContent = \"BokehJS is loading...\";\n",
       "    }\n",
       "    if (root.Bokeh !== undefined) {\n",
       "      if (el != null) {\n",
       "        el.textContent = \"BokehJS \" + root.Bokeh.version + \" successfully loaded.\";\n",
       "      }\n",
       "    } else if (Date.now() < root._bokeh_timeout) {\n",
       "      setTimeout(display_loaded, 100)\n",
       "    }\n",
       "  }\n",
       "\n",
       "\n",
       "  function run_callbacks() {\n",
       "    try {\n",
       "      root._bokeh_onload_callbacks.forEach(function(callback) { callback() });\n",
       "    }\n",
       "    finally {\n",
       "      delete root._bokeh_onload_callbacks\n",
       "    }\n",
       "    console.info(\"Bokeh: all callbacks have finished\");\n",
       "  }\n",
       "\n",
       "  function load_libs(js_urls, callback) {\n",
       "    root._bokeh_onload_callbacks.push(callback);\n",
       "    if (root._bokeh_is_loading > 0) {\n",
       "      console.log(\"Bokeh: BokehJS is being loaded, scheduling callback at\", now());\n",
       "      return null;\n",
       "    }\n",
       "    if (js_urls == null || js_urls.length === 0) {\n",
       "      run_callbacks();\n",
       "      return null;\n",
       "    }\n",
       "    console.log(\"Bokeh: BokehJS not loaded, scheduling load and callback at\", now());\n",
       "    root._bokeh_is_loading = js_urls.length;\n",
       "    for (var i = 0; i < js_urls.length; i++) {\n",
       "      var url = js_urls[i];\n",
       "      var s = document.createElement('script');\n",
       "      s.src = url;\n",
       "      s.async = false;\n",
       "      s.onreadystatechange = s.onload = function() {\n",
       "        root._bokeh_is_loading--;\n",
       "        if (root._bokeh_is_loading === 0) {\n",
       "          console.log(\"Bokeh: all BokehJS libraries loaded\");\n",
       "          run_callbacks()\n",
       "        }\n",
       "      };\n",
       "      s.onerror = function() {\n",
       "        console.warn(\"failed to load library \" + url);\n",
       "      };\n",
       "      console.log(\"Bokeh: injecting script tag for BokehJS library: \", url);\n",
       "      document.getElementsByTagName(\"head\")[0].appendChild(s);\n",
       "    }\n",
       "  };var element = document.getElementById(\"7fb0f2aa-1217-4916-83d2-671d0ac0a7b0\");\n",
       "  if (element == null) {\n",
       "    console.log(\"Bokeh: ERROR: autoload.js configured with elementid '7fb0f2aa-1217-4916-83d2-671d0ac0a7b0' but no matching script tag was found. \")\n",
       "    return false;\n",
       "  }\n",
       "\n",
       "  var js_urls = [\"https://cdn.pydata.org/bokeh/release/bokeh-0.13.0.min.js\", \"https://cdn.pydata.org/bokeh/release/bokeh-widgets-0.13.0.min.js\", \"https://cdn.pydata.org/bokeh/release/bokeh-tables-0.13.0.min.js\", \"https://cdn.pydata.org/bokeh/release/bokeh-gl-0.13.0.min.js\"];\n",
       "\n",
       "  var inline_js = [\n",
       "    function(Bokeh) {\n",
       "      Bokeh.set_log_level(\"info\");\n",
       "    },\n",
       "    \n",
       "    function(Bokeh) {\n",
       "      \n",
       "    },\n",
       "    function(Bokeh) {\n",
       "      console.log(\"Bokeh: injecting CSS: https://cdn.pydata.org/bokeh/release/bokeh-0.13.0.min.css\");\n",
       "      Bokeh.embed.inject_css(\"https://cdn.pydata.org/bokeh/release/bokeh-0.13.0.min.css\");\n",
       "      console.log(\"Bokeh: injecting CSS: https://cdn.pydata.org/bokeh/release/bokeh-widgets-0.13.0.min.css\");\n",
       "      Bokeh.embed.inject_css(\"https://cdn.pydata.org/bokeh/release/bokeh-widgets-0.13.0.min.css\");\n",
       "      console.log(\"Bokeh: injecting CSS: https://cdn.pydata.org/bokeh/release/bokeh-tables-0.13.0.min.css\");\n",
       "      Bokeh.embed.inject_css(\"https://cdn.pydata.org/bokeh/release/bokeh-tables-0.13.0.min.css\");\n",
       "    }\n",
       "  ];\n",
       "\n",
       "  function run_inline_js() {\n",
       "    \n",
       "    if ((root.Bokeh !== undefined) || (force === true)) {\n",
       "      for (var i = 0; i < inline_js.length; i++) {\n",
       "        inline_js[i].call(root, root.Bokeh);\n",
       "      }if (force === true) {\n",
       "        display_loaded();\n",
       "      }} else if (Date.now() < root._bokeh_timeout) {\n",
       "      setTimeout(run_inline_js, 100);\n",
       "    } else if (!root._bokeh_failed_load) {\n",
       "      console.log(\"Bokeh: BokehJS failed to load within specified timeout.\");\n",
       "      root._bokeh_failed_load = true;\n",
       "    } else if (force !== true) {\n",
       "      var cell = $(document.getElementById(\"7fb0f2aa-1217-4916-83d2-671d0ac0a7b0\")).parents('.cell').data().cell;\n",
       "      cell.output_area.append_execute_result(NB_LOAD_WARNING)\n",
       "    }\n",
       "\n",
       "  }\n",
       "\n",
       "  if (root._bokeh_is_loading === 0) {\n",
       "    console.log(\"Bokeh: BokehJS loaded, going straight to plotting\");\n",
       "    run_inline_js();\n",
       "  } else {\n",
       "    load_libs(js_urls, function() {\n",
       "      console.log(\"Bokeh: BokehJS plotting callback run at\", now());\n",
       "      run_inline_js();\n",
       "    });\n",
       "  }\n",
       "}(window));"
      ],
      "application/vnd.bokehjs_load.v0+json": "\n(function(root) {\n  function now() {\n    return new Date();\n  }\n\n  var force = true;\n\n  if (typeof (root._bokeh_onload_callbacks) === \"undefined\" || force === true) {\n    root._bokeh_onload_callbacks = [];\n    root._bokeh_is_loading = undefined;\n  }\n\n  \n\n  \n  if (typeof (root._bokeh_timeout) === \"undefined\" || force === true) {\n    root._bokeh_timeout = Date.now() + 5000;\n    root._bokeh_failed_load = false;\n  }\n\n  var NB_LOAD_WARNING = {'data': {'text/html':\n     \"<div style='background-color: #fdd'>\\n\"+\n     \"<p>\\n\"+\n     \"BokehJS does not appear to have successfully loaded. If loading BokehJS from CDN, this \\n\"+\n     \"may be due to a slow or bad network connection. Possible fixes:\\n\"+\n     \"</p>\\n\"+\n     \"<ul>\\n\"+\n     \"<li>re-rerun `output_notebook()` to attempt to load from CDN again, or</li>\\n\"+\n     \"<li>use INLINE resources instead, as so:</li>\\n\"+\n     \"</ul>\\n\"+\n     \"<code>\\n\"+\n     \"from bokeh.resources import INLINE\\n\"+\n     \"output_notebook(resources=INLINE)\\n\"+\n     \"</code>\\n\"+\n     \"</div>\"}};\n\n  function display_loaded() {\n    var el = document.getElementById(\"7fb0f2aa-1217-4916-83d2-671d0ac0a7b0\");\n    if (el != null) {\n      el.textContent = \"BokehJS is loading...\";\n    }\n    if (root.Bokeh !== undefined) {\n      if (el != null) {\n        el.textContent = \"BokehJS \" + root.Bokeh.version + \" successfully loaded.\";\n      }\n    } else if (Date.now() < root._bokeh_timeout) {\n      setTimeout(display_loaded, 100)\n    }\n  }\n\n\n  function run_callbacks() {\n    try {\n      root._bokeh_onload_callbacks.forEach(function(callback) { callback() });\n    }\n    finally {\n      delete root._bokeh_onload_callbacks\n    }\n    console.info(\"Bokeh: all callbacks have finished\");\n  }\n\n  function load_libs(js_urls, callback) {\n    root._bokeh_onload_callbacks.push(callback);\n    if (root._bokeh_is_loading > 0) {\n      console.log(\"Bokeh: BokehJS is being loaded, scheduling callback at\", now());\n      return null;\n    }\n    if (js_urls == null || js_urls.length === 0) {\n      run_callbacks();\n      return null;\n    }\n    console.log(\"Bokeh: BokehJS not loaded, scheduling load and callback at\", now());\n    root._bokeh_is_loading = js_urls.length;\n    for (var i = 0; i < js_urls.length; i++) {\n      var url = js_urls[i];\n      var s = document.createElement('script');\n      s.src = url;\n      s.async = false;\n      s.onreadystatechange = s.onload = function() {\n        root._bokeh_is_loading--;\n        if (root._bokeh_is_loading === 0) {\n          console.log(\"Bokeh: all BokehJS libraries loaded\");\n          run_callbacks()\n        }\n      };\n      s.onerror = function() {\n        console.warn(\"failed to load library \" + url);\n      };\n      console.log(\"Bokeh: injecting script tag for BokehJS library: \", url);\n      document.getElementsByTagName(\"head\")[0].appendChild(s);\n    }\n  };var element = document.getElementById(\"7fb0f2aa-1217-4916-83d2-671d0ac0a7b0\");\n  if (element == null) {\n    console.log(\"Bokeh: ERROR: autoload.js configured with elementid '7fb0f2aa-1217-4916-83d2-671d0ac0a7b0' but no matching script tag was found. \")\n    return false;\n  }\n\n  var js_urls = [\"https://cdn.pydata.org/bokeh/release/bokeh-0.13.0.min.js\", \"https://cdn.pydata.org/bokeh/release/bokeh-widgets-0.13.0.min.js\", \"https://cdn.pydata.org/bokeh/release/bokeh-tables-0.13.0.min.js\", \"https://cdn.pydata.org/bokeh/release/bokeh-gl-0.13.0.min.js\"];\n\n  var inline_js = [\n    function(Bokeh) {\n      Bokeh.set_log_level(\"info\");\n    },\n    \n    function(Bokeh) {\n      \n    },\n    function(Bokeh) {\n      console.log(\"Bokeh: injecting CSS: https://cdn.pydata.org/bokeh/release/bokeh-0.13.0.min.css\");\n      Bokeh.embed.inject_css(\"https://cdn.pydata.org/bokeh/release/bokeh-0.13.0.min.css\");\n      console.log(\"Bokeh: injecting CSS: https://cdn.pydata.org/bokeh/release/bokeh-widgets-0.13.0.min.css\");\n      Bokeh.embed.inject_css(\"https://cdn.pydata.org/bokeh/release/bokeh-widgets-0.13.0.min.css\");\n      console.log(\"Bokeh: injecting CSS: https://cdn.pydata.org/bokeh/release/bokeh-tables-0.13.0.min.css\");\n      Bokeh.embed.inject_css(\"https://cdn.pydata.org/bokeh/release/bokeh-tables-0.13.0.min.css\");\n    }\n  ];\n\n  function run_inline_js() {\n    \n    if ((root.Bokeh !== undefined) || (force === true)) {\n      for (var i = 0; i < inline_js.length; i++) {\n        inline_js[i].call(root, root.Bokeh);\n      }if (force === true) {\n        display_loaded();\n      }} else if (Date.now() < root._bokeh_timeout) {\n      setTimeout(run_inline_js, 100);\n    } else if (!root._bokeh_failed_load) {\n      console.log(\"Bokeh: BokehJS failed to load within specified timeout.\");\n      root._bokeh_failed_load = true;\n    } else if (force !== true) {\n      var cell = $(document.getElementById(\"7fb0f2aa-1217-4916-83d2-671d0ac0a7b0\")).parents('.cell').data().cell;\n      cell.output_area.append_execute_result(NB_LOAD_WARNING)\n    }\n\n  }\n\n  if (root._bokeh_is_loading === 0) {\n    console.log(\"Bokeh: BokehJS loaded, going straight to plotting\");\n    run_inline_js();\n  } else {\n    load_libs(js_urls, function() {\n      console.log(\"Bokeh: BokehJS plotting callback run at\", now());\n      run_inline_js();\n    });\n  }\n}(window));"
     },
     "metadata": {},
     "output_type": "display_data"
    },
    {
     "data": {
      "text/html": [
       "<script>requirejs.config({paths: { 'plotly': ['https://cdn.plot.ly/plotly-latest.min']},});if(!window.Plotly) {{require(['plotly'],function(plotly) {window.Plotly=plotly;});}}</script>"
      ],
      "text/vnd.plotly.v1+html": [
       "<script>requirejs.config({paths: { 'plotly': ['https://cdn.plot.ly/plotly-latest.min']},});if(!window.Plotly) {{require(['plotly'],function(plotly) {window.Plotly=plotly;});}}</script>"
      ]
     },
     "metadata": {},
     "output_type": "display_data"
    }
   ],
   "source": [
    "#%load_ext Cython\n",
    "#initialize profiler\n",
    "#%load_ext line_profiler\n",
    "\n",
    "import time\n",
    "import json\n",
    "import spacy\n",
    "import regex as re\n",
    "from langdetect import detect\n",
    "from sklearn.feature_extraction.text import TfidfVectorizer\n",
    "from sklearn.decomposition import TruncatedSVD\n",
    "from sklearn.decomposition import NMF as NonnegativeMatrixFactorization\n",
    "from sklearn.cluster import KMeans\n",
    "from sklearn.discriminant_analysis import LinearDiscriminantAnalysis\n",
    "from sklearn.manifold import TSNE\n",
    "from MulticoreTSNE import MulticoreTSNE\n",
    "import numpy as np\n",
    "import sklearn\n",
    "\n",
    "from lapjv import lapjv\n",
    "from scipy.spatial.distance import cdist\n",
    "from scipy.interpolate import griddata\n",
    "from numpy.linalg import norm\n",
    "from sklearn.preprocessing import normalize\n",
    "\n",
    "from ipywidgets import interact, interactive, fixed, interact_manual, IntSlider\n",
    "import ipywidgets as widgets\n",
    "from IPython.display import display, Javascript, HTML\n",
    "\n",
    "from bokeh.io import output_notebook, show\n",
    "from bokeh.models import ColumnDataSource, OpenURL, TapTool\n",
    "from bokeh.plotting import figure, ColumnDataSource\n",
    "from bokeh.palettes import d3, brewer\n",
    "from bokeh.layouts import row, column\n",
    "output_notebook()\n",
    "\n",
    "from plotly.offline import download_plotlyjs, init_notebook_mode, plot, iplot\n",
    "import plotly.graph_objs as go\n",
    "init_notebook_mode(connected=True) # for offline mode use"
   ]
  },
  {
   "cell_type": "markdown",
   "metadata": {
    "local_metadata": {},
    "remote_metadata": {
     "tags": [
      "remove_cell"
     ]
    }
   },
   "source": [
    "## Loading and Cleaning\n",
    "The first step in every NLP project which works with texts is always the preparation of the input data. In this example the Project dump from GEPRIS is loaded and the project descriptions are extracted. After that the texts get cleaned by removing all non-alphabetic chars and all stopwords from the texts. English texts are getting filtered in oder to make the analysis simpler and more comparable."
   ]
  },
  {
   "cell_type": "code",
   "execution_count": 2,
   "metadata": {
    "local_metadata": {},
    "remote_metadata": {
     "tags": [
      "remove_cell"
     ]
    }
   },
   "outputs": [],
   "source": [
    "def loadProjects():\n",
    "    with open('../../../assets/data/project_output/projects.json', 'r') as datafile:\n",
    "        return json.load(datafile)\n",
    "\n",
    "def loadGermanStopwords():\n",
    "    with open('../../../assets/data/nlp/stopwords_de.json', 'r') as datafile:\n",
    "        return json.load(datafile)\n",
    "\n",
    "def loadEnglishStopwords():\n",
    "    with open('../../../assets/data/nlp/stopwords_eng.json', 'r') as datafile:\n",
    "        return json.load(datafile)\n",
    "\n",
    "def cleanProjectTexts():\n",
    "    cleanedProjectTexts = {}\n",
    "    stopwordsDE = set(loadGermanStopwords())\n",
    "    for project in loadProjects():\n",
    "        if project['abstract'] and project['abstract'] != 'Keine Zusammenfassung vorhanden' and detect(project['abstract']) == 'de':\n",
    "            if len(cleanedProjectTexts) >= 100:\n",
    "                break\n",
    "            letters_only = re.sub('[^\\p{L} ]', ' ', project['abstract'])\n",
    "            words = letters_only.lower().split()\n",
    "            usefulWords = [x for x in words if not (x in stopwordsDE or len(x) <= 2 )]\n",
    "            if usefulWords:\n",
    "                cleanedProjectTexts[project['id']] = ' '.join(usefulWords)\n",
    "    return cleanedProjectTexts"
   ]
  },
  {
   "cell_type": "markdown",
   "metadata": {
    "local_metadata": {},
    "remote_metadata": {
     "tags": [
      "remove_cell"
     ]
    }
   },
   "source": [
    "## TF-IDF computation\n",
    "*Summary*:\n",
    "This technique vectorizes a corpus, e.g. a collection of documents, by counting all appearences of words in the corpus and computing the tf-idf measure for each document, word pair."
   ]
  },
  {
   "cell_type": "code",
   "execution_count": 3,
   "metadata": {},
   "outputs": [
    {
     "name": "stderr",
     "output_type": "stream",
     "text": [
      "/Library/Frameworks/Python.framework/Versions/3.7/lib/python3.7/importlib/_bootstrap.py:219: RuntimeWarning:\n",
      "\n",
      "numpy.dtype size changed, may indicate binary incompatibility. Expected 96, got 88\n",
      "\n",
      "/Library/Frameworks/Python.framework/Versions/3.7/lib/python3.7/importlib/_bootstrap.py:219: RuntimeWarning:\n",
      "\n",
      "numpy.ufunc size changed, may indicate binary incompatibility. Expected 192, got 176\n",
      "\n"
     ]
    }
   ],
   "source": [
    "nlp = spacy.load('de')\n",
    "def lemmatize(text):\n",
    "    return [token.lemma_ for token in nlp(text)]\n",
    "\n",
    "def TfIdf(dict):\n",
    "    start = time.time()\n",
    "    tfidf_vectorizer = TfidfVectorizer(tokenizer=lemmatize)\n",
    "    tfs = tfidf_vectorizer.fit_transform(list(dict.values()))\n",
    "    print('TFIDF execution time: ', time.time() - start)\n",
    "    return (tfidf_vectorizer, tfs)"
   ]
  },
  {
   "cell_type": "code",
   "execution_count": 4,
   "metadata": {
    "local_metadata": {},
    "remote_metadata": {
     "tags": [
      "remove_cell"
     ]
    }
   },
   "outputs": [
    {
     "name": "stdout",
     "output_type": "stream",
     "text": [
      "TFIDF execution time:  2.4716567993164062\n"
     ]
    }
   ],
   "source": [
    "tfidf_vectorizer, tfs = TfIdf(cleanProjectTexts())"
   ]
  },
  {
   "cell_type": "markdown",
   "metadata": {
    "local_metadata": {},
    "remote_metadata": {
     "tags": [
      "remove_cell"
     ]
    }
   },
   "source": [
    "# Topic extraction"
   ]
  },
  {
   "cell_type": "markdown",
   "metadata": {
    "local_metadata": {},
    "remote_metadata": {
     "tags": [
      "remove_cell"
     ]
    }
   },
   "source": [
    "## Latent Semantic Analysis\n",
    "*Summary*:\n",
    "The LSA transforms an corpus from its word space given by the tf-idf matrice into its semantic space. In this semantic space the dimensions denote topics in the corpus and every document vector is a linear combination of all the implicitly extracted topics."
   ]
  },
  {
   "cell_type": "code",
   "execution_count": 5,
   "metadata": {},
   "outputs": [],
   "source": [
    "def LSA(tfs,num_topics=40):\n",
    "    start = time.time()\n",
    "    lsa = TruncatedSVD(n_components=num_topics, random_state=0).fit(tfs)\n",
    "    print('LSA execution time: ', time.time() - start)\n",
    "    \n",
    "    #tfidf_feature_names = [str(token) for token in tfidf_vectorizer.get_feature_names()]\n",
    "    #print_top_words(lsa, tfidf_feature_names, 10)\n",
    "    return lsa.transform(tfs), lsa"
   ]
  },
  {
   "cell_type": "markdown",
   "metadata": {
    "local_metadata": {},
    "remote_metadata": {
     "tags": [
      "remove_cell"
     ]
    }
   },
   "source": [
    "## Non-negative matrix factorisation\n",
    "Summary: **Coming soon**"
   ]
  },
  {
   "cell_type": "code",
   "execution_count": 6,
   "metadata": {},
   "outputs": [],
   "source": [
    "def NMF(tfs,num_topics=40):\n",
    "    start = time.time()\n",
    "    nmf = NonnegativeMatrixFactorization(n_components=num_topics, init='random', random_state=0)\n",
    "    nmf.fit(tfs)    \n",
    "    print('NMF execution time: ', time.time() - start)\n",
    "    \n",
    "    #\n",
    "    #print_top_words(nmf, tfidf_feature_names, 10)\n",
    "    return nmf.transform(tfs), nmf"
   ]
  },
  {
   "cell_type": "markdown",
   "metadata": {
    "local_metadata": {},
    "remote_metadata": {
     "tags": [
      "remove_cell"
     ]
    }
   },
   "source": [
    "### Get top words for each dimension\n",
    "In order to get the words which are most important for each dimension (which correspond to topics), the standard basis in the topic space is converted back into the word space. These are exactly the eigenvectors of data. Now the top n biggest entries and their corresponding words form the top words."
   ]
  },
  {
   "cell_type": "code",
   "execution_count": 7,
   "metadata": {},
   "outputs": [],
   "source": [
    "def get_top_words_dim(model, feature_names, n_top_words):\n",
    "    dim_topics = {}\n",
    "    for topic_idx, topic in enumerate(model.components_):\n",
    "        dim_topics[topic_idx] = [feature_names[i]\n",
    "                        for i in topic.argsort()[:-n_top_words - 1:-1]]\n",
    "    return dim_topics"
   ]
  },
  {
   "cell_type": "markdown",
   "metadata": {
    "local_metadata": {},
    "remote_metadata": {
     "tags": [
      "remove_cell"
     ]
    }
   },
   "source": [
    "# Clustering"
   ]
  },
  {
   "cell_type": "markdown",
   "metadata": {
    "local_metadata": {},
    "remote_metadata": {
     "tags": [
      "remove_cell"
     ]
    }
   },
   "source": [
    "## K-Means\n",
    "Summary: Given a clustering the LDA can be used to find a projection into a lower dimensional space which maximizes inter-class variance and minimizes intra-class variance. This leads to neater cluster, but is grounded in the hypotheses that the clusters have some real semantic meaning. Otherwise it may enforce preexisting biases."
   ]
  },
  {
   "cell_type": "code",
   "execution_count": 8,
   "metadata": {},
   "outputs": [],
   "source": [
    "def clusterNumberHeuristic(tfs):\n",
    "    return (tfs.shape[0]*tfs.shape[1])//tfs.count_nonzero()\n",
    "\n",
    "def cluster(tfs_reduced, num_topics=10):\n",
    "    start = time.time()\n",
    "    km = KMeans(n_clusters=num_topics).fit(tfs_reduced)\n",
    "    print('Clustering execution time: ', time.time() - start)\n",
    "    return km"
   ]
  },
  {
   "cell_type": "markdown",
   "metadata": {
    "local_metadata": {},
    "remote_metadata": {
     "tags": [
      "remove_cell"
     ]
    }
   },
   "source": [
    "### Get top words for each cluster\n",
    "The process is similar to the one for getting the top words for each dimension. But in this case the cluster centers from the clustering step are transformed back into the word space and analysed. This is based on the assumption that the cluster center represents the set of all documents in the corrsponding cluster."
   ]
  },
  {
   "cell_type": "code",
   "execution_count": 9,
   "metadata": {},
   "outputs": [],
   "source": [
    "def get_top_words_point(model, point, feature_names, n_top_words):\n",
    "    point = np.array(point).reshape(1,-1)\n",
    "    point.reshape(1, -1)\n",
    "    word_space_point = model.inverse_transform(point)\n",
    "    return [feature_names[j] for j in word_space_point.argsort()[0][:-n_top_words - 1:-1]]"
   ]
  },
  {
   "cell_type": "markdown",
   "metadata": {
    "local_metadata": {},
    "remote_metadata": {
     "tags": [
      "remove_cell"
     ]
    }
   },
   "source": [
    "# Embedding into 2D"
   ]
  },
  {
   "cell_type": "markdown",
   "metadata": {
    "local_metadata": {},
    "remote_metadata": {
     "tags": [
      "remove_cell"
     ]
    }
   },
   "source": [
    "## Linear Discriminant Analysis\n",
    "*Summary*:\n",
    "Given a clustering the LDA can be used to find a projection into a lower dimensional space which maximizes inter-class variance and minimizes intra-class variance. This leads to neater cluster, but is grounded in the hypotheses that the clusters have some real semantic meaning. Otherwise it may enforce preexisting biases."
   ]
  },
  {
   "cell_type": "code",
   "execution_count": 10,
   "metadata": {},
   "outputs": [],
   "source": [
    "def dimReductionLDA(tfs_reduced, clusters, targetDim=2):\n",
    "    start = time.time()\n",
    "    lda = LinearDiscriminantAnalysis(n_components=targetDim)\n",
    "    tfs_2d = lda.fit(tfs_reduced, clusters.labels_).transform(tfs_reduced)\n",
    "    print('LDA execution time: ', time.time() - start)\n",
    "    print(lda.coef_.shape, lda.xbar_.shape)\n",
    "    return tfs_2d, lda"
   ]
  },
  {
   "cell_type": "markdown",
   "metadata": {
    "local_metadata": {},
    "remote_metadata": {
     "tags": [
      "remove_cell"
     ]
    }
   },
   "source": [
    "## tSNE\n",
    "*Summary*:\n",
    "\n",
    "\n",
    "*In-depth explanation*:"
   ]
  },
  {
   "cell_type": "code",
   "execution_count": 11,
   "metadata": {},
   "outputs": [],
   "source": [
    "def dimReductiontSNE(tfs_reduced, perplexity=30, learning_rate=100, targetDim=2):\n",
    "    start = time.time()\n",
    "    tfs_2d = (MulticoreTSNE(n_jobs=8, n_components=targetDim, perplexity=perplexity, learning_rate=learning_rate) if targetDim ==2 else TSNE(n_components=targetDim, perplexity=perplexity, learning_rate=learning_rate)).fit_transform(tfs_reduced)\n",
    "    print('tSNE execution time: ', time.time() - start)\n",
    "    return tfs_2d"
   ]
  },
  {
   "cell_type": "markdown",
   "metadata": {
    "local_metadata": {},
    "remote_metadata": {
     "tags": [
      "remove_cell"
     ]
    }
   },
   "source": [
    "# Analysis"
   ]
  },
  {
   "cell_type": "markdown",
   "metadata": {},
   "source": [
    "### Statistics on words in the corpus"
   ]
  },
  {
   "cell_type": "code",
   "execution_count": 12,
   "metadata": {
    "scrolled": true
   },
   "outputs": [
    {
     "name": "stdout",
     "output_type": "stream",
     "text": [
      "{'abadeh': matrix([[11.2039067]]), 'abb': matrix([[12.23526522]]), 'abbilden': matrix([[9.3049031]]), 'abbilder': matrix([[9.70365441]]), 'abbildungen': matrix([[9.52331889]]), 'abcd': matrix([[10.42773443]]), 'abfolge': matrix([[10.09141109]]), 'abfolgen': matrix([[9.73277856]]), 'abgebildet': matrix([[10.99777417]]), 'abgeflacht': matrix([[9.12650326]]), 'abgelegen': matrix([[9.01793652]]), 'abgeleitet': matrix([[10.55527798]]), 'abgereicherten': matrix([[7.58641019]]), 'abgeschlossen': matrix([[10.01247332]]), 'abgewandelt': matrix([[8.06990064]]), 'abgrenzen': matrix([[8.24290846]]), 'abholzungen': matrix([[11.44032269]]), 'abhängig': matrix([[10.14066222]]), 'abhängigkeit': matrix([[10.02213842]]), 'abhängigkeiten': matrix([[9.1662304]]), 'abiotischen': matrix([[9.5436784]]), 'abiotischer': matrix([[10.47817207]]), 'abkühlgeschichte': matrix([[11.06447042]]), 'ablagerung': matrix([[7.90900962]]), 'ablagerungen': matrix([[6.58643354]]), 'ablagerungsgeschichte': matrix([[8.18676512]]), 'ablauf': matrix([[7.40990021]]), 'ablaufen': matrix([[7.53685855]]), 'ablaufend': matrix([[6.46882317]]), 'ableiten': matrix([[7.52513387]]), 'ableitung': matrix([[8.84540171]]), 'abmessungen': matrix([[7.93112998]]), 'abrufen': matrix([[7.45398756]]), 'abschirmen': matrix([[7.51404586]]), 'abschließen': matrix([[9.09597739]]), 'abschließend': matrix([[8.89656353]]), 'abschluss': matrix([[10.50578992]]), 'abschmelzung': matrix([[6.83005973]]), 'abschnitte': matrix([[8.74646629]]), 'abschätzen': matrix([[6.44184884]]), 'abschätzung': matrix([[7.80312879]]), 'abschätzungen': matrix([[8.06511109]]), 'absicherung': matrix([[7.70708023]]), 'absinken': matrix([[6.40700948]]), 'absolut': matrix([[7.5122533]]), 'abstammen': matrix([[7.85616141]]), 'abständen': matrix([[7.2723217]]), 'abtragen': matrix([[7.7166938]]), 'abundanz': matrix([[9.37051529]]), 'abwandern': matrix([[7.44953419]]), 'abwanderungsverhalten': matrix([[6.50722151]]), 'abwandlungen': matrix([[9.79384023]]), 'abwechslungsreich': matrix([[7.91641967]]), 'acanthochitona': matrix([[7.53980082]]), 'acanthodier': matrix([[6.77259096]]), 'access': matrix([[10.3704646]]), 'acentropinae': matrix([[8.3575787]]), 'achondrite': matrix([[9.28471706]]), 'aculeata': matrix([[6.25170813]]), 'aculeate': matrix([[8.66799884]]), 'aculeaten': matrix([[5.73060717]]), 'aculeater': matrix([[7.31395049]]), 'aculifera': matrix([[5.98899319]]), 'adaptation': matrix([[8.67153695]]), 'adaptive': matrix([[10.19953805]]), 'adaptiven': matrix([[6.44027409]]), 'addax': matrix([[7.1582684]]), 'adelphotaxon': matrix([[8.50057911]]), 'aderung': matrix([[11.59304592]]), 'adressieren': matrix([[8.27584211]]), 'adulten': matrix([[10.63310641]]), 'adäquat': matrix([[8.69321641]]), 'aerobe': matrix([[9.19004495]]), 'aflp': matrix([[7.85438797]]), 'afm': matrix([[7.97077357]]), 'afrika': matrix([[11.09878169]]), 'afrikanisch': matrix([[7.57312309]]), 'afrikas': matrix([[8.6501965]]), 'afrotropis': matrix([[8.4275262]]), 'akkretion': matrix([[7.96694212]]), 'akkretioniert': matrix([[8.65481165]]), 'akkretionierten': matrix([[9.66531517]]), 'akkretioniertes': matrix([[11.10429925]]), 'akkretionsgeschichte': matrix([[7.83750657]]), 'akkretionsphase': matrix([[7.19902322]]), 'akkretionsrate': matrix([[8.10439904]]), 'akkumulationsquote': matrix([[11.56710546]]), 'akkumulationsrate': matrix([[11.37602745]]), 'aktiv': matrix([[9.12410383]]), 'aktive': matrix([[10.33381121]]), 'aktivität': matrix([[7.07151755]]), 'aktualisieren': matrix([[7.66624231]]), 'aktualisierung': matrix([[7.92144752]]), 'aktuell': matrix([[8.47103255]]), 'akustisch': matrix([[9.37814416]]), 'akustische': matrix([[6.42146192]]), 'akzeptieren': matrix([[5.62462547]]), 'akzessorischer': matrix([[10.19804473]]), 'algorithmen': matrix([[5.62490731]]), 'alkenon': matrix([[9.28192731]])}\n"
     ]
    },
    {
     "data": {
      "text/html": [
       "\n",
       "\n",
       "\n",
       "\n",
       "\n",
       "\n",
       "  <div class=\"bk-root\" id=\"044f47cd-1c45-4ddd-9e8a-5c832db5c355\"></div>\n"
      ]
     },
     "metadata": {},
     "output_type": "display_data"
    },
    {
     "data": {
      "application/javascript": [
       "(function(root) {\n",
       "  function embed_document(root) {\n",
       "    \n",
       "  var docs_json = {\"265807f9-5fc1-48d5-9e9e-611394933c31\":{\"roots\":{\"references\":[{\"attributes\":{},\"id\":\"aa491c16-e92f-4c31-a5fd-6b4ac9eb660b\",\"type\":\"CategoricalScale\"},{\"attributes\":{\"callback\":null,\"data\":{\"top\":[{\"__ndarray__\":\"IJKidWZoJkA=\",\"dtype\":\"float64\",\"shape\":[1,1]},{\"__ndarray__\":\"FT3krnR4KEA=\",\"dtype\":\"float64\",\"shape\":[1,1]},{\"__ndarray__\":\"OQk5QhycIkA=\",\"dtype\":\"float64\",\"shape\":[1,1]},{\"__ndarray__\":\"BjMfZEVoI0A=\",\"dtype\":\"float64\",\"shape\":[1,1]},{\"__ndarray__\":\"CIYbdPALI0A=\",\"dtype\":\"float64\",\"shape\":[1,1]},{\"__ndarray__\":\"TeK8AQDbJEA=\",\"dtype\":\"float64\",\"shape\":[1,1]},{\"__ndarray__\":\"MRFEb80uJEA=\",\"dtype\":\"float64\",\"shape\":[1,1]},{\"__ndarray__\":\"5QSCwC53I0A=\",\"dtype\":\"float64\",\"shape\":[1,1]},{\"__ndarray__\":\"V4KsQdz+JUA=\",\"dtype\":\"float64\",\"shape\":[1,1]},{\"__ndarray__\":\"mN0MCcVAIkA=\",\"dtype\":\"float64\",\"shape\":[1,1]},{\"__ndarray__\":\"v4jM+S4JIkA=\",\"dtype\":\"float64\",\"shape\":[1,1]},{\"__ndarray__\":\"/xJDZU0cJUA=\",\"dtype\":\"float64\",\"shape\":[1,1]},{\"__ndarray__\":\"ttn16XtYHkA=\",\"dtype\":\"float64\",\"shape\":[1,1]},{\"__ndarray__\":\"FZBU52IGJEA=\",\"dtype\":\"float64\",\"shape\":[1,1]},{\"__ndarray__\":\"6Rw8BMojIEA=\",\"dtype\":\"float64\",\"shape\":[1,1]},{\"__ndarray__\":\"AueMf158IEA=\",\"dtype\":\"float64\",\"shape\":[1,1]},{\"__ndarray__\":\"kGCe+XHhJkA=\",\"dtype\":\"float64\",\"shape\":[1,1]},{\"__ndarray__\":\"DAfi4ARIJEA=\",\"dtype\":\"float64\",\"shape\":[1,1]},{\"__ndarray__\":\"dHUmulULJEA=\",\"dtype\":\"float64\",\"shape\":[1,1]},{\"__ndarray__\":\"CfePJhxVIkA=\",\"dtype\":\"float64\",\"shape\":[1,1]},{\"__ndarray__\":\"SFjdA10WI0A=\",\"dtype\":\"float64\",\"shape\":[1,1]},{\"__ndarray__\":\"lB8Z+NL0JEA=\",\"dtype\":\"float64\",\"shape\":[1,1]},{\"__ndarray__\":\"mFZBRAIhJkA=\",\"dtype\":\"float64\",\"shape\":[1,1]},{\"__ndarray__\":\"h8yjatOiH0A=\",\"dtype\":\"float64\",\"shape\":[1,1]},{\"__ndarray__\":\"0mB8CIJYGkA=\",\"dtype\":\"float64\",\"shape\":[1,1]},{\"__ndarray__\":\"zlx6rZ9fIEA=\",\"dtype\":\"float64\",\"shape\":[1,1]},{\"__ndarray__\":\"Uxhy4byjHUA=\",\"dtype\":\"float64\",\"shape\":[1,1]},{\"__ndarray__\":\"2J5cP74lHkA=\",\"dtype\":\"float64\",\"shape\":[1,1]},{\"__ndarray__\":\"yIMnLhPgGUA=\",\"dtype\":\"float64\",\"shape\":[1,1]},{\"__ndarray__\":\"uBY/sbwZHkA=\",\"dtype\":\"float64\",\"shape\":[1,1]},{\"__ndarray__\":\"7oEWftiwIUA=\",\"dtype\":\"float64\",\"shape\":[1,1]},{\"__ndarray__\":\"5aA5I3q5H0A=\",\"dtype\":\"float64\",\"shape\":[1,1]},{\"__ndarray__\":\"EjK4HeLQHUA=\",\"dtype\":\"float64\",\"shape\":[1,1]},{\"__ndarray__\":\"cJqQCWIOHkA=\",\"dtype\":\"float64\",\"shape\":[1,1]},{\"__ndarray__\":\"Ro7T8iMxIkA=\",\"dtype\":\"float64\",\"shape\":[1,1]},{\"__ndarray__\":\"EG4GYArLIUA=\",\"dtype\":\"float64\",\"shape\":[1,1]},{\"__ndarray__\":\"2ktk5fYCJUA=\",\"dtype\":\"float64\",\"shape\":[1,1]},{\"__ndarray__\":\"4sF0LftRG0A=\",\"dtype\":\"float64\",\"shape\":[1,1]},{\"__ndarray__\":\"SPBh1DB+IUA=\",\"dtype\":\"float64\",\"shape\":[1,1]},{\"__ndarray__\":\"yDF2BXTEGUA=\",\"dtype\":\"float64\",\"shape\":[1,1]},{\"__ndarray__\":\"9CJ6ZGc2H0A=\",\"dtype\":\"float64\",\"shape\":[1,1]},{\"__ndarray__\":\"4qKCPVYhIEA=\",\"dtype\":\"float64\",\"shape\":[1,1]},{\"__ndarray__\":\"D2rQ1gzUHkA=\",\"dtype\":\"float64\",\"shape\":[1,1]},{\"__ndarray__\":\"S6iPF8egGUA=\",\"dtype\":\"float64\",\"shape\":[1,1]},{\"__ndarray__\":\"a2DLIIwMHkA=\",\"dtype\":\"float64\",\"shape\":[1,1]},{\"__ndarray__\":\"faxik7VsH0A=\",\"dtype\":\"float64\",\"shape\":[1,1]},{\"__ndarray__\":\"7O0qgNsWHUA=\",\"dtype\":\"float64\",\"shape\":[1,1]},{\"__ndarray__\":\"RRcN++TdHkA=\",\"dtype\":\"float64\",\"shape\":[1,1]},{\"__ndarray__\":\"28b2LbS9IkA=\",\"dtype\":\"float64\",\"shape\":[1,1]},{\"__ndarray__\":\"opiXsFLMHUA=\",\"dtype\":\"float64\",\"shape\":[1,1]},{\"__ndarray__\":\"Bo2GE2UHGkA=\",\"dtype\":\"float64\",\"shape\":[1,1]},{\"__ndarray__\":\"tNzyOXKWI0A=\",\"dtype\":\"float64\",\"shape\":[1,1]},{\"__ndarray__\":\"VP/C6mmqH0A=\",\"dtype\":\"float64\",\"shape\":[1,1]},{\"__ndarray__\":\"GdnEi8EoHkA=\",\"dtype\":\"float64\",\"shape\":[1,1]},{\"__ndarray__\":\"WO/lFSIXG0A=\",\"dtype\":\"float64\",\"shape\":[1,1]},{\"__ndarray__\":\"PSwsia29JEA=\",\"dtype\":\"float64\",\"shape\":[1,1]},{\"__ndarray__\":\"3W4jjhS3IEA=\",\"dtype\":\"float64\",\"shape\":[1,1]},{\"__ndarray__\":\"bdkwb8aRIkA=\",\"dtype\":\"float64\",\"shape\":[1,1]},{\"__ndarray__\":\"3XZxxr8BGUA=\",\"dtype\":\"float64\",\"shape\":[1,1]},{\"__ndarray__\":\"RiO+8QNWIUA=\",\"dtype\":\"float64\",\"shape\":[1,1]},{\"__ndarray__\":\"dPIsSSTsFkA=\",\"dtype\":\"float64\",\"shape\":[1,1]},{\"__ndarray__\":\"AnfQPHxBHUA=\",\"dtype\":\"float64\",\"shape\":[1,1]},{\"__ndarray__\":\"qk2fobr0F0A=\",\"dtype\":\"float64\",\"shape\":[1,1]},{\"__ndarray__\":\"wjXusNNXIUA=\",\"dtype\":\"float64\",\"shape\":[1,1]},{\"__ndarray__\":\"gobJ2SlmJEA=\",\"dtype\":\"float64\",\"shape\":[1,1]},{\"__ndarray__\":\"QO7HNdfCGUA=\",\"dtype\":\"float64\",\"shape\":[1,1]},{\"__ndarray__\":\"ZFujHBGiHEA=\",\"dtype\":\"float64\",\"shape\":[1,1]},{\"__ndarray__\":\"tpWg50sAIUA=\",\"dtype\":\"float64\",\"shape\":[1,1]},{\"__ndarray__\":\"bfIQt6MvJ0A=\",\"dtype\":\"float64\",\"shape\":[1,1]},{\"__ndarray__\":\"ZjZtLTuNIEA=\",\"dtype\":\"float64\",\"shape\":[1,1]},{\"__ndarray__\":\"wtzUhSZEJUA=\",\"dtype\":\"float64\",\"shape\":[1,1]},{\"__ndarray__\":\"psjvQu1iIUA=\",\"dtype\":\"float64\",\"shape\":[1,1]},{\"__ndarray__\":\"281gkk1hIkA=\",\"dtype\":\"float64\",\"shape\":[1,1]},{\"__ndarray__\":\"d+lNruRqH0A=\",\"dtype\":\"float64\",\"shape\":[1,1]},{\"__ndarray__\":\"uNuidxLiH0A=\",\"dtype\":\"float64\",\"shape\":[1,1]},{\"__ndarray__\":\"VD9ug5MyJkA=\",\"dtype\":\"float64\",\"shape\":[1,1]},{\"__ndarray__\":\"vSdgx+BKHkA=\",\"dtype\":\"float64\",\"shape\":[1,1]},{\"__ndarray__\":\"ipBCjuZMIUA=\",\"dtype\":\"float64\",\"shape\":[1,1]},{\"__ndarray__\":\"/77MtuTaIEA=\",\"dtype\":\"float64\",\"shape\":[1,1]},{\"__ndarray__\":\"JtsvEybeH0A=\",\"dtype\":\"float64\",\"shape\":[1,1]},{\"__ndarray__\":\"rT/ZeENPIUA=\",\"dtype\":\"float64\",\"shape\":[1,1]},{\"__ndarray__\":\"nciVMKRUI0A=\",\"dtype\":\"float64\",\"shape\":[1,1]},{\"__ndarray__\":\"znwItmY1JkA=\",\"dtype\":\"float64\",\"shape\":[1,1]},{\"__ndarray__\":\"QmXDUptZH0A=\",\"dtype\":\"float64\",\"shape\":[1,1]},{\"__ndarray__\":\"BF9GvszLHEA=\",\"dtype\":\"float64\",\"shape\":[1,1]},{\"__ndarray__\":\"UZlpynM1IEA=\",\"dtype\":\"float64\",\"shape\":[1,1]},{\"__ndarray__\":\"zx6GpVsiJ0A=\",\"dtype\":\"float64\",\"shape\":[1,1]},{\"__ndarray__\":\"iCKHq4bAJkA=\",\"dtype\":\"float64\",\"shape\":[1,1]},{\"__ndarray__\":\"CYOWiYo/IkA=\",\"dtype\":\"float64\",\"shape\":[1,1]},{\"__ndarray__\":\"7RxoTemqJEA=\",\"dtype\":\"float64\",\"shape\":[1,1]},{\"__ndarray__\":\"aR1B5TtJHEA=\",\"dtype\":\"float64\",\"shape\":[1,1]},{\"__ndarray__\":\"5tfObDuqHkA=\",\"dtype\":\"float64\",\"shape\":[1,1]},{\"__ndarray__\":\"cYc18I+vH0A=\",\"dtype\":\"float64\",\"shape\":[1,1]},{\"__ndarray__\":\"spKzLSvxIEA=\",\"dtype\":\"float64\",\"shape\":[1,1]},{\"__ndarray__\":\"9/dpHJzBIkA=\",\"dtype\":\"float64\",\"shape\":[1,1]},{\"__ndarray__\":\"v160tpOvGUA=\",\"dtype\":\"float64\",\"shape\":[1,1]},{\"__ndarray__\":\"qYza0Z1/FkA=\",\"dtype\":\"float64\",\"shape\":[1,1]},{\"__ndarray__\":\"yp9xHmZlJEA=\",\"dtype\":\"float64\",\"shape\":[1,1]},{\"__ndarray__\":\"qelqs+d/FkA=\",\"dtype\":\"float64\",\"shape\":[1,1]},{\"__ndarray__\":\"yQ7DxliQIkA=\",\"dtype\":\"float64\",\"shape\":[1,1]}],\"x\":[\"abadeh\",\"abb\",\"abbilden\",\"abbilder\",\"abbildungen\",\"abcd\",\"abfolge\",\"abfolgen\",\"abgebildet\",\"abgeflacht\",\"abgelegen\",\"abgeleitet\",\"abgereicherten\",\"abgeschlossen\",\"abgewandelt\",\"abgrenzen\",\"abholzungen\",\"abh\\u00e4ngig\",\"abh\\u00e4ngigkeit\",\"abh\\u00e4ngigkeiten\",\"abiotischen\",\"abiotischer\",\"abk\\u00fchlgeschichte\",\"ablagerung\",\"ablagerungen\",\"ablagerungsgeschichte\",\"ablauf\",\"ablaufen\",\"ablaufend\",\"ableiten\",\"ableitung\",\"abmessungen\",\"abrufen\",\"abschirmen\",\"abschlie\\u00dfen\",\"abschlie\\u00dfend\",\"abschluss\",\"abschmelzung\",\"abschnitte\",\"absch\\u00e4tzen\",\"absch\\u00e4tzung\",\"absch\\u00e4tzungen\",\"absicherung\",\"absinken\",\"absolut\",\"abstammen\",\"abst\\u00e4nden\",\"abtragen\",\"abundanz\",\"abwandern\",\"abwanderungsverhalten\",\"abwandlungen\",\"abwechslungsreich\",\"acanthochitona\",\"acanthodier\",\"access\",\"acentropinae\",\"achondrite\",\"aculeata\",\"aculeate\",\"aculeaten\",\"aculeater\",\"aculifera\",\"adaptation\",\"adaptive\",\"adaptiven\",\"addax\",\"adelphotaxon\",\"aderung\",\"adressieren\",\"adulten\",\"ad\\u00e4quat\",\"aerobe\",\"aflp\",\"afm\",\"afrika\",\"afrikanisch\",\"afrikas\",\"afrotropis\",\"akkretion\",\"akkretioniert\",\"akkretionierten\",\"akkretioniertes\",\"akkretionsgeschichte\",\"akkretionsphase\",\"akkretionsrate\",\"akkumulationsquote\",\"akkumulationsrate\",\"aktiv\",\"aktive\",\"aktivit\\u00e4t\",\"aktualisieren\",\"aktualisierung\",\"aktuell\",\"akustisch\",\"akustische\",\"akzeptieren\",\"akzessorischer\",\"algorithmen\",\"alkenon\"]},\"selected\":{\"id\":\"57cdca38-c8b5-456e-9cd6-ee22b991a7f9\",\"type\":\"Selection\"},\"selection_policy\":{\"id\":\"1f4d2bf0-35bc-4f7a-ac0a-a949497ddfa6\",\"type\":\"UnionRenderers\"}},\"id\":\"3fcfb85a-68b5-4dec-996d-b733e3acb282\",\"type\":\"ColumnDataSource\"},{\"attributes\":{\"source\":{\"id\":\"3fcfb85a-68b5-4dec-996d-b733e3acb282\",\"type\":\"ColumnDataSource\"}},\"id\":\"a55853be-124e-45f7-8e7a-f6af99f1bb6b\",\"type\":\"CDSView\"},{\"attributes\":{},\"id\":\"b0621218-15e4-4319-b55f-2063c6edbc22\",\"type\":\"LinearScale\"},{\"attributes\":{},\"id\":\"992a328e-a2e5-4cf5-b7c9-ea9619fb8e0b\",\"type\":\"BasicTickFormatter\"},{\"attributes\":{},\"id\":\"bef6f0b7-fcf3-4bb0-98d9-493ef881448f\",\"type\":\"PanTool\"},{\"attributes\":{},\"id\":\"38edb0c3-628c-42e9-8610-c31ec477d636\",\"type\":\"SaveTool\"},{\"attributes\":{\"formatter\":{\"id\":\"58c5b592-515c-4039-a07d-219a98dec9a7\",\"type\":\"CategoricalTickFormatter\"},\"plot\":{\"id\":\"698d000c-f719-40bd-892c-e8986d5ab3d0\",\"subtype\":\"Figure\",\"type\":\"Plot\"},\"ticker\":{\"id\":\"17f374d2-5ea7-46c7-8dfd-aebaf085936d\",\"type\":\"CategoricalTicker\"}},\"id\":\"5c61085e-001c-4204-be08-9f08cb095295\",\"type\":\"CategoricalAxis\"},{\"attributes\":{},\"id\":\"58c5b592-515c-4039-a07d-219a98dec9a7\",\"type\":\"CategoricalTickFormatter\"},{\"attributes\":{\"callback\":null,\"factors\":[\"abadeh\",\"abb\",\"abbilden\",\"abbilder\",\"abbildungen\",\"abcd\",\"abfolge\",\"abfolgen\",\"abgebildet\",\"abgeflacht\",\"abgelegen\",\"abgeleitet\",\"abgereicherten\",\"abgeschlossen\",\"abgewandelt\",\"abgrenzen\",\"abholzungen\",\"abh\\u00e4ngig\",\"abh\\u00e4ngigkeit\",\"abh\\u00e4ngigkeiten\",\"abiotischen\",\"abiotischer\",\"abk\\u00fchlgeschichte\",\"ablagerung\",\"ablagerungen\",\"ablagerungsgeschichte\",\"ablauf\",\"ablaufen\",\"ablaufend\",\"ableiten\",\"ableitung\",\"abmessungen\",\"abrufen\",\"abschirmen\",\"abschlie\\u00dfen\",\"abschlie\\u00dfend\",\"abschluss\",\"abschmelzung\",\"abschnitte\",\"absch\\u00e4tzen\",\"absch\\u00e4tzung\",\"absch\\u00e4tzungen\",\"absicherung\",\"absinken\",\"absolut\",\"abstammen\",\"abst\\u00e4nden\",\"abtragen\",\"abundanz\",\"abwandern\",\"abwanderungsverhalten\",\"abwandlungen\",\"abwechslungsreich\",\"acanthochitona\",\"acanthodier\",\"access\",\"acentropinae\",\"achondrite\",\"aculeata\",\"aculeate\",\"aculeaten\",\"aculeater\",\"aculifera\",\"adaptation\",\"adaptive\",\"adaptiven\",\"addax\",\"adelphotaxon\",\"aderung\",\"adressieren\",\"adulten\",\"ad\\u00e4quat\",\"aerobe\",\"aflp\",\"afm\",\"afrika\",\"afrikanisch\",\"afrikas\",\"afrotropis\",\"akkretion\",\"akkretioniert\",\"akkretionierten\",\"akkretioniertes\",\"akkretionsgeschichte\",\"akkretionsphase\",\"akkretionsrate\",\"akkumulationsquote\",\"akkumulationsrate\",\"aktiv\",\"aktive\",\"aktivit\\u00e4t\",\"aktualisieren\",\"aktualisierung\",\"aktuell\",\"akustisch\",\"akustische\",\"akzeptieren\",\"akzessorischer\",\"algorithmen\",\"alkenon\"]},\"id\":\"c208e768-69aa-4b3d-bdbd-f943cff9754c\",\"type\":\"FactorRange\"},{\"attributes\":{\"plot\":{\"id\":\"698d000c-f719-40bd-892c-e8986d5ab3d0\",\"subtype\":\"Figure\",\"type\":\"Plot\"},\"ticker\":{\"id\":\"17f374d2-5ea7-46c7-8dfd-aebaf085936d\",\"type\":\"CategoricalTicker\"}},\"id\":\"7b7ff4ad-f83c-4c2c-912a-19f4ee415b6a\",\"type\":\"Grid\"},{\"attributes\":{\"bottom_units\":\"screen\",\"fill_alpha\":{\"value\":0.5},\"fill_color\":{\"value\":\"lightgrey\"},\"left_units\":\"screen\",\"level\":\"overlay\",\"line_alpha\":{\"value\":1.0},\"line_color\":{\"value\":\"black\"},\"line_dash\":[4,4],\"line_width\":{\"value\":2},\"plot\":null,\"render_mode\":\"css\",\"right_units\":\"screen\",\"top_units\":\"screen\"},\"id\":\"940a0c4b-4df1-4e39-9ba4-b872a9fa5e17\",\"type\":\"BoxAnnotation\"},{\"attributes\":{\"fill_alpha\":{\"value\":0.1},\"fill_color\":{\"value\":\"#1f77b4\"},\"line_alpha\":{\"value\":0.1},\"line_color\":{\"value\":\"#1f77b4\"},\"top\":{\"field\":\"top\"},\"width\":{\"value\":10},\"x\":{\"field\":\"x\"}},\"id\":\"88a20591-92a3-4068-845f-9f0bc96f56de\",\"type\":\"VBar\"},{\"attributes\":{},\"id\":\"57cdca38-c8b5-456e-9cd6-ee22b991a7f9\",\"type\":\"Selection\"},{\"attributes\":{\"data_source\":{\"id\":\"3fcfb85a-68b5-4dec-996d-b733e3acb282\",\"type\":\"ColumnDataSource\"},\"glyph\":{\"id\":\"a1787141-7bfd-4525-ac6c-9f7f24064aac\",\"type\":\"VBar\"},\"hover_glyph\":null,\"muted_glyph\":null,\"nonselection_glyph\":{\"id\":\"88a20591-92a3-4068-845f-9f0bc96f56de\",\"type\":\"VBar\"},\"selection_glyph\":null,\"view\":{\"id\":\"a55853be-124e-45f7-8e7a-f6af99f1bb6b\",\"type\":\"CDSView\"}},\"id\":\"f44bb205-f683-4205-b818-5c39bb15d7f9\",\"type\":\"GlyphRenderer\"},{\"attributes\":{\"formatter\":{\"id\":\"992a328e-a2e5-4cf5-b7c9-ea9619fb8e0b\",\"type\":\"BasicTickFormatter\"},\"plot\":{\"id\":\"698d000c-f719-40bd-892c-e8986d5ab3d0\",\"subtype\":\"Figure\",\"type\":\"Plot\"},\"ticker\":{\"id\":\"ce1811af-ee47-4237-bb9a-a5701dbea00f\",\"type\":\"BasicTicker\"}},\"id\":\"4677c83e-128e-4067-8395-cd1faa000d16\",\"type\":\"LinearAxis\"},{\"attributes\":{},\"id\":\"17f374d2-5ea7-46c7-8dfd-aebaf085936d\",\"type\":\"CategoricalTicker\"},{\"attributes\":{},\"id\":\"1f4d2bf0-35bc-4f7a-ac0a-a949497ddfa6\",\"type\":\"UnionRenderers\"},{\"attributes\":{},\"id\":\"ce1811af-ee47-4237-bb9a-a5701dbea00f\",\"type\":\"BasicTicker\"},{\"attributes\":{\"fill_color\":{\"value\":\"#1f77b4\"},\"line_color\":{\"value\":\"#1f77b4\"},\"top\":{\"field\":\"top\"},\"width\":{\"value\":10},\"x\":{\"field\":\"x\"}},\"id\":\"a1787141-7bfd-4525-ac6c-9f7f24064aac\",\"type\":\"VBar\"},{\"attributes\":{\"active_drag\":\"auto\",\"active_inspect\":\"auto\",\"active_multi\":null,\"active_scroll\":\"auto\",\"active_tap\":\"auto\",\"tools\":[{\"id\":\"bef6f0b7-fcf3-4bb0-98d9-493ef881448f\",\"type\":\"PanTool\"},{\"id\":\"f481db33-db65-4606-a367-41d2236cef66\",\"type\":\"WheelZoomTool\"},{\"id\":\"9c1b021f-6d84-448b-a66a-561ca7636c4d\",\"type\":\"BoxZoomTool\"},{\"id\":\"38edb0c3-628c-42e9-8610-c31ec477d636\",\"type\":\"SaveTool\"},{\"id\":\"6e63ee69-eee4-473d-a2c4-e25fa86a8e67\",\"type\":\"ResetTool\"},{\"id\":\"1c71428f-5eea-4c73-8f22-16feb8da8b6e\",\"type\":\"HelpTool\"}]},\"id\":\"a2b3de07-be9f-419a-b05f-b00e7b46aca9\",\"type\":\"Toolbar\"},{\"attributes\":{\"below\":[{\"id\":\"5c61085e-001c-4204-be08-9f08cb095295\",\"type\":\"CategoricalAxis\"}],\"left\":[{\"id\":\"4677c83e-128e-4067-8395-cd1faa000d16\",\"type\":\"LinearAxis\"}],\"plot_height\":800,\"plot_width\":800,\"renderers\":[{\"id\":\"5c61085e-001c-4204-be08-9f08cb095295\",\"type\":\"CategoricalAxis\"},{\"id\":\"7b7ff4ad-f83c-4c2c-912a-19f4ee415b6a\",\"type\":\"Grid\"},{\"id\":\"4677c83e-128e-4067-8395-cd1faa000d16\",\"type\":\"LinearAxis\"},{\"id\":\"cec5e31c-6c67-4df5-912f-0b97b73efb21\",\"type\":\"Grid\"},{\"id\":\"940a0c4b-4df1-4e39-9ba4-b872a9fa5e17\",\"type\":\"BoxAnnotation\"},{\"id\":\"f44bb205-f683-4205-b818-5c39bb15d7f9\",\"type\":\"GlyphRenderer\"}],\"title\":null,\"toolbar\":{\"id\":\"a2b3de07-be9f-419a-b05f-b00e7b46aca9\",\"type\":\"Toolbar\"},\"x_range\":{\"id\":\"c208e768-69aa-4b3d-bdbd-f943cff9754c\",\"type\":\"FactorRange\"},\"x_scale\":{\"id\":\"aa491c16-e92f-4c31-a5fd-6b4ac9eb660b\",\"type\":\"CategoricalScale\"},\"y_range\":{\"id\":\"19ecedd7-7970-4fa0-8e7c-f8967d60e5d1\",\"type\":\"DataRange1d\"},\"y_scale\":{\"id\":\"b0621218-15e4-4319-b55f-2063c6edbc22\",\"type\":\"LinearScale\"}},\"id\":\"698d000c-f719-40bd-892c-e8986d5ab3d0\",\"subtype\":\"Figure\",\"type\":\"Plot\"},{\"attributes\":{\"callback\":null},\"id\":\"19ecedd7-7970-4fa0-8e7c-f8967d60e5d1\",\"type\":\"DataRange1d\"},{\"attributes\":{},\"id\":\"f481db33-db65-4606-a367-41d2236cef66\",\"type\":\"WheelZoomTool\"},{\"attributes\":{},\"id\":\"6e63ee69-eee4-473d-a2c4-e25fa86a8e67\",\"type\":\"ResetTool\"},{\"attributes\":{\"dimension\":1,\"plot\":{\"id\":\"698d000c-f719-40bd-892c-e8986d5ab3d0\",\"subtype\":\"Figure\",\"type\":\"Plot\"},\"ticker\":{\"id\":\"ce1811af-ee47-4237-bb9a-a5701dbea00f\",\"type\":\"BasicTicker\"}},\"id\":\"cec5e31c-6c67-4df5-912f-0b97b73efb21\",\"type\":\"Grid\"},{\"attributes\":{\"overlay\":{\"id\":\"940a0c4b-4df1-4e39-9ba4-b872a9fa5e17\",\"type\":\"BoxAnnotation\"}},\"id\":\"9c1b021f-6d84-448b-a66a-561ca7636c4d\",\"type\":\"BoxZoomTool\"},{\"attributes\":{},\"id\":\"1c71428f-5eea-4c73-8f22-16feb8da8b6e\",\"type\":\"HelpTool\"}],\"root_ids\":[\"698d000c-f719-40bd-892c-e8986d5ab3d0\"]},\"title\":\"Bokeh Application\",\"version\":\"0.13.0\"}};\n",
       "  var render_items = [{\"docid\":\"265807f9-5fc1-48d5-9e9e-611394933c31\",\"roots\":{\"698d000c-f719-40bd-892c-e8986d5ab3d0\":\"044f47cd-1c45-4ddd-9e8a-5c832db5c355\"}}];\n",
       "  root.Bokeh.embed.embed_items_notebook(docs_json, render_items);\n",
       "\n",
       "  }\n",
       "  if (root.Bokeh !== undefined) {\n",
       "    embed_document(root);\n",
       "  } else {\n",
       "    var attempts = 0;\n",
       "    var timer = setInterval(function(root) {\n",
       "      if (root.Bokeh !== undefined) {\n",
       "        embed_document(root);\n",
       "        clearInterval(timer);\n",
       "      }\n",
       "      attempts++;\n",
       "      if (attempts > 100) {\n",
       "        console.log(\"Bokeh: ERROR: Unable to run BokehJS code because BokehJS library is missing\")\n",
       "        clearInterval(timer);\n",
       "      }\n",
       "    }, 10, root)\n",
       "  }\n",
       "})(window);"
      ],
      "application/vnd.bokehjs_exec.v0+json": ""
     },
     "metadata": {
      "application/vnd.bokehjs_exec.v0+json": {
       "id": "698d000c-f719-40bd-892c-e8986d5ab3d0"
      }
     },
     "output_type": "display_data"
    }
   ],
   "source": [
    "words = dict(zip(tfidf_vectorizer.get_feature_names(), np.sum(tfs, axis=1)))\n",
    "print(words)\n",
    "#print()\n",
    "p = figure(x_range=[k for k,v in words.items()], plot_width=800, plot_height=800, title=None)\n",
    "p.vbar(x=[k for k,v in words.items()], top=[v for k,v in words.items()], width=10)\n",
    "show(p)"
   ]
  },
  {
   "cell_type": "markdown",
   "metadata": {},
   "source": [
    "# Linearize results into a grid"
   ]
  },
  {
   "cell_type": "code",
   "execution_count": 13,
   "metadata": {},
   "outputs": [],
   "source": [
    "def mapToSpaceSampling(points):\n",
    "    # just take the first n² < #points Points\n",
    "    points = points[: int(np.sqrt(len(points)))**2]\n",
    "    grid = np.dstack(np.meshgrid(np.linspace(np.min(points[:, 0]), np.max(points[:, 0]), int(np.sqrt(len(points)))),\n",
    "                       np.linspace(np.min(points[:, 1]), np.max(points[:, 1]), int(np.sqrt(len(points)))))).reshape(-1, 2)\n",
    "    cost = cdist(points, grid, \"sqeuclidean\").astype(np.float64)\n",
    "    print(cost.shape)\n",
    "    cost *= 100000 / cost.max()\n",
    "    row_ind_lapjv, col_ind_lapjv, _ = lapjv(cost, verbose=True, force_doubles=True)\n",
    "    return grid[row_ind_lapjv]"
   ]
  },
  {
   "cell_type": "code",
   "execution_count": 14,
   "metadata": {},
   "outputs": [],
   "source": [
    "def computeClusterTopography(points, values, width, height, interpolation='linear'):\n",
    "    # lay grid over the points so that all points are covered\n",
    "    grid_x, grid_y = np.mgrid[np.min(points[:,0]):np.max(points[:,0]):width*1j, np.min(points[:,1]):np.max(points[:,1]):height*1j]\n",
    "    return griddata(np.array(points), np.array(values[:len(points)]), (grid_x, grid_y), method=interpolation, fill_value=np.min(values[:len(points)]))"
   ]
  },
  {
   "cell_type": "markdown",
   "metadata": {},
   "source": [
    "# Visualization"
   ]
  },
  {
   "cell_type": "code",
   "execution_count": 15,
   "metadata": {},
   "outputs": [],
   "source": [
    "def draw_scatter(data, width=600, height=600, viz='scatter'):\n",
    "    display(Javascript(\"\"\"\n",
    "        (function(element){\n",
    "            require(['scatter'], function(scatter) {\n",
    "                scatter(element.get(0), %s, %d, %d, %s);\n",
    "            });\n",
    "        })(element);\n",
    "    \"\"\" % (json.dumps(data), width, height, json.dumps(viz))))"
   ]
  },
  {
   "cell_type": "code",
   "execution_count": 16,
   "metadata": {
    "local_metadata": {},
    "remote_metadata": {
     "tags": [
      "remove_cell"
     ]
    }
   },
   "outputs": [],
   "source": [
    "def save(payload):\n",
    "    name = \"c\" + str(payload['params']['num_clusters']) +\"-t\" + str(payload['params']['num_topics']) + \"_\" + str(payload['params']['embedding'])\n",
    "    if payload['params']['embedding'] == 'tSNE':\n",
    "        name += \"_p\" + str(payload['params']['perplexity']) + \"-lr\" + str(payload['params']['learning_rate'])\n",
    "    with open('./dumps/' + name + '.json', 'w') as dumpfile:\n",
    "        json.dump(payload, dumpfile, sort_keys=True, indent=4, ensure_ascii=False)"
   ]
  },
  {
   "cell_type": "code",
   "execution_count": 20,
   "metadata": {
    "local_metadata": {},
    "remote_metadata": {
     "tags": [
      "remove_cell"
     ]
    }
   },
   "outputs": [],
   "source": [
    "def visualize(targetDim=2,tfs=None,dimreduction='LSA', clustering='KMEANS', embedding='LDA', num_topics=20, num_clusters=3, perplexity=5, learning_rate=200, error='cluster_error', interpolation='linear', viz='scatter'):\n",
    "    \n",
    "    # viz dimensions\n",
    "    width = 600\n",
    "    height = 600\n",
    "    \n",
    "    \n",
    "    if dimreduction == 'LSA':\n",
    "        tfs_reduced, model = LSA(tfs, num_topics=num_topics)\n",
    "    elif dimreduction == 'NMF':\n",
    "        tfs_reduced, model = NMF(tfs, num_topics=num_topics)\n",
    "    else:\n",
    "        return 'No dimensionality reduction technique was selected!'\n",
    "    \n",
    "    if clustering == 'KMEANS':\n",
    "        clusters = cluster(tfs_reduced, num_topics=num_clusters)\n",
    "    else:\n",
    "        return 'No clustering technique was selected!'\n",
    "    \n",
    "    if embedding == 'LDA':\n",
    "        tfs_embedded, lda = dimReductionLDA(tfs_reduced, clusters=clusters, targetDim=targetDim)\n",
    "    elif embedding == 'tSNE':\n",
    "        tfs_embedded = dimReductiontSNE(tfs_reduced, perplexity=perplexity, learning_rate=learning_rate, targetDim=targetDim)\n",
    "    else:\n",
    "        return 'No dimensionality reduction technique was selected!'\n",
    "    \n",
    "    # compute linearization\n",
    "    tfs_mapped = mapToSpaceSampling(tfs_embedded) if targetDim == 2 else [0]*len(tfs_embedded)\n",
    "    \n",
    "    # compute top words (TODO: could be flawed)\n",
    "    tfidf_feature_names = [str(token) for token in tfidf_vectorizer.get_feature_names()]\n",
    "    cluster_words = [get_top_words_point(model, center, tfidf_feature_names, 5) for center in clusters.cluster_centers_]\n",
    "    [print(i, words) for i,words in enumerate(cluster_words)]\n",
    "    \n",
    "    #compute cluster topography\n",
    "    similarity_to_cluster_centers = [norm(x-clusters.cluster_centers_[clusters.labels_[i]]) for i,x in enumerate(tfs_reduced)]\n",
    "    #similarity_to_cluster_centers = similarity_to_cluster_centers / norm(similarity_to_cluster_centers)\n",
    "    reduction_error = np.max(lda.decision_function(tfs_reduced), axis=1) if (embedding == 'LDA') else [0]* len(tfs_embedded)\n",
    "    #reduction_error = reduction_error / norm(reduction_error)\n",
    "    mixed = reduction_error + similarity_to_cluster_centers\n",
    "    interpolated_topography = computeClusterTopography(tfs_embedded if viz == 'scatter' else tfs_mapped, similarity_to_cluster_centers if error=='cluster_error' else reduction_error if error=='reduction_error' else mixed, width, height, interpolation)\n",
    "    \n",
    "    colours = d3['Category10'][num_clusters]\n",
    "    if targetDim == 2:\n",
    "        # configure bokeh plot                   \n",
    "        source = ColumnDataSource(data=dict(\n",
    "            x=tfs_embedded[:, 0],\n",
    "            y=tfs_embedded[:, 1],\n",
    "            x_mapped=tfs_mapped[:, 0],\n",
    "            y_mapped=tfs_mapped[:, 1],\n",
    "            ids=list(cleanProjectTexts().keys()),\n",
    "            #titles=[next((project['title'] for project in loadProjects() if project['id'] == key), ['None']) for key in cleanProjectTexts().keys()],\n",
    "            colours=np.array(colours)[clusters.labels_],\n",
    "            labels=clusters.labels_\n",
    "        ))\n",
    "\n",
    "        TOOLTIPS = [\n",
    "            (\"index\", \"$index\"),\n",
    "            (\"id\", \"@ids\"),\n",
    "            #(\"title\", \"@titles\"),\n",
    "        ]\n",
    "        # scatterplot\n",
    "        scatter = figure(plot_width=800, plot_height=800, title=None, toolbar_location=\"below\", tooltips=TOOLTIPS, tools='tap,pan,wheel_zoom,save')\n",
    "        scatter.scatter('x', 'y', size=10,color='colours', legend='labels', source=source)\n",
    "        url = 'http://gepris.dfg.de/gepris/projekt/@ids'\n",
    "        taptool = scatter.select(type=TapTool)\n",
    "        taptool.callback = OpenURL(url=url)\n",
    "        \n",
    "        # mapped scatterplot\n",
    "        mapped_scatter = figure(plot_width=800, plot_height=800, title=None, toolbar_location=\"below\", tooltips=TOOLTIPS, tools='tap,pan,wheel_zoom')\n",
    "        mapped_scatter.scatter('x_mapped', 'y_mapped', size=50,color='colours', legend='labels', source=source)\n",
    "        url = 'http://gepris.dfg.de/gepris/projekt/@ids'\n",
    "        taptool = mapped_scatter.select(type=TapTool)\n",
    "        taptool.callback = OpenURL(url=url)\n",
    "        show(row(scatter, mapped_scatter))\n",
    "    else:\n",
    "\n",
    "        source = go.Scatter3d(\n",
    "            x=tfs_embedded[:, 0],\n",
    "            y=tfs_embedded[:, 1],\n",
    "            z=tfs_embedded[:, 2],\n",
    "            mode='markers',\n",
    "            marker=dict(\n",
    "                size=2,\n",
    "                color=clusters.labels_,                # set color to an array/list of desired values\n",
    "                colorscale='Viridis',   # choose a colorscale\n",
    "                opacity=0.8\n",
    "            )\n",
    "        )\n",
    "\n",
    "        data = [source]\n",
    "        layout = go.Layout(\n",
    "            margin=dict(\n",
    "                l=0,\n",
    "                r=0,\n",
    "                b=0,\n",
    "                t=0\n",
    "            )\n",
    "        )\n",
    "        fig = go.Figure(data=data, layout=layout)\n",
    "        iplot(fig, filename='3d-scatter-colorscale')\n",
    "    \n",
    "    payload = {\n",
    "        'params': {\n",
    "            'targetDim': targetDim,\n",
    "            'dimreduction': dimreduction,\n",
    "            'clustering': clustering,\n",
    "            'embedding': embedding,\n",
    "            'num_topics': num_topics,\n",
    "            'num_clusters': num_clusters,\n",
    "            'perplexity': perplexity,\n",
    "            'learning_rate': learning_rate\n",
    "        },\n",
    "        'project_data': [{'id':pid,'reducedpoint': reducedpoint, 'embpoint':embpoint, 'mappoint':mappoint, 'cluster':cluster, 'error':error, 'title': title, 'words': words} for pid, reducedpoint, embpoint, mappoint, cluster, error, title, words in zip(\n",
    "            list(cleanProjectTexts().keys()),\n",
    "            tfs_reduced.tolist(),\n",
    "            tfs_embedded.tolist(),\n",
    "            tfs_mapped.tolist(),\n",
    "            clusters.labels_.tolist(),\n",
    "            reduction_error,\n",
    "            [next((project['title'] for project in loadProjects() if project['id'] == key), ['None']) for key in cleanProjectTexts().keys()],\n",
    "            [get_top_words_point(model, point, tfidf_feature_names, 5) for point in tfs_reduced]\n",
    "            \n",
    "        )],\n",
    "        'cluster_data': {\n",
    "            'cluster_words': cluster_words,\n",
    "            'cluster_colour': colours\n",
    "        },\n",
    "        'cluster_topography': np.flip(interpolated_topography.T, axis=0).flatten().tolist()\n",
    "    }\n",
    "    save(payload)\n",
    "    display(HTML(filename=\"scatter.css.html\"))\n",
    "    display(Javascript(\"require.config({paths: {d3: 'https://d3js.org/d3.v5.min'}});\"))\n",
    "    display(Javascript(filename=\"scatter.js\"))\n",
    "    draw_scatter(payload, width, height, viz)\n",
    "        \n"
   ]
  },
  {
   "cell_type": "code",
   "execution_count": 21,
   "metadata": {
    "local_metadata": {
     "scrolled": false
    },
    "remote_metadata": {
     "scrolled": false,
     "tags": [
      "remove_cell"
     ]
    },
    "scrolled": false
   },
   "outputs": [
    {
     "name": "stderr",
     "output_type": "stream",
     "text": [
      "/Library/Frameworks/Python.framework/Versions/3.7/lib/python3.7/site-packages/scipy/sparse/compressed.py:226: SparseEfficiencyWarning:\n",
      "\n",
      "Comparing sparse matrices using == is inefficient, try using != instead.\n",
      "\n"
     ]
    },
    {
     "data": {
      "application/vnd.jupyter.widget-view+json": {
       "model_id": "4112e1a8834542deb2ea1f44991c5b8b",
       "version_major": 2,
       "version_minor": 0
      },
      "text/plain": [
       "interactive(children=(IntSlider(value=2, continuous_update=False, description='targetDim', max=3, min=2), Drop…"
      ]
     },
     "metadata": {},
     "output_type": "display_data"
    }
   ],
   "source": [
    "def s(x,y):\n",
    "    return IntSlider(min=x,max=y, value=(y-x)//2, continuous_update=False)\n",
    "\n",
    "w = interactive(visualize,targetDim=s(2,3),tfs=fixed(tfs), dimreduction=['LSA', 'NMF'], clustering=['KMEANS'], embedding=['LDA', 'tSNE'], num_topics=s(4,48), num_clusters=s(4,14), perplexity=s(5,50), learning_rate=s(100,1000),error=['red_error', 'cluster_error', 'mixed'], interpolation=['linear', 'cubic', 'nearest'], viz=['scatter', 'linearized'])\n",
    "output = w.children[-1]\n",
    "#output.layout.height = '2000px'\n",
    "display(w)\n"
   ]
  },
  {
   "cell_type": "code",
   "execution_count": 22,
   "metadata": {
    "scrolled": false,
    "tags": [
     "remove_cell"
    ]
   },
   "outputs": [],
   "source": [
    "#%lprun -f visualize visualize(**w.kwargs)"
   ]
  },
  {
   "cell_type": "code",
   "execution_count": null,
   "metadata": {},
   "outputs": [],
   "source": []
  },
  {
   "cell_type": "code",
   "execution_count": null,
   "metadata": {},
   "outputs": [],
   "source": []
  },
  {
   "cell_type": "code",
   "execution_count": null,
   "metadata": {},
   "outputs": [],
   "source": []
  },
  {
   "cell_type": "code",
   "execution_count": null,
   "metadata": {},
   "outputs": [],
   "source": []
  }
 ],
 "metadata": {
  "celltoolbar": "Tags",
  "kernelspec": {
   "display_name": "Python 3",
   "language": "python",
   "name": "python3"
  },
  "language_info": {
   "codemirror_mode": {
    "name": "ipython",
    "version": 3
   },
   "file_extension": ".py",
   "mimetype": "text/x-python",
   "name": "python",
   "nbconvert_exporter": "python",
   "pygments_lexer": "ipython3",
   "version": "3.7.0"
  }
 },
 "nbformat": 4,
 "nbformat_minor": 2
}
