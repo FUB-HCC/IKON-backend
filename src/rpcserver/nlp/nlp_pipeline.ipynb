{
 "cells": [
  {
   "cell_type": "markdown",
   "metadata": {
    "local_metadata": {},
    "remote_metadata": {
     "tags": [
      "remove_cell"
     ]
    }
   },
   "source": [
    "# Topic extraction from the GEPRiS dataset and creation of an user-centric visualisation\n",
    "Author: Tim Korjakow        \n",
    "Summer term 2018      \n",
    "Freie Universität Berlin     \n",
    "Fachgebiet Human-Centered Computing"
   ]
  },
  {
   "cell_type": "markdown",
   "metadata": {
    "local_metadata": {},
    "remote_metadata": {
     "tags": [
      "remove_cell"
     ]
    }
   },
   "source": [
    "![Process graph](nlpflowchart.svg)"
   ]
  },
  {
   "cell_type": "code",
   "execution_count": 1,
   "metadata": {},
   "outputs": [
    {
     "data": {
      "text/html": [
       "\n",
       "    <div class=\"bk-root\">\n",
       "        <a href=\"https://bokeh.pydata.org\" target=\"_blank\" class=\"bk-logo bk-logo-small bk-logo-notebook\"></a>\n",
       "        <span id=\"1001\">Loading BokehJS ...</span>\n",
       "    </div>"
      ]
     },
     "metadata": {},
     "output_type": "display_data"
    },
    {
     "data": {
      "application/javascript": [
       "\n",
       "(function(root) {\n",
       "  function now() {\n",
       "    return new Date();\n",
       "  }\n",
       "\n",
       "  var force = true;\n",
       "\n",
       "  if (typeof (root._bokeh_onload_callbacks) === \"undefined\" || force === true) {\n",
       "    root._bokeh_onload_callbacks = [];\n",
       "    root._bokeh_is_loading = undefined;\n",
       "  }\n",
       "\n",
       "  var JS_MIME_TYPE = 'application/javascript';\n",
       "  var HTML_MIME_TYPE = 'text/html';\n",
       "  var EXEC_MIME_TYPE = 'application/vnd.bokehjs_exec.v0+json';\n",
       "  var CLASS_NAME = 'output_bokeh rendered_html';\n",
       "\n",
       "  /**\n",
       "   * Render data to the DOM node\n",
       "   */\n",
       "  function render(props, node) {\n",
       "    var script = document.createElement(\"script\");\n",
       "    node.appendChild(script);\n",
       "  }\n",
       "\n",
       "  /**\n",
       "   * Handle when an output is cleared or removed\n",
       "   */\n",
       "  function handleClearOutput(event, handle) {\n",
       "    var cell = handle.cell;\n",
       "\n",
       "    var id = cell.output_area._bokeh_element_id;\n",
       "    var server_id = cell.output_area._bokeh_server_id;\n",
       "    // Clean up Bokeh references\n",
       "    if (id != null && id in Bokeh.index) {\n",
       "      Bokeh.index[id].model.document.clear();\n",
       "      delete Bokeh.index[id];\n",
       "    }\n",
       "\n",
       "    if (server_id !== undefined) {\n",
       "      // Clean up Bokeh references\n",
       "      var cmd = \"from bokeh.io.state import curstate; print(curstate().uuid_to_server['\" + server_id + \"'].get_sessions()[0].document.roots[0]._id)\";\n",
       "      cell.notebook.kernel.execute(cmd, {\n",
       "        iopub: {\n",
       "          output: function(msg) {\n",
       "            var id = msg.content.text.trim();\n",
       "            if (id in Bokeh.index) {\n",
       "              Bokeh.index[id].model.document.clear();\n",
       "              delete Bokeh.index[id];\n",
       "            }\n",
       "          }\n",
       "        }\n",
       "      });\n",
       "      // Destroy server and session\n",
       "      var cmd = \"import bokeh.io.notebook as ion; ion.destroy_server('\" + server_id + \"')\";\n",
       "      cell.notebook.kernel.execute(cmd);\n",
       "    }\n",
       "  }\n",
       "\n",
       "  /**\n",
       "   * Handle when a new output is added\n",
       "   */\n",
       "  function handleAddOutput(event, handle) {\n",
       "    var output_area = handle.output_area;\n",
       "    var output = handle.output;\n",
       "\n",
       "    // limit handleAddOutput to display_data with EXEC_MIME_TYPE content only\n",
       "    if ((output.output_type != \"display_data\") || (!output.data.hasOwnProperty(EXEC_MIME_TYPE))) {\n",
       "      return\n",
       "    }\n",
       "\n",
       "    var toinsert = output_area.element.find(\".\" + CLASS_NAME.split(' ')[0]);\n",
       "\n",
       "    if (output.metadata[EXEC_MIME_TYPE][\"id\"] !== undefined) {\n",
       "      toinsert[toinsert.length - 1].firstChild.textContent = output.data[JS_MIME_TYPE];\n",
       "      // store reference to embed id on output_area\n",
       "      output_area._bokeh_element_id = output.metadata[EXEC_MIME_TYPE][\"id\"];\n",
       "    }\n",
       "    if (output.metadata[EXEC_MIME_TYPE][\"server_id\"] !== undefined) {\n",
       "      var bk_div = document.createElement(\"div\");\n",
       "      bk_div.innerHTML = output.data[HTML_MIME_TYPE];\n",
       "      var script_attrs = bk_div.children[0].attributes;\n",
       "      for (var i = 0; i < script_attrs.length; i++) {\n",
       "        toinsert[toinsert.length - 1].firstChild.setAttribute(script_attrs[i].name, script_attrs[i].value);\n",
       "      }\n",
       "      // store reference to server id on output_area\n",
       "      output_area._bokeh_server_id = output.metadata[EXEC_MIME_TYPE][\"server_id\"];\n",
       "    }\n",
       "  }\n",
       "\n",
       "  function register_renderer(events, OutputArea) {\n",
       "\n",
       "    function append_mime(data, metadata, element) {\n",
       "      // create a DOM node to render to\n",
       "      var toinsert = this.create_output_subarea(\n",
       "        metadata,\n",
       "        CLASS_NAME,\n",
       "        EXEC_MIME_TYPE\n",
       "      );\n",
       "      this.keyboard_manager.register_events(toinsert);\n",
       "      // Render to node\n",
       "      var props = {data: data, metadata: metadata[EXEC_MIME_TYPE]};\n",
       "      render(props, toinsert[toinsert.length - 1]);\n",
       "      element.append(toinsert);\n",
       "      return toinsert\n",
       "    }\n",
       "\n",
       "    /* Handle when an output is cleared or removed */\n",
       "    events.on('clear_output.CodeCell', handleClearOutput);\n",
       "    events.on('delete.Cell', handleClearOutput);\n",
       "\n",
       "    /* Handle when a new output is added */\n",
       "    events.on('output_added.OutputArea', handleAddOutput);\n",
       "\n",
       "    /**\n",
       "     * Register the mime type and append_mime function with output_area\n",
       "     */\n",
       "    OutputArea.prototype.register_mime_type(EXEC_MIME_TYPE, append_mime, {\n",
       "      /* Is output safe? */\n",
       "      safe: true,\n",
       "      /* Index of renderer in `output_area.display_order` */\n",
       "      index: 0\n",
       "    });\n",
       "  }\n",
       "\n",
       "  // register the mime type if in Jupyter Notebook environment and previously unregistered\n",
       "  if (root.Jupyter !== undefined) {\n",
       "    var events = require('base/js/events');\n",
       "    var OutputArea = require('notebook/js/outputarea').OutputArea;\n",
       "\n",
       "    if (OutputArea.prototype.mime_types().indexOf(EXEC_MIME_TYPE) == -1) {\n",
       "      register_renderer(events, OutputArea);\n",
       "    }\n",
       "  }\n",
       "\n",
       "  \n",
       "  if (typeof (root._bokeh_timeout) === \"undefined\" || force === true) {\n",
       "    root._bokeh_timeout = Date.now() + 5000;\n",
       "    root._bokeh_failed_load = false;\n",
       "  }\n",
       "\n",
       "  var NB_LOAD_WARNING = {'data': {'text/html':\n",
       "     \"<div style='background-color: #fdd'>\\n\"+\n",
       "     \"<p>\\n\"+\n",
       "     \"BokehJS does not appear to have successfully loaded. If loading BokehJS from CDN, this \\n\"+\n",
       "     \"may be due to a slow or bad network connection. Possible fixes:\\n\"+\n",
       "     \"</p>\\n\"+\n",
       "     \"<ul>\\n\"+\n",
       "     \"<li>re-rerun `output_notebook()` to attempt to load from CDN again, or</li>\\n\"+\n",
       "     \"<li>use INLINE resources instead, as so:</li>\\n\"+\n",
       "     \"</ul>\\n\"+\n",
       "     \"<code>\\n\"+\n",
       "     \"from bokeh.resources import INLINE\\n\"+\n",
       "     \"output_notebook(resources=INLINE)\\n\"+\n",
       "     \"</code>\\n\"+\n",
       "     \"</div>\"}};\n",
       "\n",
       "  function display_loaded() {\n",
       "    var el = document.getElementById(\"1001\");\n",
       "    if (el != null) {\n",
       "      el.textContent = \"BokehJS is loading...\";\n",
       "    }\n",
       "    if (root.Bokeh !== undefined) {\n",
       "      if (el != null) {\n",
       "        el.textContent = \"BokehJS \" + root.Bokeh.version + \" successfully loaded.\";\n",
       "      }\n",
       "    } else if (Date.now() < root._bokeh_timeout) {\n",
       "      setTimeout(display_loaded, 100)\n",
       "    }\n",
       "  }\n",
       "\n",
       "\n",
       "  function run_callbacks() {\n",
       "    try {\n",
       "      root._bokeh_onload_callbacks.forEach(function(callback) { callback() });\n",
       "    }\n",
       "    finally {\n",
       "      delete root._bokeh_onload_callbacks\n",
       "    }\n",
       "    console.info(\"Bokeh: all callbacks have finished\");\n",
       "  }\n",
       "\n",
       "  function load_libs(js_urls, callback) {\n",
       "    root._bokeh_onload_callbacks.push(callback);\n",
       "    if (root._bokeh_is_loading > 0) {\n",
       "      console.log(\"Bokeh: BokehJS is being loaded, scheduling callback at\", now());\n",
       "      return null;\n",
       "    }\n",
       "    if (js_urls == null || js_urls.length === 0) {\n",
       "      run_callbacks();\n",
       "      return null;\n",
       "    }\n",
       "    console.log(\"Bokeh: BokehJS not loaded, scheduling load and callback at\", now());\n",
       "    root._bokeh_is_loading = js_urls.length;\n",
       "    for (var i = 0; i < js_urls.length; i++) {\n",
       "      var url = js_urls[i];\n",
       "      var s = document.createElement('script');\n",
       "      s.src = url;\n",
       "      s.async = false;\n",
       "      s.onreadystatechange = s.onload = function() {\n",
       "        root._bokeh_is_loading--;\n",
       "        if (root._bokeh_is_loading === 0) {\n",
       "          console.log(\"Bokeh: all BokehJS libraries loaded\");\n",
       "          run_callbacks()\n",
       "        }\n",
       "      };\n",
       "      s.onerror = function() {\n",
       "        console.warn(\"failed to load library \" + url);\n",
       "      };\n",
       "      console.log(\"Bokeh: injecting script tag for BokehJS library: \", url);\n",
       "      document.getElementsByTagName(\"head\")[0].appendChild(s);\n",
       "    }\n",
       "  };var element = document.getElementById(\"1001\");\n",
       "  if (element == null) {\n",
       "    console.log(\"Bokeh: ERROR: autoload.js configured with elementid '1001' but no matching script tag was found. \")\n",
       "    return false;\n",
       "  }\n",
       "\n",
       "  var js_urls = [\"https://cdn.pydata.org/bokeh/release/bokeh-1.0.1.min.js\", \"https://cdn.pydata.org/bokeh/release/bokeh-widgets-1.0.1.min.js\", \"https://cdn.pydata.org/bokeh/release/bokeh-tables-1.0.1.min.js\", \"https://cdn.pydata.org/bokeh/release/bokeh-gl-1.0.1.min.js\"];\n",
       "\n",
       "  var inline_js = [\n",
       "    function(Bokeh) {\n",
       "      Bokeh.set_log_level(\"info\");\n",
       "    },\n",
       "    \n",
       "    function(Bokeh) {\n",
       "      \n",
       "    },\n",
       "    function(Bokeh) {\n",
       "      console.log(\"Bokeh: injecting CSS: https://cdn.pydata.org/bokeh/release/bokeh-1.0.1.min.css\");\n",
       "      Bokeh.embed.inject_css(\"https://cdn.pydata.org/bokeh/release/bokeh-1.0.1.min.css\");\n",
       "      console.log(\"Bokeh: injecting CSS: https://cdn.pydata.org/bokeh/release/bokeh-widgets-1.0.1.min.css\");\n",
       "      Bokeh.embed.inject_css(\"https://cdn.pydata.org/bokeh/release/bokeh-widgets-1.0.1.min.css\");\n",
       "      console.log(\"Bokeh: injecting CSS: https://cdn.pydata.org/bokeh/release/bokeh-tables-1.0.1.min.css\");\n",
       "      Bokeh.embed.inject_css(\"https://cdn.pydata.org/bokeh/release/bokeh-tables-1.0.1.min.css\");\n",
       "    }\n",
       "  ];\n",
       "\n",
       "  function run_inline_js() {\n",
       "    \n",
       "    if ((root.Bokeh !== undefined) || (force === true)) {\n",
       "      for (var i = 0; i < inline_js.length; i++) {\n",
       "        inline_js[i].call(root, root.Bokeh);\n",
       "      }if (force === true) {\n",
       "        display_loaded();\n",
       "      }} else if (Date.now() < root._bokeh_timeout) {\n",
       "      setTimeout(run_inline_js, 100);\n",
       "    } else if (!root._bokeh_failed_load) {\n",
       "      console.log(\"Bokeh: BokehJS failed to load within specified timeout.\");\n",
       "      root._bokeh_failed_load = true;\n",
       "    } else if (force !== true) {\n",
       "      var cell = $(document.getElementById(\"1001\")).parents('.cell').data().cell;\n",
       "      cell.output_area.append_execute_result(NB_LOAD_WARNING)\n",
       "    }\n",
       "\n",
       "  }\n",
       "\n",
       "  if (root._bokeh_is_loading === 0) {\n",
       "    console.log(\"Bokeh: BokehJS loaded, going straight to plotting\");\n",
       "    run_inline_js();\n",
       "  } else {\n",
       "    load_libs(js_urls, function() {\n",
       "      console.log(\"Bokeh: BokehJS plotting callback run at\", now());\n",
       "      run_inline_js();\n",
       "    });\n",
       "  }\n",
       "}(window));"
      ],
      "application/vnd.bokehjs_load.v0+json": "\n(function(root) {\n  function now() {\n    return new Date();\n  }\n\n  var force = true;\n\n  if (typeof (root._bokeh_onload_callbacks) === \"undefined\" || force === true) {\n    root._bokeh_onload_callbacks = [];\n    root._bokeh_is_loading = undefined;\n  }\n\n  \n\n  \n  if (typeof (root._bokeh_timeout) === \"undefined\" || force === true) {\n    root._bokeh_timeout = Date.now() + 5000;\n    root._bokeh_failed_load = false;\n  }\n\n  var NB_LOAD_WARNING = {'data': {'text/html':\n     \"<div style='background-color: #fdd'>\\n\"+\n     \"<p>\\n\"+\n     \"BokehJS does not appear to have successfully loaded. If loading BokehJS from CDN, this \\n\"+\n     \"may be due to a slow or bad network connection. Possible fixes:\\n\"+\n     \"</p>\\n\"+\n     \"<ul>\\n\"+\n     \"<li>re-rerun `output_notebook()` to attempt to load from CDN again, or</li>\\n\"+\n     \"<li>use INLINE resources instead, as so:</li>\\n\"+\n     \"</ul>\\n\"+\n     \"<code>\\n\"+\n     \"from bokeh.resources import INLINE\\n\"+\n     \"output_notebook(resources=INLINE)\\n\"+\n     \"</code>\\n\"+\n     \"</div>\"}};\n\n  function display_loaded() {\n    var el = document.getElementById(\"1001\");\n    if (el != null) {\n      el.textContent = \"BokehJS is loading...\";\n    }\n    if (root.Bokeh !== undefined) {\n      if (el != null) {\n        el.textContent = \"BokehJS \" + root.Bokeh.version + \" successfully loaded.\";\n      }\n    } else if (Date.now() < root._bokeh_timeout) {\n      setTimeout(display_loaded, 100)\n    }\n  }\n\n\n  function run_callbacks() {\n    try {\n      root._bokeh_onload_callbacks.forEach(function(callback) { callback() });\n    }\n    finally {\n      delete root._bokeh_onload_callbacks\n    }\n    console.info(\"Bokeh: all callbacks have finished\");\n  }\n\n  function load_libs(js_urls, callback) {\n    root._bokeh_onload_callbacks.push(callback);\n    if (root._bokeh_is_loading > 0) {\n      console.log(\"Bokeh: BokehJS is being loaded, scheduling callback at\", now());\n      return null;\n    }\n    if (js_urls == null || js_urls.length === 0) {\n      run_callbacks();\n      return null;\n    }\n    console.log(\"Bokeh: BokehJS not loaded, scheduling load and callback at\", now());\n    root._bokeh_is_loading = js_urls.length;\n    for (var i = 0; i < js_urls.length; i++) {\n      var url = js_urls[i];\n      var s = document.createElement('script');\n      s.src = url;\n      s.async = false;\n      s.onreadystatechange = s.onload = function() {\n        root._bokeh_is_loading--;\n        if (root._bokeh_is_loading === 0) {\n          console.log(\"Bokeh: all BokehJS libraries loaded\");\n          run_callbacks()\n        }\n      };\n      s.onerror = function() {\n        console.warn(\"failed to load library \" + url);\n      };\n      console.log(\"Bokeh: injecting script tag for BokehJS library: \", url);\n      document.getElementsByTagName(\"head\")[0].appendChild(s);\n    }\n  };var element = document.getElementById(\"1001\");\n  if (element == null) {\n    console.log(\"Bokeh: ERROR: autoload.js configured with elementid '1001' but no matching script tag was found. \")\n    return false;\n  }\n\n  var js_urls = [\"https://cdn.pydata.org/bokeh/release/bokeh-1.0.1.min.js\", \"https://cdn.pydata.org/bokeh/release/bokeh-widgets-1.0.1.min.js\", \"https://cdn.pydata.org/bokeh/release/bokeh-tables-1.0.1.min.js\", \"https://cdn.pydata.org/bokeh/release/bokeh-gl-1.0.1.min.js\"];\n\n  var inline_js = [\n    function(Bokeh) {\n      Bokeh.set_log_level(\"info\");\n    },\n    \n    function(Bokeh) {\n      \n    },\n    function(Bokeh) {\n      console.log(\"Bokeh: injecting CSS: https://cdn.pydata.org/bokeh/release/bokeh-1.0.1.min.css\");\n      Bokeh.embed.inject_css(\"https://cdn.pydata.org/bokeh/release/bokeh-1.0.1.min.css\");\n      console.log(\"Bokeh: injecting CSS: https://cdn.pydata.org/bokeh/release/bokeh-widgets-1.0.1.min.css\");\n      Bokeh.embed.inject_css(\"https://cdn.pydata.org/bokeh/release/bokeh-widgets-1.0.1.min.css\");\n      console.log(\"Bokeh: injecting CSS: https://cdn.pydata.org/bokeh/release/bokeh-tables-1.0.1.min.css\");\n      Bokeh.embed.inject_css(\"https://cdn.pydata.org/bokeh/release/bokeh-tables-1.0.1.min.css\");\n    }\n  ];\n\n  function run_inline_js() {\n    \n    if ((root.Bokeh !== undefined) || (force === true)) {\n      for (var i = 0; i < inline_js.length; i++) {\n        inline_js[i].call(root, root.Bokeh);\n      }if (force === true) {\n        display_loaded();\n      }} else if (Date.now() < root._bokeh_timeout) {\n      setTimeout(run_inline_js, 100);\n    } else if (!root._bokeh_failed_load) {\n      console.log(\"Bokeh: BokehJS failed to load within specified timeout.\");\n      root._bokeh_failed_load = true;\n    } else if (force !== true) {\n      var cell = $(document.getElementById(\"1001\")).parents('.cell').data().cell;\n      cell.output_area.append_execute_result(NB_LOAD_WARNING)\n    }\n\n  }\n\n  if (root._bokeh_is_loading === 0) {\n    console.log(\"Bokeh: BokehJS loaded, going straight to plotting\");\n    run_inline_js();\n  } else {\n    load_libs(js_urls, function() {\n      console.log(\"Bokeh: BokehJS plotting callback run at\", now());\n      run_inline_js();\n    });\n  }\n}(window));"
     },
     "metadata": {},
     "output_type": "display_data"
    },
    {
     "data": {
      "text/html": [
       "<script type=\"text/javascript\">window.PlotlyConfig = {MathJaxConfig: 'local'};</script><script type=\"text/javascript\">if (window.MathJax) {MathJax.Hub.Config({SVG: {font: \"STIX-Web\"}});}</script><script>requirejs.config({paths: { 'plotly': ['https://cdn.plot.ly/plotly-latest.min']},});if(!window._Plotly) {require(['plotly'],function(plotly) {window._Plotly=plotly;});}</script>"
      ],
      "text/vnd.plotly.v1+html": [
       "<script type=\"text/javascript\">window.PlotlyConfig = {MathJaxConfig: 'local'};</script><script type=\"text/javascript\">if (window.MathJax) {MathJax.Hub.Config({SVG: {font: \"STIX-Web\"}});}</script><script>requirejs.config({paths: { 'plotly': ['https://cdn.plot.ly/plotly-latest.min']},});if(!window._Plotly) {require(['plotly'],function(plotly) {window._Plotly=plotly;});}</script>"
      ]
     },
     "metadata": {},
     "output_type": "display_data"
    }
   ],
   "source": [
    "%load_ext Cython\n",
    "import time\n",
    "import json\n",
    "import spacy\n",
    "import regex as re\n",
    "from langdetect import detect\n",
    "from sklearn.feature_extraction.text import TfidfVectorizer\n",
    "from sklearn.decomposition import TruncatedSVD\n",
    "from sklearn.decomposition import NMF as NonnegativeMatrixFactorization\n",
    "from sklearn.cluster import KMeans\n",
    "from sklearn.discriminant_analysis import LinearDiscriminantAnalysis\n",
    "from sklearn.manifold import TSNE\n",
    "from MulticoreTSNE import MulticoreTSNE\n",
    "import numpy as np\n",
    "import sklearn\n",
    "\n",
    "from ipywidgets import interact, interactive, fixed, interact_manual, IntSlider\n",
    "import ipywidgets as widgets\n",
    "from IPython.display import display\n",
    "\n",
    "from bokeh.io import output_notebook, show\n",
    "from bokeh.models import ColumnDataSource, OpenURL, TapTool\n",
    "from bokeh.plotting import figure, ColumnDataSource\n",
    "from bokeh.palettes import d3\n",
    "output_notebook()\n",
    "\n",
    "from plotly.offline import download_plotlyjs, init_notebook_mode, plot, iplot\n",
    "import plotly.graph_objs as go\n",
    "init_notebook_mode(connected=True) # for offline mode use\n",
    "\n",
    "#initialize profiler\n",
    "%load_ext line_profiler"
   ]
  },
  {
   "cell_type": "markdown",
   "metadata": {
    "local_metadata": {},
    "remote_metadata": {
     "tags": [
      "remove_cell"
     ]
    }
   },
   "source": [
    "## Loading and Cleaning\n",
    "The first step in every NLP project which works with texts is always the preparation of the input data. In this example the Project dump from GEPRIS is loaded and the project descriptions are extracted. After that the texts get cleaned by removing all non-alphabetic chars and all stopwords from the texts. English texts are getting filtered in oder to make the analysis simpler and more comparable."
   ]
  },
  {
   "cell_type": "code",
   "execution_count": 5,
   "metadata": {
    "local_metadata": {},
    "remote_metadata": {
     "tags": [
      "remove_cell"
     ]
    }
   },
   "outputs": [],
   "source": [
    "def loadProjects():\n",
    "    with open('../../../assets/data/project_output/projects.json', 'r') as datafile:\n",
    "        return json.load(datafile)\n",
    "\n",
    "def loadGermanStopwords():\n",
    "    with open('../../../assets/data/nlp/stopwords_de.json', 'r') as datafile:\n",
    "        return json.load(datafile)\n",
    "\n",
    "def loadEnglishStopwords():\n",
    "    with open('../../../assets/data/nlp/stopwords_eng.json', 'r') as datafile:\n",
    "        return json.load(datafile)\n",
    "\n",
    "def cleanProjectTexts():\n",
    "    cleanedProjectTexts = {}\n",
    "    stopwordsDE = set(loadGermanStopwords())\n",
    "    for project in loadProjects():\n",
    "        if detect(project['abstract']) == 'de':\n",
    "            letters_only = re.sub('[^\\p{L} ]', ' ', project['abstract'])\n",
    "            words = letters_only.lower().split()\n",
    "            usefulWords = [x for x in words if not (x in stopwordsDE or len(x) <= 2 )]\n",
    "            cleanedProjectTexts[project['id']] = ' '.join(usefulWords)\n",
    "    return cleanedProjectTexts"
   ]
  },
  {
   "cell_type": "markdown",
   "metadata": {
    "local_metadata": {},
    "remote_metadata": {
     "tags": [
      "remove_cell"
     ]
    }
   },
   "source": [
    "## TF-IDF computation\n",
    "*Summary*:\n",
    "This technique vectorizes a corpus, e.g. a collection of documents, by counting all appearences of words in the corpus and computing the tf-idf measure for each document, word pair.\n",
    "\n",
    "*In-depth explanation*:"
   ]
  },
  {
   "cell_type": "code",
   "execution_count": 6,
   "metadata": {},
   "outputs": [],
   "source": [
    "nlp = spacy.load('de')\n",
    "def lemmatize(text):\n",
    "    return [token.lemma_ for token in nlp(text)]\n",
    "\n",
    "def TfIdf(dict):\n",
    "    start = time.time()\n",
    "    tfidf_vectorizer = TfidfVectorizer(tokenizer=lemmatize)\n",
    "    tfs = tfidf_vectorizer.fit_transform(list(dict.values()))\n",
    "    print('TFIDF execution time: ', time.time() - start)\n",
    "    return (tfidf_vectorizer, tfs)"
   ]
  },
  {
   "cell_type": "code",
   "execution_count": 7,
   "metadata": {
    "local_metadata": {},
    "remote_metadata": {
     "tags": [
      "remove_cell"
     ]
    }
   },
   "outputs": [
    {
     "name": "stdout",
     "output_type": "stream",
     "text": [
      "TFIDF execution time:  4.878996849060059\n"
     ]
    }
   ],
   "source": [
    "tfidf_vectorizer, tfs = TfIdf(cleanProjectTexts())"
   ]
  },
  {
   "cell_type": "markdown",
   "metadata": {
    "local_metadata": {},
    "remote_metadata": {
     "tags": [
      "remove_cell"
     ]
    }
   },
   "source": [
    "# Topic extraction"
   ]
  },
  {
   "cell_type": "markdown",
   "metadata": {
    "local_metadata": {},
    "remote_metadata": {
     "tags": [
      "remove_cell"
     ]
    }
   },
   "source": [
    "## Latent Semantic Analysis\n",
    "*Summary*:\n",
    "The LSA transforms an corpus from its word space given by the tf-idf matrice into its semantic space. In this semantic space the dimensions denote topics in the corpus and every document vector is a linear combination of all the implicitly extracted topics.\n",
    "\n",
    "*In-depth explanation*:"
   ]
  },
  {
   "cell_type": "code",
   "execution_count": 8,
   "metadata": {},
   "outputs": [],
   "source": [
    "def LSA(tfs,num_topics=40):\n",
    "    start = time.time()\n",
    "    lsa = TruncatedSVD(n_components=num_topics, random_state=0).fit(tfs)\n",
    "    print('LSA execution time: ', time.time() - start)\n",
    "    \n",
    "    #tfidf_feature_names = [str(token) for token in tfidf_vectorizer.get_feature_names()]\n",
    "    #print_top_words(lsa, tfidf_feature_names, 10)\n",
    "    return lsa.transform(tfs), lsa"
   ]
  },
  {
   "cell_type": "markdown",
   "metadata": {
    "local_metadata": {},
    "remote_metadata": {
     "tags": [
      "remove_cell"
     ]
    }
   },
   "source": [
    "## Non-negative matrix factorisation\n",
    "Summary: **Coming soon**\n",
    "\n",
    "In-depth explanation:"
   ]
  },
  {
   "cell_type": "code",
   "execution_count": 9,
   "metadata": {},
   "outputs": [],
   "source": [
    "def NMF(tfs,num_topics=40):\n",
    "    start = time.time()\n",
    "    nmf = NonnegativeMatrixFactorization(n_components=num_topics, init='random', random_state=0)\n",
    "    nmf.fit(tfs)    \n",
    "    print('NMF execution time: ', time.time() - start)\n",
    "    \n",
    "    #\n",
    "    #print_top_words(nmf, tfidf_feature_names, 10)\n",
    "    return nmf.transform(tfs), nmf"
   ]
  },
  {
   "cell_type": "markdown",
   "metadata": {
    "local_metadata": {},
    "remote_metadata": {
     "tags": [
      "remove_cell"
     ]
    }
   },
   "source": [
    "### Get top words for each dimension\n",
    "In order to get the words which are most important for each dimension (which correspond to topics), the standard basis in the topic space is converted back into the word space. These are exactly the eigenvectors of data. Now the top n biggest entries and their corresponding words form the top words."
   ]
  },
  {
   "cell_type": "code",
   "execution_count": 10,
   "metadata": {},
   "outputs": [],
   "source": [
    "def get_top_words_dim(model, feature_names, n_top_words):\n",
    "    dim_topics = {}\n",
    "    for topic_idx, topic in enumerate(model.components_):\n",
    "        dim_topics[topic_idx] = [feature_names[i]\n",
    "                        for i in topic.argsort()[:-n_top_words - 1:-1]]\n",
    "    return dim_topics"
   ]
  },
  {
   "cell_type": "markdown",
   "metadata": {
    "local_metadata": {},
    "remote_metadata": {
     "tags": [
      "remove_cell"
     ]
    }
   },
   "source": [
    "# Clustering"
   ]
  },
  {
   "cell_type": "markdown",
   "metadata": {
    "local_metadata": {},
    "remote_metadata": {
     "tags": [
      "remove_cell"
     ]
    }
   },
   "source": [
    "## K-Means\n",
    "Summary: Given a clustering the LDA can be used to find a projection into a lower dimensional space which maximizes inter-class variance and minimizes intra-class variance. This leads to neater cluster, but is grounded in the hypotheses that the clusters have some real semantic meaning. Otherwise it may enforce preexisting biases.\n",
    "\n",
    "In-depth explanation:"
   ]
  },
  {
   "cell_type": "code",
   "execution_count": 11,
   "metadata": {},
   "outputs": [],
   "source": [
    "def clusterNumberHeuristic(tfs):\n",
    "    return (tfs.shape[0]*tfs.shape[1])//tfs.count_nonzero()\n",
    "\n",
    "def cluster(tfs_reduced, num_topics=10):\n",
    "    start = time.time()\n",
    "    km = KMeans(n_clusters=num_topics).fit(tfs_reduced)\n",
    "    print('Clustering execution time: ', time.time() - start)\n",
    "    return km"
   ]
  },
  {
   "cell_type": "markdown",
   "metadata": {
    "local_metadata": {},
    "remote_metadata": {
     "tags": [
      "remove_cell"
     ]
    }
   },
   "source": [
    "### Get top words for each cluster\n",
    "The process is similar to the one for getting the top words for each dimension. But in this case the cluster centers from the clustering step are transformed back into the word space and analysed. This is based on the assumption that the cluster center represents the set of all documents in the corrsponding cluster."
   ]
  },
  {
   "cell_type": "code",
   "execution_count": 12,
   "metadata": {},
   "outputs": [],
   "source": [
    "def get_top_words_cluster(model, clustering_centers, feature_names, n_top_words):\n",
    "    cluster_topics = {}\n",
    "    word_space_cluster_centers = model.inverse_transform(clustering_centers)\n",
    "    for i, word_space_cluster in enumerate(word_space_cluster_centers):\n",
    "        cluster_topics[i] = [feature_names[j]\n",
    "                        for j in word_space_cluster.argsort()[:-n_top_words - 1:-1]]\n",
    "    return cluster_topics"
   ]
  },
  {
   "cell_type": "markdown",
   "metadata": {
    "local_metadata": {},
    "remote_metadata": {
     "tags": [
      "remove_cell"
     ]
    }
   },
   "source": [
    "# Embedding into 2D"
   ]
  },
  {
   "cell_type": "markdown",
   "metadata": {
    "local_metadata": {},
    "remote_metadata": {
     "tags": [
      "remove_cell"
     ]
    }
   },
   "source": [
    "## Linear Discriminant Analysis\n",
    "*Summary*:\n",
    "Given a clustering the LDA can be used to find a projection into a lower dimensional space which maximizes inter-class variance and minimizes intra-class variance. This leads to neater cluster, but is grounded in the hypotheses that the clusters have some real semantic meaning. Otherwise it may enforce preexisting biases.\n",
    "\n",
    "*In-depth explanation*:"
   ]
  },
  {
   "cell_type": "code",
   "execution_count": 13,
   "metadata": {},
   "outputs": [],
   "source": [
    "def dimReductionLDA(tfs_reduced, clusters, targetDim=2):\n",
    "    start = time.time()\n",
    "    tfs_2d = LinearDiscriminantAnalysis(n_components=targetDim).fit(tfs_reduced, clusters.labels_).transform(tfs_reduced)\n",
    "    print('LDA execution time: ', time.time() - start)\n",
    "    return tfs_2d"
   ]
  },
  {
   "cell_type": "markdown",
   "metadata": {
    "local_metadata": {},
    "remote_metadata": {
     "tags": [
      "remove_cell"
     ]
    }
   },
   "source": [
    "## tSNE\n",
    "*Summary*:\n",
    "\n",
    "\n",
    "*In-depth explanation*:"
   ]
  },
  {
   "cell_type": "code",
   "execution_count": 14,
   "metadata": {},
   "outputs": [],
   "source": [
    "def dimReductiontSNE(tfs_reduced, perplexity=30, learning_rate=100, targetDim=2):\n",
    "    start = time.time()\n",
    "    tfs_2d = (MulticoreTSNE(n_jobs=8, n_components=targetDim, perplexity=perplexity, learning_rate=learning_rate) if targetDim ==2 else TSNE(n_components=targetDim, perplexity=perplexity, learning_rate=learning_rate)).fit_transform(tfs_reduced)\n",
    "    print('tSNE execution time: ', time.time() - start)\n",
    "    return tfs_2d"
   ]
  },
  {
   "cell_type": "markdown",
   "metadata": {
    "local_metadata": {},
    "remote_metadata": {
     "tags": [
      "remove_cell"
     ]
    }
   },
   "source": [
    "# Analysis"
   ]
  },
  {
   "cell_type": "markdown",
   "metadata": {},
   "source": [
    "### Statistics on words in the corpus"
   ]
  },
  {
   "cell_type": "code",
   "execution_count": 15,
   "metadata": {
    "scrolled": false
   },
   "outputs": [
    {
     "name": "stdout",
     "output_type": "stream",
     "text": [
      "{'abadeh': matrix([[0.]]), 'abb': matrix([[11.21556154]]), 'abbilden': matrix([[12.24805183]]), 'abbilder': matrix([[9.31108753]]), 'abbildungen': matrix([[9.73346315]]), 'abcd': matrix([[9.52787782]]), 'abfolge': matrix([[10.43387917]]), 'abfolgen': matrix([[10.10363897]]), 'abgebildet': matrix([[9.76316081]]), 'abgeflacht': matrix([[11.00891387]]), 'abgelegen': matrix([[9.12422382]]), 'abgeleitet': matrix([[9.01005393]]), 'abgereicherten': matrix([[10.57031966]]), 'abgeschlossen': matrix([[7.59691096]]), 'abgewandelt': matrix([[0.]]), 'abgrenzen': matrix([[10.02135889]]), 'abholzungen': matrix([[8.08440327]]), 'abhängig': matrix([[8.25507453]]), 'abhängigkeit': matrix([[11.45048065]]), 'abhängigkeiten': matrix([[10.14710295]]), 'abiotischen': matrix([[10.0351963]]), 'abiotischer': matrix([[9.16887253]]), 'abkühlgeschichte': matrix([[9.5526169]]), 'ablagerung': matrix([[10.49094087]]), 'ablagerungen': matrix([[11.07357062]]), 'ablagerungsgeschichte': matrix([[7.91198143]]), 'ablauf': matrix([[6.58484566]]), 'ablaufen': matrix([[0.]]), 'ablaufend': matrix([[8.20390001]]), 'ableiten': matrix([[7.4145484]]), 'ableitung': matrix([[7.55600622]]), 'abmessungen': matrix([[6.47576094]]), 'abrufen': matrix([[7.53507536]]), 'abschirmen': matrix([[8.84463721]]), 'abschließen': matrix([[7.93944042]]), 'abschließend': matrix([[0.]]), 'abschluss': matrix([[7.45967946]]), 'abschmelzung': matrix([[7.5208978]]), 'abschnitte': matrix([[9.10504016]]), 'abschätzen': matrix([[8.90107009]]), 'abschätzung': matrix([[0.]]), 'abschätzungen': matrix([[10.5052747]]), 'absicherung': matrix([[6.83644123]]), 'absinken': matrix([[8.76042373]]), 'absolut': matrix([[6.4463625]]), 'abstammen': matrix([[7.81051181]]), 'abständen': matrix([[8.07764787]]), 'abtragen': matrix([[7.70202632]]), 'abundanz': matrix([[6.41566874]]), 'abwandern': matrix([[7.51838119]]), 'abwanderungsverhalten': matrix([[7.86505439]]), 'abwandlungen': matrix([[7.2924913]]), 'abwechslungsreich': matrix([[7.73221839]]), 'acanthochitona': matrix([[0.]]), 'acanthodier': matrix([[9.37636755]]), 'access': matrix([[7.46588249]]), 'acentropinae': matrix([[6.51997821]]), 'achondrite': matrix([[9.8084452]]), 'aculeata': matrix([[7.93172742]]), 'aculeate': matrix([[7.55337632]]), 'aculeaten': matrix([[6.7832253]]), 'aculeater': matrix([[10.37562337]]), 'aculifera': matrix([[8.35964458]]), 'adaptation': matrix([[0.]]), 'adaptive': matrix([[9.30007073]]), 'adaptiven': matrix([[6.2503251]]), 'addax': matrix([[8.67149862]]), 'adelphotaxon': matrix([[5.73233751]]), 'aderung': matrix([[0.]]), 'adressieren': matrix([[0.]]), 'adulten': matrix([[7.31510815]]), 'adäquat': matrix([[5.99479463]]), 'aerobe': matrix([[0.]]), 'aflp': matrix([[0.]]), 'afm': matrix([[0.]]), 'afrika': matrix([[8.66839844]]), 'afrikanisch': matrix([[10.20204399]]), 'afrikas': matrix([[6.43912736]]), 'afrotropis': matrix([[7.16463418]]), 'akkretion': matrix([[8.51277428]]), 'akkretioniert': matrix([[0.]]), 'akkretionierten': matrix([[11.59642862]]), 'akkretioniertes': matrix([[8.29080772]]), 'akkretionsgeschichte': matrix([[10.65015445]]), 'akkretionsphase': matrix([[0.]]), 'akkretionsrate': matrix([[8.70238392]]), 'akkumulationsquote': matrix([[9.1979591]]), 'akkumulationsrate': matrix([[0.]]), 'aktiv': matrix([[7.86202384]]), 'aktive': matrix([[7.97667496]]), 'aktivität': matrix([[11.12043584]]), 'aktualisieren': matrix([[7.58130302]]), 'aktualisierung': matrix([[8.66477577]]), 'aktuell': matrix([[8.44934724]]), 'akustisch': matrix([[7.98032577]]), 'akustische': matrix([[8.66285687]]), 'akzeptieren': matrix([[9.67159269]]), 'akzessorischer': matrix([[11.10751222]]), 'algorithmen': matrix([[7.84540406]]), 'alkenon': matrix([[7.20101465]]), 'alkenongehalte': matrix([[8.11639975]]), 'all': matrix([[11.58004942]]), 'allgemein': matrix([[11.38632299]]), 'allgemeingültig': matrix([[9.13482665]]), 'allopatrisch': matrix([[10.34718592]]), 'alpha': matrix([[7.07643305]]), 'alphadiversität': matrix([[7.65337105]]), 'alt': matrix([[7.94339917]]), 'altern': matrix([[8.48369375]]), 'alternativ': matrix([[9.38146958]]), 'alters': matrix([[6.43096824]]), 'altersbestimmung': matrix([[5.62930969]]), 'amblypygi': matrix([[10.1772695]]), 'ambystoma': matrix([[5.6235659]]), 'ambystomatiden': matrix([[0.]]), 'ameisen': matrix([[9.28694542]]), 'amerikanisch': matrix([[9.07298223]]), 'ammonoideen': matrix([[9.66677693]])}\n"
     ]
    },
    {
     "data": {
      "text/html": [
       "\n",
       "\n",
       "\n",
       "\n",
       "\n",
       "\n",
       "  <div class=\"bk-root\" id=\"bc915b00-0d79-4f23-a8ba-855914852986\"></div>\n"
      ]
     },
     "metadata": {},
     "output_type": "display_data"
    },
    {
     "data": {
      "application/javascript": [
       "(function(root) {\n",
       "  function embed_document(root) {\n",
       "    \n",
       "  var docs_json = {\"fa849ddf-8d1b-4273-bc88-0b0fdedc00b7\":{\"roots\":{\"references\":[{\"attributes\":{\"below\":[{\"id\":\"1012\",\"type\":\"CategoricalAxis\"}],\"left\":[{\"id\":\"1016\",\"type\":\"LinearAxis\"}],\"plot_height\":800,\"plot_width\":800,\"renderers\":[{\"id\":\"1012\",\"type\":\"CategoricalAxis\"},{\"id\":\"1015\",\"type\":\"Grid\"},{\"id\":\"1016\",\"type\":\"LinearAxis\"},{\"id\":\"1020\",\"type\":\"Grid\"},{\"id\":\"1029\",\"type\":\"BoxAnnotation\"},{\"id\":\"1039\",\"type\":\"GlyphRenderer\"}],\"title\":null,\"toolbar\":{\"id\":\"1027\",\"type\":\"Toolbar\"},\"x_range\":{\"id\":\"1004\",\"type\":\"FactorRange\"},\"x_scale\":{\"id\":\"1008\",\"type\":\"CategoricalScale\"},\"y_range\":{\"id\":\"1006\",\"type\":\"DataRange1d\"},\"y_scale\":{\"id\":\"1010\",\"type\":\"LinearScale\"}},\"id\":\"1002\",\"subtype\":\"Figure\",\"type\":\"Plot\"},{\"attributes\":{\"fill_alpha\":{\"value\":0.1},\"fill_color\":{\"value\":\"#1f77b4\"},\"line_alpha\":{\"value\":0.1},\"line_color\":{\"value\":\"#1f77b4\"},\"top\":{\"field\":\"top\"},\"width\":{\"value\":10},\"x\":{\"field\":\"x\"}},\"id\":\"1038\",\"type\":\"VBar\"},{\"attributes\":{\"source\":{\"id\":\"1036\",\"type\":\"ColumnDataSource\"}},\"id\":\"1040\",\"type\":\"CDSView\"},{\"attributes\":{\"formatter\":{\"id\":\"1045\",\"type\":\"CategoricalTickFormatter\"},\"plot\":{\"id\":\"1002\",\"subtype\":\"Figure\",\"type\":\"Plot\"},\"ticker\":{\"id\":\"1013\",\"type\":\"CategoricalTicker\"}},\"id\":\"1012\",\"type\":\"CategoricalAxis\"},{\"attributes\":{},\"id\":\"1026\",\"type\":\"HelpTool\"},{\"attributes\":{},\"id\":\"1024\",\"type\":\"SaveTool\"},{\"attributes\":{},\"id\":\"1013\",\"type\":\"CategoricalTicker\"},{\"attributes\":{},\"id\":\"1008\",\"type\":\"CategoricalScale\"},{\"attributes\":{},\"id\":\"1046\",\"type\":\"UnionRenderers\"},{\"attributes\":{\"plot\":{\"id\":\"1002\",\"subtype\":\"Figure\",\"type\":\"Plot\"},\"ticker\":{\"id\":\"1013\",\"type\":\"CategoricalTicker\"}},\"id\":\"1015\",\"type\":\"Grid\"},{\"attributes\":{\"data_source\":{\"id\":\"1036\",\"type\":\"ColumnDataSource\"},\"glyph\":{\"id\":\"1037\",\"type\":\"VBar\"},\"hover_glyph\":null,\"muted_glyph\":null,\"nonselection_glyph\":{\"id\":\"1038\",\"type\":\"VBar\"},\"selection_glyph\":null,\"view\":{\"id\":\"1040\",\"type\":\"CDSView\"}},\"id\":\"1039\",\"type\":\"GlyphRenderer\"},{\"attributes\":{},\"id\":\"1025\",\"type\":\"ResetTool\"},{\"attributes\":{\"overlay\":{\"id\":\"1029\",\"type\":\"BoxAnnotation\"}},\"id\":\"1023\",\"type\":\"BoxZoomTool\"},{\"attributes\":{},\"id\":\"1010\",\"type\":\"LinearScale\"},{\"attributes\":{},\"id\":\"1017\",\"type\":\"BasicTicker\"},{\"attributes\":{},\"id\":\"1043\",\"type\":\"BasicTickFormatter\"},{\"attributes\":{\"bottom_units\":\"screen\",\"fill_alpha\":{\"value\":0.5},\"fill_color\":{\"value\":\"lightgrey\"},\"left_units\":\"screen\",\"level\":\"overlay\",\"line_alpha\":{\"value\":1.0},\"line_color\":{\"value\":\"black\"},\"line_dash\":[4,4],\"line_width\":{\"value\":2},\"plot\":null,\"render_mode\":\"css\",\"right_units\":\"screen\",\"top_units\":\"screen\"},\"id\":\"1029\",\"type\":\"BoxAnnotation\"},{\"attributes\":{\"dimension\":1,\"plot\":{\"id\":\"1002\",\"subtype\":\"Figure\",\"type\":\"Plot\"},\"ticker\":{\"id\":\"1017\",\"type\":\"BasicTicker\"}},\"id\":\"1020\",\"type\":\"Grid\"},{\"attributes\":{},\"id\":\"1021\",\"type\":\"PanTool\"},{\"attributes\":{},\"id\":\"1022\",\"type\":\"WheelZoomTool\"},{\"attributes\":{},\"id\":\"1045\",\"type\":\"CategoricalTickFormatter\"},{\"attributes\":{\"callback\":null,\"factors\":[\"abadeh\",\"abb\",\"abbilden\",\"abbilder\",\"abbildungen\",\"abcd\",\"abfolge\",\"abfolgen\",\"abgebildet\",\"abgeflacht\",\"abgelegen\",\"abgeleitet\",\"abgereicherten\",\"abgeschlossen\",\"abgewandelt\",\"abgrenzen\",\"abholzungen\",\"abh\\u00e4ngig\",\"abh\\u00e4ngigkeit\",\"abh\\u00e4ngigkeiten\",\"abiotischen\",\"abiotischer\",\"abk\\u00fchlgeschichte\",\"ablagerung\",\"ablagerungen\",\"ablagerungsgeschichte\",\"ablauf\",\"ablaufen\",\"ablaufend\",\"ableiten\",\"ableitung\",\"abmessungen\",\"abrufen\",\"abschirmen\",\"abschlie\\u00dfen\",\"abschlie\\u00dfend\",\"abschluss\",\"abschmelzung\",\"abschnitte\",\"absch\\u00e4tzen\",\"absch\\u00e4tzung\",\"absch\\u00e4tzungen\",\"absicherung\",\"absinken\",\"absolut\",\"abstammen\",\"abst\\u00e4nden\",\"abtragen\",\"abundanz\",\"abwandern\",\"abwanderungsverhalten\",\"abwandlungen\",\"abwechslungsreich\",\"acanthochitona\",\"acanthodier\",\"access\",\"acentropinae\",\"achondrite\",\"aculeata\",\"aculeate\",\"aculeaten\",\"aculeater\",\"aculifera\",\"adaptation\",\"adaptive\",\"adaptiven\",\"addax\",\"adelphotaxon\",\"aderung\",\"adressieren\",\"adulten\",\"ad\\u00e4quat\",\"aerobe\",\"aflp\",\"afm\",\"afrika\",\"afrikanisch\",\"afrikas\",\"afrotropis\",\"akkretion\",\"akkretioniert\",\"akkretionierten\",\"akkretioniertes\",\"akkretionsgeschichte\",\"akkretionsphase\",\"akkretionsrate\",\"akkumulationsquote\",\"akkumulationsrate\",\"aktiv\",\"aktive\",\"aktivit\\u00e4t\",\"aktualisieren\",\"aktualisierung\",\"aktuell\",\"akustisch\",\"akustische\",\"akzeptieren\",\"akzessorischer\",\"algorithmen\",\"alkenon\",\"alkenongehalte\",\"all\",\"allgemein\",\"allgemeing\\u00fcltig\",\"allopatrisch\",\"alpha\",\"alphadiversit\\u00e4t\",\"alt\",\"altern\",\"alternativ\",\"alters\",\"altersbestimmung\",\"amblypygi\",\"ambystoma\",\"ambystomatiden\",\"ameisen\",\"amerikanisch\",\"ammonoideen\"]},\"id\":\"1004\",\"type\":\"FactorRange\"},{\"attributes\":{\"fill_color\":{\"value\":\"#1f77b4\"},\"line_color\":{\"value\":\"#1f77b4\"},\"top\":{\"field\":\"top\"},\"width\":{\"value\":10},\"x\":{\"field\":\"x\"}},\"id\":\"1037\",\"type\":\"VBar\"},{\"attributes\":{\"callback\":null,\"data\":{\"top\":[{\"__ndarray__\":\"AAAAAAAAAAA=\",\"dtype\":\"float64\",\"shape\":[1,1]},{\"__ndarray__\":\"qgUHFV5uJkA=\",\"dtype\":\"float64\",\"shape\":[1,1]},{\"__ndarray__\":\"8FlppgB/KEA=\",\"dtype\":\"float64\",\"shape\":[1,1]},{\"__ndarray__\":\"fSGD3UafIkA=\",\"dtype\":\"float64\",\"shape\":[1,1]},{\"__ndarray__\":\"irZUe4h3I0A=\",\"dtype\":\"float64\",\"shape\":[1,1]},{\"__ndarray__\":\"wBSEAEYOI0A=\",\"dtype\":\"float64\",\"shape\":[1,1]},{\"__ndarray__\":\"frIhaSXeJEA=\",\"dtype\":\"float64\",\"shape\":[1,1]},{\"__ndarray__\":\"SiDVKhA1JEA=\",\"dtype\":\"float64\",\"shape\":[1,1]},{\"__ndarray__\":\"63+UA72GI0A=\",\"dtype\":\"float64\",\"shape\":[1,1]},{\"__ndarray__\":\"OnHRW5AEJkA=\",\"dtype\":\"float64\",\"shape\":[1,1]},{\"__ndarray__\":\"KX+yQ5o/IkA=\",\"dtype\":\"float64\",\"shape\":[1,1]},{\"__ndarray__\":\"z03UySUFIkA=\",\"dtype\":\"float64\",\"shape\":[1,1]},{\"__ndarray__\":\"qz4V8AAkJUA=\",\"dtype\":\"float64\",\"shape\":[1,1]},{\"__ndarray__\":\"XJ83oDxjHkA=\",\"dtype\":\"float64\",\"shape\":[1,1]},{\"__ndarray__\":\"AAAAAAAAAAA=\",\"dtype\":\"float64\",\"shape\":[1,1]},{\"__ndarray__\":\"LtVRje8KJEA=\",\"dtype\":\"float64\",\"shape\":[1,1]},{\"__ndarray__\":\"Zcvb5zYrIEA=\",\"dtype\":\"float64\",\"shape\":[1,1]},{\"__ndarray__\":\"ibrYIJmCIEA=\",\"dtype\":\"float64\",\"shape\":[1,1]},{\"__ndarray__\":\"zxx7ZqXmJkA=\",\"dtype\":\"float64\",\"shape\":[1,1]},{\"__ndarray__\":\"RhHwE1FLJEA=\",\"dtype\":\"float64\",\"shape\":[1,1]},{\"__ndarray__\":\"WO34PwUSJEA=\",\"dtype\":\"float64\",\"shape\":[1,1]},{\"__ndarray__\":\"NZr0dXZWIkA=\",\"dtype\":\"float64\",\"shape\":[1,1]},{\"__ndarray__\":\"d7QTmvAaI0A=\",\"dtype\":\"float64\",\"shape\":[1,1]},{\"__ndarray__\":\"C3TumVz7JEA=\",\"dtype\":\"float64\",\"shape\":[1,1]},{\"__ndarray__\":\"KPp8DKslJkA=\",\"dtype\":\"float64\",\"shape\":[1,1]},{\"__ndarray__\":\"10PJdd6lH0A=\",\"dtype\":\"float64\",\"shape\":[1,1]},{\"__ndarray__\":\"0icDyOFWGkA=\",\"dtype\":\"float64\",\"shape\":[1,1]},{\"__ndarray__\":\"AAAAAAAAAAA=\",\"dtype\":\"float64\",\"shape\":[1,1]},{\"__ndarray__\":\"lHIAlWVoIEA=\",\"dtype\":\"float64\",\"shape\":[1,1]},{\"__ndarray__\":\"jkoWYH+oHUA=\",\"dtype\":\"float64\",\"shape\":[1,1]},{\"__ndarray__\":\"aVEhslk5HkA=\",\"dtype\":\"float64\",\"shape\":[1,1]},{\"__ndarray__\":\"T7kf4C3nGUA=\",\"dtype\":\"float64\",\"shape\":[1,1]},{\"__ndarray__\":\"STFfy+ojHkA=\",\"dtype\":\"float64\",\"shape\":[1,1]},{\"__ndarray__\":\"7nPYSXSwIUA=\",\"dtype\":\"float64\",\"shape\":[1,1]},{\"__ndarray__\":\"cRgqq/zBH0A=\",\"dtype\":\"float64\",\"shape\":[1,1]},{\"__ndarray__\":\"AAAAAAAAAAA=\",\"dtype\":\"float64\",\"shape\":[1,1]},{\"__ndarray__\":\"VH9XNrbWHUA=\",\"dtype\":\"float64\",\"shape\":[1,1]},{\"__ndarray__\":\"YbuEO2YVHkA=\",\"dtype\":\"float64\",\"shape\":[1,1]},{\"__ndarray__\":\"XRLv0sc1IkA=\",\"dtype\":\"float64\",\"shape\":[1,1]},{\"__ndarray__\":\"gfbtDlnNIUA=\",\"dtype\":\"float64\",\"shape\":[1,1]},{\"__ndarray__\":\"AAAAAAAAAAA=\",\"dtype\":\"float64\",\"shape\":[1,1]},{\"__ndarray__\":\"+ZutXbMCJUA=\",\"dtype\":\"float64\",\"shape\":[1,1]},{\"__ndarray__\":\"myPBDIRYG0A=\",\"dtype\":\"float64\",\"shape\":[1,1]},{\"__ndarray__\":\"ovYvQlaFIUA=\",\"dtype\":\"float64\",\"shape\":[1,1]},{\"__ndarray__\":\"pbYiQBPJGUA=\",\"dtype\":\"float64\",\"shape\":[1,1]},{\"__ndarray__\":\"d0qSzvY9H0A=\",\"dtype\":\"float64\",\"shape\":[1,1]},{\"__ndarray__\":\"B01TdsEnIEA=\",\"dtype\":\"float64\",\"shape\":[1,1]},{\"__ndarray__\":\"bZod/d/OHkA=\",\"dtype\":\"float64\",\"shape\":[1,1]},{\"__ndarray__\":\"wrQzEaWpGUA=\",\"dtype\":\"float64\",\"shape\":[1,1]},{\"__ndarray__\":\"yQR9hNISHkA=\",\"dtype\":\"float64\",\"shape\":[1,1]},{\"__ndarray__\":\"97ov0dB1H0A=\",\"dtype\":\"float64\",\"shape\":[1,1]},{\"__ndarray__\":\"Z2IJ14IrHUA=\",\"dtype\":\"float64\",\"shape\":[1,1]},{\"__ndarray__\":\"xkFmqMrtHkA=\",\"dtype\":\"float64\",\"shape\":[1,1]},{\"__ndarray__\":\"AAAAAAAAAAA=\",\"dtype\":\"float64\",\"shape\":[1,1]},{\"__ndarray__\":\"6fxHP7PAIkA=\",\"dtype\":\"float64\",\"shape\":[1,1]},{\"__ndarray__\":\"ZiSGTBDdHUA=\",\"dtype\":\"float64\",\"shape\":[1,1]},{\"__ndarray__\":\"J77nKnUUGkA=\",\"dtype\":\"float64\",\"shape\":[1,1]},{\"__ndarray__\":\"LsF3h+ydI0A=\",\"dtype\":\"float64\",\"shape\":[1,1]},{\"__ndarray__\":\"4QDwwBa6H0A=\",\"dtype\":\"float64\",\"shape\":[1,1]},{\"__ndarray__\":\"XnntR6g2HkA=\",\"dtype\":\"float64\",\"shape\":[1,1]},{\"__ndarray__\":\"Dtgv0AUiG0A=\",\"dtype\":\"float64\",\"shape\":[1,1]},{\"__ndarray__\":\"tBDgtFHAJEA=\",\"dtype\":\"float64\",\"shape\":[1,1]},{\"__ndarray__\":\"k1GKVSO4IEA=\",\"dtype\":\"float64\",\"shape\":[1,1]},{\"__ndarray__\":\"AAAAAAAAAAA=\",\"dtype\":\"float64\",\"shape\":[1,1]},{\"__ndarray__\":\"LgLU3qKZIkA=\",\"dtype\":\"float64\",\"shape\":[1,1]},{\"__ndarray__\":\"8e35OFUAGUA=\",\"dtype\":\"float64\",\"shape\":[1,1]},{\"__ndarray__\":\"OFahqs5XIUA=\",\"dtype\":\"float64\",\"shape\":[1,1]},{\"__ndarray__\":\"n5Zj4untFkA=\",\"dtype\":\"float64\",\"shape\":[1,1]},{\"__ndarray__\":\"AAAAAAAAAAA=\",\"dtype\":\"float64\",\"shape\":[1,1]},{\"__ndarray__\":\"AAAAAAAAAAA=\",\"dtype\":\"float64\",\"shape\":[1,1]},{\"__ndarray__\":\"PQcEtqtCHUA=\",\"dtype\":\"float64\",\"shape\":[1,1]},{\"__ndarray__\":\"C47Ycav6F0A=\",\"dtype\":\"float64\",\"shape\":[1,1]},{\"__ndarray__\":\"AAAAAAAAAAA=\",\"dtype\":\"float64\",\"shape\":[1,1]},{\"__ndarray__\":\"AAAAAAAAAAA=\",\"dtype\":\"float64\",\"shape\":[1,1]},{\"__ndarray__\":\"AAAAAAAAAAA=\",\"dtype\":\"float64\",\"shape\":[1,1]},{\"__ndarray__\":\"h0MgUjhWIUA=\",\"dtype\":\"float64\",\"shape\":[1,1]},{\"__ndarray__\":\"X2QvT3JnJEA=\",\"dtype\":\"float64\",\"shape\":[1,1]},{\"__ndarray__\":\"LxwymqrBGUA=\",\"dtype\":\"float64\",\"shape\":[1,1]},{\"__ndarray__\":\"+RrD3JWoHEA=\",\"dtype\":\"float64\",\"shape\":[1,1]},{\"__ndarray__\":\"VRK8WYoGIUA=\",\"dtype\":\"float64\",\"shape\":[1,1]},{\"__ndarray__\":\"AAAAAAAAAAA=\",\"dtype\":\"float64\",\"shape\":[1,1]},{\"__ndarray__\":\"Cl6VF18xJ0A=\",\"dtype\":\"float64\",\"shape\":[1,1]},{\"__ndarray__\":\"Dlz4v+SUIEA=\",\"dtype\":\"float64\",\"shape\":[1,1]},{\"__ndarray__\":\"Fs0oC+FMJUA=\",\"dtype\":\"float64\",\"shape\":[1,1]},{\"__ndarray__\":\"AAAAAAAAAAA=\",\"dtype\":\"float64\",\"shape\":[1,1]},{\"__ndarray__\":\"hCuC3Z5nIUA=\",\"dtype\":\"float64\",\"shape\":[1,1]},{\"__ndarray__\":\"xA425VplIkA=\",\"dtype\":\"float64\",\"shape\":[1,1]},{\"__ndarray__\":\"AAAAAAAAAAA=\",\"dtype\":\"float64\",\"shape\":[1,1]},{\"__ndarray__\":\"aViBYLZyH0A=\",\"dtype\":\"float64\",\"shape\":[1,1]},{\"__ndarray__\":\"xL8Gex3oH0A=\",\"dtype\":\"float64\",\"shape\":[1,1]},{\"__ndarray__\":\"6KMXxKk9JkA=\",\"dtype\":\"float64\",\"shape\":[1,1]},{\"__ndarray__\":\"nLt1GUFTHkA=\",\"dtype\":\"float64\",\"shape\":[1,1]},{\"__ndarray__\":\"nH46fV1UIUA=\",\"dtype\":\"float64\",\"shape\":[1,1]},{\"__ndarray__\":\"uSJT1xDmIEA=\",\"dtype\":\"float64\",\"shape\":[1,1]},{\"__ndarray__\":\"U3OvhNrrH0A=\",\"dtype\":\"float64\",\"shape\":[1,1]},{\"__ndarray__\":\"ebqh+WFTIUA=\",\"dtype\":\"float64\",\"shape\":[1,1]},{\"__ndarray__\":\"2bk0/9pXI0A=\",\"dtype\":\"float64\",\"shape\":[1,1]},{\"__ndarray__\":\"JRmh1ws3JkA=\",\"dtype\":\"float64\",\"shape\":[1,1]},{\"__ndarray__\":\"IFjkmbFhH0A=\",\"dtype\":\"float64\",\"shape\":[1,1]},{\"__ndarray__\":\"HAULydbNHEA=\",\"dtype\":\"float64\",\"shape\":[1,1]},{\"__ndarray__\":\"0k5bv5g7IEA=\",\"dtype\":\"float64\",\"shape\":[1,1]},{\"__ndarray__\":\"ABuwPPwoJ0A=\",\"dtype\":\"float64\",\"shape\":[1,1]},{\"__ndarray__\":\"uWhjIMzFJkA=\",\"dtype\":\"float64\",\"shape\":[1,1]},{\"__ndarray__\":\"tA+5/wdFIkA=\",\"dtype\":\"float64\",\"shape\":[1,1]},{\"__ndarray__\":\"EUwtWsKxJEA=\",\"dtype\":\"float64\",\"shape\":[1,1]},{\"__ndarray__\":\"fbvhdkROHEA=\",\"dtype\":\"float64\",\"shape\":[1,1]},{\"__ndarray__\":\"cVwHTQ2dHkA=\",\"dtype\":\"float64\",\"shape\":[1,1]},{\"__ndarray__\":\"ThFEbgrGH0A=\",\"dtype\":\"float64\",\"shape\":[1,1]},{\"__ndarray__\":\"9XYCtab3IEA=\",\"dtype\":\"float64\",\"shape\":[1,1]},{\"__ndarray__\":\"hrkm+0/DIkA=\",\"dtype\":\"float64\",\"shape\":[1,1]},{\"__ndarray__\":\"Sk6+vE+5GUA=\",\"dtype\":\"float64\",\"shape\":[1,1]},{\"__ndarray__\":\"JlJGwmmEFkA=\",\"dtype\":\"float64\",\"shape\":[1,1]},{\"__ndarray__\":\"0R1yEcNaJEA=\",\"dtype\":\"float64\",\"shape\":[1,1]},{\"__ndarray__\":\"4CARD4h+FkA=\",\"dtype\":\"float64\",\"shape\":[1,1]},{\"__ndarray__\":\"AAAAAAAAAAA=\",\"dtype\":\"float64\",\"shape\":[1,1]},{\"__ndarray__\":\"mzWiguqSIkA=\",\"dtype\":\"float64\",\"shape\":[1,1]},{\"__ndarray__\":\"gr4m7V0lIkA=\",\"dtype\":\"float64\",\"shape\":[1,1]},{\"__ndarray__\":\"WucNyWNVI0A=\",\"dtype\":\"float64\",\"shape\":[1,1]}],\"x\":[\"abadeh\",\"abb\",\"abbilden\",\"abbilder\",\"abbildungen\",\"abcd\",\"abfolge\",\"abfolgen\",\"abgebildet\",\"abgeflacht\",\"abgelegen\",\"abgeleitet\",\"abgereicherten\",\"abgeschlossen\",\"abgewandelt\",\"abgrenzen\",\"abholzungen\",\"abh\\u00e4ngig\",\"abh\\u00e4ngigkeit\",\"abh\\u00e4ngigkeiten\",\"abiotischen\",\"abiotischer\",\"abk\\u00fchlgeschichte\",\"ablagerung\",\"ablagerungen\",\"ablagerungsgeschichte\",\"ablauf\",\"ablaufen\",\"ablaufend\",\"ableiten\",\"ableitung\",\"abmessungen\",\"abrufen\",\"abschirmen\",\"abschlie\\u00dfen\",\"abschlie\\u00dfend\",\"abschluss\",\"abschmelzung\",\"abschnitte\",\"absch\\u00e4tzen\",\"absch\\u00e4tzung\",\"absch\\u00e4tzungen\",\"absicherung\",\"absinken\",\"absolut\",\"abstammen\",\"abst\\u00e4nden\",\"abtragen\",\"abundanz\",\"abwandern\",\"abwanderungsverhalten\",\"abwandlungen\",\"abwechslungsreich\",\"acanthochitona\",\"acanthodier\",\"access\",\"acentropinae\",\"achondrite\",\"aculeata\",\"aculeate\",\"aculeaten\",\"aculeater\",\"aculifera\",\"adaptation\",\"adaptive\",\"adaptiven\",\"addax\",\"adelphotaxon\",\"aderung\",\"adressieren\",\"adulten\",\"ad\\u00e4quat\",\"aerobe\",\"aflp\",\"afm\",\"afrika\",\"afrikanisch\",\"afrikas\",\"afrotropis\",\"akkretion\",\"akkretioniert\",\"akkretionierten\",\"akkretioniertes\",\"akkretionsgeschichte\",\"akkretionsphase\",\"akkretionsrate\",\"akkumulationsquote\",\"akkumulationsrate\",\"aktiv\",\"aktive\",\"aktivit\\u00e4t\",\"aktualisieren\",\"aktualisierung\",\"aktuell\",\"akustisch\",\"akustische\",\"akzeptieren\",\"akzessorischer\",\"algorithmen\",\"alkenon\",\"alkenongehalte\",\"all\",\"allgemein\",\"allgemeing\\u00fcltig\",\"allopatrisch\",\"alpha\",\"alphadiversit\\u00e4t\",\"alt\",\"altern\",\"alternativ\",\"alters\",\"altersbestimmung\",\"amblypygi\",\"ambystoma\",\"ambystomatiden\",\"ameisen\",\"amerikanisch\",\"ammonoideen\"]},\"selected\":{\"id\":\"1047\",\"type\":\"Selection\"},\"selection_policy\":{\"id\":\"1046\",\"type\":\"UnionRenderers\"}},\"id\":\"1036\",\"type\":\"ColumnDataSource\"},{\"attributes\":{\"formatter\":{\"id\":\"1043\",\"type\":\"BasicTickFormatter\"},\"plot\":{\"id\":\"1002\",\"subtype\":\"Figure\",\"type\":\"Plot\"},\"ticker\":{\"id\":\"1017\",\"type\":\"BasicTicker\"}},\"id\":\"1016\",\"type\":\"LinearAxis\"},{\"attributes\":{\"callback\":null},\"id\":\"1006\",\"type\":\"DataRange1d\"},{\"attributes\":{},\"id\":\"1047\",\"type\":\"Selection\"},{\"attributes\":{\"active_drag\":\"auto\",\"active_inspect\":\"auto\",\"active_multi\":null,\"active_scroll\":\"auto\",\"active_tap\":\"auto\",\"tools\":[{\"id\":\"1021\",\"type\":\"PanTool\"},{\"id\":\"1022\",\"type\":\"WheelZoomTool\"},{\"id\":\"1023\",\"type\":\"BoxZoomTool\"},{\"id\":\"1024\",\"type\":\"SaveTool\"},{\"id\":\"1025\",\"type\":\"ResetTool\"},{\"id\":\"1026\",\"type\":\"HelpTool\"}]},\"id\":\"1027\",\"type\":\"Toolbar\"}],\"root_ids\":[\"1002\"]},\"title\":\"Bokeh Application\",\"version\":\"1.0.1\"}};\n",
       "  var render_items = [{\"docid\":\"fa849ddf-8d1b-4273-bc88-0b0fdedc00b7\",\"roots\":{\"1002\":\"bc915b00-0d79-4f23-a8ba-855914852986\"}}];\n",
       "  root.Bokeh.embed.embed_items_notebook(docs_json, render_items);\n",
       "\n",
       "  }\n",
       "  if (root.Bokeh !== undefined) {\n",
       "    embed_document(root);\n",
       "  } else {\n",
       "    var attempts = 0;\n",
       "    var timer = setInterval(function(root) {\n",
       "      if (root.Bokeh !== undefined) {\n",
       "        embed_document(root);\n",
       "        clearInterval(timer);\n",
       "      }\n",
       "      attempts++;\n",
       "      if (attempts > 100) {\n",
       "        console.log(\"Bokeh: ERROR: Unable to run BokehJS code because BokehJS library is missing\");\n",
       "        clearInterval(timer);\n",
       "      }\n",
       "    }, 10, root)\n",
       "  }\n",
       "})(window);"
      ],
      "application/vnd.bokehjs_exec.v0+json": ""
     },
     "metadata": {
      "application/vnd.bokehjs_exec.v0+json": {
       "id": "1002"
      }
     },
     "output_type": "display_data"
    }
   ],
   "source": [
    "words = dict(zip(tfidf_vectorizer.get_feature_names(), np.sum(tfs, axis=1)))\n",
    "print(words)\n",
    "#print()\n",
    "p = figure(x_range=[k for k,v in words.items()], plot_width=800, plot_height=800, title=None)\n",
    "p.vbar(x=[k for k,v in words.items()], top=[v for k,v in words.items()], width=10)\n",
    "show(p)"
   ]
  },
  {
   "cell_type": "code",
   "execution_count": 16,
   "metadata": {
    "local_metadata": {},
    "remote_metadata": {
     "tags": [
      "remove_cell"
     ]
    }
   },
   "outputs": [],
   "source": [
    "def save(payload):\n",
    "    with open('dump.json', 'w') as dumpfile:\n",
    "        json.dump(payload, dumpfile)"
   ]
  },
  {
   "cell_type": "code",
   "execution_count": 17,
   "metadata": {
    "local_metadata": {},
    "remote_metadata": {
     "tags": [
      "remove_cell"
     ]
    }
   },
   "outputs": [],
   "source": [
    "def visualize(targetDim=2,tfs=None,dimreduction='LSA', clustering='KMEANS', embedding='LDA', num_topics=20, num_clusters=3, perplexity=5, learning_rate=200 ):\n",
    "    \n",
    "    if dimreduction == 'LSA':\n",
    "        tfs_reduced, model = LSA(tfs, num_topics=num_topics)\n",
    "    elif dimreduction == 'NMF':\n",
    "        tfs_reduced, model = NMF(tfs, num_topics=num_topics)\n",
    "    else:\n",
    "        return 'No dimensionality reduction technique was selected!'\n",
    "    \n",
    "    if clustering == 'KMEANS':\n",
    "        clusters = cluster(tfs_reduced, num_topics=num_clusters)\n",
    "    else:\n",
    "        return 'No clustering technique was selected!'\n",
    "    \n",
    "    if embedding == 'LDA':\n",
    "        tfs_embedded = dimReductionLDA(tfs_reduced, clusters=clusters, targetDim=targetDim)\n",
    "    elif embedding == 'tSNE':\n",
    "        tfs_embedded = dimReductiontSNE(tfs_reduced, perplexity=perplexity, learning_rate=learning_rate, targetDim=targetDim)\n",
    "    else:\n",
    "        return 'No dimensionality reduction technique was selected!'\n",
    "    \n",
    "    tfidf_feature_names = [str(token) for token in tfidf_vectorizer.get_feature_names()]\n",
    "    cluster_words = np.array([words for i, words in get_top_words_cluster(model, clusters.cluster_centers_, tfidf_feature_names, 5).items()])\n",
    "    [print(i, words) for i,words in enumerate(cluster_words)]\n",
    "    \n",
    "    if targetDim == 2:\n",
    "        # configure bokeh plot                   \n",
    "        source = ColumnDataSource(data=dict(\n",
    "            x=tfs_embedded[:, 0],\n",
    "            y=tfs_embedded[:, 1],\n",
    "            ids=list(cleanProjectTexts().keys()),\n",
    "            titles=[next((project['title'] for project in loadProjects() if project['id'] == key), ['None']) for key in cleanProjectTexts().keys()],\n",
    "            colours=np.array(d3['Category20'][num_clusters])[clusters.labels_],\n",
    "            labels=clusters.labels_\n",
    "        ))\n",
    "\n",
    "        TOOLTIPS = [\n",
    "            (\"index\", \"$index\"),\n",
    "            (\"id\", \"@ids\"),\n",
    "            (\"title\", \"@titles\"),\n",
    "        ]\n",
    "\n",
    "        p = figure(plot_width=800, plot_height=800, title=None, toolbar_location=\"below\", tooltips=TOOLTIPS, tools='tap,pan,wheel_zoom')\n",
    "        p.scatter('x', 'y', size=10,color='colours', legend='labels', source=source)\n",
    "        url = 'http://gepris.dfg.de/gepris/projekt/@ids'\n",
    "        taptool = p.select(type=TapTool)\n",
    "        taptool.callback = OpenURL(url=url)\n",
    "        show(p)\n",
    "    else:\n",
    "\n",
    "        source = go.Scatter3d(\n",
    "            x=tfs_embedded[:, 0],\n",
    "            y=tfs_embedded[:, 1],\n",
    "            z=tfs_embedded[:, 2],\n",
    "            mode='markers',\n",
    "            marker=dict(\n",
    "                size=12,\n",
    "                color=clusters.labels_,                # set color to an array/list of desired values\n",
    "                colorscale='Viridis',   # choose a colorscale\n",
    "                opacity=0.8\n",
    "            )\n",
    "        )\n",
    "\n",
    "        data = [source]\n",
    "        layout = go.Layout(\n",
    "            margin=dict(\n",
    "                l=0,\n",
    "                r=0,\n",
    "                b=0,\n",
    "                t=0\n",
    "            )\n",
    "        )\n",
    "        fig = go.Figure(data=data, layout=layout)\n",
    "        iplot(fig, filename='3d-scatter-colorscale')\n",
    "    \n",
    "    payload = {\n",
    "        'params': {\n",
    "            'targetDim': targetDim,\n",
    "            'dimreduction': dimreduction,\n",
    "            'clustering': clustering,\n",
    "            'embedding': embedding,\n",
    "            'num_topics': num_topics,\n",
    "            'num_clusters': num_clusters,\n",
    "            'perplexity': perplexity,\n",
    "            'learning_rate': learning_rate\n",
    "        },\n",
    "        'data': {\n",
    "            'points': tfs_embedded.tolist(),\n",
    "            'clusters': clusters.labels_.tolist(),\n",
    "            'cluster_words': [ words for i, words in get_top_words_cluster(model, clusters.cluster_centers_, tfidf_feature_names, 5).items()],\n",
    "            'cluster_colour': d3['Category20'][num_clusters]\n",
    "        }\n",
    "    }\n",
    "    save(payload)\n",
    "        \n"
   ]
  },
  {
   "cell_type": "code",
   "execution_count": 18,
   "metadata": {
    "local_metadata": {
     "scrolled": false
    },
    "remote_metadata": {
     "scrolled": false,
     "tags": [
      "remove_cell"
     ]
    },
    "scrolled": false
   },
   "outputs": [
    {
     "name": "stderr",
     "output_type": "stream",
     "text": [
      "/home/tim/.local/share/virtualenvs/rpcserver-R6dNBFY-/lib/python3.6/site-packages/scipy/sparse/compressed.py:226: SparseEfficiencyWarning:\n",
      "\n",
      "Comparing sparse matrices using == is inefficient, try using != instead.\n",
      "\n"
     ]
    },
    {
     "data": {
      "application/vnd.jupyter.widget-view+json": {
       "model_id": "8d7755556a64410f926dbe36700a0dea",
       "version_major": 2,
       "version_minor": 0
      },
      "text/plain": [
       "interactive(children=(IntSlider(value=2, continuous_update=False, description='targetDim', max=3, min=2), Drop…"
      ]
     },
     "metadata": {},
     "output_type": "display_data"
    }
   ],
   "source": [
    "def s(x,y):\n",
    "    return IntSlider(min=x,max=y, value=(y-x)//2, continuous_update=False)\n",
    "\n",
    "w = interactive(visualize,targetDim=s(2,3),tfs=fixed(tfs), dimreduction=['LSA', 'NMF'], clustering=['KMEANS'], embedding=['LDA', 'tSNE'], num_topics=s(4,48), num_clusters=s(4,14), perplexity=s(5,50), learning_rate=s(2,20))\n",
    "output = w.children[-1]\n",
    "output.layout.height = '1500px'\n",
    "display(w)\n"
   ]
  },
  {
   "cell_type": "code",
   "execution_count": 15,
   "metadata": {
    "scrolled": false,
    "tags": [
     "remove_cell"
    ]
   },
   "outputs": [
    {
     "name": "stdout",
     "output_type": "stream",
     "text": [
      "LSA execution time:  0.0937802791595459\n",
      "Clustering execution time:  0.05189990997314453\n",
      "LDA execution time:  0.003383159637451172\n",
      "0 ['gegensatz', 'element', 'ausgewählt', 'gehört', 'gebirgen']\n",
      "1 ['weiden', 'mehrerer', 'stehen', 'zusammengeführt', 'unterschiedlichen']\n",
      "2 ['testen', 'eingeschätzt', 'reproduktionsbiologie', 'abhängigkeit', 'taxonomisch']\n",
      "3 ['erforscht', 'eng', 'phylogenetischen', 'taiwan', 'philippinischen']\n",
      "4 ['hervorragenden', 'nordafrikanischen', 'sukzession', 'besitzen', 'faunen']\n"
     ]
    },
    {
     "data": {
      "text/html": [
       "\n",
       "\n",
       "\n",
       "\n",
       "\n",
       "\n",
       "  <div class=\"bk-root\" id=\"00995708-e7bb-4e42-967d-6d83d7c68a53\"></div>\n"
      ]
     },
     "metadata": {},
     "output_type": "display_data"
    },
    {
     "data": {
      "application/javascript": [
       "(function(root) {\n",
       "  function embed_document(root) {\n",
       "    \n",
       "  var docs_json = {\"3f0579c3-8a91-472b-ac8c-7193fbe12c11\":{\"roots\":{\"references\":[{\"attributes\":{\"below\":[{\"id\":\"1112\",\"type\":\"LinearAxis\"}],\"left\":[{\"id\":\"1117\",\"type\":\"LinearAxis\"}],\"plot_height\":800,\"plot_width\":800,\"renderers\":[{\"id\":\"1112\",\"type\":\"LinearAxis\"},{\"id\":\"1116\",\"type\":\"Grid\"},{\"id\":\"1117\",\"type\":\"LinearAxis\"},{\"id\":\"1121\",\"type\":\"Grid\"},{\"id\":\"1131\",\"type\":\"BoxAnnotation\"},{\"id\":\"1142\",\"type\":\"GlyphRenderer\"}],\"title\":null,\"toolbar\":{\"id\":\"1129\",\"type\":\"Toolbar\"},\"toolbar_location\":\"below\",\"x_range\":{\"id\":\"1104\",\"type\":\"DataRange1d\"},\"x_scale\":{\"id\":\"1108\",\"type\":\"LinearScale\"},\"y_range\":{\"id\":\"1106\",\"type\":\"DataRange1d\"},\"y_scale\":{\"id\":\"1110\",\"type\":\"LinearScale\"}},\"id\":\"1102\",\"subtype\":\"Figure\",\"type\":\"Plot\"},{\"attributes\":{\"plot\":{\"id\":\"1102\",\"subtype\":\"Figure\",\"type\":\"Plot\"},\"ticker\":{\"id\":\"1113\",\"type\":\"BasicTicker\"}},\"id\":\"1116\",\"type\":\"Grid\"},{\"attributes\":{\"data_source\":{\"id\":\"1101\",\"type\":\"ColumnDataSource\"},\"glyph\":{\"id\":\"1140\",\"type\":\"Scatter\"},\"hover_glyph\":null,\"muted_glyph\":null,\"nonselection_glyph\":{\"id\":\"1141\",\"type\":\"Scatter\"},\"selection_glyph\":null,\"view\":{\"id\":\"1143\",\"type\":\"CDSView\"}},\"id\":\"1142\",\"type\":\"GlyphRenderer\"},{\"attributes\":{\"callback\":null,\"data\":{\"colours\":[\"#aec7e8\",\"#ffbb78\",\"#2ca02c\",\"#aec7e8\",\"#2ca02c\",\"#aec7e8\",\"#aec7e8\",\"#2ca02c\",\"#2ca02c\",\"#aec7e8\",\"#ffbb78\",\"#ffbb78\",\"#aec7e8\",\"#1f77b4\",\"#aec7e8\",\"#aec7e8\",\"#2ca02c\",\"#ff7f0e\",\"#2ca02c\",\"#aec7e8\",\"#aec7e8\",\"#2ca02c\",\"#aec7e8\",\"#ff7f0e\",\"#aec7e8\",\"#ff7f0e\",\"#2ca02c\",\"#aec7e8\",\"#ffbb78\",\"#ff7f0e\",\"#2ca02c\",\"#1f77b4\",\"#aec7e8\",\"#aec7e8\",\"#ff7f0e\",\"#aec7e8\",\"#1f77b4\",\"#ffbb78\",\"#ff7f0e\",\"#aec7e8\",\"#aec7e8\",\"#2ca02c\",\"#ff7f0e\",\"#2ca02c\",\"#aec7e8\",\"#1f77b4\",\"#aec7e8\",\"#1f77b4\",\"#1f77b4\",\"#ffbb78\",\"#ff7f0e\",\"#1f77b4\",\"#1f77b4\",\"#aec7e8\",\"#aec7e8\",\"#aec7e8\",\"#ff7f0e\",\"#ffbb78\",\"#aec7e8\",\"#2ca02c\",\"#aec7e8\",\"#ffbb78\",\"#ffbb78\",\"#aec7e8\",\"#1f77b4\",\"#aec7e8\",\"#aec7e8\",\"#2ca02c\",\"#aec7e8\",\"#aec7e8\",\"#2ca02c\",\"#aec7e8\",\"#aec7e8\",\"#aec7e8\",\"#aec7e8\",\"#aec7e8\",\"#aec7e8\",\"#2ca02c\",\"#ff7f0e\",\"#aec7e8\",\"#aec7e8\",\"#1f77b4\",\"#1f77b4\",\"#ffbb78\",\"#aec7e8\",\"#aec7e8\",\"#ff7f0e\",\"#aec7e8\",\"#ffbb78\",\"#aec7e8\",\"#aec7e8\",\"#ff7f0e\",\"#2ca02c\",\"#aec7e8\",\"#2ca02c\",\"#2ca02c\",\"#1f77b4\",\"#aec7e8\",\"#ffbb78\",\"#1f77b4\",\"#aec7e8\",\"#1f77b4\",\"#2ca02c\",\"#aec7e8\",\"#1f77b4\",\"#1f77b4\",\"#aec7e8\",\"#ffbb78\",\"#aec7e8\",\"#2ca02c\",\"#2ca02c\",\"#1f77b4\",\"#aec7e8\",\"#aec7e8\",\"#aec7e8\",\"#1f77b4\",\"#aec7e8\",\"#1f77b4\"],\"ids\":[5378371,372767665,324399721,407924429,384478093,315696891,264294766,388827550,386259701,388659338,351155510,277243906,251841938,387794796,399895065,274695956,282995372,273857639,269736211,262540208,265560107,388111938,310335869,398660091,283080919,261812059,5289356,5380004,89105893,68974316,5440608,5235865,5189044,13491656,5395896,5368630,161034056,5353411,56501341,226518046,5203452,248485444,207222371,60495363,5338421,5235806,19144889,5292734,167839750,5256280,5248386,62112988,16033745,5359996,5441261,248404768,27070626,162429229,23220846,48616101,5153814,269215105,5452621,5182418,5398514,29077824,5235712,5377477,5408394,5203422,5210250,5375305,5203522,5203534,5203516,5285778,258188145,213563103,5429589,352447832,5418166,13593946,5203510,252622269,5108476,5375617,279867559,5411035,5134278,5368872,288773903,5391598,5402631,243252611,12468982,290190574,290189833,167288317,290428482,215906548,5301106,111512977,111514507,111513384,239673756,248067007,248394582,203198267,203172118,349093483,290759897,290760073,263649064,290760112,271867,272675,188358653,194453117],\"titles\":[\"Rekonstruktion von Dastilbe: Anatomische und konstruktionsmorphologische Untersuchungen als Grundlage zur Interpretation der Fortbewegungs- und Ern\\u00e4hrungsweise eines wenig abgeleiteten Knochenfisches im Hinblick auf pal\\u00e4o\\u00f6kologische Fragestellungen\",\"Anatomie, \\u00d6kologie und Ontogenie von Mesosauriern unter Anwendung von 3D-Bildtechnologien\",\"Biodiversit\\u00e4tsmuster, Pal\\u00e4o\\u00f6kologie und funktionelle Diversit\\u00e4t des \\\"Great Ordovician Biodiversification Event\\\" in der Basin and Range Provinz, USA.\",\"Closing the corridor \\u2013Suche nach archaeoceten \\u00dcberresten (Mammalia: Cetartiodactyla) in den eoz\\u00e4nen Ablagerungen bei Kangan (Golfregion, Iran)\",\"Das Fenster zur Natur und Kunst: Eine historisch-kritische Aufarbeitung der Brandenburgisch-Preu\\u00dfischen Kunstkammer als Observatorium, Laboratorium, Kommunikationsfl\\u00e4che und Schauraum des Wissens\",\"Die Auswirkungen eiszeitlicher Klimaschwankungen auf die Evolution afrikanischer S\\u00e4ugetiere am Beispiel der Pferdeb\\u00f6cke\",\"Die Biogeographie Sp\\u00e4tpal\\u00e4ozoischer Tetrapoden\",\"Die Evolution von Knochenzellen in der Tiefenzeit und die Implikationen f\\u00fcr den Knochenstoffwechsel in der Geschichte der Wirbeltiere\",\"Die Evolution von Regenerationsverm\\u00f6gen in Tetrapodenextremit\\u00e4ten unter Einbeziehung rezenter und fossiler Daten\",\"Die Perspektive vom anderen Ende der Welt: Mitteltriassische Ichthyosaurier aus Nevada und ihre Bedeutung f\\u00fcr die initiale Phase der Mesozoic Marine Revolution im Bereich des Ostpazifik\",\"Diversit\\u00e4ts-kontrollierende Faktoren bei terrestrischen herbivoren S\\u00e4ugetieren des K\\u00e4nozoikums\",\"Evolution der tropischen marinen Biodiversit\\u00e4t: vergleichende Analyse der triassischen Fauna der Cassian Formation mit modernen Faunen\",\"Evolution von Photorezeptoren bei Deuterostomia - neue Erkenntnisse durch Untersuchungen an Echinodermen und Enteropneusten\",\"K\\u00e4nozoische Fossil-Lagerst\\u00e4tten im Atbara Valley, Sudan\",\"Kreide Ursprung von tropische Reggenw\\u00e4lder in Africa and Levant und Konsequenz f\\u00fcr moderne Klima Prognose\",\"Molekulare Extremit\\u00e4tenentwicklung in dem basalen Squamaten Hemidactylus\",\"Nischendifferenzierung bei Herbivoren und die Intensivierung der Konkurrenz in afrikanischen Savannen\",\"Phonologische Syntax in den Laut\\u00e4u\\u00dferungen von Flederm\\u00e4usen - ein biolinguistischer Forschungsansatz\",\"Phylogenetische Rekonstruktion der thermalen Nischen von Palaearktischen Eidechsen der Familie Lacertidae\",\"Phylogenie und Evolution der aculeaten Hymenopteren\",\"Planetare Entwicklung - Eine Studie zur thermischen Entwicklung des Mond.\",\"Rekonstruktion der Evolutionsgeschichte \\u00f6kologischer Anpassungen bei S\\u00e4ugetieren anhand mikroanatomischer Studien\",\"Rekonstruktion der Zusammensetzung von Inselbioz\\u00f6nosen auf evolution\\u00e4ren Zeitskalen: Ein phylogenetischer Modellierungsansatz\",\"Schmelzen, Impakte und der Volatilgehalt des Inneren und der Atmosph\\u00e4ren von Mars und Venus\",\"Seeberge als potentielle Trittsteine f\\u00fcr die Verbreitung des Meiobenthos. Vergleichende taxonomische, faunistische und biogeographische Untersuchungen der Kinorhyncha von verschiedenen Seebergen und Inseln des Nordost-Atlantiks und des Mittelmeeres\",\"Trias-\\u00dcbergang: Analyse des Nischen-Austausches zwischen Gro\\u00dfgruppen fossiler Wirbeltiere\",\"Altersstellung und Pal\\u00e4o\\u00f6kologie der Dinosaurier-Lagerst\\u00e4tte Tendaguru in Tansania, Ostafrika\",\"Artabgrenzung und Phylogenie der Kalkdinoflagellaten (Peridiniales (Calciodinellacea) und Thoracosphaerales)\",\"Chytridiomykose - Untersuchungen zur Gef\\u00e4hrdung einheimischer Amphibien durch Batrachochytrium dendrobatids\",\"Das Kaokoveld in Namibia - eine eigenst\\u00e4ndige Region oder Teil der Western Escapment Mountains (WEM) ?\",\"Der Stachelapparat aculeater Hymenopteren: Morphologie, Evolution und die Bedeutung f\\u00fcr Reproduktionsstrategien bei solit\\u00e4ren Wespen\",\"Die Bedeutung des Brandberg-Massivs in Namibia f\\u00fcr die Entstehung und Erhaltung von Biodiversit\\u00e4t am Beispiel der Lepidoptera- und Trichoptera-Fauna\",\"Die Bildungsbedingungen von Diamant in den Impaktformationen des N\\u00f6rdlinger Ries\",\"Die Biodiversit\\u00e4t endemitenreicher Gebiete des Iran und Untersuchungen zu ihrer historischen Biogeographie anhand ausgew\\u00e4hlter Insekten-Taxa\",\"Die Heterogynaidae - Schwestergruppe von Grabwespen und Bienen?\",\"Die Kreide-Terti\\u00e4r-Grenze in Patagonien - Pal\\u00e4ontologische und sedimentologische Muster im globalen Vergleich\",\"Die Perm-Trias Grenze und die Untertrias transkaukasischer und zentraliranischer pelagischer Profile\",\"Die Walfauna (Cetacea: Odontoceti, Mysticeti) aus dem untersten Obermioz\\u00e4n von Gro\\u00df Pampau (Schleswig-Holstein), ihr phylogenetischer Status und ihre Entwicklung im atlantischen Raum\",\"Diversifikationsmuster durch die Zeit: Geht die rezente Vielfalt der limnischen Schneckengruppe Viviparidae auf eine \\\"alte\\\" Radidation zur\\u00fcck?\",\"Dynamische und chemische Entwicklung Mars- und Venus-\\u00e4hnlicher Planeten\",\"Edelgase und Stickstoff in Mars-Meteoriten als Hinweise zur Entwicklung der Mars-Atmosph\\u00e4re\",\"Entstehung und Evolution der nicht-hadrosauriden ornithopoden Dinosaurier\",\"Evolutionary rates and evolutionary trends in Carboniferous and Permian ammonoids\",\"Evolution benthischer Kalkdinoflagellaten-Zysten\",\"Evolution und Biogeographie der benthischen Tiefseefauna des Ostpazifiks (Expedition SO 158)\",\"Flora und Pal\\u00e4o\\u00f6kologie der Jura-Kreide-Grenzschichten im Gebiet des Tendaguru (Tansania, Ost-Afrika)\",\"Fortpflanzungsbiologie und endokrinologische Grundlagen der Reproduktion von spermienspeichernden Flederm\\u00e4usen\",\"Fortpflanzungsstrategien und Populationsstruktur der Sackfl\\u00fcgelfledermaus Saccopteryx bilineata\",\"Geburtsortstreue oder Abwanderung? Geschlechtsspezifische Abwanderungsstrategien bei neotropischen Flederm\\u00e4usen\",\"Herkunft und Verbreitungsgeschichte der Trichoptera und aquatischen Lepidoptera (Insecta) der Philippinen\",\"Integrative Stratigraphie des Kulm-Sedimentationsbeckens\",\"Morphologie und phylogenetische Signifikanz der Antennen und der antennalen Sensillen aculeater Hymenopteren\",\"Morphologisch-phylogenetische Analyse der Buchlungen rezenter und fossiler Arachnida\",\"Nachweis und Charakterisierung der Metamorphose bei Pal\\u00e4ozoischen temnospondylen Amphibien\",\"Pal\\u00e4o\\u00f6kologie und Taphonomie der Unionoida (Mollusca: Bivalvia) unter Ber\\u00fccksichtigung der Ziele moderner Artenschutzprogramme von S\\u00fc\\u00dfwassermuscheln\",\"Phylogenetische und Pal\\u00e4o\\u00f6kologische Untersuchungen von Einkeimbl\\u00e4ttrigen Bl\\u00fctenpflanzen ausder Kreide von Nord Gondwana (Brasilien und \\u00c4gypten)\",\"Phylogenie und historische Biogeographie der Gattung Hydropsyche Pictet, 1834 (Insecta, Trichoptera: Hydropschidae)\",\"Phylogenie und Phylogeographie von Brutbeutel tragenden S\\u00fc\\u00dfwasser-Gastropoden (Thiaridae in Australien: Implikationen f\\u00fcr die Biogeographie und die evolution\\u00e4re Rolle viviparer Reproduktionsstrategien\",\"Phylogeographie der Thecideoidea (Brachiopoda)\",\"Prim\\u00e4r-Kondensate und moderat volatile Elemente in Chondriten: Implikationen f\\u00fcr Fraktionierungsprozesse im Sonnennebel\",\"Rekonstruktion der Phylogenese der Amphipoda (Crustacea) auf der Grundlage molekularer Merkmale und Vergleich mit bekannten Daten \\u00fcber Morphologie und Lebensweise\",\"Bewegung in neue Nischen: Beine, \\u00d6kologie und Evolution mustellider S\\u00e4uger\",\"Rekonstruktion westafrikanischer Regenwaldrefugien mit Hilfe Laubstreu bewohnender Anuren - ein phylogeographischer Ansatz\",\"Revision der kretazischen Fische von Sendenhorst (Senon, Westfalen), Vergleich mit Material des Libanon und Herstellen des Verwandtschaftsbezuges zu rezenten Gruppen\",\"Rezente Pilzm\\u00fccken Neuseelands: Schl\\u00fcsselfauna f\\u00fcr das Verst\\u00e4ndnis der Phylogenese der Mycetophilidae s. str.\",\"Schneller Zugang zum Softwarepaket Delta, der Merkmalsdatenbank f\\u00fcr die biologische Systematik\",\"Stratigraphie, Faziesentwicklung sowie Invertebraten- und Mikropal\\u00e4ontologie der Tendaguru-Formation (Oberjura und Unterkreide von Tansania, Ostafrika)\",\"Stratigraphische und pal\\u00e4obiogeographische Position von unterkarbonischen Sedimenten in der algerischen Zentral-Sahara\",\"Structural geology, Petrology, and Geochronology of metamorphic rocks of the La Sepultura unit as part of the Chiapas Massif/Southeast Mexico\",\"Systematic and comprehensive interdisciplinary analysis of all Martian meteorites - TOF-SIMS investigation\",\"Systematik, Evolution und Biogeographie der Amphibienfauna von Irian Jaya\",\"Systematik und Biogeographie australischer Iphimediidae (Crustacea, Amphipoda) aus den Sammlungen des Australian Museum Sydney\",\"Systematische und umfassende interdisziplin\\u00e4re Analyse aller Marsmeteorite\",\"Systematische und umfassende interdisziplin\\u00e4re Analyse aller Marsmeteorite\",\"Systematische Untersuchungen der Sto\\u00dfwellenmetamorphose aller Marsmeteorite (Systematic investigation of shock metamorphism of all Martian meteorites)\",\"Taxonomie jurassischer Bivalven aus Chile und Mexiko\",\"Untersuchung eines vulkanisch in situ erhaltenen Wald-\\u00d6kosystems des unteren Perms\",\"Untersuchungen zur Biodiversit\\u00e4t und biogeographischen Bedeutung des Sneeubergs in S\\u00fcdafrika am Beispiel der Lepidoptera- und Trichoptera Fauna (Insecta)\",\"Variabilit\\u00e4t von MHC-Genen bei der Sackfl\\u00fcgelfledermaus Saccopteryx bilineata\",\"Pollen metabarcoding an naturkundlichen Hummelsammlungen, um Pflanzen-Best\\u00e4uberinteraktionen in Deutschland retrospektive zu analysieren\",\"Experimental study of the survival of endolithic microorganisms during impact and ejection of Martian meteorites: First phase of the transfer of life between Mars and Earth\",\"Rekonstruktion von Fischbest\\u00e4nden im Bereich des K\\u00fcstenauftriebs vor Namibia aus Sedimentkernen (M57, M48)\",\"Systematische Untersuchungen der Sto\\u00dfwellenmetamorphose aller Marsmeteorite (Systematic investigation of shock metamorphism of all Martian meteorites)\",\"Die lakustrinen Artenschw\\u00e4rme in den alten Seen Sulawesis - der Einflu\\u00df von Umweltver\\u00e4nderungen auf organismische Diversifikation\",\"Geochemische und mineralogisch-petrographische Untersuchung der Kreide-Terti\\u00e4r-Grenzschicht und der Impaktlithologien des Chicxulub-Kraters, Mexiko\",\"Geochemische und mineralogisch-petrographische Untersuchung der Kreide-Terti\\u00e4r-Grenzschicht und der Impaktlithologien des Chicxulub-Kraters, Mexiko\",\"Kieselalgen, Radiolarien und die k\\u00e4nozoischen Silizium- und Kohlenstoffzyklen\",\"Radiolarian and sedimentological studies on Neogene sediments of the Benguela Upwelling System\",\"Radiolarien- und palynologische Untersuchungen an Neogen- und Kreidesedimenten des s\\u00fcdlichen Ozeans, unter besonderer Ber\\u00fccksichtigung einer verbesserten Taxonomie und Biostratigraphie als Basis f\\u00fcr weitere Studien zur Evolution und Pal\\u00e4oozeanographie\",\"Rekonstruktion der klimatischen Ver\\u00e4nderungen in Zentralasien w\\u00e4hrend der letzten 2,5 bis 3 Millionen Jahre am Beispiel des Baikalsees\",\"Eine Phasen-spezifische geochemische Studie von mariner Produktivit\\u00e4t und N\\u00e4hrstoffzyklen w\\u00e4hrend des Perm/Trias-Massenaussterbens (PHoSPhoR)\",\"Die Herkunft des Urans in pr\\u00e4kambrischen, Diskordanz-gebundenen Lagerst\\u00e4tten des Athabasca Beckens (Saskatchewan, Kanada) - Mikroanalytische Untersuchungen an potentiellen Uran-Liefergesteinen\",\"Die Untersuchung terrestrischer Einschlagstrukturen mit Hilfe numerischer Modellrechnungen und geophysikalischer Erkundung\",\"Hox- und Parahox-Gen Expressionsmuster bei Polyplacophora (Mollusca)\",\"Phylogenie, Funktionsweise der Mundwerkzeuge, Embryonalentwicklung und \\u00f6kologische Beziehung der Histiostomatidae (Milben, Astigmata) zu ihren Transportinsekten\",\"Die Rolle von Hyperthermie im Massenaussterben an der Perm/Trias-Grenze\",\"Entwicklung benthischer, mariner Faunen SW-Europas unter klimatischem Stress w\\u00e4hrend des Unteren Jura (Pliensbach-Toarc) (EvoBiv)\",\"FOR 1508: Dynamisch adaptierbare Anwendungen zur Fledermausortung mittels eingebetteter kommunizierender Sensorsysteme\",\"Gr\\u00f6\\u00dfenver\\u00e4nderungen von Cephalopoden w\\u00e4hrend der Pliensbachium-Toarcium Krise\",\"Untersuchung des Jagd- und Sozialverhaltens von Flederm\\u00e4usen mit Hilfe von Sensorsystemen\",\"B\\u00e4renspinner-Gemeinschaften (Lepidoptera: Arctiidae) im Bergregenwald S\\u00fcdecuadors - Diversit\\u00e4t, Life-history-Elemente, Ressourcenanspr\\u00fcche und Thermophysiologie\",\"Numerische Modellierung der Prozesse bei der Entstehung von Impakt-Kratern\",\"Projektil-Target-Interaktion, Schmelz- und Verdampfungsprozesse in Hochgeschwindigkeitsexperimenten und nat\\u00fcrlichen Impaktiten\",\"Sto\\u00dfwellenprozesse im Mikroma\\u00dfstab in Sandstein\",\"Struktur und Bildung von Strahlenkegeln in experimentellen und nat\\u00fcrlichen Impaktkratern\",\"Digitalisierung / Erschlie\\u00dfung von Objekten: Eine Community-Plattform f\\u00fcr die Entwicklung und Dokumentation des ABCD-Standards f\\u00fcr naturkundliche Sammlungsdaten\",\"Digitalisierung / Erschlie\\u00dfung von Objekten: eScience-konforme Standards f\\u00fcr die Morphologie\",\"Digitalisierung / Erschlie\\u00dfung von Objekten: Erschlie\\u00dfung digitaler Sammlungsdaten am Museum f\\u00fcr Naturkunde Berlin\",\"Digitalisierung / Erschlie\\u00dfung von Objekten: Referenzsystem f\\u00fcr bioakustische Daten\",\"Medizin und Herrschaft. Malariabek\\u00e4mpfung in Kamerun, Ostafrika und Ostfriesland, 1890-1919\",\"Entstehung und Entwicklung von gro\\u00dfen Einschlagsbecken auf dem Mond (A04)\",\"Modellierung von planetaren Kollisionen und der thermochemischen Entwicklung von fl\\u00fcssigem Metall in konvektierenden Magmaozeanen (C02)\",\"TRR 170: Sp\\u00e4te Akkretion auf terrestrischen Planeten\",\"Von der Bildung des Mondes zur \\\"sp\\u00e4ten Bombardierung\\\": thermochemische Entwicklung des fr\\u00fchen Erde-Mond-Systems (C04)\",\"GRK 331: Temperaturabh\\u00e4ngige Effekte f\\u00fcr Therapie und Diagnostik\",\"GRK 503: Evolutive Transformationen und Faunenschnitte\",\"Extension and modification of Morph D Base producing a system for permanent storage and documentation of volume data of biological objects in high resolution\",\"EXC 1027: Bild Wissen Gestaltung. Ein interdisziplin\\u00e4res Labor\"],\"x\":{\"__ndarray__\":\"/QYsYhGtyb8MSFyXAUv3v5TRPZU1eAJAG6hsVCmM9787uLnxOjYEQAirVuHpUfS/LiUqBJuZ/r/1g40pADoIQBNLeOKfRQhAilH7t+R01L++XSot9WoEwEy94zNL9QjAS6AAXQ/72b95n5cO3/3aP/0GLGIRrcm/nFysyZQnAMAusyeFwvr+P9SNIwOQ0PC/6F6sv791CkAuBid2J8DlvxKTbPQaLwLAN2pR98crFEAwwBCNHNrPv3mmP+2oVfA/w3A5DBnQ+L+cTx2DtELpv4qEDtIeAAZA/QYsYhGtyb/qEHIfD4zuv74FD6jwwQHAwq6wzLs/DkBTQ2vsZULRP030t9WRef2/yPss8pKs+L+t9S390rn1P/0GLGIRrcm/blFEiLBS3r9suF2O/7Pov3PJ4ozlfAbAcL/Va+YnAcD9BixiEa3Jv4+dS0SofgtAxFHqXPAc9r9YJKcdgwcIQDlfkIonFcg/qKfL2DmZ3D/bdgYYA8Ghv/c4wmPmQ9m/wJvJ6ckn+7/yz8ePHoMIwP18J4pkCfs/EC1wYfhyBcB4JYXvRJn0P/0GLGIRrcm/CrsK6vk1x78wY0TisAXmPz4wO5aa5/6/6phL8n1b/b9UdKJA6ebyv97Np8miMwlAD8Vpzz5G579GfeVcQ8byv5jAxEUd9AHA/QYsYhGtyb/6KrjH7YnyP/9z4/g31vC/Y+zyK2Bntz8gC2IzAUgQQP0GLGIRrcm//QYsYhGtyb+1ML3pdkkIQBVYrYfEmPi//QYsYhGtyb/9BixiEa3Jv/0GLGIRrcm/sryrco8Ct78gB9EEUAr/v0kQOQvjyP0/T2EPhxn75z+JY5fJ2NDuP/0GLGIRrcm/9Tknn1y037/CecBHWsfcvwsLtT5nYgzA/QYsYhGtyb+bHAO0I628v2APx6uoXds//QYsYhGtyb8Vnw5jb7DdvzT82U7UhLW/6OLz8w3Z2b+G8dpb8Dr0v1CPj+DrtBNA8WpdSwFd6b/dBVdxTDYOQKH6DmVI0wdASOMfcdPtvL8PmyIKfPoCQKcNPs86lQXAIr/xoB8+8b/KndZLJ+fSP+wIlHe4yb4/fmG9UNkiAEDCxtwVds3Svztsm/E1t+O/X+29MQSJ9z+f+10nEn/mvw9+wSpPLgTAxW1ZuQcn7T9161lJ6qQDQFVZ6I8x4AxASn+LGfFl/r9G+ZsSJE7Mv971oZjYr+q//QYsYhGtyb+Djjb28ILwv36BG/mspgDAhvVobv91mb8=\",\"dtype\":\"float64\",\"shape\":[118]},\"y\":{\"__ndarray__\":\"HSy95X91qr9OWr57Ygy7P+JzcZt+M+8/9f+Iahh58T+96RYAT/fPv2ZUsLbd6vY/Zk1mBE708r8L6lVbH9LCP5DANdGbWKi/6SDpDxW8BcBuBZj3LiHjP3DxK8JR9Mg/mwU7Ql2LxD92ZGg0/sMIQB0sveV/daq/Qn767Ggb+79cm7I+QgfQvwWpoJqH3AHAmeBotXzbxr+HthXHc7HXv3vFy0W8L/a/K5AeY84b1D9wXGXMojj5v5cHK22RwATAQLcT80CdtL8tzeUmCswFwFB+4ujlXgDAHSy95X91qr8A22TAXXHqP1Ach4kibQrAfckDtG0a5D9qpjzoXZsUQPsFnMUFQO+/cP7rF29Y1z/uzukHgsQDwB0sveV/daq/KXUj2rAbAkCm47Gd2fjnP1oIV4ojxArARLsr6uHq4b8dLL3lf3Wqv6rwcGppsPK/guV0r4Pc9b9hTbd0ZK8FwFbYbvFKtQfAWEueOJPz9T/lDGylrAQAwGXGgpocPxFAnX6rwiVd/T/F0kD02xCuv7OLc8LuvQXADEpm1WEh9T+Yb98fV/QHQB0sveV/daq/tRYd0i/z8L9YSTGBDx32v/9YQJbOHP2/E9Qocyfl+z/Aizn0Yl7FvwcP2mo3vrW/JiI5b2dX1T9rJeAgKNubP0N6BbNNauO/HSy95X91qr/yi1+GhdwQQCo1EpE9nue/fWAPnLquqj8t/2RXTAn1vx0sveV/daq/HSy95X91qr86/V+ljW7evx92f7gJd04/HSy95X91qr8dLL3lf3Wqvx0sveV/daq/MugFqpmf/b+nIcd4Oe7iPw0iXusTocG/33722FE1AcCKK4pyoaTuvx0sveV/daq/8CR4+SmYCEBKPKtyOKAIQL7QzQTe+QbAHSy95X91qr/iH9ufx7H3v+Jqx79gGAfAHSy95X91qr/qd6H4bMrevx97uthFu+8/z+z+T1NewT/xUq7iD/8FwEJ1v5nBHe+/cukHId5F5j8ug9HCihvwP0ta4GyKr8K/zKdF8AkECUAZDn9hPqncvwkqhahvQ/E/KUpEgvuzDkCmkqawljjxv4jyG4w3aBBApmuNK9Cw/T/fO3LzGRHyvw0enSHq+QNATN/tUlfn/j9Rm8hYQRrEv+jOEkoPh/s/3MiDhmx59r/CdqhH+fYDQEzrZM3qjNw/kZfU4XtYA0AVE94S+6X4v1r0S95n7em/HSy95X91qr/4CiWagr3/P/Lfqlm2rJI/54W7+wkB9T8=\",\"dtype\":\"float64\",\"shape\":[118]}},\"selected\":{\"id\":\"1158\",\"type\":\"Selection\"},\"selection_policy\":{\"id\":\"1159\",\"type\":\"UnionRenderers\"}},\"id\":\"1101\",\"type\":\"ColumnDataSource\"},{\"attributes\":{\"bottom_units\":\"screen\",\"fill_alpha\":{\"value\":0.5},\"fill_color\":{\"value\":\"lightgrey\"},\"left_units\":\"screen\",\"level\":\"overlay\",\"line_alpha\":{\"value\":1.0},\"line_color\":{\"value\":\"black\"},\"line_dash\":[4,4],\"line_width\":{\"value\":2},\"plot\":null,\"render_mode\":\"css\",\"right_units\":\"screen\",\"top_units\":\"screen\"},\"id\":\"1131\",\"type\":\"BoxAnnotation\"},{\"attributes\":{},\"id\":\"1153\",\"type\":\"BasicTickFormatter\"},{\"attributes\":{},\"id\":\"1110\",\"type\":\"LinearScale\"},{\"attributes\":{},\"id\":\"1113\",\"type\":\"BasicTicker\"},{\"attributes\":{\"callback\":null,\"renderers\":\"auto\",\"tooltips\":[[\"index\",\"$index\"],[\"id\",\"@ids\"],[\"title\",\"@titles\"]]},\"id\":\"1128\",\"type\":\"HoverTool\"},{\"attributes\":{\"dimension\":1,\"plot\":{\"id\":\"1102\",\"subtype\":\"Figure\",\"type\":\"Plot\"},\"ticker\":{\"id\":\"1118\",\"type\":\"BasicTicker\"}},\"id\":\"1121\",\"type\":\"Grid\"},{\"attributes\":{\"formatter\":{\"id\":\"1153\",\"type\":\"BasicTickFormatter\"},\"plot\":{\"id\":\"1102\",\"subtype\":\"Figure\",\"type\":\"Plot\"},\"ticker\":{\"id\":\"1113\",\"type\":\"BasicTicker\"}},\"id\":\"1112\",\"type\":\"LinearAxis\"},{\"attributes\":{},\"id\":\"1158\",\"type\":\"Selection\"},{\"attributes\":{},\"id\":\"1122\",\"type\":\"PanTool\"},{\"attributes\":{\"overlay\":{\"id\":\"1131\",\"type\":\"BoxAnnotation\"}},\"id\":\"1124\",\"type\":\"BoxZoomTool\"},{\"attributes\":{},\"id\":\"1108\",\"type\":\"LinearScale\"},{\"attributes\":{\"source\":{\"id\":\"1101\",\"type\":\"ColumnDataSource\"}},\"id\":\"1143\",\"type\":\"CDSView\"},{\"attributes\":{},\"id\":\"1123\",\"type\":\"WheelZoomTool\"},{\"attributes\":{},\"id\":\"1118\",\"type\":\"BasicTicker\"},{\"attributes\":{},\"id\":\"1127\",\"type\":\"HelpTool\"},{\"attributes\":{\"formatter\":{\"id\":\"1155\",\"type\":\"BasicTickFormatter\"},\"plot\":{\"id\":\"1102\",\"subtype\":\"Figure\",\"type\":\"Plot\"},\"ticker\":{\"id\":\"1118\",\"type\":\"BasicTicker\"}},\"id\":\"1117\",\"type\":\"LinearAxis\"},{\"attributes\":{\"active_drag\":\"auto\",\"active_inspect\":\"auto\",\"active_multi\":null,\"active_scroll\":\"auto\",\"active_tap\":\"auto\",\"tools\":[{\"id\":\"1122\",\"type\":\"PanTool\"},{\"id\":\"1123\",\"type\":\"WheelZoomTool\"},{\"id\":\"1124\",\"type\":\"BoxZoomTool\"},{\"id\":\"1125\",\"type\":\"SaveTool\"},{\"id\":\"1126\",\"type\":\"ResetTool\"},{\"id\":\"1127\",\"type\":\"HelpTool\"},{\"id\":\"1128\",\"type\":\"HoverTool\"}]},\"id\":\"1129\",\"type\":\"Toolbar\"},{\"attributes\":{},\"id\":\"1125\",\"type\":\"SaveTool\"},{\"attributes\":{},\"id\":\"1155\",\"type\":\"BasicTickFormatter\"},{\"attributes\":{\"callback\":null},\"id\":\"1104\",\"type\":\"DataRange1d\"},{\"attributes\":{},\"id\":\"1159\",\"type\":\"UnionRenderers\"},{\"attributes\":{\"fill_color\":{\"field\":\"colours\"},\"line_color\":{\"field\":\"colours\"},\"size\":{\"units\":\"screen\",\"value\":10},\"x\":{\"field\":\"x\"},\"y\":{\"field\":\"y\"}},\"id\":\"1140\",\"type\":\"Scatter\"},{\"attributes\":{\"fill_alpha\":{\"value\":0.1},\"fill_color\":{\"value\":\"#1f77b4\"},\"line_alpha\":{\"value\":0.1},\"line_color\":{\"value\":\"#1f77b4\"},\"size\":{\"units\":\"screen\",\"value\":10},\"x\":{\"field\":\"x\"},\"y\":{\"field\":\"y\"}},\"id\":\"1141\",\"type\":\"Scatter\"},{\"attributes\":{\"callback\":null},\"id\":\"1106\",\"type\":\"DataRange1d\"},{\"attributes\":{},\"id\":\"1126\",\"type\":\"ResetTool\"}],\"root_ids\":[\"1102\"]},\"title\":\"Bokeh Application\",\"version\":\"1.0.1\"}};\n",
       "  var render_items = [{\"docid\":\"3f0579c3-8a91-472b-ac8c-7193fbe12c11\",\"roots\":{\"1102\":\"00995708-e7bb-4e42-967d-6d83d7c68a53\"}}];\n",
       "  root.Bokeh.embed.embed_items_notebook(docs_json, render_items);\n",
       "\n",
       "  }\n",
       "  if (root.Bokeh !== undefined) {\n",
       "    embed_document(root);\n",
       "  } else {\n",
       "    var attempts = 0;\n",
       "    var timer = setInterval(function(root) {\n",
       "      if (root.Bokeh !== undefined) {\n",
       "        embed_document(root);\n",
       "        clearInterval(timer);\n",
       "      }\n",
       "      attempts++;\n",
       "      if (attempts > 100) {\n",
       "        console.log(\"Bokeh: ERROR: Unable to run BokehJS code because BokehJS library is missing\");\n",
       "        clearInterval(timer);\n",
       "      }\n",
       "    }, 10, root)\n",
       "  }\n",
       "})(window);"
      ],
      "application/vnd.bokehjs_exec.v0+json": ""
     },
     "metadata": {
      "application/vnd.bokehjs_exec.v0+json": {
       "id": "1102"
      }
     },
     "output_type": "display_data"
    }
   ],
   "source": [
    "%lprun -f visualize visualize(**w.kwargs)"
   ]
  },
  {
   "cell_type": "code",
   "execution_count": null,
   "metadata": {},
   "outputs": [],
   "source": []
  },
  {
   "cell_type": "code",
   "execution_count": null,
   "metadata": {},
   "outputs": [],
   "source": []
  }
 ],
 "metadata": {
  "celltoolbar": "Tags",
  "kernelspec": {
   "display_name": "NLPenv",
   "language": "python",
   "name": "nlpenv"
  },
  "language_info": {
   "codemirror_mode": {
    "name": "ipython",
    "version": 3
   },
   "file_extension": ".py",
   "mimetype": "text/x-python",
   "name": "python",
   "nbconvert_exporter": "python",
   "pygments_lexer": "ipython3",
   "version": "3.6.5"
  }
 },
 "nbformat": 4,
 "nbformat_minor": 2
}
